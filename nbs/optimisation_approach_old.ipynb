{
 "cells": [
  {
   "cell_type": "code",
   "execution_count": 10,
   "metadata": {},
   "outputs": [],
   "source": [
    "using CSV\n",
    "using JuMP, Ipopt\n",
    "using MosekTools \n",
    "using Gurobi\n",
    "using DataFrames #, IndexedTables\n",
    "using CSV\n",
    "using LinearAlgebra\n",
    "using Plots#, PlotlyJS\n",
    "using Statistics"
   ]
  },
  {
   "cell_type": "code",
   "execution_count": 11,
   "metadata": {},
   "outputs": [
    {
     "data": {
      "text/html": [
       "<div><div style = \"float: left;\"><span>2×10 DataFrame</span></div><div style = \"clear: both;\"></div></div><div class = \"data-frame\" style = \"overflow-x: scroll;\"><table class = \"data-frame\" style = \"margin-bottom: 6px;\"><thead><tr class = \"header\"><th class = \"rowNumber\" style = \"font-weight: bold; text-align: right;\">Row</th><th style = \"text-align: left;\">Column1</th><th style = \"text-align: left;\">year</th><th style = \"text-align: left;\">amt</th><th style = \"text-align: left;\">cma</th><th style = \"text-align: left;\">sma</th><th style = \"text-align: left;\">p_cma</th><th style = \"text-align: left;\">p_sma</th><th style = \"text-align: left;\">balance_cma</th><th style = \"text-align: left;\">balance_sma</th><th style = \"text-align: left;\">state</th></tr><tr class = \"subheader headerLastRow\"><th class = \"rowNumber\" style = \"font-weight: bold; text-align: right;\"></th><th title = \"Int64\" style = \"text-align: left;\">Int64</th><th title = \"Int64\" style = \"text-align: left;\">Int64</th><th title = \"Float64\" style = \"text-align: left;\">Float64</th><th title = \"Float64\" style = \"text-align: left;\">Float64</th><th title = \"Union{Missing, Float64}\" style = \"text-align: left;\">Float64?</th><th title = \"Union{Missing, Float64}\" style = \"text-align: left;\">Float64?</th><th title = \"Union{Missing, Float64}\" style = \"text-align: left;\">Float64?</th><th title = \"Union{Missing, Float64}\" style = \"text-align: left;\">Float64?</th><th title = \"Union{Missing, Float64}\" style = \"text-align: left;\">Float64?</th><th title = \"String\" style = \"text-align: left;\">String</th></tr></thead><tbody><tr><td class = \"rowNumber\" style = \"font-weight: bold; text-align: right;\">1</td><td style = \"text-align: right;\">0</td><td style = \"text-align: right;\">1975</td><td style = \"text-align: right;\">17954.0</td><td style = \"text-align: right;\">17954.0</td><td style = \"font-style: italic; text-align: right;\">missing</td><td style = \"font-style: italic; text-align: right;\">missing</td><td style = \"font-style: italic; text-align: right;\">missing</td><td style = \"font-style: italic; text-align: right;\">missing</td><td style = \"font-style: italic; text-align: right;\">missing</td><td style = \"text-align: left;\">MD</td></tr><tr><td class = \"rowNumber\" style = \"font-weight: bold; text-align: right;\">2</td><td style = \"text-align: right;\">1</td><td style = \"text-align: right;\">1976</td><td style = \"text-align: right;\">0.0</td><td style = \"text-align: right;\">8977.0</td><td style = \"font-style: italic; text-align: right;\">missing</td><td style = \"text-align: right;\">17954.0</td><td style = \"font-style: italic; text-align: right;\">missing</td><td style = \"text-align: right;\">0.0</td><td style = \"font-style: italic; text-align: right;\">missing</td><td style = \"text-align: left;\">MD</td></tr></tbody></table></div>"
      ],
      "text/latex": [
       "\\begin{tabular}{r|cccccccccc}\n",
       "\t& Column1 & year & amt & cma & sma & p\\_cma & p\\_sma & balance\\_cma & balance\\_sma & \\\\\n",
       "\t\\hline\n",
       "\t& Int64 & Int64 & Float64 & Float64 & Float64? & Float64? & Float64? & Float64? & Float64? & \\\\\n",
       "\t\\hline\n",
       "\t1 & 0 & 1975 & 17954.0 & 17954.0 & \\emph{missing} & \\emph{missing} & \\emph{missing} & \\emph{missing} & \\emph{missing} & $\\dots$ \\\\\n",
       "\t2 & 1 & 1976 & 0.0 & 8977.0 & \\emph{missing} & 17954.0 & \\emph{missing} & 0.0 & \\emph{missing} & $\\dots$ \\\\\n",
       "\\end{tabular}\n"
      ],
      "text/plain": [
       "\u001b[1m2×10 DataFrame\u001b[0m\n",
       "\u001b[1m Row \u001b[0m│\u001b[1m Column1 \u001b[0m\u001b[1m year  \u001b[0m\u001b[1m amt     \u001b[0m\u001b[1m cma     \u001b[0m\u001b[1m sma      \u001b[0m\u001b[1m p_cma     \u001b[0m\u001b[1m p_sma    \u001b[0m\u001b[1m balanc\u001b[0m ⋯\n",
       "     │\u001b[90m Int64   \u001b[0m\u001b[90m Int64 \u001b[0m\u001b[90m Float64 \u001b[0m\u001b[90m Float64 \u001b[0m\u001b[90m Float64? \u001b[0m\u001b[90m Float64?  \u001b[0m\u001b[90m Float64? \u001b[0m\u001b[90m Float6\u001b[0m ⋯\n",
       "─────┼──────────────────────────────────────────────────────────────────────────\n",
       "   1 │       0   1975  17954.0  17954.0 \u001b[90m  missing \u001b[0m\u001b[90m missing   \u001b[0m\u001b[90m  missing \u001b[0m\u001b[90m   miss\u001b[0m ⋯\n",
       "   2 │       1   1976      0.0   8977.0 \u001b[90m  missing \u001b[0m   17954.0 \u001b[90m  missing \u001b[0m\n",
       "\u001b[36m                                                               3 columns omitted\u001b[0m"
      ]
     },
     "execution_count": 11,
     "metadata": {},
     "output_type": "execute_result"
    }
   ],
   "source": [
    "df = DataFrame(CSV.File(\"baseline_all.csv\"));\n",
    "first(df, 2)"
   ]
  },
  {
   "cell_type": "code",
   "execution_count": 12,
   "metadata": {},
   "outputs": [
    {
     "name": "stdout",
     "output_type": "stream",
     "text": [
      "AK"
     ]
    }
   ],
   "source": [
    "#number of states\n",
    "N = length(unique(df.state)); \n",
    "#number of years \n",
    "T = length(unique(df.year)); \n",
    "\n",
    "state_list = unique(df.state);\n",
    "time_list = unique(df.year);\n",
    "print(state_list[50])"
   ]
  },
  {
   "cell_type": "code",
   "execution_count": 13,
   "metadata": {},
   "outputs": [],
   "source": [
    "#amount matrix\n",
    "M_amt = Matrix{Float64}(undef,N,T); \n",
    "\n",
    "#construct M_amt: where i, t = loss at state i in time t \n",
    "df[df.state .== \"LA\", \"amt\"] \n",
    "\n",
    "i=1\n",
    "for state in state_list\n",
    "    M_amt[i,:] = df[df.state .== state, \"amt\"] \n",
    "    i+=1 \n",
    "end "
   ]
  },
  {
   "cell_type": "code",
   "execution_count": 14,
   "metadata": {},
   "outputs": [],
   "source": [
    "#construct premium baseline \n",
    "#baseline premium for final 10 years \n",
    "P_base = Matrix{Float64}(undef,N,10); \n",
    "\n",
    "#construct P_base: where i, t = premium using CMA at state i in time t \n",
    "i=1\n",
    "for state in state_list\n",
    "    P_base[i,:] = df[df.state .== state, \"p_cma\"][end-9:end] #final 10 years of premium \n",
    "    i+=1 \n",
    "end "
   ]
  },
  {
   "cell_type": "code",
   "execution_count": 15,
   "metadata": {},
   "outputs": [],
   "source": [
    "#load risk matrix \n",
    "risk = DataFrame(CSV.File(\"risk.csv\"))\n",
    "#get loss list based on column names except for the first column (state name)\n",
    "loss_list = names(risk)[2:end]\n",
    "#convert string items to integer \n",
    "loss_list = parse.(Float64,loss_list)\n",
    "\n",
    "#risk matrix \n",
    "R = Matrix{Float64}(undef,N,length(loss_list)); \n",
    "\n",
    "#iterate over the same state_list to make sure i corresponds to the same state \n",
    "i=1 \n",
    "for state in state_list\n",
    "    R[i,:] = Array(risk[risk.Column1.==state, 2:end]); \n",
    "    i+=1 \n",
    "end \n",
    "\n",
    "#NOTE: this R is calculated using last 10y of data, maybe \"cheating\" a little "
   ]
  },
  {
   "cell_type": "code",
   "execution_count": 16,
   "metadata": {},
   "outputs": [
    {
     "data": {
      "text/plain": [
       "48843.85416666667"
      ]
     },
     "execution_count": 16,
     "metadata": {},
     "output_type": "execute_result"
    }
   ],
   "source": [
    "loss_list[1]*R[1,1]"
   ]
  },
  {
   "cell_type": "code",
   "execution_count": 17,
   "metadata": {},
   "outputs": [
    {
     "name": "stdout",
     "output_type": "stream",
     "text": [
      "Academic license - for non-commercial use only - expires 2024-04-04\n",
      "Gurobi Optimizer version 9.1.2 build v9.1.2rc0 (mac64)\n",
      "Thread count: 4 physical cores, 8 logical processors, using up to 8 threads\n",
      "Optimize a model with 2703 rows, 2544 columns and 15158 nonzeros\n",
      "Model fingerprint: 0xa163fbf9\n",
      "Coefficient statistics:\n",
      "  Matrix range     [1e+00, 1e+00]\n",
      "  Objective range  [1e+00, 1e+00]\n",
      "  Bounds range     [0e+00, 0e+00]\n",
      "  RHS range        [5e+04, 3e+08]\n",
      "Presolve removed 159 rows and 0 columns\n",
      "Presolve time: 0.00s\n",
      "Presolved: 2544 rows, 2544 columns, 7526 nonzeros\n",
      "\n",
      "Iteration    Objective       Primal Inf.    Dual Inf.      Time\n",
      "       0    0.0000000e+00   3.498418e+07   0.000000e+00      0s\n",
      "       7    1.4833294e+10   0.000000e+00   0.000000e+00      0s\n",
      "\n",
      "Use crossover to convert LP symmetric solution to basic solution...\n",
      "Crossover log...\n",
      "\n",
      "    2173 PPushes remaining with PInf 0.0000000e+00                 0s\n",
      "       0 PPushes remaining with PInf 0.0000000e+00                 0s\n",
      "\n",
      "  Push phase complete: Pinf 0.0000000e+00, Dinf 0.0000000e+00      0s\n",
      "\n",
      "Iteration    Objective       Primal Inf.    Dual Inf.      Time\n",
      "    2183    1.4833294e+10   0.000000e+00   0.000000e+00      0s\n",
      "\n",
      "Solved in 2183 iterations and 0.01 seconds\n",
      "Optimal objective  1.483329353e+10\n",
      "\n",
      "User-callback calls 2211, time in user-callback 0.00 sec\n"
     ]
    }
   ],
   "source": [
    "model = Model(Gurobi.Optimizer)\n",
    "set_optimizer_attribute(model, \"TimeLimit\", 30)\n",
    "\n",
    "# VARIABLES: premium for the next 10 years \n",
    "@variable(model, P[1:N,1:T] >=0);  #P_i,t is the premium at state i in time t \n",
    "\n",
    "# each state premium covers risk*loss levels, iterate over i=state, j=loss levels  \n",
    "@constraint(model, test_constraint[i=1:N, j=1:4],\n",
    "    sum(P[i, t] for t = 1:T) >= loss_list[j]*R[j,1]); \n",
    "\n",
    "#slowly vary \n",
    "gamma1 = 50000  \n",
    "@constraint(model, slowly_vary[i=1:N, t=2:T],\n",
    "    P[i,t] - P[i, t-1] <= gamma1);\n",
    "\n",
    "@objective(\n",
    "        model, Min, sum(P[i, t] for i=1:N, t=1:T)\n",
    "    )\n",
    "\n",
    "optimize!(model)\n",
    "    "
   ]
  },
  {
   "cell_type": "code",
   "execution_count": 18,
   "metadata": {},
   "outputs": [],
   "source": [
    "value.(P);"
   ]
  },
  {
   "cell_type": "code",
   "execution_count": 19,
   "metadata": {},
   "outputs": [],
   "source": [
    "#attempt 2: calculate the risk level for each state \n",
    "quantile!(M_amt[1,:], 0.5)\n",
    "\n",
    "q_list = [0.25, 0.5, 0.75, 0.99]\n",
    "#loss matrix, where L_i,j is loss level for state i at quantile q\n",
    "L = Matrix{Float64}(undef,N,length(q_list)); \n",
    "\n",
    "#iterate over the same state_list to make sure i corresponds to the same state \n",
    "i = 1 \n",
    "for state in state_list\n",
    "    j=1\n",
    "    for q in q_list \n",
    "        L[i,j] = quantile!(M_amt[i,:], q); \n",
    "        j+=1 \n",
    "    end\n",
    "    i+=1\n",
    "end \n",
    "\n",
    "#"
   ]
  },
  {
   "cell_type": "code",
   "execution_count": 20,
   "metadata": {},
   "outputs": [
    {
     "data": {
      "text/html": [
       "<div><div style = \"float: left;\"><span>53×5 DataFrame</span></div><div style = \"float: right;\"><span style = \"font-style: italic;\">28 rows omitted</span></div><div style = \"clear: both;\"></div></div><div class = \"data-frame\" style = \"overflow-x: scroll;\"><table class = \"data-frame\" style = \"margin-bottom: 6px;\"><thead><tr class = \"header\"><th class = \"rowNumber\" style = \"font-weight: bold; text-align: right;\">Row</th><th style = \"text-align: left;\">0.25</th><th style = \"text-align: left;\">0.5</th><th style = \"text-align: left;\">0.75</th><th style = \"text-align: left;\">0.99</th><th style = \"text-align: left;\">state</th></tr><tr class = \"subheader headerLastRow\"><th class = \"rowNumber\" style = \"font-weight: bold; text-align: right;\"></th><th title = \"Float64\" style = \"text-align: left;\">Float64</th><th title = \"Float64\" style = \"text-align: left;\">Float64</th><th title = \"Float64\" style = \"text-align: left;\">Float64</th><th title = \"Float64\" style = \"text-align: left;\">Float64</th><th title = \"String\" style = \"text-align: left;\">String</th></tr></thead><tbody><tr><td class = \"rowNumber\" style = \"font-weight: bold; text-align: right;\">1</td><td style = \"text-align: right;\">1.09381e5</td><td style = \"text-align: right;\">6.10262e5</td><td style = \"text-align: right;\">3.85072e6</td><td style = \"text-align: right;\">8.46682e7</td><td style = \"text-align: left;\">MD</td></tr><tr><td class = \"rowNumber\" style = \"font-weight: bold; text-align: right;\">2</td><td style = \"text-align: right;\">4204.16</td><td style = \"text-align: right;\">28194.3</td><td style = \"text-align: right;\">95595.7</td><td style = \"text-align: right;\">3.13565e6</td><td style = \"text-align: left;\">MT</td></tr><tr><td class = \"rowNumber\" style = \"font-weight: bold; text-align: right;\">3</td><td style = \"text-align: right;\">7.78916e6</td><td style = \"text-align: right;\">4.00858e7</td><td style = \"text-align: right;\">1.05799e8</td><td style = \"text-align: right;\">4.56488e9</td><td style = \"text-align: left;\">TX</td></tr><tr><td class = \"rowNumber\" style = \"font-weight: bold; text-align: right;\">4</td><td style = \"text-align: right;\">2.77073e6</td><td style = \"text-align: right;\">1.72262e7</td><td style = \"text-align: right;\">8.4247e7</td><td style = \"text-align: right;\">9.57895e8</td><td style = \"text-align: left;\">FL</td></tr><tr><td class = \"rowNumber\" style = \"font-weight: bold; text-align: right;\">5</td><td style = \"text-align: right;\">2.97197e5</td><td style = \"text-align: right;\">1.06268e6</td><td style = \"text-align: right;\">3.12877e6</td><td style = \"text-align: right;\">2.36586e8</td><td style = \"text-align: left;\">SC</td></tr><tr><td class = \"rowNumber\" style = \"font-weight: bold; text-align: right;\">6</td><td style = \"text-align: right;\">5.49437e5</td><td style = \"text-align: right;\">2.06047e6</td><td style = \"text-align: right;\">1.14584e7</td><td style = \"text-align: right;\">1.46471e8</td><td style = \"text-align: left;\">VA</td></tr><tr><td class = \"rowNumber\" style = \"font-weight: bold; text-align: right;\">7</td><td style = \"text-align: right;\">2.06109e5</td><td style = \"text-align: right;\">5.46128e5</td><td style = \"text-align: right;\">1.98335e6</td><td style = \"text-align: right;\">2.71614e7</td><td style = \"text-align: left;\">MI</td></tr><tr><td class = \"rowNumber\" style = \"font-weight: bold; text-align: right;\">8</td><td style = \"text-align: right;\">1.03582e6</td><td style = \"text-align: right;\">6.77015e6</td><td style = \"text-align: right;\">1.84009e7</td><td style = \"text-align: right;\">3.91003e8</td><td style = \"text-align: left;\">NC</td></tr><tr><td class = \"rowNumber\" style = \"font-weight: bold; text-align: right;\">9</td><td style = \"text-align: right;\">1.45869e6</td><td style = \"text-align: right;\">3.69406e6</td><td style = \"text-align: right;\">1.8174e7</td><td style = \"text-align: right;\">2.20647e9</td><td style = \"text-align: left;\">NJ</td></tr><tr><td class = \"rowNumber\" style = \"font-weight: bold; text-align: right;\">10</td><td style = \"text-align: right;\">9.86648e5</td><td style = \"text-align: right;\">2.46994e6</td><td style = \"text-align: right;\">8.07535e6</td><td style = \"text-align: right;\">3.5523e7</td><td style = \"text-align: left;\">OH</td></tr><tr><td class = \"rowNumber\" style = \"font-weight: bold; text-align: right;\">11</td><td style = \"text-align: right;\">691730.0</td><td style = \"text-align: right;\">3.94069e6</td><td style = \"text-align: right;\">1.15485e7</td><td style = \"text-align: right;\">8.88588e7</td><td style = \"text-align: left;\">IL</td></tr><tr><td class = \"rowNumber\" style = \"font-weight: bold; text-align: right;\">12</td><td style = \"text-align: right;\">6.7604e6</td><td style = \"text-align: right;\">2.07991e7</td><td style = \"text-align: right;\">7.15726e7</td><td style = \"text-align: right;\">6.85148e9</td><td style = \"text-align: left;\">LA</td></tr><tr><td class = \"rowNumber\" style = \"font-weight: bold; text-align: right;\">13</td><td style = \"text-align: right;\">876224.0</td><td style = \"text-align: right;\">3.22918e6</td><td style = \"text-align: right;\">1.17811e7</td><td style = \"text-align: right;\">1.19108e8</td><td style = \"text-align: left;\">MO</td></tr><tr><td style = \"text-align: right;\">&vellip;</td><td style = \"text-align: right;\">&vellip;</td><td style = \"text-align: right;\">&vellip;</td><td style = \"text-align: right;\">&vellip;</td><td style = \"text-align: right;\">&vellip;</td><td style = \"text-align: right;\">&vellip;</td></tr><tr><td class = \"rowNumber\" style = \"font-weight: bold; text-align: right;\">42</td><td style = \"text-align: right;\">76233.9</td><td style = \"text-align: right;\">3.19466e5</td><td style = \"text-align: right;\">1.45964e6</td><td style = \"text-align: right;\">2.36346e7</td><td style = \"text-align: left;\">WI</td></tr><tr><td class = \"rowNumber\" style = \"font-weight: bold; text-align: right;\">43</td><td style = \"text-align: right;\">54252.2</td><td style = \"text-align: right;\">1.73717e5</td><td style = \"text-align: right;\">507936.0</td><td style = \"text-align: right;\">2.88261e7</td><td style = \"text-align: left;\">NE</td></tr><tr><td class = \"rowNumber\" style = \"font-weight: bold; text-align: right;\">44</td><td style = \"text-align: right;\">30069.4</td><td style = \"text-align: right;\">1.23063e5</td><td style = \"text-align: right;\">7.64627e5</td><td style = \"text-align: right;\">1.02814e7</td><td style = \"text-align: left;\">NH</td></tr><tr><td class = \"rowNumber\" style = \"font-weight: bold; text-align: right;\">45</td><td style = \"text-align: right;\">20053.8</td><td style = \"text-align: right;\">54423.0</td><td style = \"text-align: right;\">2.42058e5</td><td style = \"text-align: right;\">3.66654e6</td><td style = \"text-align: left;\">NM</td></tr><tr><td class = \"rowNumber\" style = \"font-weight: bold; text-align: right;\">46</td><td style = \"text-align: right;\">4440.14</td><td style = \"text-align: right;\">31097.9</td><td style = \"text-align: right;\">3.22107e5</td><td style = \"text-align: right;\">1.06295e7</td><td style = \"text-align: left;\">NV</td></tr><tr><td class = \"rowNumber\" style = \"font-weight: bold; text-align: right;\">47</td><td style = \"text-align: right;\">0.0</td><td style = \"text-align: right;\">4729.13</td><td style = \"text-align: right;\">53239.9</td><td style = \"text-align: right;\">1.08005e6</td><td style = \"text-align: left;\">DC</td></tr><tr><td class = \"rowNumber\" style = \"font-weight: bold; text-align: right;\">48</td><td style = \"text-align: right;\">13113.6</td><td style = \"text-align: right;\">86727.2</td><td style = \"text-align: right;\">2.98097e5</td><td style = \"text-align: right;\">2.66032e7</td><td style = \"text-align: left;\">VT</td></tr><tr><td class = \"rowNumber\" style = \"font-weight: bold; text-align: right;\">49</td><td style = \"text-align: right;\">57116.2</td><td style = \"text-align: right;\">1.6253e5</td><td style = \"text-align: right;\">4.99885e5</td><td style = \"text-align: right;\">6.75448e6</td><td style = \"text-align: left;\">ME</td></tr><tr><td class = \"rowNumber\" style = \"font-weight: bold; text-align: right;\">50</td><td style = \"text-align: right;\">12987.6</td><td style = \"text-align: right;\">38803.1</td><td style = \"text-align: right;\">2.58987e5</td><td style = \"text-align: right;\">2.09386e6</td><td style = \"text-align: left;\">AK</td></tr><tr><td class = \"rowNumber\" style = \"font-weight: bold; text-align: right;\">51</td><td style = \"text-align: right;\">2063.14</td><td style = \"text-align: right;\">23159.9</td><td style = \"text-align: right;\">2.99182e5</td><td style = \"text-align: right;\">1.18678e7</td><td style = \"text-align: left;\">VI</td></tr><tr><td class = \"rowNumber\" style = \"font-weight: bold; text-align: right;\">52</td><td style = \"text-align: right;\">102315.0</td><td style = \"text-align: right;\">2.67329e5</td><td style = \"text-align: right;\">1.29023e6</td><td style = \"text-align: right;\">1.67416e7</td><td style = \"text-align: left;\">PR</td></tr><tr><td class = \"rowNumber\" style = \"font-weight: bold; text-align: right;\">53</td><td style = \"text-align: right;\">92.34</td><td style = \"text-align: right;\">15132.4</td><td style = \"text-align: right;\">45259.1</td><td style = \"text-align: right;\">4.42292e5</td><td style = \"text-align: left;\">WY</td></tr></tbody></table></div>"
      ],
      "text/latex": [
       "\\begin{tabular}{r|ccccc}\n",
       "\t& 0.25 & 0.5 & 0.75 & 0.99 & state\\\\\n",
       "\t\\hline\n",
       "\t& Float64 & Float64 & Float64 & Float64 & String\\\\\n",
       "\t\\hline\n",
       "\t1 & 1.09381e5 & 6.10262e5 & 3.85072e6 & 8.46682e7 & MD \\\\\n",
       "\t2 & 4204.16 & 28194.3 & 95595.7 & 3.13565e6 & MT \\\\\n",
       "\t3 & 7.78916e6 & 4.00858e7 & 1.05799e8 & 4.56488e9 & TX \\\\\n",
       "\t4 & 2.77073e6 & 1.72262e7 & 8.4247e7 & 9.57895e8 & FL \\\\\n",
       "\t5 & 2.97197e5 & 1.06268e6 & 3.12877e6 & 2.36586e8 & SC \\\\\n",
       "\t6 & 5.49437e5 & 2.06047e6 & 1.14584e7 & 1.46471e8 & VA \\\\\n",
       "\t7 & 2.06109e5 & 5.46128e5 & 1.98335e6 & 2.71614e7 & MI \\\\\n",
       "\t8 & 1.03582e6 & 6.77015e6 & 1.84009e7 & 3.91003e8 & NC \\\\\n",
       "\t9 & 1.45869e6 & 3.69406e6 & 1.8174e7 & 2.20647e9 & NJ \\\\\n",
       "\t10 & 9.86648e5 & 2.46994e6 & 8.07535e6 & 3.5523e7 & OH \\\\\n",
       "\t11 & 691730.0 & 3.94069e6 & 1.15485e7 & 8.88588e7 & IL \\\\\n",
       "\t12 & 6.7604e6 & 2.07991e7 & 7.15726e7 & 6.85148e9 & LA \\\\\n",
       "\t13 & 876224.0 & 3.22918e6 & 1.17811e7 & 1.19108e8 & MO \\\\\n",
       "\t14 & 1.42551e5 & 3.51361e5 & 1.61701e6 & 6.06178e6 & AZ \\\\\n",
       "\t15 & 34158.3 & 1.57703e5 & 824470.0 & 1.3577e7 & DE \\\\\n",
       "\t16 & 1.39323e6 & 3.85082e6 & 1.31627e7 & 2.32371e8 & PA \\\\\n",
       "\t17 & 2.02275e6 & 5.58678e6 & 1.45428e7 & 2.18125e9 & NY \\\\\n",
       "\t18 & 2.56716e5 & 6.84329e5 & 3.35466e6 & 1.66315e8 & CT \\\\\n",
       "\t19 & 317612.0 & 1.0796e6 & 5.8794e6 & 8.75438e7 & GA \\\\\n",
       "\t20 & 1.03403e6 & 2.97537e6 & 1.08006e7 & 8.8427e7 & CA \\\\\n",
       "\t21 & 1.092e6 & 4.78159e6 & 1.63064e7 & 1.04475e9 & MS \\\\\n",
       "\t22 & 28754.7 & 3.97249e5 & 3.29414e6 & 8.41211e7 & IA \\\\\n",
       "\t23 & 4247.11 & 21591.5 & 78996.8 & 1.52336e6 & UT \\\\\n",
       "\t24 & 78198.1 & 7.40736e5 & 2.67289e6 & 3.22742e7 & MN \\\\\n",
       "\t25 & 4.96604e5 & 1.16758e6 & 6.18741e6 & 8.20762e7 & MA \\\\\n",
       "\t26 & 3.77514e5 & 2.78566e6 & 8.10196e6 & 2.80718e8 & AL \\\\\n",
       "\t27 & 1.93417e5 & 6.07571e5 & 1.72584e6 & 1.28944e7 & KS \\\\\n",
       "\t28 & 2696.82 & 1.36557e5 & 3.58198e5 & 1.43816e7 & SD \\\\\n",
       "\t29 & 2.90355e5 & 1.17163e6 & 2.36143e6 & 2.82834e7 & AR \\\\\n",
       "\t30 & 3.27704e5 & 1.81535e6 & 5.06588e6 & 4.21747e7 & WV \\\\\n",
       "\t$\\dots$ & $\\dots$ & $\\dots$ & $\\dots$ & $\\dots$ & $\\dots$ \\\\\n",
       "\\end{tabular}\n"
      ],
      "text/plain": [
       "\u001b[1m53×5 DataFrame\u001b[0m\n",
       "\u001b[1m Row \u001b[0m│\u001b[1m 0.25           \u001b[0m\u001b[1m 0.5            \u001b[0m\u001b[1m 0.75           \u001b[0m\u001b[1m 0.99      \u001b[0m\u001b[1m state  \u001b[0m\n",
       "     │\u001b[90m Float64        \u001b[0m\u001b[90m Float64        \u001b[0m\u001b[90m Float64        \u001b[0m\u001b[90m Float64   \u001b[0m\u001b[90m String \u001b[0m\n",
       "─────┼───────────────────────────────────────────────────────────────────\n",
       "   1 │      1.09381e5       6.10262e5       3.85072e6  8.46682e7  MD\n",
       "   2 │   4204.16        28194.3         95595.7        3.13565e6  MT\n",
       "   3 │      7.78916e6       4.00858e7       1.05799e8  4.56488e9  TX\n",
       "   4 │      2.77073e6       1.72262e7       8.4247e7   9.57895e8  FL\n",
       "   5 │      2.97197e5       1.06268e6       3.12877e6  2.36586e8  SC\n",
       "   6 │      5.49437e5       2.06047e6       1.14584e7  1.46471e8  VA\n",
       "   7 │      2.06109e5       5.46128e5       1.98335e6  2.71614e7  MI\n",
       "   8 │      1.03582e6       6.77015e6       1.84009e7  3.91003e8  NC\n",
       "   9 │      1.45869e6       3.69406e6       1.8174e7   2.20647e9  NJ\n",
       "  10 │      9.86648e5       2.46994e6       8.07535e6  3.5523e7   OH\n",
       "  11 │ 691730.0             3.94069e6       1.15485e7  8.88588e7  IL\n",
       "  ⋮  │       ⋮               ⋮               ⋮             ⋮        ⋮\n",
       "  44 │  30069.4             1.23063e5       7.64627e5  1.02814e7  NH\n",
       "  45 │  20053.8         54423.0             2.42058e5  3.66654e6  NM\n",
       "  46 │   4440.14        31097.9             3.22107e5  1.06295e7  NV\n",
       "  47 │      0.0          4729.13        53239.9        1.08005e6  DC\n",
       "  48 │  13113.6         86727.2             2.98097e5  2.66032e7  VT\n",
       "  49 │  57116.2             1.6253e5        4.99885e5  6.75448e6  ME\n",
       "  50 │  12987.6         38803.1             2.58987e5  2.09386e6  AK\n",
       "  51 │   2063.14        23159.9             2.99182e5  1.18678e7  VI\n",
       "  52 │ 102315.0             2.67329e5       1.29023e6  1.67416e7  PR\n",
       "  53 │     92.34        15132.4         45259.1        4.42292e5  WY\n",
       "\u001b[36m                                                          32 rows omitted\u001b[0m"
      ]
     },
     "execution_count": 20,
     "metadata": {},
     "output_type": "execute_result"
    }
   ],
   "source": [
    "L_matrix = DataFrame(L, [:\"0.25\",:\"0.5\",:\"0.75\",:\"0.99\"])\n",
    "L_matrix[!, \"state\"]= state_list; \n",
    "L_matrix"
   ]
  },
  {
   "cell_type": "code",
   "execution_count": 21,
   "metadata": {},
   "outputs": [
    {
     "name": "stdout",
     "output_type": "stream",
     "text": [
      "Academic license - for non-commercial use only - expires 2024-04-04\n",
      "Gurobi Optimizer version 9.1.2 build v9.1.2rc0 (mac64)\n",
      "Thread count: 4 physical cores, 8 logical processors, using up to 8 threads\n",
      "Optimize a model with 1166 rows, 530 columns and 4028 nonzeros\n",
      "Model fingerprint: 0x48daa975\n",
      "Coefficient statistics:\n",
      "  Matrix range     [1e+00, 1e+00]\n",
      "  Objective range  [1e+00, 1e+00]\n",
      "  Bounds range     [0e+00, 0e+00]\n",
      "  RHS range        [7e+01, 7e+07]\n",
      "Presolve removed 636 rows and 0 columns\n",
      "Presolve time: 0.00s\n",
      "Presolved: 530 rows, 1007 columns, 1961 nonzeros\n",
      "\n",
      "Iteration    Objective       Primal Inf.    Dual Inf.      Time\n",
      "       0    0.0000000e+00   2.368122e+08   0.000000e+00      0s\n",
      "     325    2.3681219e+08   0.000000e+00   0.000000e+00      0s\n",
      "\n",
      "Solved in 325 iterations and 0.00 seconds\n",
      "Optimal objective  2.368121859e+08\n",
      "\n",
      "User-callback calls 356, time in user-callback 0.00 sec\n"
     ]
    }
   ],
   "source": [
    "model2 = Model(Gurobi.Optimizer)\n",
    "set_optimizer_attribute(model2, \"TimeLimit\", 30)\n",
    "\n",
    "# VARIABLES: premium for the next 10 years \n",
    "T1 = 10 \n",
    "@variable(model2, P[1:N,1:T1] >=0);  #P_i,t is the premium at state i in time t \n",
    "\n",
    "# each state premium covers risk*loss levels, iterate over i=state, j=loss levels  \n",
    "@constraint(model2, test_constraint[i=1:N, j=1:4],\n",
    "    sum(P[i, t] for t = 1:T1) >= L[i,j]*(1-q_list[j])); \n",
    "\n",
    "#slowly vary \n",
    "gamma1 = 50000  \n",
    "@constraint(model2, slowly_vary[i=1:N, t=2:T1],\n",
    "    P[i,t] - P[i, t-1] <= gamma1);\n",
    "@constraint(model2, slowly_vary2[i=1:N, t=2:T1],\n",
    "    P[i,t-1] - P[i, t] <= gamma1)\n",
    "\n",
    "@objective(\n",
    "        model2, Min, sum(P[i, t] for i=1:N, t=1:T1)\n",
    "    )\n",
    "\n",
    "optimize!(model2)\n",
    "\n",
    "P_lp = value.(P); "
   ]
  },
  {
   "cell_type": "code",
   "execution_count": 22,
   "metadata": {},
   "outputs": [],
   "source": [
    "#compute some performance\n",
    "#actual loss \n",
    "act_loss = M_amt[:,end-9:end]; \n"
   ]
  },
  {
   "cell_type": "code",
   "execution_count": 23,
   "metadata": {},
   "outputs": [],
   "source": [
    "using Plots"
   ]
  },
  {
   "cell_type": "code",
   "execution_count": 24,
   "metadata": {},
   "outputs": [
    {
     "name": "stdout",
     "output_type": "stream",
     "text": [
      "SC"
     ]
    },
    {
     "data": {
      "image/svg+xml": [
       "<?xml version=\"1.0\" encoding=\"utf-8\"?>\n",
       "<svg xmlns=\"http://www.w3.org/2000/svg\" xmlns:xlink=\"http://www.w3.org/1999/xlink\" width=\"600\" height=\"400\" viewBox=\"0 0 2400 1600\">\n",
       "<defs>\n",
       "  <clipPath id=\"clip710\">\n",
       "    <rect x=\"0\" y=\"0\" width=\"2400\" height=\"1600\"/>\n",
       "  </clipPath>\n",
       "</defs>\n",
       "<path clip-path=\"url(#clip710)\" d=\"M0 1600 L2400 1600 L2400 0 L0 0  Z\" fill=\"#ffffff\" fill-rule=\"evenodd\" fill-opacity=\"1\"/>\n",
       "<defs>\n",
       "  <clipPath id=\"clip711\">\n",
       "    <rect x=\"480\" y=\"0\" width=\"1681\" height=\"1600\"/>\n",
       "  </clipPath>\n",
       "</defs>\n",
       "<path clip-path=\"url(#clip710)\" d=\"M276.227 1486.45 L2352.76 1486.45 L2352.76 123.472 L276.227 123.472  Z\" fill=\"#ffffff\" fill-rule=\"evenodd\" fill-opacity=\"1\"/>\n",
       "<defs>\n",
       "  <clipPath id=\"clip712\">\n",
       "    <rect x=\"276\" y=\"123\" width=\"2078\" height=\"1364\"/>\n",
       "  </clipPath>\n",
       "</defs>\n",
       "<polyline clip-path=\"url(#clip712)\" style=\"stroke:#000000; stroke-linecap:round; stroke-linejoin:round; stroke-width:2; stroke-opacity:0.1; fill:none\" points=\"552.662,1486.45 552.662,123.472 \"/>\n",
       "<polyline clip-path=\"url(#clip712)\" style=\"stroke:#000000; stroke-linecap:round; stroke-linejoin:round; stroke-width:2; stroke-opacity:0.1; fill:none\" points=\"987.993,1486.45 987.993,123.472 \"/>\n",
       "<polyline clip-path=\"url(#clip712)\" style=\"stroke:#000000; stroke-linecap:round; stroke-linejoin:round; stroke-width:2; stroke-opacity:0.1; fill:none\" points=\"1423.32,1486.45 1423.32,123.472 \"/>\n",
       "<polyline clip-path=\"url(#clip712)\" style=\"stroke:#000000; stroke-linecap:round; stroke-linejoin:round; stroke-width:2; stroke-opacity:0.1; fill:none\" points=\"1858.66,1486.45 1858.66,123.472 \"/>\n",
       "<polyline clip-path=\"url(#clip712)\" style=\"stroke:#000000; stroke-linecap:round; stroke-linejoin:round; stroke-width:2; stroke-opacity:0.1; fill:none\" points=\"2293.99,1486.45 2293.99,123.472 \"/>\n",
       "<polyline clip-path=\"url(#clip710)\" style=\"stroke:#000000; stroke-linecap:round; stroke-linejoin:round; stroke-width:4; stroke-opacity:1; fill:none\" points=\"276.227,1486.45 2352.76,1486.45 \"/>\n",
       "<polyline clip-path=\"url(#clip710)\" style=\"stroke:#000000; stroke-linecap:round; stroke-linejoin:round; stroke-width:4; stroke-opacity:1; fill:none\" points=\"552.662,1486.45 552.662,1467.55 \"/>\n",
       "<polyline clip-path=\"url(#clip710)\" style=\"stroke:#000000; stroke-linecap:round; stroke-linejoin:round; stroke-width:4; stroke-opacity:1; fill:none\" points=\"987.993,1486.45 987.993,1467.55 \"/>\n",
       "<polyline clip-path=\"url(#clip710)\" style=\"stroke:#000000; stroke-linecap:round; stroke-linejoin:round; stroke-width:4; stroke-opacity:1; fill:none\" points=\"1423.32,1486.45 1423.32,1467.55 \"/>\n",
       "<polyline clip-path=\"url(#clip710)\" style=\"stroke:#000000; stroke-linecap:round; stroke-linejoin:round; stroke-width:4; stroke-opacity:1; fill:none\" points=\"1858.66,1486.45 1858.66,1467.55 \"/>\n",
       "<polyline clip-path=\"url(#clip710)\" style=\"stroke:#000000; stroke-linecap:round; stroke-linejoin:round; stroke-width:4; stroke-opacity:1; fill:none\" points=\"2293.99,1486.45 2293.99,1467.55 \"/>\n",
       "<path clip-path=\"url(#clip710)\" d=\"M547.315 1544.91 L563.635 1544.91 L563.635 1548.85 L541.69 1548.85 L541.69 1544.91 Q544.352 1542.16 548.936 1537.53 Q553.542 1532.88 554.723 1531.53 Q556.968 1529.01 557.848 1527.27 Q558.75 1525.51 558.75 1523.82 Q558.75 1521.07 556.806 1519.33 Q554.885 1517.6 551.783 1517.6 Q549.584 1517.6 547.13 1518.36 Q544.699 1519.13 541.922 1520.68 L541.922 1515.95 Q544.746 1514.82 547.199 1514.24 Q549.653 1513.66 551.69 1513.66 Q557.061 1513.66 560.255 1516.35 Q563.449 1519.03 563.449 1523.52 Q563.449 1525.65 562.639 1527.57 Q561.852 1529.47 559.746 1532.07 Q559.167 1532.74 556.065 1535.95 Q552.963 1539.15 547.315 1544.91 Z\" fill=\"#000000\" fill-rule=\"nonzero\" fill-opacity=\"1\" /><path clip-path=\"url(#clip710)\" d=\"M991.003 1518.36 L979.197 1536.81 L991.003 1536.81 L991.003 1518.36 M989.776 1514.29 L995.655 1514.29 L995.655 1536.81 L1000.59 1536.81 L1000.59 1540.7 L995.655 1540.7 L995.655 1548.85 L991.003 1548.85 L991.003 1540.7 L975.401 1540.7 L975.401 1536.19 L989.776 1514.29 Z\" fill=\"#000000\" fill-rule=\"nonzero\" fill-opacity=\"1\" /><path clip-path=\"url(#clip710)\" d=\"M1423.73 1529.7 Q1420.58 1529.7 1418.73 1531.86 Q1416.9 1534.01 1416.9 1537.76 Q1416.9 1541.49 1418.73 1543.66 Q1420.58 1545.82 1423.73 1545.82 Q1426.88 1545.82 1428.71 1543.66 Q1430.56 1541.49 1430.56 1537.76 Q1430.56 1534.01 1428.71 1531.86 Q1426.88 1529.7 1423.73 1529.7 M1433.01 1515.05 L1433.01 1519.31 Q1431.25 1518.48 1429.45 1518.04 Q1427.66 1517.6 1425.91 1517.6 Q1421.28 1517.6 1418.82 1520.72 Q1416.39 1523.85 1416.04 1530.17 Q1417.41 1528.15 1419.47 1527.09 Q1421.53 1526 1424.01 1526 Q1429.22 1526 1432.22 1529.17 Q1435.26 1532.32 1435.26 1537.76 Q1435.26 1543.08 1432.11 1546.3 Q1428.96 1549.52 1423.73 1549.52 Q1417.73 1549.52 1414.56 1544.94 Q1411.39 1540.33 1411.39 1531.6 Q1411.39 1523.41 1415.28 1518.55 Q1419.17 1513.66 1425.72 1513.66 Q1427.48 1513.66 1429.26 1514.01 Q1431.07 1514.36 1433.01 1515.05 Z\" fill=\"#000000\" fill-rule=\"nonzero\" fill-opacity=\"1\" /><path clip-path=\"url(#clip710)\" d=\"M1858.66 1532.44 Q1855.32 1532.44 1853.4 1534.22 Q1851.5 1536 1851.5 1539.13 Q1851.5 1542.25 1853.4 1544.03 Q1855.32 1545.82 1858.66 1545.82 Q1861.99 1545.82 1863.91 1544.03 Q1865.83 1542.23 1865.83 1539.13 Q1865.83 1536 1863.91 1534.22 Q1862.01 1532.44 1858.66 1532.44 M1853.98 1530.45 Q1850.97 1529.7 1849.28 1527.64 Q1847.61 1525.58 1847.61 1522.62 Q1847.61 1518.48 1850.55 1516.07 Q1853.52 1513.66 1858.66 1513.66 Q1863.82 1513.66 1866.76 1516.07 Q1869.7 1518.48 1869.7 1522.62 Q1869.7 1525.58 1868.01 1527.64 Q1866.34 1529.7 1863.35 1530.45 Q1866.73 1531.23 1868.61 1533.52 Q1870.51 1535.82 1870.51 1539.13 Q1870.51 1544.15 1867.43 1546.83 Q1864.37 1549.52 1858.66 1549.52 Q1852.94 1549.52 1849.86 1546.83 Q1846.8 1544.15 1846.8 1539.13 Q1846.8 1535.82 1848.7 1533.52 Q1850.6 1531.23 1853.98 1530.45 M1852.27 1523.06 Q1852.27 1525.75 1853.93 1527.25 Q1855.62 1528.76 1858.66 1528.76 Q1861.66 1528.76 1863.35 1527.25 Q1865.07 1525.75 1865.07 1523.06 Q1865.07 1520.38 1863.35 1518.87 Q1861.66 1517.37 1858.66 1517.37 Q1855.62 1517.37 1853.93 1518.87 Q1852.27 1520.38 1852.27 1523.06 Z\" fill=\"#000000\" fill-rule=\"nonzero\" fill-opacity=\"1\" /><path clip-path=\"url(#clip710)\" d=\"M2268.67 1544.91 L2276.31 1544.91 L2276.31 1518.55 L2268 1520.21 L2268 1515.95 L2276.27 1514.29 L2280.94 1514.29 L2280.94 1544.91 L2288.58 1544.91 L2288.58 1548.85 L2268.67 1548.85 L2268.67 1544.91 Z\" fill=\"#000000\" fill-rule=\"nonzero\" fill-opacity=\"1\" /><path clip-path=\"url(#clip710)\" d=\"M2308.03 1517.37 Q2304.41 1517.37 2302.59 1520.93 Q2300.78 1524.47 2300.78 1531.6 Q2300.78 1538.71 2302.59 1542.27 Q2304.41 1545.82 2308.03 1545.82 Q2311.66 1545.82 2313.47 1542.27 Q2315.29 1538.71 2315.29 1531.6 Q2315.29 1524.47 2313.47 1520.93 Q2311.66 1517.37 2308.03 1517.37 M2308.03 1513.66 Q2313.84 1513.66 2316.89 1518.27 Q2319.97 1522.85 2319.97 1531.6 Q2319.97 1540.33 2316.89 1544.94 Q2313.84 1549.52 2308.03 1549.52 Q2302.22 1549.52 2299.14 1544.94 Q2296.08 1540.33 2296.08 1531.6 Q2296.08 1522.85 2299.14 1518.27 Q2302.22 1513.66 2308.03 1513.66 Z\" fill=\"#000000\" fill-rule=\"nonzero\" fill-opacity=\"1\" /><polyline clip-path=\"url(#clip712)\" style=\"stroke:#000000; stroke-linecap:round; stroke-linejoin:round; stroke-width:2; stroke-opacity:0.1; fill:none\" points=\"276.227,1449.18 2352.76,1449.18 \"/>\n",
       "<polyline clip-path=\"url(#clip712)\" style=\"stroke:#000000; stroke-linecap:round; stroke-linejoin:round; stroke-width:2; stroke-opacity:0.1; fill:none\" points=\"276.227,1165.85 2352.76,1165.85 \"/>\n",
       "<polyline clip-path=\"url(#clip712)\" style=\"stroke:#000000; stroke-linecap:round; stroke-linejoin:round; stroke-width:2; stroke-opacity:0.1; fill:none\" points=\"276.227,882.512 2352.76,882.512 \"/>\n",
       "<polyline clip-path=\"url(#clip712)\" style=\"stroke:#000000; stroke-linecap:round; stroke-linejoin:round; stroke-width:2; stroke-opacity:0.1; fill:none\" points=\"276.227,599.177 2352.76,599.177 \"/>\n",
       "<polyline clip-path=\"url(#clip712)\" style=\"stroke:#000000; stroke-linecap:round; stroke-linejoin:round; stroke-width:2; stroke-opacity:0.1; fill:none\" points=\"276.227,315.842 2352.76,315.842 \"/>\n",
       "<polyline clip-path=\"url(#clip710)\" style=\"stroke:#000000; stroke-linecap:round; stroke-linejoin:round; stroke-width:4; stroke-opacity:1; fill:none\" points=\"276.227,1486.45 276.227,123.472 \"/>\n",
       "<polyline clip-path=\"url(#clip710)\" style=\"stroke:#000000; stroke-linecap:round; stroke-linejoin:round; stroke-width:4; stroke-opacity:1; fill:none\" points=\"276.227,1449.18 295.125,1449.18 \"/>\n",
       "<polyline clip-path=\"url(#clip710)\" style=\"stroke:#000000; stroke-linecap:round; stroke-linejoin:round; stroke-width:4; stroke-opacity:1; fill:none\" points=\"276.227,1165.85 295.125,1165.85 \"/>\n",
       "<polyline clip-path=\"url(#clip710)\" style=\"stroke:#000000; stroke-linecap:round; stroke-linejoin:round; stroke-width:4; stroke-opacity:1; fill:none\" points=\"276.227,882.512 295.125,882.512 \"/>\n",
       "<polyline clip-path=\"url(#clip710)\" style=\"stroke:#000000; stroke-linecap:round; stroke-linejoin:round; stroke-width:4; stroke-opacity:1; fill:none\" points=\"276.227,599.177 295.125,599.177 \"/>\n",
       "<polyline clip-path=\"url(#clip710)\" style=\"stroke:#000000; stroke-linecap:round; stroke-linejoin:round; stroke-width:4; stroke-opacity:1; fill:none\" points=\"276.227,315.842 295.125,315.842 \"/>\n",
       "<path clip-path=\"url(#clip710)\" d=\"M228.283 1434.98 Q224.672 1434.98 222.843 1438.54 Q221.038 1442.09 221.038 1449.22 Q221.038 1456.32 222.843 1459.89 Q224.672 1463.43 228.283 1463.43 Q231.917 1463.43 233.723 1459.89 Q235.551 1456.32 235.551 1449.22 Q235.551 1442.09 233.723 1438.54 Q231.917 1434.98 228.283 1434.98 M228.283 1431.28 Q234.093 1431.28 237.149 1435.88 Q240.227 1440.47 240.227 1449.22 Q240.227 1457.94 237.149 1462.55 Q234.093 1467.13 228.283 1467.13 Q222.473 1467.13 219.394 1462.55 Q216.338 1457.94 216.338 1449.22 Q216.338 1440.47 219.394 1435.88 Q222.473 1431.28 228.283 1431.28 Z\" fill=\"#000000\" fill-rule=\"nonzero\" fill-opacity=\"1\" /><path clip-path=\"url(#clip710)\" d=\"M54.5569 1185.64 L62.1958 1185.64 L62.1958 1159.27 L53.8856 1160.94 L53.8856 1156.68 L62.1495 1155.01 L66.8254 1155.01 L66.8254 1185.64 L74.4642 1185.64 L74.4642 1189.57 L54.5569 1189.57 L54.5569 1185.64 Z\" fill=\"#000000\" fill-rule=\"nonzero\" fill-opacity=\"1\" /><path clip-path=\"url(#clip710)\" d=\"M83.9086 1183.69 L88.7928 1183.69 L88.7928 1189.57 L83.9086 1189.57 L83.9086 1183.69 Z\" fill=\"#000000\" fill-rule=\"nonzero\" fill-opacity=\"1\" /><path clip-path=\"url(#clip710)\" d=\"M108.978 1158.09 Q105.367 1158.09 103.538 1161.66 Q101.733 1165.2 101.733 1172.33 Q101.733 1179.43 103.538 1183 Q105.367 1186.54 108.978 1186.54 Q112.612 1186.54 114.418 1183 Q116.246 1179.43 116.246 1172.33 Q116.246 1165.2 114.418 1161.66 Q112.612 1158.09 108.978 1158.09 M108.978 1154.39 Q114.788 1154.39 117.844 1159 Q120.922 1163.58 120.922 1172.33 Q120.922 1181.06 117.844 1185.66 Q114.788 1190.25 108.978 1190.25 Q103.168 1190.25 100.089 1185.66 Q97.0335 1181.06 97.0335 1172.33 Q97.0335 1163.58 100.089 1159 Q103.168 1154.39 108.978 1154.39 Z\" fill=\"#000000\" fill-rule=\"nonzero\" fill-opacity=\"1\" /><path clip-path=\"url(#clip710)\" d=\"M157.311 1164.11 L146.732 1174.74 L157.311 1185.31 L154.556 1188.12 L143.931 1177.49 L133.306 1188.12 L130.575 1185.31 L141.131 1174.74 L130.575 1164.11 L133.306 1161.31 L143.931 1171.94 L154.556 1161.31 L157.311 1164.11 Z\" fill=\"#000000\" fill-rule=\"nonzero\" fill-opacity=\"1\" /><path clip-path=\"url(#clip710)\" d=\"M169.672 1185.64 L177.311 1185.64 L177.311 1159.27 L169.001 1160.94 L169.001 1156.68 L177.265 1155.01 L181.94 1155.01 L181.94 1185.64 L189.579 1185.64 L189.579 1189.57 L169.672 1189.57 L169.672 1185.64 Z\" fill=\"#000000\" fill-rule=\"nonzero\" fill-opacity=\"1\" /><path clip-path=\"url(#clip710)\" d=\"M209.024 1158.09 Q205.413 1158.09 203.584 1161.66 Q201.778 1165.2 201.778 1172.33 Q201.778 1179.43 203.584 1183 Q205.413 1186.54 209.024 1186.54 Q212.658 1186.54 214.463 1183 Q216.292 1179.43 216.292 1172.33 Q216.292 1165.2 214.463 1161.66 Q212.658 1158.09 209.024 1158.09 M209.024 1154.39 Q214.834 1154.39 217.889 1159 Q220.968 1163.58 220.968 1172.33 Q220.968 1181.06 217.889 1185.66 Q214.834 1190.25 209.024 1190.25 Q203.214 1190.25 200.135 1185.66 Q197.079 1181.06 197.079 1172.33 Q197.079 1163.58 200.135 1159 Q203.214 1154.39 209.024 1154.39 Z\" fill=\"#000000\" fill-rule=\"nonzero\" fill-opacity=\"1\" /><path clip-path=\"url(#clip710)\" d=\"M230.598 1148.83 Q227.889 1148.83 226.328 1150.28 Q224.786 1151.73 224.786 1154.26 Q224.786 1156.8 226.328 1158.25 Q227.889 1159.7 230.598 1159.7 Q233.306 1159.7 234.867 1158.25 Q236.428 1156.78 236.428 1154.26 Q236.428 1151.73 234.867 1150.28 Q233.325 1148.83 230.598 1148.83 M226.798 1147.21 Q224.353 1146.61 222.98 1144.94 Q221.626 1143.26 221.626 1140.85 Q221.626 1137.49 224.015 1135.53 Q226.422 1133.58 230.598 1133.58 Q234.792 1133.58 237.18 1135.53 Q239.569 1137.49 239.569 1140.85 Q239.569 1143.26 238.196 1144.94 Q236.842 1146.61 234.416 1147.21 Q237.162 1147.85 238.685 1149.71 Q240.227 1151.57 240.227 1154.26 Q240.227 1158.35 237.726 1160.53 Q235.243 1162.71 230.598 1162.71 Q225.952 1162.71 223.451 1160.53 Q220.968 1158.35 220.968 1154.26 Q220.968 1151.57 222.51 1149.71 Q224.053 1147.85 226.798 1147.21 M225.407 1141.21 Q225.407 1143.39 226.761 1144.62 Q228.134 1145.84 230.598 1145.84 Q233.043 1145.84 234.416 1144.62 Q235.807 1143.39 235.807 1141.21 Q235.807 1139.03 234.416 1137.81 Q233.043 1136.58 230.598 1136.58 Q228.134 1136.58 226.761 1137.81 Q225.407 1139.03 225.407 1141.21 Z\" fill=\"#000000\" fill-rule=\"nonzero\" fill-opacity=\"1\" /><path clip-path=\"url(#clip710)\" d=\"M57.7745 902.304 L74.0939 902.304 L74.0939 906.239 L52.1495 906.239 L52.1495 902.304 Q54.8115 899.549 59.3949 894.92 Q64.0013 890.267 65.1819 888.924 Q67.4272 886.401 68.3068 884.665 Q69.2096 882.906 69.2096 881.216 Q69.2096 878.461 67.2652 876.725 Q65.3439 874.989 62.2421 874.989 Q60.043 874.989 57.5893 875.753 Q55.1588 876.517 52.381 878.068 L52.381 873.346 Q55.2051 872.212 57.6588 871.633 Q60.1124 871.054 62.1495 871.054 Q67.5198 871.054 70.7142 873.739 Q73.9087 876.424 73.9087 880.915 Q73.9087 883.045 73.0985 884.966 Q72.3115 886.864 70.205 889.457 Q69.6263 890.128 66.5245 893.346 Q63.4226 896.54 57.7745 902.304 Z\" fill=\"#000000\" fill-rule=\"nonzero\" fill-opacity=\"1\" /><path clip-path=\"url(#clip710)\" d=\"M83.9086 900.36 L88.7928 900.36 L88.7928 906.239 L83.9086 906.239 L83.9086 900.36 Z\" fill=\"#000000\" fill-rule=\"nonzero\" fill-opacity=\"1\" /><path clip-path=\"url(#clip710)\" d=\"M108.978 874.758 Q105.367 874.758 103.538 878.323 Q101.733 881.864 101.733 888.994 Q101.733 896.1 103.538 899.665 Q105.367 903.207 108.978 903.207 Q112.612 903.207 114.418 899.665 Q116.246 896.1 116.246 888.994 Q116.246 881.864 114.418 878.323 Q112.612 874.758 108.978 874.758 M108.978 871.054 Q114.788 871.054 117.844 875.661 Q120.922 880.244 120.922 888.994 Q120.922 897.721 117.844 902.327 Q114.788 906.91 108.978 906.91 Q103.168 906.91 100.089 902.327 Q97.0335 897.721 97.0335 888.994 Q97.0335 880.244 100.089 875.661 Q103.168 871.054 108.978 871.054 Z\" fill=\"#000000\" fill-rule=\"nonzero\" fill-opacity=\"1\" /><path clip-path=\"url(#clip710)\" d=\"M157.311 880.776 L146.732 891.401 L157.311 901.98 L154.556 904.781 L143.931 894.156 L133.306 904.781 L130.575 901.98 L141.131 891.401 L130.575 880.776 L133.306 877.975 L143.931 888.6 L154.556 877.975 L157.311 880.776 Z\" fill=\"#000000\" fill-rule=\"nonzero\" fill-opacity=\"1\" /><path clip-path=\"url(#clip710)\" d=\"M169.672 902.304 L177.311 902.304 L177.311 875.938 L169.001 877.605 L169.001 873.346 L177.265 871.679 L181.94 871.679 L181.94 902.304 L189.579 902.304 L189.579 906.239 L169.672 906.239 L169.672 902.304 Z\" fill=\"#000000\" fill-rule=\"nonzero\" fill-opacity=\"1\" /><path clip-path=\"url(#clip710)\" d=\"M209.024 874.758 Q205.413 874.758 203.584 878.323 Q201.778 881.864 201.778 888.994 Q201.778 896.1 203.584 899.665 Q205.413 903.207 209.024 903.207 Q212.658 903.207 214.463 899.665 Q216.292 896.1 216.292 888.994 Q216.292 881.864 214.463 878.323 Q212.658 874.758 209.024 874.758 M209.024 871.054 Q214.834 871.054 217.889 875.661 Q220.968 880.244 220.968 888.994 Q220.968 897.721 217.889 902.327 Q214.834 906.91 209.024 906.91 Q203.214 906.91 200.135 902.327 Q197.079 897.721 197.079 888.994 Q197.079 880.244 200.135 875.661 Q203.214 871.054 209.024 871.054 Z\" fill=\"#000000\" fill-rule=\"nonzero\" fill-opacity=\"1\" /><path clip-path=\"url(#clip710)\" d=\"M230.598 865.494 Q227.889 865.494 226.328 866.942 Q224.786 868.39 224.786 870.929 Q224.786 873.468 226.328 874.917 Q227.889 876.365 230.598 876.365 Q233.306 876.365 234.867 874.917 Q236.428 873.45 236.428 870.929 Q236.428 868.39 234.867 866.942 Q233.325 865.494 230.598 865.494 M226.798 863.877 Q224.353 863.275 222.98 861.601 Q221.626 859.927 221.626 857.519 Q221.626 854.153 224.015 852.197 Q226.422 850.241 230.598 850.241 Q234.792 850.241 237.18 852.197 Q239.569 854.153 239.569 857.519 Q239.569 859.927 238.196 861.601 Q236.842 863.275 234.416 863.877 Q237.162 864.516 238.685 866.378 Q240.227 868.24 240.227 870.929 Q240.227 875.011 237.726 877.192 Q235.243 879.374 230.598 879.374 Q225.952 879.374 223.451 877.192 Q220.968 875.011 220.968 870.929 Q220.968 868.24 222.51 866.378 Q224.053 864.516 226.798 863.877 M225.407 857.877 Q225.407 860.059 226.761 861.281 Q228.134 862.504 230.598 862.504 Q233.043 862.504 234.416 861.281 Q235.807 860.059 235.807 857.877 Q235.807 855.695 234.416 854.473 Q233.043 853.25 230.598 853.25 Q228.134 853.25 226.761 854.473 Q225.407 855.695 225.407 857.877 Z\" fill=\"#000000\" fill-rule=\"nonzero\" fill-opacity=\"1\" /><path clip-path=\"url(#clip710)\" d=\"M67.9133 604.27 Q71.2698 604.988 73.1448 607.256 Q75.0429 609.525 75.0429 612.858 Q75.0429 617.974 71.5244 620.775 Q68.0059 623.576 61.5245 623.576 Q59.3486 623.576 57.0338 623.136 Q54.7421 622.719 52.2884 621.863 L52.2884 617.349 Q54.2328 618.483 56.5477 619.062 Q58.8625 619.641 61.3856 619.641 Q65.7837 619.641 68.0754 617.904 Q70.3902 616.168 70.3902 612.858 Q70.3902 609.803 68.2374 608.09 Q66.1078 606.354 62.2884 606.354 L58.2606 606.354 L58.2606 602.511 L62.4735 602.511 Q65.9226 602.511 67.7513 601.145 Q69.58 599.756 69.58 597.164 Q69.58 594.502 67.6819 593.09 Q65.8069 591.655 62.2884 591.655 Q60.3671 591.655 58.168 592.071 Q55.969 592.488 53.3301 593.368 L53.3301 589.201 Q55.9921 588.46 58.3069 588.09 Q60.6449 587.719 62.705 587.719 Q68.0291 587.719 71.1309 590.15 Q74.2327 592.557 74.2327 596.678 Q74.2327 599.548 72.5892 601.539 Q70.9457 603.506 67.9133 604.27 Z\" fill=\"#000000\" fill-rule=\"nonzero\" fill-opacity=\"1\" /><path clip-path=\"url(#clip710)\" d=\"M83.9086 617.025 L88.7928 617.025 L88.7928 622.904 L83.9086 622.904 L83.9086 617.025 Z\" fill=\"#000000\" fill-rule=\"nonzero\" fill-opacity=\"1\" /><path clip-path=\"url(#clip710)\" d=\"M108.978 591.423 Q105.367 591.423 103.538 594.988 Q101.733 598.53 101.733 605.659 Q101.733 612.766 103.538 616.33 Q105.367 619.872 108.978 619.872 Q112.612 619.872 114.418 616.33 Q116.246 612.766 116.246 605.659 Q116.246 598.53 114.418 594.988 Q112.612 591.423 108.978 591.423 M108.978 587.719 Q114.788 587.719 117.844 592.326 Q120.922 596.909 120.922 605.659 Q120.922 614.386 117.844 618.992 Q114.788 623.576 108.978 623.576 Q103.168 623.576 100.089 618.992 Q97.0335 614.386 97.0335 605.659 Q97.0335 596.909 100.089 592.326 Q103.168 587.719 108.978 587.719 Z\" fill=\"#000000\" fill-rule=\"nonzero\" fill-opacity=\"1\" /><path clip-path=\"url(#clip710)\" d=\"M157.311 597.442 L146.732 608.067 L157.311 618.645 L154.556 621.446 L143.931 610.821 L133.306 621.446 L130.575 618.645 L141.131 608.067 L130.575 597.442 L133.306 594.641 L143.931 605.266 L154.556 594.641 L157.311 597.442 Z\" fill=\"#000000\" fill-rule=\"nonzero\" fill-opacity=\"1\" /><path clip-path=\"url(#clip710)\" d=\"M169.672 618.969 L177.311 618.969 L177.311 592.604 L169.001 594.27 L169.001 590.011 L177.265 588.344 L181.94 588.344 L181.94 618.969 L189.579 618.969 L189.579 622.904 L169.672 622.904 L169.672 618.969 Z\" fill=\"#000000\" fill-rule=\"nonzero\" fill-opacity=\"1\" /><path clip-path=\"url(#clip710)\" d=\"M209.024 591.423 Q205.413 591.423 203.584 594.988 Q201.778 598.53 201.778 605.659 Q201.778 612.766 203.584 616.33 Q205.413 619.872 209.024 619.872 Q212.658 619.872 214.463 616.33 Q216.292 612.766 216.292 605.659 Q216.292 598.53 214.463 594.988 Q212.658 591.423 209.024 591.423 M209.024 587.719 Q214.834 587.719 217.889 592.326 Q220.968 596.909 220.968 605.659 Q220.968 614.386 217.889 618.992 Q214.834 623.576 209.024 623.576 Q203.214 623.576 200.135 618.992 Q197.079 614.386 197.079 605.659 Q197.079 596.909 200.135 592.326 Q203.214 587.719 209.024 587.719 Z\" fill=\"#000000\" fill-rule=\"nonzero\" fill-opacity=\"1\" /><path clip-path=\"url(#clip710)\" d=\"M230.598 582.159 Q227.889 582.159 226.328 583.607 Q224.786 585.056 224.786 587.595 Q224.786 590.134 226.328 591.582 Q227.889 593.03 230.598 593.03 Q233.306 593.03 234.867 591.582 Q236.428 590.115 236.428 587.595 Q236.428 585.056 234.867 583.607 Q233.325 582.159 230.598 582.159 M226.798 580.542 Q224.353 579.94 222.98 578.266 Q221.626 576.592 221.626 574.185 Q221.626 570.818 224.015 568.862 Q226.422 566.906 230.598 566.906 Q234.792 566.906 237.18 568.862 Q239.569 570.818 239.569 574.185 Q239.569 576.592 238.196 578.266 Q236.842 579.94 234.416 580.542 Q237.162 581.181 238.685 583.043 Q240.227 584.905 240.227 587.595 Q240.227 591.676 237.726 593.858 Q235.243 596.039 230.598 596.039 Q225.952 596.039 223.451 593.858 Q220.968 591.676 220.968 587.595 Q220.968 584.905 222.51 583.043 Q224.053 581.181 226.798 580.542 M225.407 574.542 Q225.407 576.724 226.761 577.946 Q228.134 579.169 230.598 579.169 Q233.043 579.169 234.416 577.946 Q235.807 576.724 235.807 574.542 Q235.807 572.36 234.416 571.138 Q233.043 569.915 230.598 569.915 Q228.134 569.915 226.761 571.138 Q225.407 572.36 225.407 574.542 Z\" fill=\"#000000\" fill-rule=\"nonzero\" fill-opacity=\"1\" /><path clip-path=\"url(#clip710)\" d=\"M66.5939 309.084 L54.7884 327.533 L66.5939 327.533 L66.5939 309.084 M65.367 305.01 L71.2466 305.01 L71.2466 327.533 L76.1772 327.533 L76.1772 331.422 L71.2466 331.422 L71.2466 339.57 L66.5939 339.57 L66.5939 331.422 L50.9921 331.422 L50.9921 326.908 L65.367 305.01 Z\" fill=\"#000000\" fill-rule=\"nonzero\" fill-opacity=\"1\" /><path clip-path=\"url(#clip710)\" d=\"M83.9086 333.69 L88.7928 333.69 L88.7928 339.57 L83.9086 339.57 L83.9086 333.69 Z\" fill=\"#000000\" fill-rule=\"nonzero\" fill-opacity=\"1\" /><path clip-path=\"url(#clip710)\" d=\"M108.978 308.088 Q105.367 308.088 103.538 311.653 Q101.733 315.195 101.733 322.324 Q101.733 329.431 103.538 332.996 Q105.367 336.537 108.978 336.537 Q112.612 336.537 114.418 332.996 Q116.246 329.431 116.246 322.324 Q116.246 315.195 114.418 311.653 Q112.612 308.088 108.978 308.088 M108.978 304.385 Q114.788 304.385 117.844 308.991 Q120.922 313.574 120.922 322.324 Q120.922 331.051 117.844 335.658 Q114.788 340.241 108.978 340.241 Q103.168 340.241 100.089 335.658 Q97.0335 331.051 97.0335 322.324 Q97.0335 313.574 100.089 308.991 Q103.168 304.385 108.978 304.385 Z\" fill=\"#000000\" fill-rule=\"nonzero\" fill-opacity=\"1\" /><path clip-path=\"url(#clip710)\" d=\"M157.311 314.107 L146.732 324.732 L157.311 335.31 L154.556 338.111 L143.931 327.486 L133.306 338.111 L130.575 335.31 L141.131 324.732 L130.575 314.107 L133.306 311.306 L143.931 321.931 L154.556 311.306 L157.311 314.107 Z\" fill=\"#000000\" fill-rule=\"nonzero\" fill-opacity=\"1\" /><path clip-path=\"url(#clip710)\" d=\"M169.672 335.635 L177.311 335.635 L177.311 309.269 L169.001 310.936 L169.001 306.676 L177.265 305.01 L181.94 305.01 L181.94 335.635 L189.579 335.635 L189.579 339.57 L169.672 339.57 L169.672 335.635 Z\" fill=\"#000000\" fill-rule=\"nonzero\" fill-opacity=\"1\" /><path clip-path=\"url(#clip710)\" d=\"M209.024 308.088 Q205.413 308.088 203.584 311.653 Q201.778 315.195 201.778 322.324 Q201.778 329.431 203.584 332.996 Q205.413 336.537 209.024 336.537 Q212.658 336.537 214.463 332.996 Q216.292 329.431 216.292 322.324 Q216.292 315.195 214.463 311.653 Q212.658 308.088 209.024 308.088 M209.024 304.385 Q214.834 304.385 217.889 308.991 Q220.968 313.574 220.968 322.324 Q220.968 331.051 217.889 335.658 Q214.834 340.241 209.024 340.241 Q203.214 340.241 200.135 335.658 Q197.079 331.051 197.079 322.324 Q197.079 313.574 200.135 308.991 Q203.214 304.385 209.024 304.385 Z\" fill=\"#000000\" fill-rule=\"nonzero\" fill-opacity=\"1\" /><path clip-path=\"url(#clip710)\" d=\"M230.598 298.825 Q227.889 298.825 226.328 300.273 Q224.786 301.721 224.786 304.26 Q224.786 306.799 226.328 308.247 Q227.889 309.695 230.598 309.695 Q233.306 309.695 234.867 308.247 Q236.428 306.78 236.428 304.26 Q236.428 301.721 234.867 300.273 Q233.325 298.825 230.598 298.825 M226.798 297.207 Q224.353 296.605 222.98 294.931 Q221.626 293.257 221.626 290.85 Q221.626 287.483 224.015 285.527 Q226.422 283.571 230.598 283.571 Q234.792 283.571 237.18 285.527 Q239.569 287.483 239.569 290.85 Q239.569 293.257 238.196 294.931 Q236.842 296.605 234.416 297.207 Q237.162 297.847 238.685 299.709 Q240.227 301.571 240.227 304.26 Q240.227 308.341 237.726 310.523 Q235.243 312.705 230.598 312.705 Q225.952 312.705 223.451 310.523 Q220.968 308.341 220.968 304.26 Q220.968 301.571 222.51 299.709 Q224.053 297.847 226.798 297.207 M225.407 291.207 Q225.407 293.389 226.761 294.612 Q228.134 295.834 230.598 295.834 Q233.043 295.834 234.416 294.612 Q235.807 293.389 235.807 291.207 Q235.807 289.026 234.416 287.803 Q233.043 286.581 230.598 286.581 Q228.134 286.581 226.761 287.803 Q225.407 289.026 225.407 291.207 Z\" fill=\"#000000\" fill-rule=\"nonzero\" fill-opacity=\"1\" /><path clip-path=\"url(#clip710)\" d=\"M1177.67 28.5427 L1177.67 35.5912 Q1174.51 33.9709 1171.11 33.1607 Q1167.71 32.3505 1164.06 32.3505 Q1158.51 32.3505 1155.72 34.0519 Q1152.96 35.7533 1152.96 39.156 Q1152.96 41.7486 1154.95 43.2475 Q1156.93 44.7058 1162.93 46.0426 L1165.48 46.6097 Q1173.42 48.3111 1176.74 51.4303 Q1180.1 54.509 1180.1 60.0587 Q1180.1 66.3781 1175.08 70.0644 Q1170.1 73.7508 1161.35 73.7508 Q1157.7 73.7508 1153.73 73.0216 Q1149.8 72.3329 1145.43 70.9151 L1145.43 63.2184 Q1149.56 65.3654 1153.57 66.4591 Q1157.58 67.5124 1161.51 67.5124 Q1166.78 67.5124 1169.61 65.73 Q1172.45 63.9071 1172.45 60.6258 Q1172.45 57.5877 1170.38 55.9673 Q1168.36 54.3469 1161.43 52.8481 L1158.84 52.2405 Q1151.91 50.7821 1148.83 47.7845 Q1145.75 44.7463 1145.75 39.4801 Q1145.75 33.0797 1150.29 29.5959 Q1154.83 26.1121 1163.17 26.1121 Q1167.3 26.1121 1170.95 26.7198 Q1174.59 27.3274 1177.67 28.5427 Z\" fill=\"#000000\" fill-rule=\"nonzero\" fill-opacity=\"1\" /><path clip-path=\"url(#clip710)\" d=\"M1199.34 14.324 L1199.34 27.2059 L1214.7 27.2059 L1214.7 32.9987 L1199.34 32.9987 L1199.34 57.6282 Q1199.34 63.1779 1200.84 64.7578 Q1202.38 66.3376 1207.04 66.3376 L1214.7 66.3376 L1214.7 72.576 L1207.04 72.576 Q1198.41 72.576 1195.13 69.3758 Q1191.85 66.1351 1191.85 57.6282 L1191.85 32.9987 L1186.38 32.9987 L1186.38 27.2059 L1191.85 27.2059 L1191.85 14.324 L1199.34 14.324 Z\" fill=\"#000000\" fill-rule=\"nonzero\" fill-opacity=\"1\" /><path clip-path=\"url(#clip710)\" d=\"M1245.12 49.7694 Q1236.09 49.7694 1232.6 51.8354 Q1229.12 53.9013 1229.12 58.8839 Q1229.12 62.8538 1231.71 65.2034 Q1234.34 67.5124 1238.84 67.5124 Q1245.04 67.5124 1248.77 63.1374 Q1252.53 58.7219 1252.53 51.4303 L1252.53 49.7694 L1245.12 49.7694 M1259.99 46.6907 L1259.99 72.576 L1252.53 72.576 L1252.53 65.6895 Q1249.98 69.8214 1246.17 71.8063 Q1242.37 73.7508 1236.86 73.7508 Q1229.89 73.7508 1225.76 69.8619 Q1221.67 65.9325 1221.67 59.3701 Q1221.67 51.7138 1226.77 47.825 Q1231.91 43.9361 1242.08 43.9361 L1252.53 43.9361 L1252.53 43.2069 Q1252.53 38.0623 1249.13 35.2672 Q1245.77 32.4315 1239.65 32.4315 Q1235.76 32.4315 1232.08 33.3632 Q1228.39 34.295 1224.99 36.1584 L1224.99 29.2718 Q1229.08 27.692 1232.93 26.9223 Q1236.77 26.1121 1240.42 26.1121 Q1250.26 26.1121 1255.13 31.2163 Q1259.99 36.3204 1259.99 46.6907 Z\" fill=\"#000000\" fill-rule=\"nonzero\" fill-opacity=\"1\" /><path clip-path=\"url(#clip710)\" d=\"M1282.71 14.324 L1282.71 27.2059 L1298.07 27.2059 L1298.07 32.9987 L1282.71 32.9987 L1282.71 57.6282 Q1282.71 63.1779 1284.21 64.7578 Q1285.75 66.3376 1290.41 66.3376 L1298.07 66.3376 L1298.07 72.576 L1290.41 72.576 Q1281.78 72.576 1278.5 69.3758 Q1275.22 66.1351 1275.22 57.6282 L1275.22 32.9987 L1269.75 32.9987 L1269.75 27.2059 L1275.22 27.2059 L1275.22 14.324 L1282.71 14.324 Z\" fill=\"#000000\" fill-rule=\"nonzero\" fill-opacity=\"1\" /><path clip-path=\"url(#clip710)\" d=\"M1346.68 48.0275 L1346.68 51.6733 L1312.41 51.6733 Q1312.89 59.3701 1317.02 63.421 Q1321.2 67.4314 1328.61 67.4314 Q1332.9 67.4314 1336.91 66.3781 Q1340.96 65.3249 1344.93 63.2184 L1344.93 70.267 Q1340.92 71.9684 1336.71 72.8596 Q1332.5 73.7508 1328.16 73.7508 Q1317.31 73.7508 1310.95 67.4314 Q1304.63 61.1119 1304.63 50.3365 Q1304.63 39.1965 1310.62 32.6746 Q1316.66 26.1121 1326.87 26.1121 Q1336.02 26.1121 1341.33 32.0264 Q1346.68 37.9003 1346.68 48.0275 M1339.22 45.84 Q1339.14 39.7232 1335.78 36.0774 Q1332.46 32.4315 1326.95 32.4315 Q1320.71 32.4315 1316.94 35.9558 Q1313.22 39.4801 1312.65 45.8805 L1339.22 45.84 Z\" fill=\"#000000\" fill-rule=\"nonzero\" fill-opacity=\"1\" /><path clip-path=\"url(#clip710)\" d=\"M1421.86 14.0809 L1421.86 22.0612 Q1417.2 19.8332 1413.07 18.7395 Q1408.94 17.6457 1405.09 17.6457 Q1398.41 17.6457 1394.76 20.2383 Q1391.15 22.8309 1391.15 27.611 Q1391.15 31.6214 1393.54 33.6873 Q1395.98 35.7128 1402.7 36.9686 L1407.64 37.9813 Q1416.8 39.7232 1421.13 44.1387 Q1425.51 48.5136 1425.51 55.8863 Q1425.51 64.6767 1419.59 69.2137 Q1413.72 73.7508 1402.34 73.7508 Q1398.04 73.7508 1393.18 72.7785 Q1388.36 71.8063 1383.17 69.9024 L1383.17 61.4765 Q1388.16 64.2716 1392.94 65.6895 Q1397.72 67.1073 1402.34 67.1073 Q1409.34 67.1073 1413.15 64.3527 Q1416.96 61.598 1416.96 56.4939 Q1416.96 52.0379 1414.2 49.5264 Q1411.49 47.0148 1405.25 45.759 L1400.27 44.7868 Q1391.11 42.9639 1387.02 39.075 Q1382.93 35.1862 1382.93 28.2591 Q1382.93 20.2383 1388.56 15.6203 Q1394.23 11.0023 1404.16 11.0023 Q1408.41 11.0023 1412.83 11.7719 Q1417.24 12.5416 1421.86 14.0809 Z\" fill=\"#000000\" fill-rule=\"nonzero\" fill-opacity=\"1\" /><path clip-path=\"url(#clip710)\" d=\"M1483.56 16.7545 L1483.56 25.383 Q1479.42 21.5346 1474.73 19.6307 Q1470.07 17.7268 1464.8 17.7268 Q1454.43 17.7268 1448.92 24.0867 Q1443.41 30.4061 1443.41 42.3968 Q1443.41 54.3469 1448.92 60.7069 Q1454.43 67.0263 1464.8 67.0263 Q1470.07 67.0263 1474.73 65.1223 Q1479.42 63.2184 1483.56 59.3701 L1483.56 67.9175 Q1479.26 70.8341 1474.44 72.2924 Q1469.66 73.7508 1464.31 73.7508 Q1450.58 73.7508 1442.68 65.3654 Q1434.78 56.9395 1434.78 42.3968 Q1434.78 27.8135 1442.68 19.4281 Q1450.58 11.0023 1464.31 11.0023 Q1469.74 11.0023 1474.52 12.4606 Q1479.34 13.8784 1483.56 16.7545 Z\" fill=\"#000000\" fill-rule=\"nonzero\" fill-opacity=\"1\" /><polyline clip-path=\"url(#clip712)\" style=\"stroke:#009af9; stroke-linecap:round; stroke-linejoin:round; stroke-width:4; stroke-opacity:1; fill:none\" points=\"334.997,1440.79 552.662,1436.81 770.328,1068.97 987.993,650.272 1205.66,499.981 1423.32,233.358 1640.99,226.916 1858.66,176.864 2076.32,162.154 2293.99,162.047 \"/>\n",
       "<polyline clip-path=\"url(#clip712)\" style=\"stroke:#e26f46; stroke-linecap:round; stroke-linejoin:round; stroke-width:4; stroke-opacity:1; fill:none\" points=\"334.997,1421.2 552.662,1393.73 770.328,1366.84 987.993,1331.64 1205.66,1287.31 1423.32,1240.51 1640.99,1188.72 1858.66,1137.93 2076.32,1087.16 2293.99,1037.16 \"/>\n",
       "<polyline clip-path=\"url(#clip712)\" style=\"stroke:#3da44d; stroke-linecap:round; stroke-linejoin:round; stroke-width:4; stroke-opacity:1; fill:none\" points=\"334.997,1447.87 552.662,1446.71 770.328,1445.68 987.993,1444.8 1205.66,1444.06 1423.32,1443.46 1640.99,1443 1858.66,1442.68 2076.32,1442.51 2293.99,1442.48 \"/>\n",
       "<path clip-path=\"url(#clip710)\" d=\"M345.445 376.265 L800.55 376.265 L800.55 168.905 L345.445 168.905  Z\" fill=\"#ffffff\" fill-rule=\"evenodd\" fill-opacity=\"1\"/>\n",
       "<polyline clip-path=\"url(#clip710)\" style=\"stroke:#000000; stroke-linecap:round; stroke-linejoin:round; stroke-width:4; stroke-opacity:1; fill:none\" points=\"345.445,376.265 800.55,376.265 800.55,168.905 345.445,168.905 345.445,376.265 \"/>\n",
       "<polyline clip-path=\"url(#clip710)\" style=\"stroke:#009af9; stroke-linecap:round; stroke-linejoin:round; stroke-width:4; stroke-opacity:1; fill:none\" points=\"368.517,220.745 506.953,220.745 \"/>\n",
       "<path clip-path=\"url(#clip710)\" d=\"M543.428 224.992 Q538.266 224.992 536.275 226.173 Q534.284 227.353 534.284 230.201 Q534.284 232.469 535.766 233.812 Q537.271 235.131 539.84 235.131 Q543.382 235.131 545.511 232.631 Q547.664 230.108 547.664 225.941 L547.664 224.992 L543.428 224.992 M551.923 223.233 L551.923 238.025 L547.664 238.025 L547.664 234.089 Q546.206 236.451 544.03 237.585 Q541.854 238.696 538.706 238.696 Q534.724 238.696 532.363 236.474 Q530.025 234.228 530.025 230.478 Q530.025 226.103 532.942 223.881 Q535.882 221.659 541.692 221.659 L547.664 221.659 L547.664 221.242 Q547.664 218.303 545.72 216.705 Q543.798 215.085 540.303 215.085 Q538.081 215.085 535.974 215.617 Q533.868 216.15 531.923 217.215 L531.923 213.279 Q534.261 212.377 536.46 211.937 Q538.659 211.474 540.743 211.474 Q546.368 211.474 549.145 214.391 Q551.923 217.307 551.923 223.233 Z\" fill=\"#000000\" fill-rule=\"nonzero\" fill-opacity=\"1\" /><path clip-path=\"url(#clip710)\" d=\"M579.354 213.094 L579.354 217.076 Q577.548 216.08 575.719 215.594 Q573.914 215.085 572.062 215.085 Q567.918 215.085 565.627 217.724 Q563.335 220.34 563.335 225.085 Q563.335 229.83 565.627 232.469 Q567.918 235.085 572.062 235.085 Q573.914 235.085 575.719 234.599 Q577.548 234.089 579.354 233.094 L579.354 237.029 Q577.571 237.863 575.65 238.279 Q573.752 238.696 571.599 238.696 Q565.743 238.696 562.294 235.015 Q558.844 231.335 558.844 225.085 Q558.844 218.742 562.317 215.108 Q565.812 211.474 571.877 211.474 Q573.844 211.474 575.719 211.891 Q577.594 212.284 579.354 213.094 Z\" fill=\"#000000\" fill-rule=\"nonzero\" fill-opacity=\"1\" /><path clip-path=\"url(#clip710)\" d=\"M590.974 204.738 L590.974 212.099 L599.747 212.099 L599.747 215.409 L590.974 215.409 L590.974 229.483 Q590.974 232.654 591.83 233.557 Q592.71 234.46 595.372 234.46 L599.747 234.46 L599.747 238.025 L595.372 238.025 Q590.442 238.025 588.567 236.196 Q586.692 234.344 586.692 229.483 L586.692 215.409 L583.567 215.409 L583.567 212.099 L586.692 212.099 L586.692 204.738 L590.974 204.738 Z\" fill=\"#000000\" fill-rule=\"nonzero\" fill-opacity=\"1\" /><path clip-path=\"url(#clip710)\" d=\"M604.909 227.793 L604.909 212.099 L609.168 212.099 L609.168 227.631 Q609.168 231.312 610.603 233.164 Q612.039 234.992 614.909 234.992 Q618.358 234.992 620.349 232.793 Q622.363 230.594 622.363 226.798 L622.363 212.099 L626.622 212.099 L626.622 238.025 L622.363 238.025 L622.363 234.043 Q620.812 236.404 618.752 237.562 Q616.715 238.696 614.006 238.696 Q609.539 238.696 607.224 235.918 Q604.909 233.14 604.909 227.793 M615.627 211.474 L615.627 211.474 Z\" fill=\"#000000\" fill-rule=\"nonzero\" fill-opacity=\"1\" /><path clip-path=\"url(#clip710)\" d=\"M647.177 224.992 Q642.015 224.992 640.025 226.173 Q638.034 227.353 638.034 230.201 Q638.034 232.469 639.515 233.812 Q641.02 235.131 643.589 235.131 Q647.131 235.131 649.261 232.631 Q651.413 230.108 651.413 225.941 L651.413 224.992 L647.177 224.992 M655.673 223.233 L655.673 238.025 L651.413 238.025 L651.413 234.089 Q649.955 236.451 647.779 237.585 Q645.603 238.696 642.455 238.696 Q638.474 238.696 636.113 236.474 Q633.775 234.228 633.775 230.478 Q633.775 226.103 636.691 223.881 Q639.631 221.659 645.441 221.659 L651.413 221.659 L651.413 221.242 Q651.413 218.303 649.469 216.705 Q647.548 215.085 644.052 215.085 Q641.83 215.085 639.724 215.617 Q637.617 216.15 635.673 217.215 L635.673 213.279 Q638.011 212.377 640.21 211.937 Q642.409 211.474 644.492 211.474 Q650.117 211.474 652.895 214.391 Q655.673 217.307 655.673 223.233 Z\" fill=\"#000000\" fill-rule=\"nonzero\" fill-opacity=\"1\" /><path clip-path=\"url(#clip710)\" d=\"M664.446 202.006 L668.705 202.006 L668.705 238.025 L664.446 238.025 L664.446 202.006 Z\" fill=\"#000000\" fill-rule=\"nonzero\" fill-opacity=\"1\" /><path clip-path=\"url(#clip710)\" d=\"M692.686 202.006 L696.946 202.006 L696.946 238.025 L692.686 238.025 L692.686 202.006 Z\" fill=\"#000000\" fill-rule=\"nonzero\" fill-opacity=\"1\" /><path clip-path=\"url(#clip710)\" d=\"M715.904 215.085 Q712.478 215.085 710.487 217.77 Q708.496 220.432 708.496 225.085 Q708.496 229.738 710.464 232.423 Q712.455 235.085 715.904 235.085 Q719.307 235.085 721.297 232.4 Q723.288 229.715 723.288 225.085 Q723.288 220.478 721.297 217.793 Q719.307 215.085 715.904 215.085 M715.904 211.474 Q721.459 211.474 724.631 215.085 Q727.802 218.696 727.802 225.085 Q727.802 231.451 724.631 235.085 Q721.459 238.696 715.904 238.696 Q710.325 238.696 707.154 235.085 Q704.006 231.451 704.006 225.085 Q704.006 218.696 707.154 215.085 Q710.325 211.474 715.904 211.474 Z\" fill=\"#000000\" fill-rule=\"nonzero\" fill-opacity=\"1\" /><path clip-path=\"url(#clip710)\" d=\"M751.39 212.863 L751.39 216.891 Q749.584 215.965 747.64 215.502 Q745.695 215.039 743.612 215.039 Q740.441 215.039 738.843 216.011 Q737.269 216.983 737.269 218.928 Q737.269 220.409 738.404 221.265 Q739.538 222.099 742.964 222.863 L744.422 223.187 Q748.959 224.159 750.857 225.941 Q752.779 227.701 752.779 230.872 Q752.779 234.483 749.908 236.589 Q747.061 238.696 742.061 238.696 Q739.978 238.696 737.709 238.279 Q735.464 237.886 732.964 237.076 L732.964 232.677 Q735.325 233.904 737.617 234.529 Q739.908 235.131 742.154 235.131 Q745.163 235.131 746.783 234.113 Q748.404 233.071 748.404 231.196 Q748.404 229.46 747.223 228.534 Q746.066 227.608 742.107 226.752 L740.626 226.404 Q736.668 225.571 734.908 223.858 Q733.149 222.122 733.149 219.113 Q733.149 215.455 735.742 213.465 Q738.334 211.474 743.103 211.474 Q745.464 211.474 747.547 211.821 Q749.63 212.168 751.39 212.863 Z\" fill=\"#000000\" fill-rule=\"nonzero\" fill-opacity=\"1\" /><path clip-path=\"url(#clip710)\" d=\"M776.089 212.863 L776.089 216.891 Q774.283 215.965 772.339 215.502 Q770.394 215.039 768.311 215.039 Q765.14 215.039 763.542 216.011 Q761.968 216.983 761.968 218.928 Q761.968 220.409 763.103 221.265 Q764.237 222.099 767.663 222.863 L769.121 223.187 Q773.658 224.159 775.556 225.941 Q777.478 227.701 777.478 230.872 Q777.478 234.483 774.607 236.589 Q771.76 238.696 766.76 238.696 Q764.677 238.696 762.408 238.279 Q760.163 237.886 757.663 237.076 L757.663 232.677 Q760.024 233.904 762.316 234.529 Q764.607 235.131 766.853 235.131 Q769.862 235.131 771.482 234.113 Q773.103 233.071 773.103 231.196 Q773.103 229.46 771.922 228.534 Q770.765 227.608 766.806 226.752 L765.325 226.404 Q761.367 225.571 759.607 223.858 Q757.848 222.122 757.848 219.113 Q757.848 215.455 760.441 213.465 Q763.033 211.474 767.802 211.474 Q770.163 211.474 772.246 211.821 Q774.329 212.168 776.089 212.863 Z\" fill=\"#000000\" fill-rule=\"nonzero\" fill-opacity=\"1\" /><polyline clip-path=\"url(#clip710)\" style=\"stroke:#e26f46; stroke-linecap:round; stroke-linejoin:round; stroke-width:4; stroke-opacity:1; fill:none\" points=\"368.517,272.585 506.953,272.585 \"/>\n",
       "<path clip-path=\"url(#clip710)\" d=\"M548.798 276.925 Q548.798 272.226 546.854 269.564 Q544.933 266.879 541.553 266.879 Q538.173 266.879 536.229 269.564 Q534.308 272.226 534.308 276.925 Q534.308 281.624 536.229 284.309 Q538.173 286.971 541.553 286.971 Q544.933 286.971 546.854 284.309 Q548.798 281.624 548.798 276.925 M534.308 267.874 Q535.65 265.559 537.687 264.448 Q539.747 263.314 542.595 263.314 Q547.317 263.314 550.257 267.064 Q553.219 270.814 553.219 276.925 Q553.219 283.036 550.257 286.786 Q547.317 290.536 542.595 290.536 Q539.747 290.536 537.687 289.425 Q535.65 288.291 534.308 285.976 L534.308 289.865 L530.025 289.865 L530.025 253.846 L534.308 253.846 L534.308 267.874 Z\" fill=\"#000000\" fill-rule=\"nonzero\" fill-opacity=\"1\" /><path clip-path=\"url(#clip710)\" d=\"M572.062 276.832 Q566.9 276.832 564.909 278.013 Q562.919 279.193 562.919 282.041 Q562.919 284.309 564.4 285.652 Q565.905 286.971 568.474 286.971 Q572.016 286.971 574.145 284.471 Q576.298 281.948 576.298 277.781 L576.298 276.832 L572.062 276.832 M580.557 275.073 L580.557 289.865 L576.298 289.865 L576.298 285.929 Q574.84 288.291 572.664 289.425 Q570.488 290.536 567.34 290.536 Q563.358 290.536 560.997 288.314 Q558.659 286.068 558.659 282.318 Q558.659 277.943 561.576 275.721 Q564.516 273.499 570.326 273.499 L576.298 273.499 L576.298 273.082 Q576.298 270.143 574.354 268.545 Q572.432 266.925 568.937 266.925 Q566.715 266.925 564.608 267.457 Q562.502 267.99 560.557 269.055 L560.557 265.119 Q562.895 264.217 565.094 263.777 Q567.293 263.314 569.377 263.314 Q575.002 263.314 577.78 266.231 Q580.557 269.147 580.557 275.073 Z\" fill=\"#000000\" fill-rule=\"nonzero\" fill-opacity=\"1\" /><path clip-path=\"url(#clip710)\" d=\"M605.858 264.703 L605.858 268.731 Q604.053 267.805 602.108 267.342 Q600.164 266.879 598.08 266.879 Q594.909 266.879 593.312 267.851 Q591.738 268.823 591.738 270.768 Q591.738 272.249 592.872 273.105 Q594.006 273.939 597.432 274.703 L598.891 275.027 Q603.428 275.999 605.326 277.781 Q607.247 279.541 607.247 282.712 Q607.247 286.323 604.377 288.429 Q601.529 290.536 596.529 290.536 Q594.446 290.536 592.178 290.119 Q589.932 289.726 587.432 288.916 L587.432 284.517 Q589.793 285.744 592.085 286.369 Q594.377 286.971 596.622 286.971 Q599.631 286.971 601.252 285.953 Q602.872 284.911 602.872 283.036 Q602.872 281.3 601.691 280.374 Q600.534 279.448 596.576 278.592 L595.094 278.244 Q591.136 277.411 589.377 275.698 Q587.617 273.962 587.617 270.953 Q587.617 267.295 590.21 265.305 Q592.803 263.314 597.571 263.314 Q599.932 263.314 602.016 263.661 Q604.099 264.008 605.858 264.703 Z\" fill=\"#000000\" fill-rule=\"nonzero\" fill-opacity=\"1\" /><path clip-path=\"url(#clip710)\" d=\"M636.205 275.837 L636.205 277.92 L616.622 277.92 Q616.9 282.318 619.261 284.633 Q621.645 286.925 625.881 286.925 Q628.335 286.925 630.626 286.323 Q632.941 285.721 635.21 284.517 L635.21 288.545 Q632.918 289.517 630.511 290.027 Q628.103 290.536 625.627 290.536 Q619.423 290.536 615.789 286.925 Q612.178 283.314 612.178 277.156 Q612.178 270.791 615.603 267.064 Q619.052 263.314 624.886 263.314 Q630.117 263.314 633.15 266.693 Q636.205 270.05 636.205 275.837 M631.946 274.587 Q631.9 271.092 629.978 269.008 Q628.08 266.925 624.932 266.925 Q621.367 266.925 619.215 268.939 Q617.085 270.953 616.761 274.61 L631.946 274.587 Z\" fill=\"#000000\" fill-rule=\"nonzero\" fill-opacity=\"1\" /><polyline clip-path=\"url(#clip710)\" style=\"stroke:#3da44d; stroke-linecap:round; stroke-linejoin:round; stroke-width:4; stroke-opacity:1; fill:none\" points=\"368.517,324.425 506.953,324.425 \"/>\n",
       "<path clip-path=\"url(#clip710)\" d=\"M530.025 307.145 L534.701 307.145 L534.701 337.769 L551.53 337.769 L551.53 341.705 L530.025 341.705 L530.025 307.145 Z\" fill=\"#000000\" fill-rule=\"nonzero\" fill-opacity=\"1\" /><path clip-path=\"url(#clip710)\" d=\"M561.113 310.987 L561.113 323.973 L566.993 323.973 Q570.256 323.973 572.039 322.283 Q573.821 320.594 573.821 317.469 Q573.821 314.367 572.039 312.677 Q570.256 310.987 566.993 310.987 L561.113 310.987 M556.437 307.145 L566.993 307.145 Q572.803 307.145 575.766 309.784 Q578.752 312.399 578.752 317.469 Q578.752 322.584 575.766 325.2 Q572.803 327.816 566.993 327.816 L561.113 327.816 L561.113 341.705 L556.437 341.705 L556.437 307.145 Z\" fill=\"#000000\" fill-rule=\"nonzero\" fill-opacity=\"1\" /></svg>\n"
      ]
     },
     "execution_count": 24,
     "metadata": {},
     "output_type": "execute_result"
    }
   ],
   "source": [
    "x = range(1, 10)\n",
    "i = 5\n",
    "print(state_list[i])\n",
    "act = cumsum(act_loss[i,:])\n",
    "base = cumsum(P_base[i,:])\n",
    "LP= cumsum(P_lp[i,:])\n",
    "plot(x, [act,  base, LP], label=[\"actual loss\" \"base\" \"LP\"], title=\"state $(state_list[i])\")"
   ]
  },
  {
   "cell_type": "code",
   "execution_count": 25,
   "metadata": {},
   "outputs": [],
   "source": [
    "state_list;"
   ]
  },
  {
   "cell_type": "code",
   "execution_count": 26,
   "metadata": {},
   "outputs": [
    {
     "ename": "LoadError",
     "evalue": "type Array has no field clone",
     "output_type": "error",
     "traceback": [
      "type Array has no field clone",
      "",
      "Stacktrace:",
      " [1] getproperty(x::Vector{String}, f::Symbol)",
      "   @ Base ./Base.jl:42",
      " [2] top-level scope",
      "   @ In[26]:7"
     ]
    }
   ],
   "source": [
    "#compute the cumsum from LP - act for each state \n",
    "c1= sum(P_lp, dims=2)-sum(act_loss, dims=2)  \n",
    "c2 = sum(P_base, dims=2)-sum(act_loss, dims=2)  \n",
    "\n",
    "df1 = DataFrame(hcat(c1, c2), [:\"LP\",:\"Base\"])\n",
    "\n",
    "df1[!,\"state\"] = state_list.clone()\n",
    "select!(df1, :\"state\",:)\n",
    "\n",
    "# top 10 states running deficit according to LP \n",
    "# deficit = first(df1, 15)\n",
    "# bar(deficit.state, deficit.LP, title=\"top 15 deficit states\")\n",
    "\n",
    "\n",
    "# top 10 states running deficit according to LP \n",
    "sort!(df1,[:\"LP\"], rev=true)\n",
    "surplus = first(df1, 15)\n",
    "# bar(surplus.state, surplus.LP, title=\"top 15 surplus states\")"
   ]
  },
  {
   "cell_type": "code",
   "execution_count": 27,
   "metadata": {},
   "outputs": [
    {
     "name": "stdout",
     "output_type": "stream",
     "text": [
      "-8.305897219413555e9\n",
      "-1.967520451280916e10\n",
      "-1.1369307293395605e10\n"
     ]
    }
   ],
   "source": [
    "#compute cumulative loss of Premium - loss for the last 10 years \n",
    "println(sum(P_base)-sum(act_loss))\n",
    "println(sum(P_lp)-sum(act_loss))\n",
    "println(sum(P_lp)-sum(P_base))\n"
   ]
  },
  {
   "cell_type": "code",
   "execution_count": 28,
   "metadata": {},
   "outputs": [],
   "source": [
    "#approach 3: min max approach \n"
   ]
  },
  {
   "cell_type": "code",
   "execution_count": 29,
   "metadata": {},
   "outputs": [],
   "source": [
    "#inner problem: \n",
    "#for each state compute the variance \n"
   ]
  },
  {
   "cell_type": "code",
   "execution_count": 30,
   "metadata": {},
   "outputs": [
    {
     "data": {
      "text/plain": [
       "(53, 48)"
      ]
     },
     "execution_count": 30,
     "metadata": {},
     "output_type": "execute_result"
    }
   ],
   "source": [
    "size(M_amt)"
   ]
  },
  {
   "cell_type": "code",
   "execution_count": 31,
   "metadata": {},
   "outputs": [],
   "source": [
    "#compute the historical mean and variance up to 10 years  \n",
    "M_hist = M_amt[:, 1:end-10]; \n",
    "std_hist = std(M_hist, dims=2); \n",
    "mean_hist = mean(M_hist, dims=2); "
   ]
  },
  {
   "cell_type": "markdown",
   "metadata": {},
   "source": [
    "#\n",
    "gamma2 = 1 \n",
    "\n",
    "#compute $L^*_i$ for each i, where\n",
    "$\n",
    "L^* := \\sum_{t=T0}^{t=T1} l^*_{i,t}\n",
    "$\\\n",
    "where \n",
    "$\n",
    "\\sum_{t=T0}^{t=T1} l^*_{i,t} = \\bar{l}_i (T1-T0) + \\gamma_2 \\sigma_i \\sqrt(T1-T0) \n",
    "$"
   ]
  },
  {
   "cell_type": "code",
   "execution_count": 32,
   "metadata": {},
   "outputs": [
    {
     "name": "stdout",
     "output_type": "stream",
     "text": [
      "Academic license - for non-commercial use only - expires 2024-04-04\n",
      "Gurobi Optimizer version 9.1.2 build v9.1.2rc0 (mac64)\n",
      "Thread count: 4 physical cores, 8 logical processors, using up to 8 threads\n",
      "Optimize a model with 1007 rows, 530 columns and 2438 nonzeros\n",
      "Model fingerprint: 0x5e546ac0\n",
      "Coefficient statistics:\n",
      "  Matrix range     [1e+00, 1e+00]\n",
      "  Objective range  [0e+00, 0e+00]\n",
      "  Bounds range     [0e+00, 0e+00]\n",
      "  RHS range        [5e+04, 8e+09]\n",
      "Warning: Model contains large rhs\n",
      "         Consider reformulating model or setting NumericFocus parameter\n",
      "         to avoid numerical issues.\n",
      "Presolve removed 583 rows and 106 columns\n",
      "Presolve time: 0.00s\n",
      "Presolved: 424 rows, 689 columns, 1431 nonzeros\n",
      "\n",
      "Iteration    Objective       Primal Inf.    Dual Inf.      Time\n",
      "       0    5.0000000e+03   2.712527e+09   0.000000e+00      0s\n",
      "     315    5.0000000e+03   0.000000e+00   0.000000e+00      0s\n",
      "\n",
      "Solved in 315 iterations and 0.00 seconds\n",
      "Optimal objective  5.000000000e+03\n",
      "\n",
      "User-callback calls 356, time in user-callback 0.00 sec\n"
     ]
    }
   ],
   "source": [
    "gamma2 = 0.8\n",
    "L_star = 10*mean_hist + gamma2*std_hist*sqrt(10); \n",
    "\n",
    "model3 = Model(Gurobi.Optimizer)\n",
    "set_optimizer_attribute(model3, \"TimeLimit\", 30)\n",
    "\n",
    "# VARIABLES: premium for the next 10 years \n",
    "T1 = 10 \n",
    "@variable(model3, P[1:N,1:T1] >=0);  #P_i,t is the premium at state i in time t \n",
    "\n",
    "surplus = 5000 \n",
    "\n",
    "# each state premium covers state loss L* from the inner problem \n",
    "@constraint(model3, test_constraint[i=1:N],\n",
    "    sum(P[i, t] for t = 1:T1) - L_star[i] >= surplus); \n",
    "\n",
    "#slowly vary \n",
    "gamma1 = 50000  \n",
    "@constraint(model3, slowly_vary[i=1:N, t=2:T1],\n",
    "    P[i,t] - P[i, t-1] <= gamma1);\n",
    "@constraint(model3, slowly_vary2[i=1:N, t=2:T1],\n",
    "    P[i,t-1] - P[i, t] <= gamma1)\n",
    "\n",
    "@objective(\n",
    "        model3, Min, surplus \n",
    "    )\n",
    "\n",
    "optimize!(model3)\n",
    "P_ro = value.(P);   "
   ]
  },
  {
   "cell_type": "code",
   "execution_count": 33,
   "metadata": {},
   "outputs": [],
   "source": [
    "#compute some performance\n",
    "#actual loss \n",
    "act_loss = M_amt[:,end-9:end]; \n"
   ]
  },
  {
   "cell_type": "code",
   "execution_count": 34,
   "metadata": {},
   "outputs": [],
   "source": [
    "using Plots"
   ]
  },
  {
   "cell_type": "code",
   "execution_count": 35,
   "metadata": {},
   "outputs": [
    {
     "data": {
      "text/plain": [
       "\"AK\""
      ]
     },
     "execution_count": 35,
     "metadata": {},
     "output_type": "execute_result"
    }
   ],
   "source": [
    "state_list[50]"
   ]
  },
  {
   "cell_type": "code",
   "execution_count": 36,
   "metadata": {},
   "outputs": [
    {
     "name": "stdout",
     "output_type": "stream",
     "text": [
      "ME"
     ]
    },
    {
     "data": {
      "image/svg+xml": [
       "<?xml version=\"1.0\" encoding=\"utf-8\"?>\n",
       "<svg xmlns=\"http://www.w3.org/2000/svg\" xmlns:xlink=\"http://www.w3.org/1999/xlink\" width=\"600\" height=\"400\" viewBox=\"0 0 2400 1600\">\n",
       "<defs>\n",
       "  <clipPath id=\"clip750\">\n",
       "    <rect x=\"0\" y=\"0\" width=\"2400\" height=\"1600\"/>\n",
       "  </clipPath>\n",
       "</defs>\n",
       "<path clip-path=\"url(#clip750)\" d=\"M0 1600 L2400 1600 L2400 0 L0 0  Z\" fill=\"#ffffff\" fill-rule=\"evenodd\" fill-opacity=\"1\"/>\n",
       "<defs>\n",
       "  <clipPath id=\"clip751\">\n",
       "    <rect x=\"480\" y=\"0\" width=\"1681\" height=\"1600\"/>\n",
       "  </clipPath>\n",
       "</defs>\n",
       "<path clip-path=\"url(#clip750)\" d=\"M306.521 1486.45 L2352.76 1486.45 L2352.76 123.472 L306.521 123.472  Z\" fill=\"#ffffff\" fill-rule=\"evenodd\" fill-opacity=\"1\"/>\n",
       "<defs>\n",
       "  <clipPath id=\"clip752\">\n",
       "    <rect x=\"306\" y=\"123\" width=\"2047\" height=\"1364\"/>\n",
       "  </clipPath>\n",
       "</defs>\n",
       "<polyline clip-path=\"url(#clip752)\" style=\"stroke:#000000; stroke-linecap:round; stroke-linejoin:round; stroke-width:2; stroke-opacity:0.1; fill:none\" points=\"578.923,1486.45 578.923,123.472 \"/>\n",
       "<polyline clip-path=\"url(#clip752)\" style=\"stroke:#000000; stroke-linecap:round; stroke-linejoin:round; stroke-width:2; stroke-opacity:0.1; fill:none\" points=\"1007.9,1486.45 1007.9,123.472 \"/>\n",
       "<polyline clip-path=\"url(#clip752)\" style=\"stroke:#000000; stroke-linecap:round; stroke-linejoin:round; stroke-width:2; stroke-opacity:0.1; fill:none\" points=\"1436.88,1486.45 1436.88,123.472 \"/>\n",
       "<polyline clip-path=\"url(#clip752)\" style=\"stroke:#000000; stroke-linecap:round; stroke-linejoin:round; stroke-width:2; stroke-opacity:0.1; fill:none\" points=\"1865.86,1486.45 1865.86,123.472 \"/>\n",
       "<polyline clip-path=\"url(#clip752)\" style=\"stroke:#000000; stroke-linecap:round; stroke-linejoin:round; stroke-width:2; stroke-opacity:0.1; fill:none\" points=\"2294.84,1486.45 2294.84,123.472 \"/>\n",
       "<polyline clip-path=\"url(#clip750)\" style=\"stroke:#000000; stroke-linecap:round; stroke-linejoin:round; stroke-width:4; stroke-opacity:1; fill:none\" points=\"306.521,1486.45 2352.76,1486.45 \"/>\n",
       "<polyline clip-path=\"url(#clip750)\" style=\"stroke:#000000; stroke-linecap:round; stroke-linejoin:round; stroke-width:4; stroke-opacity:1; fill:none\" points=\"578.923,1486.45 578.923,1467.55 \"/>\n",
       "<polyline clip-path=\"url(#clip750)\" style=\"stroke:#000000; stroke-linecap:round; stroke-linejoin:round; stroke-width:4; stroke-opacity:1; fill:none\" points=\"1007.9,1486.45 1007.9,1467.55 \"/>\n",
       "<polyline clip-path=\"url(#clip750)\" style=\"stroke:#000000; stroke-linecap:round; stroke-linejoin:round; stroke-width:4; stroke-opacity:1; fill:none\" points=\"1436.88,1486.45 1436.88,1467.55 \"/>\n",
       "<polyline clip-path=\"url(#clip750)\" style=\"stroke:#000000; stroke-linecap:round; stroke-linejoin:round; stroke-width:4; stroke-opacity:1; fill:none\" points=\"1865.86,1486.45 1865.86,1467.55 \"/>\n",
       "<polyline clip-path=\"url(#clip750)\" style=\"stroke:#000000; stroke-linecap:round; stroke-linejoin:round; stroke-width:4; stroke-opacity:1; fill:none\" points=\"2294.84,1486.45 2294.84,1467.55 \"/>\n",
       "<path clip-path=\"url(#clip750)\" d=\"M573.576 1544.91 L589.895 1544.91 L589.895 1548.85 L567.951 1548.85 L567.951 1544.91 Q570.613 1542.16 575.196 1537.53 Q579.803 1532.88 580.983 1531.53 Q583.229 1529.01 584.108 1527.27 Q585.011 1525.51 585.011 1523.82 Q585.011 1521.07 583.067 1519.33 Q581.145 1517.6 578.044 1517.6 Q575.844 1517.6 573.391 1518.36 Q570.96 1519.13 568.182 1520.68 L568.182 1515.95 Q571.007 1514.82 573.46 1514.24 Q575.914 1513.66 577.951 1513.66 Q583.321 1513.66 586.516 1516.35 Q589.71 1519.03 589.71 1523.52 Q589.71 1525.65 588.9 1527.57 Q588.113 1529.47 586.006 1532.07 Q585.428 1532.74 582.326 1535.95 Q579.224 1539.15 573.576 1544.91 Z\" fill=\"#000000\" fill-rule=\"nonzero\" fill-opacity=\"1\" /><path clip-path=\"url(#clip750)\" d=\"M1010.91 1518.36 L999.107 1536.81 L1010.91 1536.81 L1010.91 1518.36 M1009.69 1514.29 L1015.57 1514.29 L1015.57 1536.81 L1020.5 1536.81 L1020.5 1540.7 L1015.57 1540.7 L1015.57 1548.85 L1010.91 1548.85 L1010.91 1540.7 L995.311 1540.7 L995.311 1536.19 L1009.69 1514.29 Z\" fill=\"#000000\" fill-rule=\"nonzero\" fill-opacity=\"1\" /><path clip-path=\"url(#clip750)\" d=\"M1437.29 1529.7 Q1434.14 1529.7 1432.29 1531.86 Q1430.46 1534.01 1430.46 1537.76 Q1430.46 1541.49 1432.29 1543.66 Q1434.14 1545.82 1437.29 1545.82 Q1440.44 1545.82 1442.27 1543.66 Q1444.12 1541.49 1444.12 1537.76 Q1444.12 1534.01 1442.27 1531.86 Q1440.44 1529.7 1437.29 1529.7 M1446.57 1515.05 L1446.57 1519.31 Q1444.81 1518.48 1443.01 1518.04 Q1441.22 1517.6 1439.46 1517.6 Q1434.83 1517.6 1432.38 1520.72 Q1429.95 1523.85 1429.6 1530.17 Q1430.97 1528.15 1433.03 1527.09 Q1435.09 1526 1437.57 1526 Q1442.77 1526 1445.78 1529.17 Q1448.82 1532.32 1448.82 1537.76 Q1448.82 1543.08 1445.67 1546.3 Q1442.52 1549.52 1437.29 1549.52 Q1431.29 1549.52 1428.12 1544.94 Q1424.95 1540.33 1424.95 1531.6 Q1424.95 1523.41 1428.84 1518.55 Q1432.73 1513.66 1439.28 1513.66 Q1441.04 1513.66 1442.82 1514.01 Q1444.63 1514.36 1446.57 1515.05 Z\" fill=\"#000000\" fill-rule=\"nonzero\" fill-opacity=\"1\" /><path clip-path=\"url(#clip750)\" d=\"M1865.86 1532.44 Q1862.53 1532.44 1860.61 1534.22 Q1858.71 1536 1858.71 1539.13 Q1858.71 1542.25 1860.61 1544.03 Q1862.53 1545.82 1865.86 1545.82 Q1869.2 1545.82 1871.12 1544.03 Q1873.04 1542.23 1873.04 1539.13 Q1873.04 1536 1871.12 1534.22 Q1869.22 1532.44 1865.86 1532.44 M1861.19 1530.45 Q1858.18 1529.7 1856.49 1527.64 Q1854.82 1525.58 1854.82 1522.62 Q1854.82 1518.48 1857.76 1516.07 Q1860.72 1513.66 1865.86 1513.66 Q1871.03 1513.66 1873.97 1516.07 Q1876.91 1518.48 1876.91 1522.62 Q1876.91 1525.58 1875.22 1527.64 Q1873.55 1529.7 1870.56 1530.45 Q1873.94 1531.23 1875.82 1533.52 Q1877.72 1535.82 1877.72 1539.13 Q1877.72 1544.15 1874.64 1546.83 Q1871.58 1549.52 1865.86 1549.52 Q1860.15 1549.52 1857.07 1546.83 Q1854.01 1544.15 1854.01 1539.13 Q1854.01 1535.82 1855.91 1533.52 Q1857.81 1531.23 1861.19 1530.45 M1859.47 1523.06 Q1859.47 1525.75 1861.14 1527.25 Q1862.83 1528.76 1865.86 1528.76 Q1868.87 1528.76 1870.56 1527.25 Q1872.28 1525.75 1872.28 1523.06 Q1872.28 1520.38 1870.56 1518.87 Q1868.87 1517.37 1865.86 1517.37 Q1862.83 1517.37 1861.14 1518.87 Q1859.47 1520.38 1859.47 1523.06 Z\" fill=\"#000000\" fill-rule=\"nonzero\" fill-opacity=\"1\" /><path clip-path=\"url(#clip750)\" d=\"M2269.53 1544.91 L2277.17 1544.91 L2277.17 1518.55 L2268.86 1520.21 L2268.86 1515.95 L2277.12 1514.29 L2281.8 1514.29 L2281.8 1544.91 L2289.44 1544.91 L2289.44 1548.85 L2269.53 1548.85 L2269.53 1544.91 Z\" fill=\"#000000\" fill-rule=\"nonzero\" fill-opacity=\"1\" /><path clip-path=\"url(#clip750)\" d=\"M2308.88 1517.37 Q2305.27 1517.37 2303.44 1520.93 Q2301.64 1524.47 2301.64 1531.6 Q2301.64 1538.71 2303.44 1542.27 Q2305.27 1545.82 2308.88 1545.82 Q2312.52 1545.82 2314.32 1542.27 Q2316.15 1538.71 2316.15 1531.6 Q2316.15 1524.47 2314.32 1520.93 Q2312.52 1517.37 2308.88 1517.37 M2308.88 1513.66 Q2314.69 1513.66 2317.75 1518.27 Q2320.83 1522.85 2320.83 1531.6 Q2320.83 1540.33 2317.75 1544.94 Q2314.69 1549.52 2308.88 1549.52 Q2303.07 1549.52 2299.99 1544.94 Q2296.94 1540.33 2296.94 1531.6 Q2296.94 1522.85 2299.99 1518.27 Q2303.07 1513.66 2308.88 1513.66 Z\" fill=\"#000000\" fill-rule=\"nonzero\" fill-opacity=\"1\" /><polyline clip-path=\"url(#clip752)\" style=\"stroke:#000000; stroke-linecap:round; stroke-linejoin:round; stroke-width:2; stroke-opacity:0.1; fill:none\" points=\"306.521,1452.92 2352.76,1452.92 \"/>\n",
       "<polyline clip-path=\"url(#clip752)\" style=\"stroke:#000000; stroke-linecap:round; stroke-linejoin:round; stroke-width:2; stroke-opacity:0.1; fill:none\" points=\"306.521,1250.97 2352.76,1250.97 \"/>\n",
       "<polyline clip-path=\"url(#clip752)\" style=\"stroke:#000000; stroke-linecap:round; stroke-linejoin:round; stroke-width:2; stroke-opacity:0.1; fill:none\" points=\"306.521,1049.01 2352.76,1049.01 \"/>\n",
       "<polyline clip-path=\"url(#clip752)\" style=\"stroke:#000000; stroke-linecap:round; stroke-linejoin:round; stroke-width:2; stroke-opacity:0.1; fill:none\" points=\"306.521,847.059 2352.76,847.059 \"/>\n",
       "<polyline clip-path=\"url(#clip752)\" style=\"stroke:#000000; stroke-linecap:round; stroke-linejoin:round; stroke-width:2; stroke-opacity:0.1; fill:none\" points=\"306.521,645.105 2352.76,645.105 \"/>\n",
       "<polyline clip-path=\"url(#clip752)\" style=\"stroke:#000000; stroke-linecap:round; stroke-linejoin:round; stroke-width:2; stroke-opacity:0.1; fill:none\" points=\"306.521,443.15 2352.76,443.15 \"/>\n",
       "<polyline clip-path=\"url(#clip752)\" style=\"stroke:#000000; stroke-linecap:round; stroke-linejoin:round; stroke-width:2; stroke-opacity:0.1; fill:none\" points=\"306.521,241.196 2352.76,241.196 \"/>\n",
       "<polyline clip-path=\"url(#clip750)\" style=\"stroke:#000000; stroke-linecap:round; stroke-linejoin:round; stroke-width:4; stroke-opacity:1; fill:none\" points=\"306.521,1486.45 306.521,123.472 \"/>\n",
       "<polyline clip-path=\"url(#clip750)\" style=\"stroke:#000000; stroke-linecap:round; stroke-linejoin:round; stroke-width:4; stroke-opacity:1; fill:none\" points=\"306.521,1452.92 325.418,1452.92 \"/>\n",
       "<polyline clip-path=\"url(#clip750)\" style=\"stroke:#000000; stroke-linecap:round; stroke-linejoin:round; stroke-width:4; stroke-opacity:1; fill:none\" points=\"306.521,1250.97 325.418,1250.97 \"/>\n",
       "<polyline clip-path=\"url(#clip750)\" style=\"stroke:#000000; stroke-linecap:round; stroke-linejoin:round; stroke-width:4; stroke-opacity:1; fill:none\" points=\"306.521,1049.01 325.418,1049.01 \"/>\n",
       "<polyline clip-path=\"url(#clip750)\" style=\"stroke:#000000; stroke-linecap:round; stroke-linejoin:round; stroke-width:4; stroke-opacity:1; fill:none\" points=\"306.521,847.059 325.418,847.059 \"/>\n",
       "<polyline clip-path=\"url(#clip750)\" style=\"stroke:#000000; stroke-linecap:round; stroke-linejoin:round; stroke-width:4; stroke-opacity:1; fill:none\" points=\"306.521,645.105 325.418,645.105 \"/>\n",
       "<polyline clip-path=\"url(#clip750)\" style=\"stroke:#000000; stroke-linecap:round; stroke-linejoin:round; stroke-width:4; stroke-opacity:1; fill:none\" points=\"306.521,443.15 325.418,443.15 \"/>\n",
       "<polyline clip-path=\"url(#clip750)\" style=\"stroke:#000000; stroke-linecap:round; stroke-linejoin:round; stroke-width:4; stroke-opacity:1; fill:none\" points=\"306.521,241.196 325.418,241.196 \"/>\n",
       "<path clip-path=\"url(#clip750)\" d=\"M258.576 1438.72 Q254.965 1438.72 253.137 1442.29 Q251.331 1445.83 251.331 1452.96 Q251.331 1460.06 253.137 1463.63 Q254.965 1467.17 258.576 1467.17 Q262.211 1467.17 264.016 1463.63 Q265.845 1460.06 265.845 1452.96 Q265.845 1445.83 264.016 1442.29 Q262.211 1438.72 258.576 1438.72 M258.576 1435.02 Q264.387 1435.02 267.442 1439.62 Q270.521 1444.21 270.521 1452.96 Q270.521 1461.68 267.442 1466.29 Q264.387 1470.87 258.576 1470.87 Q252.766 1470.87 249.688 1466.29 Q246.632 1461.68 246.632 1452.96 Q246.632 1444.21 249.688 1439.62 Q252.766 1435.02 258.576 1435.02 Z\" fill=\"#000000\" fill-rule=\"nonzero\" fill-opacity=\"1\" /><path clip-path=\"url(#clip750)\" d=\"M57.7745 1270.76 L74.0939 1270.76 L74.0939 1274.7 L52.1495 1274.7 L52.1495 1270.76 Q54.8115 1268.01 59.3949 1263.38 Q64.0013 1258.72 65.1819 1257.38 Q67.4272 1254.86 68.3068 1253.12 Q69.2096 1251.36 69.2096 1249.67 Q69.2096 1246.92 67.2652 1245.18 Q65.3439 1243.45 62.2421 1243.45 Q60.043 1243.45 57.5893 1244.21 Q55.1588 1244.97 52.381 1246.52 L52.381 1241.8 Q55.2051 1240.67 57.6588 1240.09 Q60.1124 1239.51 62.1495 1239.51 Q67.5198 1239.51 70.7142 1242.2 Q73.9087 1244.88 73.9087 1249.37 Q73.9087 1251.5 73.0985 1253.42 Q72.3115 1255.32 70.205 1257.91 Q69.6263 1258.58 66.5245 1261.8 Q63.4226 1265 57.7745 1270.76 Z\" fill=\"#000000\" fill-rule=\"nonzero\" fill-opacity=\"1\" /><path clip-path=\"url(#clip750)\" d=\"M83.9086 1268.82 L88.7928 1268.82 L88.7928 1274.7 L83.9086 1274.7 L83.9086 1268.82 Z\" fill=\"#000000\" fill-rule=\"nonzero\" fill-opacity=\"1\" /><path clip-path=\"url(#clip750)\" d=\"M108.978 1243.21 Q105.367 1243.21 103.538 1246.78 Q101.733 1250.32 101.733 1257.45 Q101.733 1264.56 103.538 1268.12 Q105.367 1271.66 108.978 1271.66 Q112.612 1271.66 114.418 1268.12 Q116.246 1264.56 116.246 1257.45 Q116.246 1250.32 114.418 1246.78 Q112.612 1243.21 108.978 1243.21 M108.978 1239.51 Q114.788 1239.51 117.844 1244.12 Q120.922 1248.7 120.922 1257.45 Q120.922 1266.18 117.844 1270.78 Q114.788 1275.37 108.978 1275.37 Q103.168 1275.37 100.089 1270.78 Q97.0335 1266.18 97.0335 1257.45 Q97.0335 1248.7 100.089 1244.12 Q103.168 1239.51 108.978 1239.51 Z\" fill=\"#000000\" fill-rule=\"nonzero\" fill-opacity=\"1\" /><path clip-path=\"url(#clip750)\" d=\"M139.14 1243.21 Q135.529 1243.21 133.7 1246.78 Q131.894 1250.32 131.894 1257.45 Q131.894 1264.56 133.7 1268.12 Q135.529 1271.66 139.14 1271.66 Q142.774 1271.66 144.58 1268.12 Q146.408 1264.56 146.408 1257.45 Q146.408 1250.32 144.58 1246.78 Q142.774 1243.21 139.14 1243.21 M139.14 1239.51 Q144.95 1239.51 148.005 1244.12 Q151.084 1248.7 151.084 1257.45 Q151.084 1266.18 148.005 1270.78 Q144.95 1275.37 139.14 1275.37 Q133.33 1275.37 130.251 1270.78 Q127.195 1266.18 127.195 1257.45 Q127.195 1248.7 130.251 1244.12 Q133.33 1239.51 139.14 1239.51 Z\" fill=\"#000000\" fill-rule=\"nonzero\" fill-opacity=\"1\" /><path clip-path=\"url(#clip750)\" d=\"M187.473 1249.23 L176.894 1259.86 L187.473 1270.44 L184.718 1273.24 L174.093 1262.61 L163.468 1273.24 L160.737 1270.44 L171.292 1259.86 L160.737 1249.23 L163.468 1246.43 L174.093 1257.06 L184.718 1246.43 L187.473 1249.23 Z\" fill=\"#000000\" fill-rule=\"nonzero\" fill-opacity=\"1\" /><path clip-path=\"url(#clip750)\" d=\"M199.834 1270.76 L207.473 1270.76 L207.473 1244.39 L199.163 1246.06 L199.163 1241.8 L207.426 1240.14 L212.102 1240.14 L212.102 1270.76 L219.741 1270.76 L219.741 1274.7 L199.834 1274.7 L199.834 1270.76 Z\" fill=\"#000000\" fill-rule=\"nonzero\" fill-opacity=\"1\" /><path clip-path=\"url(#clip750)\" d=\"M239.186 1243.21 Q235.574 1243.21 233.746 1246.78 Q231.94 1250.32 231.94 1257.45 Q231.94 1264.56 233.746 1268.12 Q235.574 1271.66 239.186 1271.66 Q242.82 1271.66 244.625 1268.12 Q246.454 1264.56 246.454 1257.45 Q246.454 1250.32 244.625 1246.78 Q242.82 1243.21 239.186 1243.21 M239.186 1239.51 Q244.996 1239.51 248.051 1244.12 Q251.13 1248.7 251.13 1257.45 Q251.13 1266.18 248.051 1270.78 Q244.996 1275.37 239.186 1275.37 Q233.375 1275.37 230.297 1270.78 Q227.241 1266.18 227.241 1257.45 Q227.241 1248.7 230.297 1244.12 Q233.375 1239.51 239.186 1239.51 Z\" fill=\"#000000\" fill-rule=\"nonzero\" fill-opacity=\"1\" /><path clip-path=\"url(#clip750)\" d=\"M261.154 1231.73 Q258.597 1231.73 257.092 1233.48 Q255.606 1235.23 255.606 1238.28 Q255.606 1241.3 257.092 1243.07 Q258.597 1244.82 261.154 1244.82 Q263.712 1244.82 265.198 1243.07 Q266.703 1241.3 266.703 1238.28 Q266.703 1235.23 265.198 1233.48 Q263.712 1231.73 261.154 1231.73 M268.696 1219.83 L268.696 1223.29 Q267.267 1222.61 265.8 1222.25 Q264.352 1221.89 262.922 1221.89 Q259.161 1221.89 257.167 1224.43 Q255.192 1226.97 254.91 1232.11 Q256.02 1230.47 257.694 1229.61 Q259.368 1228.72 261.38 1228.72 Q265.612 1228.72 268.057 1231.3 Q270.521 1233.86 270.521 1238.28 Q270.521 1242.6 267.963 1245.22 Q265.405 1247.83 261.154 1247.83 Q256.283 1247.83 253.707 1244.11 Q251.13 1240.36 251.13 1233.27 Q251.13 1226.62 254.29 1222.67 Q257.449 1218.7 262.772 1218.7 Q264.201 1218.7 265.65 1218.98 Q267.117 1219.26 268.696 1219.83 Z\" fill=\"#000000\" fill-rule=\"nonzero\" fill-opacity=\"1\" /><path clip-path=\"url(#clip750)\" d=\"M66.5939 1042.25 L54.7884 1060.7 L66.5939 1060.7 L66.5939 1042.25 M65.367 1038.18 L71.2466 1038.18 L71.2466 1060.7 L76.1772 1060.7 L76.1772 1064.59 L71.2466 1064.59 L71.2466 1072.74 L66.5939 1072.74 L66.5939 1064.59 L50.9921 1064.59 L50.9921 1060.08 L65.367 1038.18 Z\" fill=\"#000000\" fill-rule=\"nonzero\" fill-opacity=\"1\" /><path clip-path=\"url(#clip750)\" d=\"M83.9086 1066.86 L88.7928 1066.86 L88.7928 1072.74 L83.9086 1072.74 L83.9086 1066.86 Z\" fill=\"#000000\" fill-rule=\"nonzero\" fill-opacity=\"1\" /><path clip-path=\"url(#clip750)\" d=\"M108.978 1041.26 Q105.367 1041.26 103.538 1044.82 Q101.733 1048.37 101.733 1055.5 Q101.733 1062.6 103.538 1066.17 Q105.367 1069.71 108.978 1069.71 Q112.612 1069.71 114.418 1066.17 Q116.246 1062.6 116.246 1055.5 Q116.246 1048.37 114.418 1044.82 Q112.612 1041.26 108.978 1041.26 M108.978 1037.56 Q114.788 1037.56 117.844 1042.16 Q120.922 1046.75 120.922 1055.5 Q120.922 1064.22 117.844 1068.83 Q114.788 1073.41 108.978 1073.41 Q103.168 1073.41 100.089 1068.83 Q97.0335 1064.22 97.0335 1055.5 Q97.0335 1046.75 100.089 1042.16 Q103.168 1037.56 108.978 1037.56 Z\" fill=\"#000000\" fill-rule=\"nonzero\" fill-opacity=\"1\" /><path clip-path=\"url(#clip750)\" d=\"M139.14 1041.26 Q135.529 1041.26 133.7 1044.82 Q131.894 1048.37 131.894 1055.5 Q131.894 1062.6 133.7 1066.17 Q135.529 1069.71 139.14 1069.71 Q142.774 1069.71 144.58 1066.17 Q146.408 1062.6 146.408 1055.5 Q146.408 1048.37 144.58 1044.82 Q142.774 1041.26 139.14 1041.26 M139.14 1037.56 Q144.95 1037.56 148.005 1042.16 Q151.084 1046.75 151.084 1055.5 Q151.084 1064.22 148.005 1068.83 Q144.95 1073.41 139.14 1073.41 Q133.33 1073.41 130.251 1068.83 Q127.195 1064.22 127.195 1055.5 Q127.195 1046.75 130.251 1042.16 Q133.33 1037.56 139.14 1037.56 Z\" fill=\"#000000\" fill-rule=\"nonzero\" fill-opacity=\"1\" /><path clip-path=\"url(#clip750)\" d=\"M187.473 1047.28 L176.894 1057.9 L187.473 1068.48 L184.718 1071.28 L174.093 1060.66 L163.468 1071.28 L160.737 1068.48 L171.292 1057.9 L160.737 1047.28 L163.468 1044.48 L174.093 1055.1 L184.718 1044.48 L187.473 1047.28 Z\" fill=\"#000000\" fill-rule=\"nonzero\" fill-opacity=\"1\" /><path clip-path=\"url(#clip750)\" d=\"M199.834 1068.81 L207.473 1068.81 L207.473 1042.44 L199.163 1044.11 L199.163 1039.85 L207.426 1038.18 L212.102 1038.18 L212.102 1068.81 L219.741 1068.81 L219.741 1072.74 L199.834 1072.74 L199.834 1068.81 Z\" fill=\"#000000\" fill-rule=\"nonzero\" fill-opacity=\"1\" /><path clip-path=\"url(#clip750)\" d=\"M239.186 1041.26 Q235.574 1041.26 233.746 1044.82 Q231.94 1048.37 231.94 1055.5 Q231.94 1062.6 233.746 1066.17 Q235.574 1069.71 239.186 1069.71 Q242.82 1069.71 244.625 1066.17 Q246.454 1062.6 246.454 1055.5 Q246.454 1048.37 244.625 1044.82 Q242.82 1041.26 239.186 1041.26 M239.186 1037.56 Q244.996 1037.56 248.051 1042.16 Q251.13 1046.75 251.13 1055.5 Q251.13 1064.22 248.051 1068.83 Q244.996 1073.41 239.186 1073.41 Q233.375 1073.41 230.297 1068.83 Q227.241 1064.22 227.241 1055.5 Q227.241 1046.75 230.297 1042.16 Q233.375 1037.56 239.186 1037.56 Z\" fill=\"#000000\" fill-rule=\"nonzero\" fill-opacity=\"1\" /><path clip-path=\"url(#clip750)\" d=\"M261.154 1029.78 Q258.597 1029.78 257.092 1031.53 Q255.606 1033.27 255.606 1036.32 Q255.606 1039.35 257.092 1041.12 Q258.597 1042.87 261.154 1042.87 Q263.712 1042.87 265.198 1041.12 Q266.703 1039.35 266.703 1036.32 Q266.703 1033.27 265.198 1031.53 Q263.712 1029.78 261.154 1029.78 M268.696 1017.87 L268.696 1021.33 Q267.267 1020.65 265.8 1020.3 Q264.352 1019.94 262.922 1019.94 Q259.161 1019.94 257.167 1022.48 Q255.192 1025.02 254.91 1030.15 Q256.02 1028.52 257.694 1027.65 Q259.368 1026.77 261.38 1026.77 Q265.612 1026.77 268.057 1029.34 Q270.521 1031.9 270.521 1036.32 Q270.521 1040.65 267.963 1043.26 Q265.405 1045.88 261.154 1045.88 Q256.283 1045.88 253.707 1042.15 Q251.13 1038.41 251.13 1031.32 Q251.13 1024.66 254.29 1020.71 Q257.449 1016.74 262.772 1016.74 Q264.201 1016.74 265.65 1017.02 Q267.117 1017.31 268.696 1017.87 Z\" fill=\"#000000\" fill-rule=\"nonzero\" fill-opacity=\"1\" /><path clip-path=\"url(#clip750)\" d=\"M64.3254 851.643 Q61.1773 851.643 59.3254 853.796 Q57.4967 855.949 57.4967 859.699 Q57.4967 863.425 59.3254 865.601 Q61.1773 867.754 64.3254 867.754 Q67.4735 867.754 69.3022 865.601 Q71.1541 863.425 71.1541 859.699 Q71.1541 855.949 69.3022 853.796 Q67.4735 851.643 64.3254 851.643 M73.6077 836.99 L73.6077 841.25 Q71.8485 840.416 70.0429 839.976 Q68.2606 839.537 66.5013 839.537 Q61.8717 839.537 59.418 842.662 Q56.9875 845.787 56.6402 852.106 Q58.006 850.092 60.0662 849.027 Q62.1263 847.939 64.6032 847.939 Q69.8115 847.939 72.8207 851.111 Q75.8531 854.259 75.8531 859.699 Q75.8531 865.023 72.705 868.24 Q69.5568 871.458 64.3254 871.458 Q58.33 871.458 55.1588 866.874 Q51.9875 862.268 51.9875 853.541 Q51.9875 845.347 55.8764 840.486 Q59.7652 835.601 66.3161 835.601 Q68.0754 835.601 69.8578 835.949 Q71.6633 836.296 73.6077 836.99 Z\" fill=\"#000000\" fill-rule=\"nonzero\" fill-opacity=\"1\" /><path clip-path=\"url(#clip750)\" d=\"M83.9086 864.907 L88.7928 864.907 L88.7928 870.786 L83.9086 870.786 L83.9086 864.907 Z\" fill=\"#000000\" fill-rule=\"nonzero\" fill-opacity=\"1\" /><path clip-path=\"url(#clip750)\" d=\"M108.978 839.305 Q105.367 839.305 103.538 842.87 Q101.733 846.412 101.733 853.541 Q101.733 860.648 103.538 864.212 Q105.367 867.754 108.978 867.754 Q112.612 867.754 114.418 864.212 Q116.246 860.648 116.246 853.541 Q116.246 846.412 114.418 842.87 Q112.612 839.305 108.978 839.305 M108.978 835.601 Q114.788 835.601 117.844 840.208 Q120.922 844.791 120.922 853.541 Q120.922 862.268 117.844 866.874 Q114.788 871.458 108.978 871.458 Q103.168 871.458 100.089 866.874 Q97.0335 862.268 97.0335 853.541 Q97.0335 844.791 100.089 840.208 Q103.168 835.601 108.978 835.601 Z\" fill=\"#000000\" fill-rule=\"nonzero\" fill-opacity=\"1\" /><path clip-path=\"url(#clip750)\" d=\"M139.14 839.305 Q135.529 839.305 133.7 842.87 Q131.894 846.412 131.894 853.541 Q131.894 860.648 133.7 864.212 Q135.529 867.754 139.14 867.754 Q142.774 867.754 144.58 864.212 Q146.408 860.648 146.408 853.541 Q146.408 846.412 144.58 842.87 Q142.774 839.305 139.14 839.305 M139.14 835.601 Q144.95 835.601 148.005 840.208 Q151.084 844.791 151.084 853.541 Q151.084 862.268 148.005 866.874 Q144.95 871.458 139.14 871.458 Q133.33 871.458 130.251 866.874 Q127.195 862.268 127.195 853.541 Q127.195 844.791 130.251 840.208 Q133.33 835.601 139.14 835.601 Z\" fill=\"#000000\" fill-rule=\"nonzero\" fill-opacity=\"1\" /><path clip-path=\"url(#clip750)\" d=\"M187.473 845.324 L176.894 855.949 L187.473 866.527 L184.718 869.328 L174.093 858.703 L163.468 869.328 L160.737 866.527 L171.292 855.949 L160.737 845.324 L163.468 842.523 L174.093 853.148 L184.718 842.523 L187.473 845.324 Z\" fill=\"#000000\" fill-rule=\"nonzero\" fill-opacity=\"1\" /><path clip-path=\"url(#clip750)\" d=\"M199.834 866.851 L207.473 866.851 L207.473 840.486 L199.163 842.152 L199.163 837.893 L207.426 836.226 L212.102 836.226 L212.102 866.851 L219.741 866.851 L219.741 870.786 L199.834 870.786 L199.834 866.851 Z\" fill=\"#000000\" fill-rule=\"nonzero\" fill-opacity=\"1\" /><path clip-path=\"url(#clip750)\" d=\"M239.186 839.305 Q235.574 839.305 233.746 842.87 Q231.94 846.412 231.94 853.541 Q231.94 860.648 233.746 864.212 Q235.574 867.754 239.186 867.754 Q242.82 867.754 244.625 864.212 Q246.454 860.648 246.454 853.541 Q246.454 846.412 244.625 842.87 Q242.82 839.305 239.186 839.305 M239.186 835.601 Q244.996 835.601 248.051 840.208 Q251.13 844.791 251.13 853.541 Q251.13 862.268 248.051 866.874 Q244.996 871.458 239.186 871.458 Q233.375 871.458 230.297 866.874 Q227.241 862.268 227.241 853.541 Q227.241 844.791 230.297 840.208 Q233.375 835.601 239.186 835.601 Z\" fill=\"#000000\" fill-rule=\"nonzero\" fill-opacity=\"1\" /><path clip-path=\"url(#clip750)\" d=\"M261.154 827.822 Q258.597 827.822 257.092 829.571 Q255.606 831.32 255.606 834.367 Q255.606 837.395 257.092 839.163 Q258.597 840.912 261.154 840.912 Q263.712 840.912 265.198 839.163 Q266.703 837.395 266.703 834.367 Q266.703 831.32 265.198 829.571 Q263.712 827.822 261.154 827.822 M268.696 815.917 L268.696 819.377 Q267.267 818.7 265.8 818.343 Q264.352 817.986 262.922 817.986 Q259.161 817.986 257.167 820.525 Q255.192 823.064 254.91 828.198 Q256.02 826.562 257.694 825.697 Q259.368 824.813 261.38 824.813 Q265.612 824.813 268.057 827.389 Q270.521 829.947 270.521 834.367 Q270.521 838.693 267.963 841.307 Q265.405 843.922 261.154 843.922 Q256.283 843.922 253.707 840.198 Q251.13 836.455 251.13 829.364 Q251.13 822.706 254.29 818.757 Q257.449 814.788 262.772 814.788 Q264.201 814.788 265.65 815.07 Q267.117 815.353 268.696 815.917 Z\" fill=\"#000000\" fill-rule=\"nonzero\" fill-opacity=\"1\" /><path clip-path=\"url(#clip750)\" d=\"M63.7467 652.42 Q60.4134 652.42 58.4921 654.203 Q56.5939 655.985 56.5939 659.11 Q56.5939 662.235 58.4921 664.017 Q60.4134 665.8 63.7467 665.8 Q67.08 665.8 69.0013 664.017 Q70.9226 662.212 70.9226 659.11 Q70.9226 655.985 69.0013 654.203 Q67.1032 652.42 63.7467 652.42 M59.0708 650.429 Q56.0615 649.689 54.3717 647.629 Q52.7051 645.568 52.7051 642.605 Q52.7051 638.462 55.6449 636.055 Q58.6078 633.647 63.7467 633.647 Q68.9087 633.647 71.8485 636.055 Q74.7883 638.462 74.7883 642.605 Q74.7883 645.568 73.0985 647.629 Q71.4318 649.689 68.4457 650.429 Q71.8253 651.216 73.7003 653.508 Q75.5985 655.8 75.5985 659.11 Q75.5985 664.133 72.5198 666.818 Q69.4642 669.503 63.7467 669.503 Q58.0291 669.503 54.9504 666.818 Q51.8949 664.133 51.8949 659.11 Q51.8949 655.8 53.793 653.508 Q55.6912 651.216 59.0708 650.429 M57.3578 643.045 Q57.3578 645.73 59.0245 647.235 Q60.7143 648.74 63.7467 648.74 Q66.7559 648.74 68.4457 647.235 Q70.1587 645.73 70.1587 643.045 Q70.1587 640.36 68.4457 638.855 Q66.7559 637.351 63.7467 637.351 Q60.7143 637.351 59.0245 638.855 Q57.3578 640.36 57.3578 643.045 Z\" fill=\"#000000\" fill-rule=\"nonzero\" fill-opacity=\"1\" /><path clip-path=\"url(#clip750)\" d=\"M83.9086 662.953 L88.7928 662.953 L88.7928 668.832 L83.9086 668.832 L83.9086 662.953 Z\" fill=\"#000000\" fill-rule=\"nonzero\" fill-opacity=\"1\" /><path clip-path=\"url(#clip750)\" d=\"M108.978 637.351 Q105.367 637.351 103.538 640.916 Q101.733 644.457 101.733 651.587 Q101.733 658.693 103.538 662.258 Q105.367 665.8 108.978 665.8 Q112.612 665.8 114.418 662.258 Q116.246 658.693 116.246 651.587 Q116.246 644.457 114.418 640.916 Q112.612 637.351 108.978 637.351 M108.978 633.647 Q114.788 633.647 117.844 638.254 Q120.922 642.837 120.922 651.587 Q120.922 660.314 117.844 664.92 Q114.788 669.503 108.978 669.503 Q103.168 669.503 100.089 664.92 Q97.0335 660.314 97.0335 651.587 Q97.0335 642.837 100.089 638.254 Q103.168 633.647 108.978 633.647 Z\" fill=\"#000000\" fill-rule=\"nonzero\" fill-opacity=\"1\" /><path clip-path=\"url(#clip750)\" d=\"M139.14 637.351 Q135.529 637.351 133.7 640.916 Q131.894 644.457 131.894 651.587 Q131.894 658.693 133.7 662.258 Q135.529 665.8 139.14 665.8 Q142.774 665.8 144.58 662.258 Q146.408 658.693 146.408 651.587 Q146.408 644.457 144.58 640.916 Q142.774 637.351 139.14 637.351 M139.14 633.647 Q144.95 633.647 148.005 638.254 Q151.084 642.837 151.084 651.587 Q151.084 660.314 148.005 664.92 Q144.95 669.503 139.14 669.503 Q133.33 669.503 130.251 664.92 Q127.195 660.314 127.195 651.587 Q127.195 642.837 130.251 638.254 Q133.33 633.647 139.14 633.647 Z\" fill=\"#000000\" fill-rule=\"nonzero\" fill-opacity=\"1\" /><path clip-path=\"url(#clip750)\" d=\"M187.473 643.369 L176.894 653.994 L187.473 664.573 L184.718 667.374 L174.093 656.749 L163.468 667.374 L160.737 664.573 L171.292 653.994 L160.737 643.369 L163.468 640.568 L174.093 651.193 L184.718 640.568 L187.473 643.369 Z\" fill=\"#000000\" fill-rule=\"nonzero\" fill-opacity=\"1\" /><path clip-path=\"url(#clip750)\" d=\"M199.834 664.897 L207.473 664.897 L207.473 638.531 L199.163 640.198 L199.163 635.939 L207.426 634.272 L212.102 634.272 L212.102 664.897 L219.741 664.897 L219.741 668.832 L199.834 668.832 L199.834 664.897 Z\" fill=\"#000000\" fill-rule=\"nonzero\" fill-opacity=\"1\" /><path clip-path=\"url(#clip750)\" d=\"M239.186 637.351 Q235.574 637.351 233.746 640.916 Q231.94 644.457 231.94 651.587 Q231.94 658.693 233.746 662.258 Q235.574 665.8 239.186 665.8 Q242.82 665.8 244.625 662.258 Q246.454 658.693 246.454 651.587 Q246.454 644.457 244.625 640.916 Q242.82 637.351 239.186 637.351 M239.186 633.647 Q244.996 633.647 248.051 638.254 Q251.13 642.837 251.13 651.587 Q251.13 660.314 248.051 664.92 Q244.996 669.503 239.186 669.503 Q233.375 669.503 230.297 664.92 Q227.241 660.314 227.241 651.587 Q227.241 642.837 230.297 638.254 Q233.375 633.647 239.186 633.647 Z\" fill=\"#000000\" fill-rule=\"nonzero\" fill-opacity=\"1\" /><path clip-path=\"url(#clip750)\" d=\"M261.154 625.868 Q258.597 625.868 257.092 627.617 Q255.606 629.366 255.606 632.413 Q255.606 635.441 257.092 637.209 Q258.597 638.958 261.154 638.958 Q263.712 638.958 265.198 637.209 Q266.703 635.441 266.703 632.413 Q266.703 629.366 265.198 627.617 Q263.712 625.868 261.154 625.868 M268.696 613.962 L268.696 617.423 Q267.267 616.746 265.8 616.389 Q264.352 616.031 262.922 616.031 Q259.161 616.031 257.167 618.57 Q255.192 621.109 254.91 626.244 Q256.02 624.608 257.694 623.742 Q259.368 622.858 261.38 622.858 Q265.612 622.858 268.057 625.435 Q270.521 627.993 270.521 632.413 Q270.521 636.739 267.963 639.353 Q265.405 641.967 261.154 641.967 Q256.283 641.967 253.707 638.243 Q251.13 634.5 251.13 627.41 Q251.13 620.752 254.29 616.802 Q257.449 612.834 262.772 612.834 Q264.201 612.834 265.65 613.116 Q267.117 613.398 268.696 613.962 Z\" fill=\"#000000\" fill-rule=\"nonzero\" fill-opacity=\"1\" /><path clip-path=\"url(#clip750)\" d=\"M55.8923 462.943 L63.5311 462.943 L63.5311 436.577 L55.221 438.244 L55.221 433.984 L63.4848 432.318 L68.1607 432.318 L68.1607 462.943 L75.7996 462.943 L75.7996 466.878 L55.8923 466.878 L55.8923 462.943 Z\" fill=\"#000000\" fill-rule=\"nonzero\" fill-opacity=\"1\" /><path clip-path=\"url(#clip750)\" d=\"M85.244 460.998 L90.1282 460.998 L90.1282 466.878 L85.244 466.878 L85.244 460.998 Z\" fill=\"#000000\" fill-rule=\"nonzero\" fill-opacity=\"1\" /><path clip-path=\"url(#clip750)\" d=\"M110.313 435.396 Q106.702 435.396 104.873 438.961 Q103.068 442.503 103.068 449.633 Q103.068 456.739 104.873 460.304 Q106.702 463.845 110.313 463.845 Q113.948 463.845 115.753 460.304 Q117.582 456.739 117.582 449.633 Q117.582 442.503 115.753 438.961 Q113.948 435.396 110.313 435.396 M110.313 431.693 Q116.123 431.693 119.179 436.299 Q122.258 440.883 122.258 449.633 Q122.258 458.359 119.179 462.966 Q116.123 467.549 110.313 467.549 Q104.503 467.549 101.424 462.966 Q98.3689 458.359 98.3689 449.633 Q98.3689 440.883 101.424 436.299 Q104.503 431.693 110.313 431.693 Z\" fill=\"#000000\" fill-rule=\"nonzero\" fill-opacity=\"1\" /><path clip-path=\"url(#clip750)\" d=\"M140.475 435.396 Q136.864 435.396 135.035 438.961 Q133.23 442.503 133.23 449.633 Q133.23 456.739 135.035 460.304 Q136.864 463.845 140.475 463.845 Q144.109 463.845 145.915 460.304 Q147.744 456.739 147.744 449.633 Q147.744 442.503 145.915 438.961 Q144.109 435.396 140.475 435.396 M140.475 431.693 Q146.285 431.693 149.341 436.299 Q152.42 440.883 152.42 449.633 Q152.42 458.359 149.341 462.966 Q146.285 467.549 140.475 467.549 Q134.665 467.549 131.586 462.966 Q128.531 458.359 128.531 449.633 Q128.531 440.883 131.586 436.299 Q134.665 431.693 140.475 431.693 Z\" fill=\"#000000\" fill-rule=\"nonzero\" fill-opacity=\"1\" /><path clip-path=\"url(#clip750)\" d=\"M188.808 441.415 L178.23 452.04 L188.808 462.619 L186.054 465.419 L175.429 454.795 L164.804 465.419 L162.072 462.619 L172.628 452.04 L162.072 441.415 L164.804 438.614 L175.429 449.239 L186.054 438.614 L188.808 441.415 Z\" fill=\"#000000\" fill-rule=\"nonzero\" fill-opacity=\"1\" /><path clip-path=\"url(#clip750)\" d=\"M201.169 462.943 L208.808 462.943 L208.808 436.577 L200.498 438.244 L200.498 433.984 L208.762 432.318 L213.438 432.318 L213.438 462.943 L221.077 462.943 L221.077 466.878 L201.169 466.878 L201.169 462.943 Z\" fill=\"#000000\" fill-rule=\"nonzero\" fill-opacity=\"1\" /><path clip-path=\"url(#clip750)\" d=\"M240.521 435.396 Q236.91 435.396 235.081 438.961 Q233.276 442.503 233.276 449.633 Q233.276 456.739 235.081 460.304 Q236.91 463.845 240.521 463.845 Q244.155 463.845 245.961 460.304 Q247.789 456.739 247.789 449.633 Q247.789 442.503 245.961 438.961 Q244.155 435.396 240.521 435.396 M240.521 431.693 Q246.331 431.693 249.387 436.299 Q252.465 440.883 252.465 449.633 Q252.465 458.359 249.387 462.966 Q246.331 467.549 240.521 467.549 Q234.711 467.549 231.632 462.966 Q228.577 458.359 228.577 449.633 Q228.577 440.883 231.632 436.299 Q234.711 431.693 240.521 431.693 Z\" fill=\"#000000\" fill-rule=\"nonzero\" fill-opacity=\"1\" /><path clip-path=\"url(#clip750)\" d=\"M252.465 411.387 L270.521 411.387 L270.521 413.005 L260.327 439.467 L256.359 439.467 L265.95 414.585 L252.465 414.585 L252.465 411.387 Z\" fill=\"#000000\" fill-rule=\"nonzero\" fill-opacity=\"1\" /><path clip-path=\"url(#clip750)\" d=\"M55.8923 260.988 L63.5311 260.988 L63.5311 234.623 L55.221 236.289 L55.221 232.03 L63.4848 230.363 L68.1607 230.363 L68.1607 260.988 L75.7996 260.988 L75.7996 264.923 L55.8923 264.923 L55.8923 260.988 Z\" fill=\"#000000\" fill-rule=\"nonzero\" fill-opacity=\"1\" /><path clip-path=\"url(#clip750)\" d=\"M85.244 259.044 L90.1282 259.044 L90.1282 264.923 L85.244 264.923 L85.244 259.044 Z\" fill=\"#000000\" fill-rule=\"nonzero\" fill-opacity=\"1\" /><path clip-path=\"url(#clip750)\" d=\"M104.341 260.988 L120.66 260.988 L120.66 264.923 L98.7161 264.923 L98.7161 260.988 Q101.378 258.234 105.961 253.604 Q110.568 248.951 111.748 247.609 Q113.994 245.086 114.873 243.349 Q115.776 241.59 115.776 239.9 Q115.776 237.146 113.832 235.41 Q111.91 233.674 108.809 233.674 Q106.61 233.674 104.156 234.437 Q101.725 235.201 98.9476 236.752 L98.9476 232.03 Q101.772 230.896 104.225 230.317 Q106.679 229.738 108.716 229.738 Q114.086 229.738 117.281 232.424 Q120.475 235.109 120.475 239.599 Q120.475 241.729 119.665 243.65 Q118.878 245.549 116.772 248.141 Q116.193 248.812 113.091 252.03 Q109.989 255.224 104.341 260.988 Z\" fill=\"#000000\" fill-rule=\"nonzero\" fill-opacity=\"1\" /><path clip-path=\"url(#clip750)\" d=\"M140.475 233.442 Q136.864 233.442 135.035 237.007 Q133.23 240.549 133.23 247.678 Q133.23 254.785 135.035 258.349 Q136.864 261.891 140.475 261.891 Q144.109 261.891 145.915 258.349 Q147.744 254.785 147.744 247.678 Q147.744 240.549 145.915 237.007 Q144.109 233.442 140.475 233.442 M140.475 229.738 Q146.285 229.738 149.341 234.345 Q152.42 238.928 152.42 247.678 Q152.42 256.405 149.341 261.011 Q146.285 265.595 140.475 265.595 Q134.665 265.595 131.586 261.011 Q128.531 256.405 128.531 247.678 Q128.531 238.928 131.586 234.345 Q134.665 229.738 140.475 229.738 Z\" fill=\"#000000\" fill-rule=\"nonzero\" fill-opacity=\"1\" /><path clip-path=\"url(#clip750)\" d=\"M188.808 239.461 L178.23 250.086 L188.808 260.664 L186.054 263.465 L175.429 252.84 L164.804 263.465 L162.072 260.664 L172.628 250.086 L162.072 239.461 L164.804 236.66 L175.429 247.285 L186.054 236.66 L188.808 239.461 Z\" fill=\"#000000\" fill-rule=\"nonzero\" fill-opacity=\"1\" /><path clip-path=\"url(#clip750)\" d=\"M201.169 260.988 L208.808 260.988 L208.808 234.623 L200.498 236.289 L200.498 232.03 L208.762 230.363 L213.438 230.363 L213.438 260.988 L221.077 260.988 L221.077 264.923 L201.169 264.923 L201.169 260.988 Z\" fill=\"#000000\" fill-rule=\"nonzero\" fill-opacity=\"1\" /><path clip-path=\"url(#clip750)\" d=\"M240.521 233.442 Q236.91 233.442 235.081 237.007 Q233.276 240.549 233.276 247.678 Q233.276 254.785 235.081 258.349 Q236.91 261.891 240.521 261.891 Q244.155 261.891 245.961 258.349 Q247.789 254.785 247.789 247.678 Q247.789 240.549 245.961 237.007 Q244.155 233.442 240.521 233.442 M240.521 229.738 Q246.331 229.738 249.387 234.345 Q252.465 238.928 252.465 247.678 Q252.465 256.405 249.387 261.011 Q246.331 265.595 240.521 265.595 Q234.711 265.595 231.632 261.011 Q228.577 256.405 228.577 247.678 Q228.577 238.928 231.632 234.345 Q234.711 229.738 240.521 229.738 Z\" fill=\"#000000\" fill-rule=\"nonzero\" fill-opacity=\"1\" /><path clip-path=\"url(#clip750)\" d=\"M252.465 209.433 L270.521 209.433 L270.521 211.051 L260.327 237.513 L256.359 237.513 L265.95 212.63 L252.465 212.63 L252.465 209.433 Z\" fill=\"#000000\" fill-rule=\"nonzero\" fill-opacity=\"1\" /><path clip-path=\"url(#clip750)\" d=\"M1186.52 28.5427 L1186.52 35.5912 Q1183.36 33.9709 1179.96 33.1607 Q1176.55 32.3505 1172.91 32.3505 Q1167.36 32.3505 1164.56 34.0519 Q1161.81 35.7533 1161.81 39.156 Q1161.81 41.7486 1163.79 43.2475 Q1165.78 44.7058 1171.77 46.0426 L1174.33 46.6097 Q1182.27 48.3111 1185.59 51.4303 Q1188.95 54.509 1188.95 60.0587 Q1188.95 66.3781 1183.93 70.0644 Q1178.94 73.7508 1170.19 73.7508 Q1166.55 73.7508 1162.58 73.0216 Q1158.65 72.3329 1154.27 70.9151 L1154.27 63.2184 Q1158.41 65.3654 1162.42 66.4591 Q1166.43 67.5124 1170.36 67.5124 Q1175.62 67.5124 1178.46 65.73 Q1181.29 63.9071 1181.29 60.6258 Q1181.29 57.5877 1179.23 55.9673 Q1177.2 54.3469 1170.28 52.8481 L1167.68 52.2405 Q1160.76 50.7821 1157.68 47.7845 Q1154.6 44.7463 1154.6 39.4801 Q1154.6 33.0797 1159.14 29.5959 Q1163.67 26.1121 1172.02 26.1121 Q1176.15 26.1121 1179.8 26.7198 Q1183.44 27.3274 1186.52 28.5427 Z\" fill=\"#000000\" fill-rule=\"nonzero\" fill-opacity=\"1\" /><path clip-path=\"url(#clip750)\" d=\"M1208.19 14.324 L1208.19 27.2059 L1223.55 27.2059 L1223.55 32.9987 L1208.19 32.9987 L1208.19 57.6282 Q1208.19 63.1779 1209.69 64.7578 Q1211.23 66.3376 1215.89 66.3376 L1223.55 66.3376 L1223.55 72.576 L1215.89 72.576 Q1207.26 72.576 1203.98 69.3758 Q1200.7 66.1351 1200.7 57.6282 L1200.7 32.9987 L1195.23 32.9987 L1195.23 27.2059 L1200.7 27.2059 L1200.7 14.324 L1208.19 14.324 Z\" fill=\"#000000\" fill-rule=\"nonzero\" fill-opacity=\"1\" /><path clip-path=\"url(#clip750)\" d=\"M1253.97 49.7694 Q1244.93 49.7694 1241.45 51.8354 Q1237.97 53.9013 1237.97 58.8839 Q1237.97 62.8538 1240.56 65.2034 Q1243.19 67.5124 1247.69 67.5124 Q1253.89 67.5124 1257.61 63.1374 Q1261.38 58.7219 1261.38 51.4303 L1261.38 49.7694 L1253.97 49.7694 M1268.83 46.6907 L1268.83 72.576 L1261.38 72.576 L1261.38 65.6895 Q1258.83 69.8214 1255.02 71.8063 Q1251.21 73.7508 1245.7 73.7508 Q1238.74 73.7508 1234.6 69.8619 Q1230.51 65.9325 1230.51 59.3701 Q1230.51 51.7138 1235.62 47.825 Q1240.76 43.9361 1250.93 43.9361 L1261.38 43.9361 L1261.38 43.2069 Q1261.38 38.0623 1257.98 35.2672 Q1254.62 32.4315 1248.5 32.4315 Q1244.61 32.4315 1240.92 33.3632 Q1237.24 34.295 1233.83 36.1584 L1233.83 29.2718 Q1237.93 27.692 1241.77 26.9223 Q1245.62 26.1121 1249.27 26.1121 Q1259.11 26.1121 1263.97 31.2163 Q1268.83 36.3204 1268.83 46.6907 Z\" fill=\"#000000\" fill-rule=\"nonzero\" fill-opacity=\"1\" /><path clip-path=\"url(#clip750)\" d=\"M1291.56 14.324 L1291.56 27.2059 L1306.91 27.2059 L1306.91 32.9987 L1291.56 32.9987 L1291.56 57.6282 Q1291.56 63.1779 1293.06 64.7578 Q1294.6 66.3376 1299.26 66.3376 L1306.91 66.3376 L1306.91 72.576 L1299.26 72.576 Q1290.63 72.576 1287.35 69.3758 Q1284.07 66.1351 1284.07 57.6282 L1284.07 32.9987 L1278.6 32.9987 L1278.6 27.2059 L1284.07 27.2059 L1284.07 14.324 L1291.56 14.324 Z\" fill=\"#000000\" fill-rule=\"nonzero\" fill-opacity=\"1\" /><path clip-path=\"url(#clip750)\" d=\"M1355.52 48.0275 L1355.52 51.6733 L1321.25 51.6733 Q1321.74 59.3701 1325.87 63.421 Q1330.04 67.4314 1337.46 67.4314 Q1341.75 67.4314 1345.76 66.3781 Q1349.81 65.3249 1353.78 63.2184 L1353.78 70.267 Q1349.77 71.9684 1345.56 72.8596 Q1341.35 73.7508 1337.01 73.7508 Q1326.15 73.7508 1319.79 67.4314 Q1313.48 61.1119 1313.48 50.3365 Q1313.48 39.1965 1319.47 32.6746 Q1325.51 26.1121 1335.71 26.1121 Q1344.87 26.1121 1350.18 32.0264 Q1355.52 37.9003 1355.52 48.0275 M1348.07 45.84 Q1347.99 39.7232 1344.63 36.0774 Q1341.3 32.4315 1335.8 32.4315 Q1329.56 32.4315 1325.79 35.9558 Q1322.06 39.4801 1321.5 45.8805 L1348.07 45.84 Z\" fill=\"#000000\" fill-rule=\"nonzero\" fill-opacity=\"1\" /><path clip-path=\"url(#clip750)\" d=\"M1394.45 12.096 L1406.65 12.096 L1422.08 53.2532 L1437.59 12.096 L1449.79 12.096 L1449.79 72.576 L1441.81 72.576 L1441.81 19.4686 L1426.21 60.9499 L1417.99 60.9499 L1402.39 19.4686 L1402.39 72.576 L1394.45 72.576 L1394.45 12.096 Z\" fill=\"#000000\" fill-rule=\"nonzero\" fill-opacity=\"1\" /><path clip-path=\"url(#clip750)\" d=\"M1466.03 12.096 L1504.27 12.096 L1504.27 18.9825 L1474.22 18.9825 L1474.22 36.8875 L1503.02 36.8875 L1503.02 43.7741 L1474.22 43.7741 L1474.22 65.6895 L1505 65.6895 L1505 72.576 L1466.03 72.576 L1466.03 12.096 Z\" fill=\"#000000\" fill-rule=\"nonzero\" fill-opacity=\"1\" /><polyline clip-path=\"url(#clip752)\" style=\"stroke:#009af9; stroke-linecap:round; stroke-linejoin:round; stroke-width:4; stroke-opacity:1; fill:none\" points=\"364.433,1408.4 578.923,1348.23 793.413,1339.26 1007.9,1332.89 1222.39,1291.6 1436.88,1021.32 1651.37,1004.61 1865.86,998.433 2080.35,990.1 2294.84,986.877 \"/>\n",
       "<polyline clip-path=\"url(#clip752)\" style=\"stroke:#e26f46; stroke-linecap:round; stroke-linejoin:round; stroke-width:4; stroke-opacity:1; fill:none\" points=\"364.433,1366.5 578.923,1281.15 793.413,1196.43 1007.9,1113.56 1222.39,1032.5 1436.88,952.378 1651.37,867.93 1865.86,784.987 2080.35,703.713 2294.84,623.991 \"/>\n",
       "<polyline clip-path=\"url(#clip752)\" style=\"stroke:#3da44d; stroke-linecap:round; stroke-linejoin:round; stroke-width:4; stroke-opacity:1; fill:none\" points=\"364.433,1311.21 578.923,1174.55 793.413,1042.94 1007.9,916.376 1222.39,794.862 1436.88,678.397 1651.37,556.883 1865.86,430.32 2080.35,298.708 2294.84,162.047 \"/>\n",
       "<polyline clip-path=\"url(#clip752)\" style=\"stroke:#c271d2; stroke-linecap:round; stroke-linejoin:round; stroke-width:4; stroke-opacity:1; fill:none\" points=\"364.433,1447.87 578.923,1447.87 793.413,1447.87 1007.9,1447.87 1222.39,1447.87 1436.88,1442.82 1651.37,1442.82 1865.86,1442.82 2080.35,1440.3 2294.84,1440.3 \"/>\n",
       "<path clip-path=\"url(#clip750)\" d=\"M374.729 428.105 L826.804 428.105 L826.804 168.905 L374.729 168.905  Z\" fill=\"#ffffff\" fill-rule=\"evenodd\" fill-opacity=\"1\"/>\n",
       "<polyline clip-path=\"url(#clip750)\" style=\"stroke:#000000; stroke-linecap:round; stroke-linejoin:round; stroke-width:4; stroke-opacity:1; fill:none\" points=\"374.729,428.105 826.804,428.105 826.804,168.905 374.729,168.905 374.729,428.105 \"/>\n",
       "<polyline clip-path=\"url(#clip750)\" style=\"stroke:#009af9; stroke-linecap:round; stroke-linejoin:round; stroke-width:4; stroke-opacity:1; fill:none\" points=\"397.465,220.745 533.88,220.745 \"/>\n",
       "<path clip-path=\"url(#clip750)\" d=\"M570.019 224.992 Q564.857 224.992 562.866 226.173 Q560.875 227.353 560.875 230.201 Q560.875 232.469 562.357 233.812 Q563.861 235.131 566.431 235.131 Q569.973 235.131 572.102 232.631 Q574.255 230.108 574.255 225.941 L574.255 224.992 L570.019 224.992 M578.514 223.233 L578.514 238.025 L574.255 238.025 L574.255 234.089 Q572.797 236.451 570.621 237.585 Q568.445 238.696 565.297 238.696 Q561.315 238.696 558.954 236.474 Q556.616 234.228 556.616 230.478 Q556.616 226.103 559.533 223.881 Q562.473 221.659 568.283 221.659 L574.255 221.659 L574.255 221.242 Q574.255 218.303 572.311 216.705 Q570.389 215.085 566.894 215.085 Q564.672 215.085 562.565 215.617 Q560.459 216.15 558.514 217.215 L558.514 213.279 Q560.852 212.377 563.051 211.937 Q565.25 211.474 567.334 211.474 Q572.959 211.474 575.736 214.391 Q578.514 217.307 578.514 223.233 Z\" fill=\"#000000\" fill-rule=\"nonzero\" fill-opacity=\"1\" /><path clip-path=\"url(#clip750)\" d=\"M605.945 213.094 L605.945 217.076 Q604.139 216.08 602.31 215.594 Q600.505 215.085 598.653 215.085 Q594.509 215.085 592.218 217.724 Q589.926 220.34 589.926 225.085 Q589.926 229.83 592.218 232.469 Q594.509 235.085 598.653 235.085 Q600.505 235.085 602.31 234.599 Q604.139 234.089 605.945 233.094 L605.945 237.029 Q604.162 237.863 602.241 238.279 Q600.343 238.696 598.19 238.696 Q592.334 238.696 588.885 235.015 Q585.435 231.335 585.435 225.085 Q585.435 218.742 588.908 215.108 Q592.403 211.474 598.468 211.474 Q600.435 211.474 602.31 211.891 Q604.185 212.284 605.945 213.094 Z\" fill=\"#000000\" fill-rule=\"nonzero\" fill-opacity=\"1\" /><path clip-path=\"url(#clip750)\" d=\"M617.565 204.738 L617.565 212.099 L626.338 212.099 L626.338 215.409 L617.565 215.409 L617.565 229.483 Q617.565 232.654 618.421 233.557 Q619.301 234.46 621.963 234.46 L626.338 234.46 L626.338 238.025 L621.963 238.025 Q617.033 238.025 615.158 236.196 Q613.283 234.344 613.283 229.483 L613.283 215.409 L610.158 215.409 L610.158 212.099 L613.283 212.099 L613.283 204.738 L617.565 204.738 Z\" fill=\"#000000\" fill-rule=\"nonzero\" fill-opacity=\"1\" /><path clip-path=\"url(#clip750)\" d=\"M631.5 227.793 L631.5 212.099 L635.759 212.099 L635.759 227.631 Q635.759 231.312 637.194 233.164 Q638.63 234.992 641.5 234.992 Q644.949 234.992 646.94 232.793 Q648.954 230.594 648.954 226.798 L648.954 212.099 L653.213 212.099 L653.213 238.025 L648.954 238.025 L648.954 234.043 Q647.403 236.404 645.343 237.562 Q643.306 238.696 640.597 238.696 Q636.13 238.696 633.815 235.918 Q631.5 233.14 631.5 227.793 M642.218 211.474 L642.218 211.474 Z\" fill=\"#000000\" fill-rule=\"nonzero\" fill-opacity=\"1\" /><path clip-path=\"url(#clip750)\" d=\"M673.768 224.992 Q668.606 224.992 666.616 226.173 Q664.625 227.353 664.625 230.201 Q664.625 232.469 666.106 233.812 Q667.611 235.131 670.18 235.131 Q673.722 235.131 675.852 232.631 Q678.004 230.108 678.004 225.941 L678.004 224.992 L673.768 224.992 M682.264 223.233 L682.264 238.025 L678.004 238.025 L678.004 234.089 Q676.546 236.451 674.37 237.585 Q672.194 238.696 669.046 238.696 Q665.065 238.696 662.704 236.474 Q660.366 234.228 660.366 230.478 Q660.366 226.103 663.282 223.881 Q666.222 221.659 672.032 221.659 L678.004 221.659 L678.004 221.242 Q678.004 218.303 676.06 216.705 Q674.139 215.085 670.643 215.085 Q668.421 215.085 666.315 215.617 Q664.208 216.15 662.264 217.215 L662.264 213.279 Q664.602 212.377 666.801 211.937 Q669 211.474 671.083 211.474 Q676.708 211.474 679.486 214.391 Q682.264 217.307 682.264 223.233 Z\" fill=\"#000000\" fill-rule=\"nonzero\" fill-opacity=\"1\" /><path clip-path=\"url(#clip750)\" d=\"M691.037 202.006 L695.296 202.006 L695.296 238.025 L691.037 238.025 L691.037 202.006 Z\" fill=\"#000000\" fill-rule=\"nonzero\" fill-opacity=\"1\" /><path clip-path=\"url(#clip750)\" d=\"M719.277 202.006 L723.537 202.006 L723.537 238.025 L719.277 238.025 L719.277 202.006 Z\" fill=\"#000000\" fill-rule=\"nonzero\" fill-opacity=\"1\" /><path clip-path=\"url(#clip750)\" d=\"M742.495 215.085 Q739.069 215.085 737.078 217.77 Q735.087 220.432 735.087 225.085 Q735.087 229.738 737.055 232.423 Q739.046 235.085 742.495 235.085 Q745.898 235.085 747.888 232.4 Q749.879 229.715 749.879 225.085 Q749.879 220.478 747.888 217.793 Q745.898 215.085 742.495 215.085 M742.495 211.474 Q748.05 211.474 751.222 215.085 Q754.393 218.696 754.393 225.085 Q754.393 231.451 751.222 235.085 Q748.05 238.696 742.495 238.696 Q736.916 238.696 733.745 235.085 Q730.597 231.451 730.597 225.085 Q730.597 218.696 733.745 215.085 Q736.916 211.474 742.495 211.474 Z\" fill=\"#000000\" fill-rule=\"nonzero\" fill-opacity=\"1\" /><path clip-path=\"url(#clip750)\" d=\"M777.981 212.863 L777.981 216.891 Q776.175 215.965 774.231 215.502 Q772.286 215.039 770.203 215.039 Q767.032 215.039 765.434 216.011 Q763.86 216.983 763.86 218.928 Q763.86 220.409 764.995 221.265 Q766.129 222.099 769.555 222.863 L771.013 223.187 Q775.55 224.159 777.448 225.941 Q779.37 227.701 779.37 230.872 Q779.37 234.483 776.499 236.589 Q773.652 238.696 768.652 238.696 Q766.569 238.696 764.3 238.279 Q762.055 237.886 759.555 237.076 L759.555 232.677 Q761.916 233.904 764.208 234.529 Q766.499 235.131 768.745 235.131 Q771.754 235.131 773.374 234.113 Q774.995 233.071 774.995 231.196 Q774.995 229.46 773.814 228.534 Q772.657 227.608 768.698 226.752 L767.217 226.404 Q763.259 225.571 761.499 223.858 Q759.74 222.122 759.74 219.113 Q759.74 215.455 762.333 213.465 Q764.925 211.474 769.694 211.474 Q772.055 211.474 774.138 211.821 Q776.221 212.168 777.981 212.863 Z\" fill=\"#000000\" fill-rule=\"nonzero\" fill-opacity=\"1\" /><path clip-path=\"url(#clip750)\" d=\"M802.68 212.863 L802.68 216.891 Q800.874 215.965 798.93 215.502 Q796.985 215.039 794.902 215.039 Q791.731 215.039 790.133 216.011 Q788.559 216.983 788.559 218.928 Q788.559 220.409 789.694 221.265 Q790.828 222.099 794.254 222.863 L795.712 223.187 Q800.249 224.159 802.147 225.941 Q804.069 227.701 804.069 230.872 Q804.069 234.483 801.198 236.589 Q798.351 238.696 793.351 238.696 Q791.268 238.696 788.999 238.279 Q786.754 237.886 784.254 237.076 L784.254 232.677 Q786.615 233.904 788.907 234.529 Q791.198 235.131 793.444 235.131 Q796.453 235.131 798.073 234.113 Q799.694 233.071 799.694 231.196 Q799.694 229.46 798.513 228.534 Q797.356 227.608 793.397 226.752 L791.916 226.404 Q787.958 225.571 786.198 223.858 Q784.439 222.122 784.439 219.113 Q784.439 215.455 787.032 213.465 Q789.624 211.474 794.393 211.474 Q796.754 211.474 798.837 211.821 Q800.92 212.168 802.68 212.863 Z\" fill=\"#000000\" fill-rule=\"nonzero\" fill-opacity=\"1\" /><polyline clip-path=\"url(#clip750)\" style=\"stroke:#e26f46; stroke-linecap:round; stroke-linejoin:round; stroke-width:4; stroke-opacity:1; fill:none\" points=\"397.465,272.585 533.88,272.585 \"/>\n",
       "<path clip-path=\"url(#clip750)\" d=\"M575.389 276.925 Q575.389 272.226 573.445 269.564 Q571.523 266.879 568.144 266.879 Q564.764 266.879 562.82 269.564 Q560.899 272.226 560.899 276.925 Q560.899 281.624 562.82 284.309 Q564.764 286.971 568.144 286.971 Q571.523 286.971 573.445 284.309 Q575.389 281.624 575.389 276.925 M560.899 267.874 Q562.241 265.559 564.278 264.448 Q566.338 263.314 569.186 263.314 Q573.908 263.314 576.848 267.064 Q579.81 270.814 579.81 276.925 Q579.81 283.036 576.848 286.786 Q573.908 290.536 569.186 290.536 Q566.338 290.536 564.278 289.425 Q562.241 288.291 560.899 285.976 L560.899 289.865 L556.616 289.865 L556.616 253.846 L560.899 253.846 L560.899 267.874 Z\" fill=\"#000000\" fill-rule=\"nonzero\" fill-opacity=\"1\" /><path clip-path=\"url(#clip750)\" d=\"M598.653 276.832 Q593.491 276.832 591.5 278.013 Q589.51 279.193 589.51 282.041 Q589.51 284.309 590.991 285.652 Q592.496 286.971 595.065 286.971 Q598.607 286.971 600.736 284.471 Q602.889 281.948 602.889 277.781 L602.889 276.832 L598.653 276.832 M607.148 275.073 L607.148 289.865 L602.889 289.865 L602.889 285.929 Q601.431 288.291 599.255 289.425 Q597.079 290.536 593.931 290.536 Q589.949 290.536 587.588 288.314 Q585.25 286.068 585.25 282.318 Q585.25 277.943 588.167 275.721 Q591.107 273.499 596.917 273.499 L602.889 273.499 L602.889 273.082 Q602.889 270.143 600.945 268.545 Q599.023 266.925 595.528 266.925 Q593.306 266.925 591.199 267.457 Q589.093 267.99 587.148 269.055 L587.148 265.119 Q589.486 264.217 591.685 263.777 Q593.884 263.314 595.968 263.314 Q601.593 263.314 604.371 266.231 Q607.148 269.147 607.148 275.073 Z\" fill=\"#000000\" fill-rule=\"nonzero\" fill-opacity=\"1\" /><path clip-path=\"url(#clip750)\" d=\"M632.449 264.703 L632.449 268.731 Q630.644 267.805 628.699 267.342 Q626.755 266.879 624.671 266.879 Q621.5 266.879 619.903 267.851 Q618.329 268.823 618.329 270.768 Q618.329 272.249 619.463 273.105 Q620.597 273.939 624.023 274.703 L625.482 275.027 Q630.019 275.999 631.917 277.781 Q633.838 279.541 633.838 282.712 Q633.838 286.323 630.968 288.429 Q628.12 290.536 623.12 290.536 Q621.037 290.536 618.769 290.119 Q616.523 289.726 614.023 288.916 L614.023 284.517 Q616.384 285.744 618.676 286.369 Q620.968 286.971 623.213 286.971 Q626.222 286.971 627.843 285.953 Q629.463 284.911 629.463 283.036 Q629.463 281.3 628.282 280.374 Q627.125 279.448 623.167 278.592 L621.685 278.244 Q617.727 277.411 615.968 275.698 Q614.208 273.962 614.208 270.953 Q614.208 267.295 616.801 265.305 Q619.394 263.314 624.162 263.314 Q626.523 263.314 628.607 263.661 Q630.69 264.008 632.449 264.703 Z\" fill=\"#000000\" fill-rule=\"nonzero\" fill-opacity=\"1\" /><path clip-path=\"url(#clip750)\" d=\"M662.796 275.837 L662.796 277.92 L643.213 277.92 Q643.491 282.318 645.852 284.633 Q648.236 286.925 652.472 286.925 Q654.926 286.925 657.217 286.323 Q659.532 285.721 661.801 284.517 L661.801 288.545 Q659.509 289.517 657.102 290.027 Q654.694 290.536 652.218 290.536 Q646.014 290.536 642.38 286.925 Q638.768 283.314 638.768 277.156 Q638.768 270.791 642.194 267.064 Q645.643 263.314 651.477 263.314 Q656.708 263.314 659.741 266.693 Q662.796 270.05 662.796 275.837 M658.537 274.587 Q658.491 271.092 656.569 269.008 Q654.671 266.925 651.523 266.925 Q647.958 266.925 645.805 268.939 Q643.676 270.953 643.352 274.61 L658.537 274.587 Z\" fill=\"#000000\" fill-rule=\"nonzero\" fill-opacity=\"1\" /><polyline clip-path=\"url(#clip750)\" style=\"stroke:#3da44d; stroke-linecap:round; stroke-linejoin:round; stroke-width:4; stroke-opacity:1; fill:none\" points=\"397.465,324.425 533.88,324.425 \"/>\n",
       "<path clip-path=\"url(#clip750)\" d=\"M573.005 325.501 Q574.51 326.01 575.922 327.677 Q577.357 329.344 578.792 332.26 L583.537 341.705 L578.514 341.705 L574.093 332.839 Q572.38 329.367 570.76 328.233 Q569.162 327.098 566.385 327.098 L561.292 327.098 L561.292 341.705 L556.616 341.705 L556.616 307.145 L567.172 307.145 Q573.098 307.145 576.014 309.621 Q578.931 312.098 578.931 317.098 Q578.931 320.362 577.403 322.515 Q575.898 324.668 573.005 325.501 M561.292 310.987 L561.292 323.256 L567.172 323.256 Q570.551 323.256 572.264 321.705 Q574 320.131 574 317.098 Q574 314.066 572.264 312.538 Q570.551 310.987 567.172 310.987 L561.292 310.987 Z\" fill=\"#000000\" fill-rule=\"nonzero\" fill-opacity=\"1\" /><path clip-path=\"url(#clip750)\" d=\"M603.584 310.316 Q598.491 310.316 595.482 314.112 Q592.496 317.908 592.496 324.459 Q592.496 330.987 595.482 334.783 Q598.491 338.58 603.584 338.58 Q608.676 338.58 611.639 334.783 Q614.625 330.987 614.625 324.459 Q614.625 317.908 611.639 314.112 Q608.676 310.316 603.584 310.316 M603.584 306.52 Q610.852 306.52 615.204 311.404 Q619.556 316.265 619.556 324.459 Q619.556 332.631 615.204 337.515 Q610.852 342.376 603.584 342.376 Q596.292 342.376 591.917 337.515 Q587.565 332.654 587.565 324.459 Q587.565 316.265 591.917 311.404 Q596.292 306.52 603.584 306.52 Z\" fill=\"#000000\" fill-rule=\"nonzero\" fill-opacity=\"1\" /><polyline clip-path=\"url(#clip750)\" style=\"stroke:#c271d2; stroke-linecap:round; stroke-linejoin:round; stroke-width:4; stroke-opacity:1; fill:none\" points=\"397.465,376.265 533.88,376.265 \"/>\n",
       "<path clip-path=\"url(#clip750)\" d=\"M556.616 358.985 L561.292 358.985 L561.292 389.609 L578.121 389.609 L578.121 393.545 L556.616 393.545 L556.616 358.985 Z\" fill=\"#000000\" fill-rule=\"nonzero\" fill-opacity=\"1\" /><path clip-path=\"url(#clip750)\" d=\"M587.704 362.827 L587.704 375.813 L593.584 375.813 Q596.847 375.813 598.63 374.123 Q600.412 372.434 600.412 369.309 Q600.412 366.207 598.63 364.517 Q596.847 362.827 593.584 362.827 L587.704 362.827 M583.028 358.985 L593.584 358.985 Q599.394 358.985 602.357 361.624 Q605.343 364.239 605.343 369.309 Q605.343 374.424 602.357 377.04 Q599.394 379.656 593.584 379.656 L587.704 379.656 L587.704 393.545 L583.028 393.545 L583.028 358.985 Z\" fill=\"#000000\" fill-rule=\"nonzero\" fill-opacity=\"1\" /></svg>\n"
      ]
     },
     "execution_count": 36,
     "metadata": {},
     "output_type": "execute_result"
    }
   ],
   "source": [
    "x = range(1, 10)\n",
    "i = 49\n",
    "print(state_list[i])\n",
    "act = cumsum(act_loss[i,:])\n",
    "base = cumsum(P_base[i,:])\n",
    "RO= cumsum(P_ro[i,:])\n",
    "LP = cumsum(P_lp[i,:])\n",
    "plot(x, [act,  base, RO, LP], label=[\"actual loss\" \"base\" \"RO\" \"LP\"], title=\"state $(state_list[i])\")"
   ]
  },
  {
   "cell_type": "code",
   "execution_count": 37,
   "metadata": {},
   "outputs": [
    {
     "data": {
      "text/html": [
       "<div><div style = \"float: left;\"><span>15×4 DataFrame</span></div><div style = \"clear: both;\"></div></div><div class = \"data-frame\" style = \"overflow-x: scroll;\"><table class = \"data-frame\" style = \"margin-bottom: 6px;\"><thead><tr class = \"header\"><th class = \"rowNumber\" style = \"font-weight: bold; text-align: right;\">Row</th><th style = \"text-align: left;\">state</th><th style = \"text-align: left;\">LP</th><th style = \"text-align: left;\">Base</th><th style = \"text-align: left;\">RO</th></tr><tr class = \"subheader headerLastRow\"><th class = \"rowNumber\" style = \"font-weight: bold; text-align: right;\"></th><th title = \"String\" style = \"text-align: left;\">String</th><th title = \"Float64\" style = \"text-align: left;\">Float64</th><th title = \"Float64\" style = \"text-align: left;\">Float64</th><th title = \"Float64\" style = \"text-align: left;\">Float64</th></tr></thead><tbody><tr><td class = \"rowNumber\" style = \"font-weight: bold; text-align: right;\">1</td><td style = \"text-align: left;\">LA</td><td style = \"text-align: right;\">-3.72152e9</td><td style = \"text-align: right;\">-3.66873e8</td><td style = \"text-align: right;\">4.01878e9</td></tr><tr><td class = \"rowNumber\" style = \"font-weight: bold; text-align: right;\">2</td><td style = \"text-align: left;\">NY</td><td style = \"text-align: right;\">-2.27566e8</td><td style = \"text-align: right;\">8.63445e8</td><td style = \"text-align: right;\">2.4994e9</td></tr><tr><td class = \"rowNumber\" style = \"font-weight: bold; text-align: right;\">3</td><td style = \"text-align: left;\">NJ</td><td style = \"text-align: right;\">-4.38932e8</td><td style = \"text-align: right;\">7.26014e8</td><td style = \"text-align: right;\">2.35778e9</td></tr><tr><td class = \"rowNumber\" style = \"font-weight: bold; text-align: right;\">4</td><td style = \"text-align: left;\">MS</td><td style = \"text-align: right;\">-1.24497e8</td><td style = \"text-align: right;\">4.11052e8</td><td style = \"text-align: right;\">1.2501e9</td></tr><tr><td class = \"rowNumber\" style = \"font-weight: bold; text-align: right;\">5</td><td style = \"text-align: left;\">CT</td><td style = \"text-align: right;\">-4.24985e7</td><td style = \"text-align: right;\">5.95984e7</td><td style = \"text-align: right;\">1.71721e8</td></tr><tr><td class = \"rowNumber\" style = \"font-weight: bold; text-align: right;\">6</td><td style = \"text-align: left;\">AL</td><td style = \"text-align: right;\">-2.41319e8</td><td style = \"text-align: right;\">-4.49769e7</td><td style = \"text-align: right;\">1.18011e8</td></tr><tr><td class = \"rowNumber\" style = \"font-weight: bold; text-align: right;\">7</td><td style = \"text-align: left;\">ND</td><td style = \"text-align: right;\">-2.09581e6</td><td style = \"text-align: right;\">5.27349e7</td><td style = \"text-align: right;\">1.08682e8</td></tr><tr><td class = \"rowNumber\" style = \"font-weight: bold; text-align: right;\">8</td><td style = \"text-align: left;\">PA</td><td style = \"text-align: right;\">-2.70885e8</td><td style = \"text-align: right;\">-5.16526e7</td><td style = \"text-align: right;\">9.94224e7</td></tr><tr><td class = \"rowNumber\" style = \"font-weight: bold; text-align: right;\">9</td><td style = \"text-align: left;\">VA</td><td style = \"text-align: right;\">-1.23478e8</td><td style = \"text-align: right;\">7.49386e6</td><td style = \"text-align: right;\">9.42501e7</td></tr><tr><td class = \"rowNumber\" style = \"font-weight: bold; text-align: right;\">10</td><td style = \"text-align: left;\">MD</td><td style = \"text-align: right;\">-5.02343e7</td><td style = \"text-align: right;\">4.11514e6</td><td style = \"text-align: right;\">6.3411e7</td></tr><tr><td class = \"rowNumber\" style = \"font-weight: bold; text-align: right;\">11</td><td style = \"text-align: left;\">IA</td><td style = \"text-align: right;\">-6.11438e7</td><td style = \"text-align: right;\">-4.44063e6</td><td style = \"text-align: right;\">5.08554e7</td></tr><tr><td class = \"rowNumber\" style = \"font-weight: bold; text-align: right;\">12</td><td style = \"text-align: left;\">CA</td><td style = \"text-align: right;\">-1.19569e8</td><td style = \"text-align: right;\">-1.14172e7</td><td style = \"text-align: right;\">4.23921e7</td></tr><tr><td class = \"rowNumber\" style = \"font-weight: bold; text-align: right;\">13</td><td style = \"text-align: left;\">MN</td><td style = \"text-align: right;\">-1.06035e7</td><td style = \"text-align: right;\">1.81603e7</td><td style = \"text-align: right;\">4.20927e7</td></tr><tr><td class = \"rowNumber\" style = \"font-weight: bold; text-align: right;\">14</td><td style = \"text-align: left;\">RI</td><td style = \"text-align: right;\">-3.03598e6</td><td style = \"text-align: right;\">1.92407e7</td><td style = \"text-align: right;\">4.14542e7</td></tr><tr><td class = \"rowNumber\" style = \"font-weight: bold; text-align: right;\">15</td><td style = \"text-align: left;\">VT</td><td style = \"text-align: right;\">-3.21594e6</td><td style = \"text-align: right;\">9.95239e6</td><td style = \"text-align: right;\">3.10746e7</td></tr></tbody></table></div>"
      ],
      "text/latex": [
       "\\begin{tabular}{r|cccc}\n",
       "\t& state & LP & Base & RO\\\\\n",
       "\t\\hline\n",
       "\t& String & Float64 & Float64 & Float64\\\\\n",
       "\t\\hline\n",
       "\t1 & LA & -3.72152e9 & -3.66873e8 & 4.01878e9 \\\\\n",
       "\t2 & NY & -2.27566e8 & 8.63445e8 & 2.4994e9 \\\\\n",
       "\t3 & NJ & -4.38932e8 & 7.26014e8 & 2.35778e9 \\\\\n",
       "\t4 & MS & -1.24497e8 & 4.11052e8 & 1.2501e9 \\\\\n",
       "\t5 & CT & -4.24985e7 & 5.95984e7 & 1.71721e8 \\\\\n",
       "\t6 & AL & -2.41319e8 & -4.49769e7 & 1.18011e8 \\\\\n",
       "\t7 & ND & -2.09581e6 & 5.27349e7 & 1.08682e8 \\\\\n",
       "\t8 & PA & -2.70885e8 & -5.16526e7 & 9.94224e7 \\\\\n",
       "\t9 & VA & -1.23478e8 & 7.49386e6 & 9.42501e7 \\\\\n",
       "\t10 & MD & -5.02343e7 & 4.11514e6 & 6.3411e7 \\\\\n",
       "\t11 & IA & -6.11438e7 & -4.44063e6 & 5.08554e7 \\\\\n",
       "\t12 & CA & -1.19569e8 & -1.14172e7 & 4.23921e7 \\\\\n",
       "\t13 & MN & -1.06035e7 & 1.81603e7 & 4.20927e7 \\\\\n",
       "\t14 & RI & -3.03598e6 & 1.92407e7 & 4.14542e7 \\\\\n",
       "\t15 & VT & -3.21594e6 & 9.95239e6 & 3.10746e7 \\\\\n",
       "\\end{tabular}\n"
      ],
      "text/plain": [
       "\u001b[1m15×4 DataFrame\u001b[0m\n",
       "\u001b[1m Row \u001b[0m│\u001b[1m state  \u001b[0m\u001b[1m LP         \u001b[0m\u001b[1m Base       \u001b[0m\u001b[1m RO        \u001b[0m\n",
       "     │\u001b[90m String \u001b[0m\u001b[90m Float64    \u001b[0m\u001b[90m Float64    \u001b[0m\u001b[90m Float64   \u001b[0m\n",
       "─────┼───────────────────────────────────────────\n",
       "   1 │ LA      -3.72152e9  -3.66873e8  4.01878e9\n",
       "   2 │ NY      -2.27566e8   8.63445e8  2.4994e9\n",
       "   3 │ NJ      -4.38932e8   7.26014e8  2.35778e9\n",
       "   4 │ MS      -1.24497e8   4.11052e8  1.2501e9\n",
       "   5 │ CT      -4.24985e7   5.95984e7  1.71721e8\n",
       "   6 │ AL      -2.41319e8  -4.49769e7  1.18011e8\n",
       "   7 │ ND      -2.09581e6   5.27349e7  1.08682e8\n",
       "   8 │ PA      -2.70885e8  -5.16526e7  9.94224e7\n",
       "   9 │ VA      -1.23478e8   7.49386e6  9.42501e7\n",
       "  10 │ MD      -5.02343e7   4.11514e6  6.3411e7\n",
       "  11 │ IA      -6.11438e7  -4.44063e6  5.08554e7\n",
       "  12 │ CA      -1.19569e8  -1.14172e7  4.23921e7\n",
       "  13 │ MN      -1.06035e7   1.81603e7  4.20927e7\n",
       "  14 │ RI      -3.03598e6   1.92407e7  4.14542e7\n",
       "  15 │ VT      -3.21594e6   9.95239e6  3.10746e7"
      ]
     },
     "execution_count": 37,
     "metadata": {},
     "output_type": "execute_result"
    }
   ],
   "source": [
    "#compute the cumsum from RO - act for each state \n",
    "c1= sum(P_lp, dims=2)-sum(act_loss, dims=2)  \n",
    "c2 = sum(P_base, dims=2)-sum(act_loss, dims=2)  \n",
    "c3= sum(P_ro, dims=2)-sum(act_loss, dims=2)  \n",
    "\n",
    "df1 = DataFrame(hcat(c1, c2, c3), [:\"LP\",:\"Base\",:\"RO\"])\n",
    "\n",
    "df1[!,\"state\"] = state_list\n",
    "select!(df1, :\"state\",:)\n",
    "\n",
    "##top 10 states running deficit according to LP \n",
    "# sort!(df1,[:\"RO\"], rev=false)\n",
    "# deficit = first(df1, 15)\n",
    "# #bar(deficit.state, deficit.LP, title=\"top 15 deficit states\")\n",
    "\n",
    "\n",
    "# top 10 states running deficit according to LP \n",
    "sort!(df1,[:\"RO\"], rev=true)\n",
    "surplus = first(df1, 15)\n",
    "# bar(surplus.state, surplus.LP, title=\"top 15 surplus states\")"
   ]
  },
  {
   "cell_type": "code",
   "execution_count": 38,
   "metadata": {},
   "outputs": [
    {
     "name": "stdout",
     "output_type": "stream",
     "text": [
      "-8.305897219413555e9\n",
      "1.8040972815770874e9\n",
      "-1.967520451280916e10\n"
     ]
    }
   ],
   "source": [
    "#compute cumulative loss of Premium - loss for the last 10 years \n",
    "println(sum(P_base)-sum(act_loss))\n",
    "println(sum(P_ro)-sum(act_loss))\n",
    "println(sum(P_lp)-sum(act_loss))\n"
   ]
  },
  {
   "cell_type": "code",
   "execution_count": 39,
   "metadata": {},
   "outputs": [
    {
     "data": {
      "text/plain": [
       "solve_RO (generic function with 1 method)"
      ]
     },
     "execution_count": 39,
     "metadata": {},
     "output_type": "execute_result"
    }
   ],
   "source": [
    "#try different gammas \n",
    "gamma2 = 0.8\n",
    "\n",
    "function solve_RO(gamma2)\n",
    "    \n",
    "        #gamma determines L_star\n",
    "        L_star = 10*mean_hist + gamma2*std_hist*sqrt(10); \n",
    "\n",
    "        model3 = Model(Gurobi.Optimizer)\n",
    "        set_optimizer_attribute(model3, \"TimeLimit\", 30)\n",
    "\n",
    "        # VARIABLES: premium for the next 10 years \n",
    "        T1 = 10 \n",
    "        @variable(model3, P[1:N,1:T1] >=0);  #P_i,t is the premium at state i in time t \n",
    "\n",
    "        surplus = 5000 \n",
    "\n",
    "        # each state premium covers state loss L* from the inner problem \n",
    "        @constraint(model3, test_constraint[i=1:N],\n",
    "            sum(P[i, t] for t = 1:T1) - L_star[i] >= surplus); \n",
    "\n",
    "        #slowly vary \n",
    "        gamma1 = 50000  \n",
    "        @constraint(model3, slowly_vary[i=1:N, t=2:T1],\n",
    "            P[i,t] - P[i, t-1] <= gamma1);\n",
    "        @constraint(model3, slowly_vary2[i=1:N, t=2:T1],\n",
    "            P[i,t-1] - P[i, t] <= gamma1)\n",
    "\n",
    "        @objective(\n",
    "                model3, Min, surplus \n",
    "            )\n",
    "\n",
    "        optimize!(model3)\n",
    "        P_ro = value.(P);   \n",
    "    return P_ro \n",
    "end "
   ]
  },
  {
   "cell_type": "code",
   "execution_count": 40,
   "metadata": {},
   "outputs": [
    {
     "name": "stdout",
     "output_type": "stream",
     "text": [
      "Academic license - for non-commercial use only - expires 2024-04-04\n",
      "Gurobi Optimizer version 9.1.2 build v9.1.2rc0 (mac64)\n",
      "Thread count: 4 physical cores, 8 logical processors, using up to 8 threads\n",
      "Optimize a model with 1007 rows, 530 columns and 2438 nonzeros\n",
      "Model fingerprint: 0xfdda6775\n",
      "Coefficient statistics:\n",
      "  Matrix range     [1e+00, 1e+00]\n",
      "  Objective range  [0e+00, 0e+00]\n",
      "  Bounds range     [0e+00, 0e+00]\n",
      "  RHS range        [5e+04, 4e+09]\n",
      "Warning: Model contains large rhs\n",
      "         Consider reformulating model or setting NumericFocus parameter\n",
      "         to avoid numerical issues.\n",
      "Presolve removed 583 rows and 106 columns\n",
      "Presolve time: 0.00s\n",
      "Presolved: 424 rows, 689 columns, 1431 nonzeros\n",
      "\n",
      "Iteration    Objective       Primal Inf.    Dual Inf.      Time\n",
      "       0    5.0000000e+03   1.674556e+09   0.000000e+00      0s\n",
      "     311    5.0000000e+03   0.000000e+00   0.000000e+00      0s\n",
      "\n",
      "Solved in 311 iterations and 0.00 seconds\n",
      "Optimal objective  5.000000000e+03\n",
      "\n",
      "User-callback calls 352, time in user-callback 0.00 sec\n",
      "Academic license - for non-commercial use only - expires 2024-04-04\n",
      "Gurobi Optimizer version 9.1.2 build v9.1.2rc0 (mac64)\n",
      "Thread count: 4 physical cores, 8 logical processors, using up to 8 threads\n",
      "Optimize a model with 1007 rows, 530 columns and 2438 nonzeros\n",
      "Model fingerprint: 0xdfcbbfab\n",
      "Coefficient statistics:\n",
      "  Matrix range     [1e+00, 1e+00]\n",
      "  Objective range  [0e+00, 0e+00]\n",
      "  Bounds range     [0e+00, 0e+00]\n",
      "  RHS range        [5e+04, 6e+09]\n",
      "Warning: Model contains large rhs\n",
      "         Consider reformulating model or setting NumericFocus parameter\n",
      "         to avoid numerical issues.\n",
      "Presolve removed 583 rows and 106 columns\n",
      "Presolve time: 0.00s\n",
      "Presolved: 424 rows, 689 columns, 1431 nonzeros\n",
      "\n",
      "Iteration    Objective       Primal Inf.    Dual Inf.      Time\n",
      "       0    5.0000000e+03   2.020546e+09   0.000000e+00      0s\n",
      "     313    5.0000000e+03   0.000000e+00   0.000000e+00      0s\n",
      "\n",
      "Solved in 313 iterations and 0.00 seconds\n",
      "Optimal objective  5.000000000e+03\n",
      "\n",
      "User-callback calls 354, time in user-callback 0.00 sec\n",
      "Academic license - for non-commercial use only - expires 2024-04-04\n",
      "Gurobi Optimizer version 9.1.2 build v9.1.2rc0 (mac64)\n",
      "Thread count: 4 physical cores, 8 logical processors, using up to 8 threads\n",
      "Optimize a model with 1007 rows, 530 columns and 2438 nonzeros\n",
      "Model fingerprint: 0xa63343ad\n",
      "Coefficient statistics:\n",
      "  Matrix range     [1e+00, 1e+00]\n",
      "  Objective range  [0e+00, 0e+00]\n",
      "  Bounds range     [0e+00, 0e+00]\n",
      "  RHS range        [5e+04, 7e+09]\n",
      "Warning: Model contains large rhs\n",
      "         Consider reformulating model or setting NumericFocus parameter\n",
      "         to avoid numerical issues.\n",
      "Presolve removed 583 rows and 106 columns\n",
      "Presolve time: 0.00s\n",
      "Presolved: 424 rows, 689 columns, 1431 nonzeros\n",
      "\n",
      "Iteration    Objective       Primal Inf.    Dual Inf.      Time\n",
      "       0    5.0000000e+03   2.366537e+09   0.000000e+00      0s\n",
      "     313    5.0000000e+03   0.000000e+00   0.000000e+00      0s\n",
      "\n",
      "Solved in 313 iterations and 0.00 seconds\n",
      "Optimal objective  5.000000000e+03\n",
      "\n",
      "User-callback calls 354, time in user-callback 0.00 sec\n",
      "Academic license - for non-commercial use only - expires 2024-04-04\n",
      "Gurobi Optimizer version 9.1.2 build v9.1.2rc0 (mac64)\n",
      "Thread count: 4 physical cores, 8 logical processors, using up to 8 threads\n",
      "Optimize a model with 1007 rows, 530 columns and 2438 nonzeros\n",
      "Model fingerprint: 0x5e546ac0\n",
      "Coefficient statistics:\n",
      "  Matrix range     [1e+00, 1e+00]\n",
      "  Objective range  [0e+00, 0e+00]\n",
      "  Bounds range     [0e+00, 0e+00]\n",
      "  RHS range        [5e+04, 8e+09]\n",
      "Warning: Model contains large rhs\n",
      "         Consider reformulating model or setting NumericFocus parameter\n",
      "         to avoid numerical issues.\n",
      "Presolve removed 583 rows and 106 columns\n",
      "Presolve time: 0.00s\n",
      "Presolved: 424 rows, 689 columns, 1431 nonzeros\n",
      "\n",
      "Iteration    Objective       Primal Inf.    Dual Inf.      Time\n",
      "       0    5.0000000e+03   2.712527e+09   0.000000e+00      0s\n",
      "     315    5.0000000e+03   0.000000e+00   0.000000e+00      0s\n",
      "\n",
      "Solved in 315 iterations and 0.00 seconds\n",
      "Optimal objective  5.000000000e+03\n",
      "\n",
      "User-callback calls 356, time in user-callback 0.00 sec\n",
      "Academic license - for non-commercial use only - expires 2024-04-04\n",
      "Gurobi Optimizer version 9.1.2 build v9.1.2rc0 (mac64)\n",
      "Thread count: 4 physical cores, 8 logical processors, using up to 8 threads\n",
      "Optimize a model with 1007 rows, 530 columns and 2438 nonzeros\n",
      "Model fingerprint: 0x60b43b5e\n",
      "Coefficient statistics:\n",
      "  Matrix range     [1e+00, 1e+00]\n",
      "  Objective range  [0e+00, 0e+00]\n",
      "  Bounds range     [0e+00, 0e+00]\n",
      "  RHS range        [5e+04, 9e+09]\n",
      "Warning: Model contains large rhs\n",
      "         Consider reformulating model or setting NumericFocus parameter\n",
      "         to avoid numerical issues.\n",
      "Presolve removed 583 rows and 106 columns\n",
      "Presolve time: 0.00s\n",
      "Presolved: 424 rows, 689 columns, 1431 nonzeros\n",
      "\n",
      "Iteration    Objective       Primal Inf.    Dual Inf.      Time\n",
      "       0    5.0000000e+03   3.058517e+09   0.000000e+00      0s\n",
      "     315    5.0000000e+03   0.000000e+00   0.000000e+00      0s\n",
      "\n",
      "Solved in 315 iterations and 0.00 seconds\n",
      "Optimal objective  5.000000000e+03\n",
      "\n",
      "User-callback calls 356, time in user-callback 0.00 sec\n",
      "Academic license - for non-commercial use only - expires 2024-04-04\n",
      "Gurobi Optimizer version 9.1.2 build v9.1.2rc0 (mac64)\n",
      "Thread count: 4 physical cores, 8 logical processors, using up to 8 threads\n",
      "Optimize a model with 1007 rows, 530 columns and 2438 nonzeros\n",
      "Model fingerprint: 0x5283e8f0\n",
      "Coefficient statistics:\n",
      "  Matrix range     [1e+00, 1e+00]\n",
      "  Objective range  [0e+00, 0e+00]\n",
      "  Bounds range     [0e+00, 0e+00]\n",
      "  RHS range        [5e+04, 1e+10]\n",
      "Warning: Model contains large rhs\n",
      "         Consider reformulating model or setting NumericFocus parameter\n",
      "         to avoid numerical issues.\n",
      "Presolve removed 583 rows and 106 columns\n",
      "Presolve time: 0.00s\n",
      "Presolved: 424 rows, 689 columns, 1431 nonzeros\n",
      "\n",
      "Iteration    Objective       Primal Inf.    Dual Inf.      Time\n",
      "       0    5.0000000e+03   3.404507e+09   0.000000e+00      0s\n",
      "Extra simplex iterations after uncrush: 8\n",
      "     323    5.0000000e+03   0.000000e+00   0.000000e+00      0s\n",
      "\n",
      "Solved in 323 iterations and 0.00 seconds\n",
      "Optimal objective  5.000000000e+03\n",
      "\n",
      "User-callback calls 368, time in user-callback 0.00 sec\n",
      "Academic license - for non-commercial use only - expires 2024-04-04\n",
      "Gurobi Optimizer version 9.1.2 build v9.1.2rc0 (mac64)\n",
      "Thread count: 4 physical cores, 8 logical processors, using up to 8 threads\n",
      "Optimize a model with 1007 rows, 530 columns and 2438 nonzeros\n",
      "Model fingerprint: 0x9c2cad35\n",
      "Coefficient statistics:\n",
      "  Matrix range     [1e+00, 1e+00]\n",
      "  Objective range  [0e+00, 0e+00]\n",
      "  Bounds range     [0e+00, 0e+00]\n",
      "  RHS range        [5e+04, 1e+10]\n",
      "Warning: Model contains large rhs\n",
      "         Consider reformulating model or setting NumericFocus parameter\n",
      "         to avoid numerical issues.\n",
      "Presolve removed 583 rows and 106 columns\n",
      "Presolve time: 0.00s\n",
      "Presolved: 424 rows, 689 columns, 1431 nonzeros\n",
      "\n",
      "Iteration    Objective       Primal Inf.    Dual Inf.      Time\n",
      "       0    5.0000000e+03   3.750497e+09   0.000000e+00      0s\n",
      "     315    5.0000000e+03   0.000000e+00   0.000000e+00      0s\n",
      "\n",
      "Solved in 315 iterations and 0.00 seconds\n",
      "Optimal objective  5.000000000e+03\n",
      "\n",
      "User-callback calls 356, time in user-callback 0.00 sec\n"
     ]
    }
   ],
   "source": [
    "gamma2_ls = [0.2,0.4,0.6,0.8,1,1.2,1.4]\n",
    "surplus_ls = Array{Float64}(undef,length(gamma2_ls));\n",
    "\n",
    "i=1 \n",
    "for gamma2 in gamma2_ls\n",
    "    P_ro = solve_RO(gamma2); \n",
    "    s = sum(P_ro)-sum(act_loss)\n",
    "    surplus_ls[i] = s \n",
    "    i+=1 \n",
    "end  "
   ]
  },
  {
   "cell_type": "code",
   "execution_count": 41,
   "metadata": {},
   "outputs": [
    {
     "data": {
      "text/html": [
       "<div><div style = \"float: left;\"><span>7×2 DataFrame</span></div><div style = \"clear: both;\"></div></div><div class = \"data-frame\" style = \"overflow-x: scroll;\"><table class = \"data-frame\" style = \"margin-bottom: 6px;\"><thead><tr class = \"header\"><th class = \"rowNumber\" style = \"font-weight: bold; text-align: right;\">Row</th><th style = \"text-align: left;\">Gamma2</th><th style = \"text-align: left;\">Surplus</th></tr><tr class = \"subheader headerLastRow\"><th class = \"rowNumber\" style = \"font-weight: bold; text-align: right;\"></th><th title = \"Float64\" style = \"text-align: left;\">Float64</th><th title = \"Float64\" style = \"text-align: left;\">Float64</th></tr></thead><tbody><tr><td class = \"rowNumber\" style = \"font-weight: bold; text-align: right;\">1</td><td style = \"text-align: right;\">0.2</td><td style = \"text-align: right;\">-6.49967e9</td></tr><tr><td class = \"rowNumber\" style = \"font-weight: bold; text-align: right;\">2</td><td style = \"text-align: right;\">0.4</td><td style = \"text-align: right;\">-3.73175e9</td></tr><tr><td class = \"rowNumber\" style = \"font-weight: bold; text-align: right;\">3</td><td style = \"text-align: right;\">0.6</td><td style = \"text-align: right;\">-9.63824e8</td></tr><tr><td class = \"rowNumber\" style = \"font-weight: bold; text-align: right;\">4</td><td style = \"text-align: right;\">0.8</td><td style = \"text-align: right;\">1.8041e9</td></tr><tr><td class = \"rowNumber\" style = \"font-weight: bold; text-align: right;\">5</td><td style = \"text-align: right;\">1.0</td><td style = \"text-align: right;\">4.57202e9</td></tr><tr><td class = \"rowNumber\" style = \"font-weight: bold; text-align: right;\">6</td><td style = \"text-align: right;\">1.2</td><td style = \"text-align: right;\">7.33994e9</td></tr><tr><td class = \"rowNumber\" style = \"font-weight: bold; text-align: right;\">7</td><td style = \"text-align: right;\">1.4</td><td style = \"text-align: right;\">1.01079e10</td></tr></tbody></table></div>"
      ],
      "text/latex": [
       "\\begin{tabular}{r|cc}\n",
       "\t& Gamma2 & Surplus\\\\\n",
       "\t\\hline\n",
       "\t& Float64 & Float64\\\\\n",
       "\t\\hline\n",
       "\t1 & 0.2 & -6.49967e9 \\\\\n",
       "\t2 & 0.4 & -3.73175e9 \\\\\n",
       "\t3 & 0.6 & -9.63824e8 \\\\\n",
       "\t4 & 0.8 & 1.8041e9 \\\\\n",
       "\t5 & 1.0 & 4.57202e9 \\\\\n",
       "\t6 & 1.2 & 7.33994e9 \\\\\n",
       "\t7 & 1.4 & 1.01079e10 \\\\\n",
       "\\end{tabular}\n"
      ],
      "text/plain": [
       "\u001b[1m7×2 DataFrame\u001b[0m\n",
       "\u001b[1m Row \u001b[0m│\u001b[1m Gamma2  \u001b[0m\u001b[1m Surplus     \u001b[0m\n",
       "     │\u001b[90m Float64 \u001b[0m\u001b[90m Float64     \u001b[0m\n",
       "─────┼──────────────────────\n",
       "   1 │     0.2  -6.49967e9\n",
       "   2 │     0.4  -3.73175e9\n",
       "   3 │     0.6  -9.63824e8\n",
       "   4 │     0.8   1.8041e9\n",
       "   5 │     1.0   4.57202e9\n",
       "   6 │     1.2   7.33994e9\n",
       "   7 │     1.4   1.01079e10"
      ]
     },
     "execution_count": 41,
     "metadata": {},
     "output_type": "execute_result"
    }
   ],
   "source": [
    "DataFrame(hcat(gamma2_ls, surplus_ls), [:\"Gamma2\",:\"Surplus\"])\n"
   ]
  },
  {
   "cell_type": "code",
   "execution_count": 42,
   "metadata": {},
   "outputs": [
    {
     "data": {
      "image/svg+xml": [
       "<?xml version=\"1.0\" encoding=\"utf-8\"?>\n",
       "<svg xmlns=\"http://www.w3.org/2000/svg\" xmlns:xlink=\"http://www.w3.org/1999/xlink\" width=\"600\" height=\"400\" viewBox=\"0 0 2400 1600\">\n",
       "<defs>\n",
       "  <clipPath id=\"clip790\">\n",
       "    <rect x=\"0\" y=\"0\" width=\"2400\" height=\"1600\"/>\n",
       "  </clipPath>\n",
       "</defs>\n",
       "<path clip-path=\"url(#clip790)\" d=\"M0 1600 L2400 1600 L2400 0 L0 0  Z\" fill=\"#ffffff\" fill-rule=\"evenodd\" fill-opacity=\"1\"/>\n",
       "<defs>\n",
       "  <clipPath id=\"clip791\">\n",
       "    <rect x=\"480\" y=\"0\" width=\"1681\" height=\"1600\"/>\n",
       "  </clipPath>\n",
       "</defs>\n",
       "<path clip-path=\"url(#clip790)\" d=\"M313.354 1486.45 L2352.76 1486.45 L2352.76 123.472 L313.354 123.472  Z\" fill=\"#ffffff\" fill-rule=\"evenodd\" fill-opacity=\"1\"/>\n",
       "<defs>\n",
       "  <clipPath id=\"clip792\">\n",
       "    <rect x=\"313\" y=\"123\" width=\"2040\" height=\"1364\"/>\n",
       "  </clipPath>\n",
       "</defs>\n",
       "<polyline clip-path=\"url(#clip792)\" style=\"stroke:#000000; stroke-linecap:round; stroke-linejoin:round; stroke-width:2; stroke-opacity:0.1; fill:none\" points=\"532.293,1486.45 532.293,123.472 \"/>\n",
       "<polyline clip-path=\"url(#clip792)\" style=\"stroke:#000000; stroke-linecap:round; stroke-linejoin:round; stroke-width:2; stroke-opacity:0.1; fill:none\" points=\"799.213,1486.45 799.213,123.472 \"/>\n",
       "<polyline clip-path=\"url(#clip792)\" style=\"stroke:#000000; stroke-linecap:round; stroke-linejoin:round; stroke-width:2; stroke-opacity:0.1; fill:none\" points=\"1066.13,1486.45 1066.13,123.472 \"/>\n",
       "<polyline clip-path=\"url(#clip792)\" style=\"stroke:#000000; stroke-linecap:round; stroke-linejoin:round; stroke-width:2; stroke-opacity:0.1; fill:none\" points=\"1333.05,1486.45 1333.05,123.472 \"/>\n",
       "<polyline clip-path=\"url(#clip792)\" style=\"stroke:#000000; stroke-linecap:round; stroke-linejoin:round; stroke-width:2; stroke-opacity:0.1; fill:none\" points=\"1599.98,1486.45 1599.98,123.472 \"/>\n",
       "<polyline clip-path=\"url(#clip792)\" style=\"stroke:#000000; stroke-linecap:round; stroke-linejoin:round; stroke-width:2; stroke-opacity:0.1; fill:none\" points=\"1866.9,1486.45 1866.9,123.472 \"/>\n",
       "<polyline clip-path=\"url(#clip792)\" style=\"stroke:#000000; stroke-linecap:round; stroke-linejoin:round; stroke-width:2; stroke-opacity:0.1; fill:none\" points=\"2133.82,1486.45 2133.82,123.472 \"/>\n",
       "<polyline clip-path=\"url(#clip790)\" style=\"stroke:#000000; stroke-linecap:round; stroke-linejoin:round; stroke-width:4; stroke-opacity:1; fill:none\" points=\"313.354,1486.45 2352.76,1486.45 \"/>\n",
       "<polyline clip-path=\"url(#clip790)\" style=\"stroke:#000000; stroke-linecap:round; stroke-linejoin:round; stroke-width:4; stroke-opacity:1; fill:none\" points=\"532.293,1486.45 532.293,1467.55 \"/>\n",
       "<polyline clip-path=\"url(#clip790)\" style=\"stroke:#000000; stroke-linecap:round; stroke-linejoin:round; stroke-width:4; stroke-opacity:1; fill:none\" points=\"799.213,1486.45 799.213,1467.55 \"/>\n",
       "<polyline clip-path=\"url(#clip790)\" style=\"stroke:#000000; stroke-linecap:round; stroke-linejoin:round; stroke-width:4; stroke-opacity:1; fill:none\" points=\"1066.13,1486.45 1066.13,1467.55 \"/>\n",
       "<polyline clip-path=\"url(#clip790)\" style=\"stroke:#000000; stroke-linecap:round; stroke-linejoin:round; stroke-width:4; stroke-opacity:1; fill:none\" points=\"1333.05,1486.45 1333.05,1467.55 \"/>\n",
       "<polyline clip-path=\"url(#clip790)\" style=\"stroke:#000000; stroke-linecap:round; stroke-linejoin:round; stroke-width:4; stroke-opacity:1; fill:none\" points=\"1599.98,1486.45 1599.98,1467.55 \"/>\n",
       "<polyline clip-path=\"url(#clip790)\" style=\"stroke:#000000; stroke-linecap:round; stroke-linejoin:round; stroke-width:4; stroke-opacity:1; fill:none\" points=\"1866.9,1486.45 1866.9,1467.55 \"/>\n",
       "<polyline clip-path=\"url(#clip790)\" style=\"stroke:#000000; stroke-linecap:round; stroke-linejoin:round; stroke-width:4; stroke-opacity:1; fill:none\" points=\"2133.82,1486.45 2133.82,1467.55 \"/>\n",
       "<path clip-path=\"url(#clip790)\" d=\"M510.476 1517.37 Q506.865 1517.37 505.036 1520.93 Q503.23 1524.47 503.23 1531.6 Q503.23 1538.71 505.036 1542.27 Q506.865 1545.82 510.476 1545.82 Q514.11 1545.82 515.916 1542.27 Q517.744 1538.71 517.744 1531.6 Q517.744 1524.47 515.916 1520.93 Q514.11 1517.37 510.476 1517.37 M510.476 1513.66 Q516.286 1513.66 519.341 1518.27 Q522.42 1522.85 522.42 1531.6 Q522.42 1540.33 519.341 1544.94 Q516.286 1549.52 510.476 1549.52 Q504.666 1549.52 501.587 1544.94 Q498.531 1540.33 498.531 1531.6 Q498.531 1522.85 501.587 1518.27 Q504.666 1513.66 510.476 1513.66 Z\" fill=\"#000000\" fill-rule=\"nonzero\" fill-opacity=\"1\" /><path clip-path=\"url(#clip790)\" d=\"M530.638 1542.97 L535.522 1542.97 L535.522 1548.85 L530.638 1548.85 L530.638 1542.97 Z\" fill=\"#000000\" fill-rule=\"nonzero\" fill-opacity=\"1\" /><path clip-path=\"url(#clip790)\" d=\"M549.735 1544.91 L566.054 1544.91 L566.054 1548.85 L544.11 1548.85 L544.11 1544.91 Q546.772 1542.16 551.355 1537.53 Q555.962 1532.88 557.142 1531.53 Q559.388 1529.01 560.267 1527.27 Q561.17 1525.51 561.17 1523.82 Q561.17 1521.07 559.226 1519.33 Q557.304 1517.6 554.202 1517.6 Q552.003 1517.6 549.55 1518.36 Q547.119 1519.13 544.341 1520.68 L544.341 1515.95 Q547.165 1514.82 549.619 1514.24 Q552.073 1513.66 554.11 1513.66 Q559.48 1513.66 562.675 1516.35 Q565.869 1519.03 565.869 1523.52 Q565.869 1525.65 565.059 1527.57 Q564.272 1529.47 562.165 1532.07 Q561.587 1532.74 558.485 1535.95 Q555.383 1539.15 549.735 1544.91 Z\" fill=\"#000000\" fill-rule=\"nonzero\" fill-opacity=\"1\" /><path clip-path=\"url(#clip790)\" d=\"M776.355 1517.37 Q772.744 1517.37 770.915 1520.93 Q769.109 1524.47 769.109 1531.6 Q769.109 1538.71 770.915 1542.27 Q772.744 1545.82 776.355 1545.82 Q779.989 1545.82 781.795 1542.27 Q783.623 1538.71 783.623 1531.6 Q783.623 1524.47 781.795 1520.93 Q779.989 1517.37 776.355 1517.37 M776.355 1513.66 Q782.165 1513.66 785.22 1518.27 Q788.299 1522.85 788.299 1531.6 Q788.299 1540.33 785.22 1544.94 Q782.165 1549.52 776.355 1549.52 Q770.545 1549.52 767.466 1544.94 Q764.41 1540.33 764.41 1531.6 Q764.41 1522.85 767.466 1518.27 Q770.545 1513.66 776.355 1513.66 Z\" fill=\"#000000\" fill-rule=\"nonzero\" fill-opacity=\"1\" /><path clip-path=\"url(#clip790)\" d=\"M796.517 1542.97 L801.401 1542.97 L801.401 1548.85 L796.517 1548.85 L796.517 1542.97 Z\" fill=\"#000000\" fill-rule=\"nonzero\" fill-opacity=\"1\" /><path clip-path=\"url(#clip790)\" d=\"M824.433 1518.36 L812.628 1536.81 L824.433 1536.81 L824.433 1518.36 M823.206 1514.29 L829.086 1514.29 L829.086 1536.81 L834.017 1536.81 L834.017 1540.7 L829.086 1540.7 L829.086 1548.85 L824.433 1548.85 L824.433 1540.7 L808.831 1540.7 L808.831 1536.19 L823.206 1514.29 Z\" fill=\"#000000\" fill-rule=\"nonzero\" fill-opacity=\"1\" /><path clip-path=\"url(#clip790)\" d=\"M1043.44 1517.37 Q1039.83 1517.37 1038 1520.93 Q1036.19 1524.47 1036.19 1531.6 Q1036.19 1538.71 1038 1542.27 Q1039.83 1545.82 1043.44 1545.82 Q1047.07 1545.82 1048.88 1542.27 Q1050.71 1538.71 1050.71 1531.6 Q1050.71 1524.47 1048.88 1520.93 Q1047.07 1517.37 1043.44 1517.37 M1043.44 1513.66 Q1049.25 1513.66 1052.3 1518.27 Q1055.38 1522.85 1055.38 1531.6 Q1055.38 1540.33 1052.3 1544.94 Q1049.25 1549.52 1043.44 1549.52 Q1037.63 1549.52 1034.55 1544.94 Q1031.49 1540.33 1031.49 1531.6 Q1031.49 1522.85 1034.55 1518.27 Q1037.63 1513.66 1043.44 1513.66 Z\" fill=\"#000000\" fill-rule=\"nonzero\" fill-opacity=\"1\" /><path clip-path=\"url(#clip790)\" d=\"M1063.6 1542.97 L1068.48 1542.97 L1068.48 1548.85 L1063.6 1548.85 L1063.6 1542.97 Z\" fill=\"#000000\" fill-rule=\"nonzero\" fill-opacity=\"1\" /><path clip-path=\"url(#clip790)\" d=\"M1089.25 1529.7 Q1086.1 1529.7 1084.25 1531.86 Q1082.42 1534.01 1082.42 1537.76 Q1082.42 1541.49 1084.25 1543.66 Q1086.1 1545.82 1089.25 1545.82 Q1092.4 1545.82 1094.22 1543.66 Q1096.08 1541.49 1096.08 1537.76 Q1096.08 1534.01 1094.22 1531.86 Q1092.4 1529.7 1089.25 1529.7 M1098.53 1515.05 L1098.53 1519.31 Q1096.77 1518.48 1094.97 1518.04 Q1093.18 1517.6 1091.42 1517.6 Q1086.79 1517.6 1084.34 1520.72 Q1081.91 1523.85 1081.56 1530.17 Q1082.93 1528.15 1084.99 1527.09 Q1087.05 1526 1089.53 1526 Q1094.73 1526 1097.74 1529.17 Q1100.78 1532.32 1100.78 1537.76 Q1100.78 1543.08 1097.63 1546.3 Q1094.48 1549.52 1089.25 1549.52 Q1083.25 1549.52 1080.08 1544.94 Q1076.91 1540.33 1076.91 1531.6 Q1076.91 1523.41 1080.8 1518.55 Q1084.69 1513.66 1091.24 1513.66 Q1093 1513.66 1094.78 1514.01 Q1096.59 1514.36 1098.53 1515.05 Z\" fill=\"#000000\" fill-rule=\"nonzero\" fill-opacity=\"1\" /><path clip-path=\"url(#clip790)\" d=\"M1310.49 1517.37 Q1306.87 1517.37 1305.05 1520.93 Q1303.24 1524.47 1303.24 1531.6 Q1303.24 1538.71 1305.05 1542.27 Q1306.87 1545.82 1310.49 1545.82 Q1314.12 1545.82 1315.93 1542.27 Q1317.75 1538.71 1317.75 1531.6 Q1317.75 1524.47 1315.93 1520.93 Q1314.12 1517.37 1310.49 1517.37 M1310.49 1513.66 Q1316.3 1513.66 1319.35 1518.27 Q1322.43 1522.85 1322.43 1531.6 Q1322.43 1540.33 1319.35 1544.94 Q1316.3 1549.52 1310.49 1549.52 Q1304.68 1549.52 1301.6 1544.94 Q1298.54 1540.33 1298.54 1531.6 Q1298.54 1522.85 1301.6 1518.27 Q1304.68 1513.66 1310.49 1513.66 Z\" fill=\"#000000\" fill-rule=\"nonzero\" fill-opacity=\"1\" /><path clip-path=\"url(#clip790)\" d=\"M1330.65 1542.97 L1335.53 1542.97 L1335.53 1548.85 L1330.65 1548.85 L1330.65 1542.97 Z\" fill=\"#000000\" fill-rule=\"nonzero\" fill-opacity=\"1\" /><path clip-path=\"url(#clip790)\" d=\"M1355.72 1532.44 Q1352.38 1532.44 1350.46 1534.22 Q1348.56 1536 1348.56 1539.13 Q1348.56 1542.25 1350.46 1544.03 Q1352.38 1545.82 1355.72 1545.82 Q1359.05 1545.82 1360.97 1544.03 Q1362.89 1542.23 1362.89 1539.13 Q1362.89 1536 1360.97 1534.22 Q1359.07 1532.44 1355.72 1532.44 M1351.04 1530.45 Q1348.03 1529.7 1346.34 1527.64 Q1344.68 1525.58 1344.68 1522.62 Q1344.68 1518.48 1347.61 1516.07 Q1350.58 1513.66 1355.72 1513.66 Q1360.88 1513.66 1363.82 1516.07 Q1366.76 1518.48 1366.76 1522.62 Q1366.76 1525.58 1365.07 1527.64 Q1363.4 1529.7 1360.42 1530.45 Q1363.8 1531.23 1365.67 1533.52 Q1367.57 1535.82 1367.57 1539.13 Q1367.57 1544.15 1364.49 1546.83 Q1361.43 1549.52 1355.72 1549.52 Q1350 1549.52 1346.92 1546.83 Q1343.86 1544.15 1343.86 1539.13 Q1343.86 1535.82 1345.76 1533.52 Q1347.66 1531.23 1351.04 1530.45 M1349.33 1523.06 Q1349.33 1525.75 1350.99 1527.25 Q1352.68 1528.76 1355.72 1528.76 Q1358.73 1528.76 1360.42 1527.25 Q1362.13 1525.75 1362.13 1523.06 Q1362.13 1520.38 1360.42 1518.87 Q1358.73 1517.37 1355.72 1517.37 Q1352.68 1517.37 1350.99 1518.87 Q1349.33 1520.38 1349.33 1523.06 Z\" fill=\"#000000\" fill-rule=\"nonzero\" fill-opacity=\"1\" /><path clip-path=\"url(#clip790)\" d=\"M1567.13 1544.91 L1574.77 1544.91 L1574.77 1518.55 L1566.46 1520.21 L1566.46 1515.95 L1574.72 1514.29 L1579.4 1514.29 L1579.4 1544.91 L1587.04 1544.91 L1587.04 1548.85 L1567.13 1548.85 L1567.13 1544.91 Z\" fill=\"#000000\" fill-rule=\"nonzero\" fill-opacity=\"1\" /><path clip-path=\"url(#clip790)\" d=\"M1596.48 1542.97 L1601.36 1542.97 L1601.36 1548.85 L1596.48 1548.85 L1596.48 1542.97 Z\" fill=\"#000000\" fill-rule=\"nonzero\" fill-opacity=\"1\" /><path clip-path=\"url(#clip790)\" d=\"M1621.55 1517.37 Q1617.94 1517.37 1616.11 1520.93 Q1614.3 1524.47 1614.3 1531.6 Q1614.3 1538.71 1616.11 1542.27 Q1617.94 1545.82 1621.55 1545.82 Q1625.18 1545.82 1626.99 1542.27 Q1628.82 1538.71 1628.82 1531.6 Q1628.82 1524.47 1626.99 1520.93 Q1625.18 1517.37 1621.55 1517.37 M1621.55 1513.66 Q1627.36 1513.66 1630.42 1518.27 Q1633.49 1522.85 1633.49 1531.6 Q1633.49 1540.33 1630.42 1544.94 Q1627.36 1549.52 1621.55 1549.52 Q1615.74 1549.52 1612.66 1544.94 Q1609.61 1540.33 1609.61 1531.6 Q1609.61 1522.85 1612.66 1518.27 Q1615.74 1513.66 1621.55 1513.66 Z\" fill=\"#000000\" fill-rule=\"nonzero\" fill-opacity=\"1\" /><path clip-path=\"url(#clip790)\" d=\"M1834.85 1544.91 L1842.49 1544.91 L1842.49 1518.55 L1834.18 1520.21 L1834.18 1515.95 L1842.44 1514.29 L1847.12 1514.29 L1847.12 1544.91 L1854.76 1544.91 L1854.76 1548.85 L1834.85 1548.85 L1834.85 1544.91 Z\" fill=\"#000000\" fill-rule=\"nonzero\" fill-opacity=\"1\" /><path clip-path=\"url(#clip790)\" d=\"M1864.2 1542.97 L1869.08 1542.97 L1869.08 1548.85 L1864.2 1548.85 L1864.2 1542.97 Z\" fill=\"#000000\" fill-rule=\"nonzero\" fill-opacity=\"1\" /><path clip-path=\"url(#clip790)\" d=\"M1883.3 1544.91 L1899.62 1544.91 L1899.62 1548.85 L1877.67 1548.85 L1877.67 1544.91 Q1880.33 1542.16 1884.92 1537.53 Q1889.52 1532.88 1890.7 1531.53 Q1892.95 1529.01 1893.83 1527.27 Q1894.73 1525.51 1894.73 1523.82 Q1894.73 1521.07 1892.79 1519.33 Q1890.87 1517.6 1887.76 1517.6 Q1885.57 1517.6 1883.11 1518.36 Q1880.68 1519.13 1877.9 1520.68 L1877.9 1515.95 Q1880.73 1514.82 1883.18 1514.24 Q1885.63 1513.66 1887.67 1513.66 Q1893.04 1513.66 1896.24 1516.35 Q1899.43 1519.03 1899.43 1523.52 Q1899.43 1525.65 1898.62 1527.57 Q1897.83 1529.47 1895.73 1532.07 Q1895.15 1532.74 1892.05 1535.95 Q1888.94 1539.15 1883.3 1544.91 Z\" fill=\"#000000\" fill-rule=\"nonzero\" fill-opacity=\"1\" /><path clip-path=\"url(#clip790)\" d=\"M2100.73 1544.91 L2108.37 1544.91 L2108.37 1518.55 L2100.06 1520.21 L2100.06 1515.95 L2108.32 1514.29 L2113 1514.29 L2113 1544.91 L2120.63 1544.91 L2120.63 1548.85 L2100.73 1548.85 L2100.73 1544.91 Z\" fill=\"#000000\" fill-rule=\"nonzero\" fill-opacity=\"1\" /><path clip-path=\"url(#clip790)\" d=\"M2130.08 1542.97 L2134.96 1542.97 L2134.96 1548.85 L2130.08 1548.85 L2130.08 1542.97 Z\" fill=\"#000000\" fill-rule=\"nonzero\" fill-opacity=\"1\" /><path clip-path=\"url(#clip790)\" d=\"M2157.99 1518.36 L2146.19 1536.81 L2157.99 1536.81 L2157.99 1518.36 M2156.77 1514.29 L2162.65 1514.29 L2162.65 1536.81 L2167.58 1536.81 L2167.58 1540.7 L2162.65 1540.7 L2162.65 1548.85 L2157.99 1548.85 L2157.99 1540.7 L2142.39 1540.7 L2142.39 1536.19 L2156.77 1514.29 Z\" fill=\"#000000\" fill-rule=\"nonzero\" fill-opacity=\"1\" /><polyline clip-path=\"url(#clip792)\" style=\"stroke:#000000; stroke-linecap:round; stroke-linejoin:round; stroke-width:2; stroke-opacity:0.1; fill:none\" points=\"313.354,1331.76 2352.76,1331.76 \"/>\n",
       "<polyline clip-path=\"url(#clip792)\" style=\"stroke:#000000; stroke-linecap:round; stroke-linejoin:round; stroke-width:2; stroke-opacity:0.1; fill:none\" points=\"313.354,944.641 2352.76,944.641 \"/>\n",
       "<polyline clip-path=\"url(#clip792)\" style=\"stroke:#000000; stroke-linecap:round; stroke-linejoin:round; stroke-width:2; stroke-opacity:0.1; fill:none\" points=\"313.354,557.519 2352.76,557.519 \"/>\n",
       "<polyline clip-path=\"url(#clip792)\" style=\"stroke:#000000; stroke-linecap:round; stroke-linejoin:round; stroke-width:2; stroke-opacity:0.1; fill:none\" points=\"313.354,170.398 2352.76,170.398 \"/>\n",
       "<polyline clip-path=\"url(#clip790)\" style=\"stroke:#000000; stroke-linecap:round; stroke-linejoin:round; stroke-width:4; stroke-opacity:1; fill:none\" points=\"313.354,1486.45 313.354,123.472 \"/>\n",
       "<polyline clip-path=\"url(#clip790)\" style=\"stroke:#000000; stroke-linecap:round; stroke-linejoin:round; stroke-width:4; stroke-opacity:1; fill:none\" points=\"313.354,1331.76 332.251,1331.76 \"/>\n",
       "<polyline clip-path=\"url(#clip790)\" style=\"stroke:#000000; stroke-linecap:round; stroke-linejoin:round; stroke-width:4; stroke-opacity:1; fill:none\" points=\"313.354,944.641 332.251,944.641 \"/>\n",
       "<polyline clip-path=\"url(#clip790)\" style=\"stroke:#000000; stroke-linecap:round; stroke-linejoin:round; stroke-width:4; stroke-opacity:1; fill:none\" points=\"313.354,557.519 332.251,557.519 \"/>\n",
       "<polyline clip-path=\"url(#clip790)\" style=\"stroke:#000000; stroke-linecap:round; stroke-linejoin:round; stroke-width:4; stroke-opacity:1; fill:none\" points=\"313.354,170.398 332.251,170.398 \"/>\n",
       "<path clip-path=\"url(#clip790)\" d=\"M50.9921 1338.66 L80.6679 1338.66 L80.6679 1342.6 L50.9921 1342.6 L50.9921 1338.66 Z\" fill=\"#000000\" fill-rule=\"nonzero\" fill-opacity=\"1\" /><path clip-path=\"url(#clip790)\" d=\"M90.8067 1320.93 L109.163 1320.93 L109.163 1324.87 L95.0891 1324.87 L95.0891 1333.34 Q96.1076 1332.99 97.1261 1332.83 Q98.1447 1332.64 99.1632 1332.64 Q104.95 1332.64 108.33 1335.81 Q111.709 1338.99 111.709 1344.4 Q111.709 1349.98 108.237 1353.08 Q104.765 1356.16 98.4456 1356.16 Q96.2697 1356.16 94.0012 1355.79 Q91.7558 1355.42 89.3484 1354.68 L89.3484 1349.98 Q91.4317 1351.12 93.6539 1351.67 Q95.8761 1352.23 98.353 1352.23 Q102.358 1352.23 104.696 1350.12 Q107.033 1348.01 107.033 1344.4 Q107.033 1340.79 104.696 1338.68 Q102.358 1336.58 98.353 1336.58 Q96.478 1336.58 94.603 1336.99 Q92.7512 1337.41 90.8067 1338.29 L90.8067 1320.93 Z\" fill=\"#000000\" fill-rule=\"nonzero\" fill-opacity=\"1\" /><path clip-path=\"url(#clip790)\" d=\"M120.922 1349.61 L125.807 1349.61 L125.807 1355.49 L120.922 1355.49 L120.922 1349.61 Z\" fill=\"#000000\" fill-rule=\"nonzero\" fill-opacity=\"1\" /><path clip-path=\"url(#clip790)\" d=\"M145.992 1324.01 Q142.381 1324.01 140.552 1327.57 Q138.746 1331.12 138.746 1338.24 Q138.746 1345.35 140.552 1348.92 Q142.381 1352.46 145.992 1352.46 Q149.626 1352.46 151.431 1348.92 Q153.26 1345.35 153.26 1338.24 Q153.26 1331.12 151.431 1327.57 Q149.626 1324.01 145.992 1324.01 M145.992 1320.31 Q151.802 1320.31 154.857 1324.91 Q157.936 1329.49 157.936 1338.24 Q157.936 1346.97 154.857 1351.58 Q151.802 1356.16 145.992 1356.16 Q140.181 1356.16 137.103 1351.58 Q134.047 1346.97 134.047 1338.24 Q134.047 1329.49 137.103 1324.91 Q140.181 1320.31 145.992 1320.31 Z\" fill=\"#000000\" fill-rule=\"nonzero\" fill-opacity=\"1\" /><path clip-path=\"url(#clip790)\" d=\"M194.325 1330.03 L183.746 1340.65 L194.325 1351.23 L191.57 1354.03 L180.945 1343.41 L170.32 1354.03 L167.589 1351.23 L178.144 1340.65 L167.589 1330.03 L170.32 1327.23 L180.945 1337.85 L191.57 1327.23 L194.325 1330.03 Z\" fill=\"#000000\" fill-rule=\"nonzero\" fill-opacity=\"1\" /><path clip-path=\"url(#clip790)\" d=\"M206.686 1351.55 L214.325 1351.55 L214.325 1325.19 L206.014 1326.86 L206.014 1322.6 L214.278 1320.93 L218.954 1320.93 L218.954 1351.55 L226.593 1351.55 L226.593 1355.49 L206.686 1355.49 L206.686 1351.55 Z\" fill=\"#000000\" fill-rule=\"nonzero\" fill-opacity=\"1\" /><path clip-path=\"url(#clip790)\" d=\"M246.037 1324.01 Q242.426 1324.01 240.598 1327.57 Q238.792 1331.12 238.792 1338.24 Q238.792 1345.35 240.598 1348.92 Q242.426 1352.46 246.037 1352.46 Q249.672 1352.46 251.477 1348.92 Q253.306 1345.35 253.306 1338.24 Q253.306 1331.12 251.477 1327.57 Q249.672 1324.01 246.037 1324.01 M246.037 1320.31 Q251.848 1320.31 254.903 1324.91 Q257.982 1329.49 257.982 1338.24 Q257.982 1346.97 254.903 1351.58 Q251.848 1356.16 246.037 1356.16 Q240.227 1356.16 237.149 1351.58 Q234.093 1346.97 234.093 1338.24 Q234.093 1329.49 237.149 1324.91 Q240.227 1320.31 246.037 1320.31 Z\" fill=\"#000000\" fill-rule=\"nonzero\" fill-opacity=\"1\" /><path clip-path=\"url(#clip790)\" d=\"M259.787 1327.5 L259.787 1324.04 Q261.217 1324.71 262.684 1325.07 Q264.151 1325.43 265.561 1325.43 Q269.323 1325.43 271.298 1322.91 Q273.291 1320.37 273.573 1315.22 Q272.483 1316.83 270.809 1317.7 Q269.135 1318.56 267.104 1318.56 Q262.891 1318.56 260.427 1316.02 Q257.982 1313.47 257.982 1309.05 Q257.982 1304.72 260.54 1302.11 Q263.097 1299.49 267.348 1299.49 Q272.219 1299.49 274.777 1303.23 Q277.354 1306.96 277.354 1314.07 Q277.354 1320.71 274.194 1324.68 Q271.053 1328.63 265.731 1328.63 Q264.301 1328.63 262.834 1328.34 Q261.367 1328.06 259.787 1327.5 M267.348 1315.59 Q269.906 1315.59 271.392 1313.84 Q272.896 1312.09 272.896 1309.05 Q272.896 1306.02 271.392 1304.27 Q269.906 1302.5 267.348 1302.5 Q264.79 1302.5 263.286 1304.27 Q261.8 1306.02 261.8 1309.05 Q261.8 1312.09 263.286 1313.84 Q264.79 1315.59 267.348 1315.59 Z\" fill=\"#000000\" fill-rule=\"nonzero\" fill-opacity=\"1\" /><path clip-path=\"url(#clip790)\" d=\"M265.409 930.44 Q261.798 930.44 259.97 934.004 Q258.164 937.546 258.164 944.676 Q258.164 951.782 259.97 955.347 Q261.798 958.889 265.409 958.889 Q269.044 958.889 270.849 955.347 Q272.678 951.782 272.678 944.676 Q272.678 937.546 270.849 934.004 Q269.044 930.44 265.409 930.44 M265.409 926.736 Q271.22 926.736 274.275 931.342 Q277.354 935.926 277.354 944.676 Q277.354 953.402 274.275 958.009 Q271.22 962.592 265.409 962.592 Q259.599 962.592 256.521 958.009 Q253.465 953.402 253.465 944.676 Q253.465 935.926 256.521 931.342 Q259.599 926.736 265.409 926.736 Z\" fill=\"#000000\" fill-rule=\"nonzero\" fill-opacity=\"1\" /><path clip-path=\"url(#clip790)\" d=\"M90.8067 546.687 L109.163 546.687 L109.163 550.622 L95.0891 550.622 L95.0891 559.094 Q96.1076 558.747 97.1261 558.585 Q98.1447 558.4 99.1632 558.4 Q104.95 558.4 108.33 561.571 Q111.709 564.743 111.709 570.159 Q111.709 575.738 108.237 578.84 Q104.765 581.918 98.4456 581.918 Q96.2697 581.918 94.0012 581.548 Q91.7558 581.178 89.3484 580.437 L89.3484 575.738 Q91.4317 576.872 93.6539 577.428 Q95.8761 577.983 98.353 577.983 Q102.358 577.983 104.696 575.877 Q107.033 573.77 107.033 570.159 Q107.033 566.548 104.696 564.442 Q102.358 562.335 98.353 562.335 Q96.478 562.335 94.603 562.752 Q92.7512 563.168 90.8067 564.048 L90.8067 546.687 Z\" fill=\"#000000\" fill-rule=\"nonzero\" fill-opacity=\"1\" /><path clip-path=\"url(#clip790)\" d=\"M120.922 575.367 L125.807 575.367 L125.807 581.247 L120.922 581.247 L120.922 575.367 Z\" fill=\"#000000\" fill-rule=\"nonzero\" fill-opacity=\"1\" /><path clip-path=\"url(#clip790)\" d=\"M145.992 549.766 Q142.381 549.766 140.552 553.331 Q138.746 556.872 138.746 564.002 Q138.746 571.108 140.552 574.673 Q142.381 578.215 145.992 578.215 Q149.626 578.215 151.431 574.673 Q153.26 571.108 153.26 564.002 Q153.26 556.872 151.431 553.331 Q149.626 549.766 145.992 549.766 M145.992 546.062 Q151.802 546.062 154.857 550.669 Q157.936 555.252 157.936 564.002 Q157.936 572.729 154.857 577.335 Q151.802 581.918 145.992 581.918 Q140.181 581.918 137.103 577.335 Q134.047 572.729 134.047 564.002 Q134.047 555.252 137.103 550.669 Q140.181 546.062 145.992 546.062 Z\" fill=\"#000000\" fill-rule=\"nonzero\" fill-opacity=\"1\" /><path clip-path=\"url(#clip790)\" d=\"M194.325 555.784 L183.746 566.409 L194.325 576.988 L191.57 579.789 L180.945 569.164 L170.32 579.789 L167.589 576.988 L178.144 566.409 L167.589 555.784 L170.32 552.983 L180.945 563.608 L191.57 552.983 L194.325 555.784 Z\" fill=\"#000000\" fill-rule=\"nonzero\" fill-opacity=\"1\" /><path clip-path=\"url(#clip790)\" d=\"M206.686 577.312 L214.325 577.312 L214.325 550.946 L206.014 552.613 L206.014 548.354 L214.278 546.687 L218.954 546.687 L218.954 577.312 L226.593 577.312 L226.593 581.247 L206.686 581.247 L206.686 577.312 Z\" fill=\"#000000\" fill-rule=\"nonzero\" fill-opacity=\"1\" /><path clip-path=\"url(#clip790)\" d=\"M246.037 549.766 Q242.426 549.766 240.598 553.331 Q238.792 556.872 238.792 564.002 Q238.792 571.108 240.598 574.673 Q242.426 578.215 246.037 578.215 Q249.672 578.215 251.477 574.673 Q253.306 571.108 253.306 564.002 Q253.306 556.872 251.477 553.331 Q249.672 549.766 246.037 549.766 M246.037 546.062 Q251.848 546.062 254.903 550.669 Q257.982 555.252 257.982 564.002 Q257.982 572.729 254.903 577.335 Q251.848 581.918 246.037 581.918 Q240.227 581.918 237.149 577.335 Q234.093 572.729 234.093 564.002 Q234.093 555.252 237.149 550.669 Q240.227 546.062 246.037 546.062 Z\" fill=\"#000000\" fill-rule=\"nonzero\" fill-opacity=\"1\" /><path clip-path=\"url(#clip790)\" d=\"M259.787 553.254 L259.787 549.793 Q261.217 550.47 262.684 550.827 Q264.151 551.185 265.561 551.185 Q269.323 551.185 271.298 548.665 Q273.291 546.126 273.573 540.972 Q272.483 542.59 270.809 543.455 Q269.135 544.32 267.104 544.32 Q262.891 544.32 260.427 541.781 Q257.982 539.223 257.982 534.803 Q257.982 530.477 260.54 527.863 Q263.097 525.249 267.348 525.249 Q272.219 525.249 274.777 528.992 Q277.354 532.716 277.354 539.825 Q277.354 546.464 274.194 550.432 Q271.053 554.382 265.731 554.382 Q264.301 554.382 262.834 554.1 Q261.367 553.818 259.787 553.254 M267.348 541.348 Q269.906 541.348 271.392 539.599 Q272.896 537.85 272.896 534.803 Q272.896 531.775 271.392 530.026 Q269.906 528.258 267.348 528.258 Q264.79 528.258 263.286 530.026 Q261.8 531.775 261.8 534.803 Q261.8 537.85 263.286 539.599 Q264.79 541.348 267.348 541.348 Z\" fill=\"#000000\" fill-rule=\"nonzero\" fill-opacity=\"1\" /><path clip-path=\"url(#clip790)\" d=\"M68.7192 190.19 L76.358 190.19 L76.358 163.825 L68.0479 165.492 L68.0479 161.232 L76.3117 159.566 L80.9876 159.566 L80.9876 190.19 L88.6265 190.19 L88.6265 194.126 L68.7192 194.126 L68.7192 190.19 Z\" fill=\"#000000\" fill-rule=\"nonzero\" fill-opacity=\"1\" /><path clip-path=\"url(#clip790)\" d=\"M98.0709 188.246 L102.955 188.246 L102.955 194.126 L98.0709 194.126 L98.0709 188.246 Z\" fill=\"#000000\" fill-rule=\"nonzero\" fill-opacity=\"1\" /><path clip-path=\"url(#clip790)\" d=\"M123.14 162.644 Q119.529 162.644 117.7 166.209 Q115.895 169.751 115.895 176.88 Q115.895 183.987 117.7 187.552 Q119.529 191.093 123.14 191.093 Q126.774 191.093 128.58 187.552 Q130.409 183.987 130.409 176.88 Q130.409 169.751 128.58 166.209 Q126.774 162.644 123.14 162.644 M123.14 158.941 Q128.95 158.941 132.006 163.547 Q135.085 168.13 135.085 176.88 Q135.085 185.607 132.006 190.214 Q128.95 194.797 123.14 194.797 Q117.33 194.797 114.251 190.214 Q111.196 185.607 111.196 176.88 Q111.196 168.13 114.251 163.547 Q117.33 158.941 123.14 158.941 Z\" fill=\"#000000\" fill-rule=\"nonzero\" fill-opacity=\"1\" /><path clip-path=\"url(#clip790)\" d=\"M171.473 168.663 L160.895 179.288 L171.473 189.866 L168.719 192.667 L158.094 182.042 L147.469 192.667 L144.737 189.866 L155.293 179.288 L144.737 168.663 L147.469 165.862 L158.094 176.487 L168.719 165.862 L171.473 168.663 Z\" fill=\"#000000\" fill-rule=\"nonzero\" fill-opacity=\"1\" /><path clip-path=\"url(#clip790)\" d=\"M183.834 190.19 L191.473 190.19 L191.473 163.825 L183.163 165.492 L183.163 161.232 L191.427 159.566 L196.103 159.566 L196.103 190.19 L203.742 190.19 L203.742 194.126 L183.834 194.126 L183.834 190.19 Z\" fill=\"#000000\" fill-rule=\"nonzero\" fill-opacity=\"1\" /><path clip-path=\"url(#clip790)\" d=\"M223.186 162.644 Q219.575 162.644 217.746 166.209 Q215.941 169.751 215.941 176.88 Q215.941 183.987 217.746 187.552 Q219.575 191.093 223.186 191.093 Q226.82 191.093 228.626 187.552 Q230.454 183.987 230.454 176.88 Q230.454 169.751 228.626 166.209 Q226.82 162.644 223.186 162.644 M223.186 158.941 Q228.996 158.941 232.052 163.547 Q235.13 168.13 235.13 176.88 Q235.13 185.607 232.052 190.214 Q228.996 194.797 223.186 194.797 Q217.376 194.797 214.297 190.214 Q211.242 185.607 211.242 176.88 Q211.242 168.13 214.297 163.547 Q217.376 158.941 223.186 158.941 Z\" fill=\"#000000\" fill-rule=\"nonzero\" fill-opacity=\"1\" /><path clip-path=\"url(#clip790)\" d=\"M235.676 163.518 L241.882 163.518 L241.882 142.096 L235.13 143.45 L235.13 139.989 L241.845 138.635 L245.644 138.635 L245.644 163.518 L251.85 163.518 L251.85 166.715 L235.676 166.715 L235.676 163.518 Z\" fill=\"#000000\" fill-rule=\"nonzero\" fill-opacity=\"1\" /><path clip-path=\"url(#clip790)\" d=\"M267.649 141.137 Q264.715 141.137 263.229 144.033 Q261.762 146.911 261.762 152.703 Q261.762 158.477 263.229 161.374 Q264.715 164.251 267.649 164.251 Q270.602 164.251 272.069 161.374 Q273.555 158.477 273.555 152.703 Q273.555 146.911 272.069 144.033 Q270.602 141.137 267.649 141.137 M267.649 138.127 Q272.37 138.127 274.852 141.87 Q277.354 145.594 277.354 152.703 Q277.354 159.794 274.852 163.537 Q272.37 167.261 267.649 167.261 Q262.928 167.261 260.427 163.537 Q257.944 159.794 257.944 152.703 Q257.944 145.594 260.427 141.87 Q262.928 138.127 267.649 138.127 Z\" fill=\"#000000\" fill-rule=\"nonzero\" fill-opacity=\"1\" /><path clip-path=\"url(#clip790)\" d=\"M732.245 28.5427 L732.245 35.5912 Q729.085 33.9709 725.683 33.1607 Q722.28 32.3505 718.634 32.3505 Q713.084 32.3505 710.289 34.0519 Q707.534 35.7533 707.534 39.156 Q707.534 41.7486 709.519 43.2475 Q711.504 44.7058 717.5 46.0426 L720.052 46.6097 Q727.992 48.3111 731.313 51.4303 Q734.676 54.509 734.676 60.0587 Q734.676 66.3781 729.652 70.0644 Q724.67 73.7508 715.92 73.7508 Q712.274 73.7508 708.304 73.0216 Q704.375 72.3329 700 70.9151 L700 63.2184 Q704.132 65.3654 708.142 66.4591 Q712.152 67.5124 716.082 67.5124 Q721.348 67.5124 724.184 65.73 Q727.019 63.9071 727.019 60.6258 Q727.019 57.5877 724.953 55.9673 Q722.928 54.3469 716.001 52.8481 L713.408 52.2405 Q706.481 50.7821 703.403 47.7845 Q700.324 44.7463 700.324 39.4801 Q700.324 33.0797 704.861 29.5959 Q709.398 26.1121 717.743 26.1121 Q721.875 26.1121 725.52 26.7198 Q729.166 27.3274 732.245 28.5427 Z\" fill=\"#000000\" fill-rule=\"nonzero\" fill-opacity=\"1\" /><path clip-path=\"url(#clip790)\" d=\"M745.775 54.671 L745.775 27.2059 L753.229 27.2059 L753.229 54.3874 Q753.229 60.8284 755.74 64.0691 Q758.252 67.2693 763.275 67.2693 Q769.311 67.2693 772.795 63.421 Q776.319 59.5726 776.319 52.9291 L776.319 27.2059 L783.772 27.2059 L783.772 72.576 L776.319 72.576 L776.319 65.6084 Q773.605 69.7404 769.999 71.7658 Q766.435 73.7508 761.695 73.7508 Q753.877 73.7508 749.826 68.8897 Q745.775 64.0286 745.775 54.671 M764.531 26.1121 L764.531 26.1121 Z\" fill=\"#000000\" fill-rule=\"nonzero\" fill-opacity=\"1\" /><path clip-path=\"url(#clip790)\" d=\"M825.416 34.1734 Q824.16 33.4443 822.661 33.1202 Q821.203 32.7556 819.42 32.7556 Q813.101 32.7556 809.698 36.8875 Q806.336 40.9789 806.336 48.6757 L806.336 72.576 L798.842 72.576 L798.842 27.2059 L806.336 27.2059 L806.336 34.2544 Q808.686 30.1225 812.453 28.1376 Q816.22 26.1121 821.608 26.1121 Q822.378 26.1121 823.309 26.2337 Q824.241 26.3147 825.375 26.5172 L825.416 34.1734 Z\" fill=\"#000000\" fill-rule=\"nonzero\" fill-opacity=\"1\" /><path clip-path=\"url(#clip790)\" d=\"M840.445 65.7705 L840.445 89.8329 L832.95 89.8329 L832.95 27.2059 L840.445 27.2059 L840.445 34.0924 Q842.794 30.0415 846.359 28.0971 Q849.964 26.1121 854.947 26.1121 Q863.211 26.1121 868.355 32.6746 Q873.541 39.2371 873.541 49.9314 Q873.541 60.6258 868.355 67.1883 Q863.211 73.7508 854.947 73.7508 Q849.964 73.7508 846.359 71.8063 Q842.794 69.8214 840.445 65.7705 M865.803 49.9314 Q865.803 41.7081 862.401 37.0496 Q859.038 32.3505 853.124 32.3505 Q847.21 32.3505 843.807 37.0496 Q840.445 41.7081 840.445 49.9314 Q840.445 58.1548 843.807 62.8538 Q847.21 67.5124 853.124 67.5124 Q859.038 67.5124 862.401 62.8538 Q865.803 58.1548 865.803 49.9314 Z\" fill=\"#000000\" fill-rule=\"nonzero\" fill-opacity=\"1\" /><path clip-path=\"url(#clip790)\" d=\"M885.896 9.54393 L893.349 9.54393 L893.349 72.576 L885.896 72.576 L885.896 9.54393 Z\" fill=\"#000000\" fill-rule=\"nonzero\" fill-opacity=\"1\" /><path clip-path=\"url(#clip790)\" d=\"M908.176 54.671 L908.176 27.2059 L915.629 27.2059 L915.629 54.3874 Q915.629 60.8284 918.141 64.0691 Q920.653 67.2693 925.676 67.2693 Q931.711 67.2693 935.195 63.421 Q938.72 59.5726 938.72 52.9291 L938.72 27.2059 L946.173 27.2059 L946.173 72.576 L938.72 72.576 L938.72 65.6084 Q936.005 69.7404 932.4 71.7658 Q928.835 73.7508 924.096 73.7508 Q916.278 73.7508 912.227 68.8897 Q908.176 64.0286 908.176 54.671 M926.931 26.1121 L926.931 26.1121 Z\" fill=\"#000000\" fill-rule=\"nonzero\" fill-opacity=\"1\" /><path clip-path=\"url(#clip790)\" d=\"M990.45 28.5427 L990.45 35.5912 Q987.29 33.9709 983.887 33.1607 Q980.484 32.3505 976.839 32.3505 Q971.289 32.3505 968.494 34.0519 Q965.739 35.7533 965.739 39.156 Q965.739 41.7486 967.724 43.2475 Q969.709 44.7058 975.704 46.0426 L978.256 46.6097 Q986.196 48.3111 989.518 51.4303 Q992.88 54.509 992.88 60.0587 Q992.88 66.3781 987.857 70.0644 Q982.874 73.7508 974.124 73.7508 Q970.479 73.7508 966.509 73.0216 Q962.579 72.3329 958.204 70.9151 L958.204 63.2184 Q962.336 65.3654 966.347 66.4591 Q970.357 67.5124 974.287 67.5124 Q979.553 67.5124 982.388 65.73 Q985.224 63.9071 985.224 60.6258 Q985.224 57.5877 983.158 55.9673 Q981.133 54.3469 974.205 52.8481 L971.613 52.2405 Q964.686 50.7821 961.607 47.7845 Q958.528 44.7463 958.528 39.4801 Q958.528 33.0797 963.065 29.5959 Q967.603 26.1121 975.947 26.1121 Q980.079 26.1121 983.725 26.7198 Q987.371 27.3274 990.45 28.5427 Z\" fill=\"#000000\" fill-rule=\"nonzero\" fill-opacity=\"1\" /><path clip-path=\"url(#clip790)\" d=\"M1026.79 27.2059 L1034.24 27.2059 L1043.56 62.6108 L1052.83 27.2059 L1061.62 27.2059 L1070.94 62.6108 L1080.22 27.2059 L1087.67 27.2059 L1075.8 72.576 L1067.01 72.576 L1057.25 35.3887 L1047.45 72.576 L1038.66 72.576 L1026.79 27.2059 Z\" fill=\"#000000\" fill-rule=\"nonzero\" fill-opacity=\"1\" /><path clip-path=\"url(#clip790)\" d=\"M1098.97 27.2059 L1106.43 27.2059 L1106.43 72.576 L1098.97 72.576 L1098.97 27.2059 M1098.97 9.54393 L1106.43 9.54393 L1106.43 18.9825 L1098.97 18.9825 L1098.97 9.54393 Z\" fill=\"#000000\" fill-rule=\"nonzero\" fill-opacity=\"1\" /><path clip-path=\"url(#clip790)\" d=\"M1129.4 14.324 L1129.4 27.2059 L1144.75 27.2059 L1144.75 32.9987 L1129.4 32.9987 L1129.4 57.6282 Q1129.4 63.1779 1130.89 64.7578 Q1132.43 66.3376 1137.09 66.3376 L1144.75 66.3376 L1144.75 72.576 L1137.09 72.576 Q1128.46 72.576 1125.18 69.3758 Q1121.9 66.1351 1121.9 57.6282 L1121.9 32.9987 L1116.43 32.9987 L1116.43 27.2059 L1121.9 27.2059 L1121.9 14.324 L1129.4 14.324 Z\" fill=\"#000000\" fill-rule=\"nonzero\" fill-opacity=\"1\" /><path clip-path=\"url(#clip790)\" d=\"M1192.27 45.1919 L1192.27 72.576 L1184.81 72.576 L1184.81 45.4349 Q1184.81 38.994 1182.3 35.7938 Q1179.79 32.5936 1174.77 32.5936 Q1168.73 32.5936 1165.25 36.4419 Q1161.76 40.2903 1161.76 46.9338 L1161.76 72.576 L1154.27 72.576 L1154.27 9.54393 L1161.76 9.54393 L1161.76 34.2544 Q1164.44 30.163 1168.04 28.1376 Q1171.69 26.1121 1176.43 26.1121 Q1184.24 26.1121 1188.26 30.9732 Q1192.27 35.7938 1192.27 45.1919 Z\" fill=\"#000000\" fill-rule=\"nonzero\" fill-opacity=\"1\" /><path clip-path=\"url(#clip790)\" d=\"M1263.36 34.0924 L1263.36 9.54393 L1270.81 9.54393 L1270.81 72.576 L1263.36 72.576 L1263.36 65.7705 Q1261.01 69.8214 1257.4 71.8063 Q1253.84 73.7508 1248.82 73.7508 Q1240.59 73.7508 1235.41 67.1883 Q1230.26 60.6258 1230.26 49.9314 Q1230.26 39.2371 1235.41 32.6746 Q1240.59 26.1121 1248.82 26.1121 Q1253.84 26.1121 1257.4 28.0971 Q1261.01 30.0415 1263.36 34.0924 M1237.96 49.9314 Q1237.96 58.1548 1241.32 62.8538 Q1244.72 67.5124 1250.64 67.5124 Q1256.55 67.5124 1259.96 62.8538 Q1263.36 58.1548 1263.36 49.9314 Q1263.36 41.7081 1259.96 37.0496 Q1256.55 32.3505 1250.64 32.3505 Q1244.72 32.3505 1241.32 37.0496 Q1237.96 41.7081 1237.96 49.9314 Z\" fill=\"#000000\" fill-rule=\"nonzero\" fill-opacity=\"1\" /><path clip-path=\"url(#clip790)\" d=\"M1286.17 27.2059 L1293.62 27.2059 L1293.62 72.576 L1286.17 72.576 L1286.17 27.2059 M1286.17 9.54393 L1293.62 9.54393 L1293.62 18.9825 L1286.17 18.9825 L1286.17 9.54393 Z\" fill=\"#000000\" fill-rule=\"nonzero\" fill-opacity=\"1\" /><path clip-path=\"url(#clip790)\" d=\"M1332.18 9.54393 L1332.18 15.7418 L1325.05 15.7418 Q1321.04 15.7418 1319.46 17.3622 Q1317.92 18.9825 1317.92 23.1955 L1317.92 27.2059 L1330.2 27.2059 L1330.2 32.9987 L1317.92 32.9987 L1317.92 72.576 L1310.43 72.576 L1310.43 32.9987 L1303.3 32.9987 L1303.3 27.2059 L1310.43 27.2059 L1310.43 24.0462 Q1310.43 16.471 1313.95 13.0277 Q1317.48 9.54393 1325.14 9.54393 L1332.18 9.54393 Z\" fill=\"#000000\" fill-rule=\"nonzero\" fill-opacity=\"1\" /><path clip-path=\"url(#clip790)\" d=\"M1361.39 9.54393 L1361.39 15.7418 L1354.26 15.7418 Q1350.25 15.7418 1348.67 17.3622 Q1347.13 18.9825 1347.13 23.1955 L1347.13 27.2059 L1359.41 27.2059 L1359.41 32.9987 L1347.13 32.9987 L1347.13 72.576 L1339.64 72.576 L1339.64 32.9987 L1332.51 32.9987 L1332.51 27.2059 L1339.64 27.2059 L1339.64 24.0462 Q1339.64 16.471 1343.16 13.0277 Q1346.69 9.54393 1354.34 9.54393 L1361.39 9.54393 Z\" fill=\"#000000\" fill-rule=\"nonzero\" fill-opacity=\"1\" /><path clip-path=\"url(#clip790)\" d=\"M1406.44 48.0275 L1406.44 51.6733 L1372.17 51.6733 Q1372.65 59.3701 1376.78 63.421 Q1380.96 67.4314 1388.37 67.4314 Q1392.66 67.4314 1396.67 66.3781 Q1400.73 65.3249 1404.7 63.2184 L1404.7 70.267 Q1400.68 71.9684 1396.47 72.8596 Q1392.26 73.7508 1387.92 73.7508 Q1377.07 73.7508 1370.71 67.4314 Q1364.39 61.1119 1364.39 50.3365 Q1364.39 39.1965 1370.38 32.6746 Q1376.42 26.1121 1386.63 26.1121 Q1395.78 26.1121 1401.09 32.0264 Q1406.44 37.9003 1406.44 48.0275 M1398.98 45.84 Q1398.9 39.7232 1395.54 36.0774 Q1392.22 32.4315 1386.71 32.4315 Q1380.47 32.4315 1376.7 35.9558 Q1372.98 39.4801 1372.41 45.8805 L1398.98 45.84 Z\" fill=\"#000000\" fill-rule=\"nonzero\" fill-opacity=\"1\" /><path clip-path=\"url(#clip790)\" d=\"M1444.96 34.1734 Q1443.71 33.4443 1442.21 33.1202 Q1440.75 32.7556 1438.97 32.7556 Q1432.65 32.7556 1429.24 36.8875 Q1425.88 40.9789 1425.88 48.6757 L1425.88 72.576 L1418.39 72.576 L1418.39 27.2059 L1425.88 27.2059 L1425.88 34.2544 Q1428.23 30.1225 1432 28.1376 Q1435.77 26.1121 1441.15 26.1121 Q1441.92 26.1121 1442.85 26.2337 Q1443.79 26.3147 1444.92 26.5172 L1444.96 34.1734 Z\" fill=\"#000000\" fill-rule=\"nonzero\" fill-opacity=\"1\" /><path clip-path=\"url(#clip790)\" d=\"M1489.76 48.0275 L1489.76 51.6733 L1455.49 51.6733 Q1455.98 59.3701 1460.11 63.421 Q1464.28 67.4314 1471.7 67.4314 Q1475.99 67.4314 1480 66.3781 Q1484.05 65.3249 1488.02 63.2184 L1488.02 70.267 Q1484.01 71.9684 1479.8 72.8596 Q1475.59 73.7508 1471.25 73.7508 Q1460.4 73.7508 1454.04 67.4314 Q1447.72 61.1119 1447.72 50.3365 Q1447.72 39.1965 1453.71 32.6746 Q1459.75 26.1121 1469.96 26.1121 Q1479.11 26.1121 1484.42 32.0264 Q1489.76 37.9003 1489.76 48.0275 M1482.31 45.84 Q1482.23 39.7232 1478.87 36.0774 Q1475.55 32.4315 1470.04 32.4315 Q1463.8 32.4315 1460.03 35.9558 Q1456.3 39.4801 1455.74 45.8805 L1482.31 45.84 Z\" fill=\"#000000\" fill-rule=\"nonzero\" fill-opacity=\"1\" /><path clip-path=\"url(#clip790)\" d=\"M1539.71 45.1919 L1539.71 72.576 L1532.26 72.576 L1532.26 45.4349 Q1532.26 38.994 1529.75 35.7938 Q1527.23 32.5936 1522.21 32.5936 Q1516.18 32.5936 1512.69 36.4419 Q1509.21 40.2903 1509.21 46.9338 L1509.21 72.576 L1501.71 72.576 L1501.71 27.2059 L1509.21 27.2059 L1509.21 34.2544 Q1511.88 30.163 1515.49 28.1376 Q1519.13 26.1121 1523.87 26.1121 Q1531.69 26.1121 1535.7 30.9732 Q1539.71 35.7938 1539.71 45.1919 Z\" fill=\"#000000\" fill-rule=\"nonzero\" fill-opacity=\"1\" /><path clip-path=\"url(#clip790)\" d=\"M1561.95 14.324 L1561.95 27.2059 L1577.3 27.2059 L1577.3 32.9987 L1561.95 32.9987 L1561.95 57.6282 Q1561.95 63.1779 1563.45 64.7578 Q1564.99 66.3376 1569.65 66.3376 L1577.3 66.3376 L1577.3 72.576 L1569.65 72.576 Q1561.02 72.576 1557.74 69.3758 Q1554.46 66.1351 1554.46 57.6282 L1554.46 32.9987 L1548.99 32.9987 L1548.99 27.2059 L1554.46 27.2059 L1554.46 14.324 L1561.95 14.324 Z\" fill=\"#000000\" fill-rule=\"nonzero\" fill-opacity=\"1\" /><path clip-path=\"url(#clip790)\" d=\"M1643.33 49.3643 Q1643.33 41.2625 1639.97 36.8065 Q1636.65 32.3505 1630.61 32.3505 Q1624.62 32.3505 1621.26 36.8065 Q1617.93 41.2625 1617.93 49.3643 Q1617.93 57.4256 1621.26 61.8816 Q1624.62 66.3376 1630.61 66.3376 Q1636.65 66.3376 1639.97 61.8816 Q1643.33 57.4256 1643.33 49.3643 M1650.79 66.9452 Q1650.79 78.5308 1645.64 84.1616 Q1640.5 89.8329 1629.88 89.8329 Q1625.96 89.8329 1622.47 89.2252 Q1618.99 88.6581 1615.71 87.4428 L1615.71 80.1917 Q1618.99 81.9741 1622.19 82.8248 Q1625.39 83.6755 1628.71 83.6755 Q1636.04 83.6755 1639.69 79.8271 Q1643.33 76.0193 1643.33 68.282 L1643.33 64.5957 Q1641.02 68.6061 1637.42 70.5911 Q1633.81 72.576 1628.79 72.576 Q1620.45 72.576 1615.34 66.2161 Q1610.24 59.8562 1610.24 49.3643 Q1610.24 38.832 1615.34 32.472 Q1620.45 26.1121 1628.79 26.1121 Q1633.81 26.1121 1637.42 28.0971 Q1641.02 30.082 1643.33 34.0924 L1643.33 27.2059 L1650.79 27.2059 L1650.79 66.9452 Z\" fill=\"#000000\" fill-rule=\"nonzero\" fill-opacity=\"1\" /><path clip-path=\"url(#clip790)\" d=\"M1686.76 49.7694 Q1677.73 49.7694 1674.24 51.8354 Q1670.76 53.9013 1670.76 58.8839 Q1670.76 62.8538 1673.35 65.2034 Q1675.98 67.5124 1680.48 67.5124 Q1686.68 67.5124 1690.41 63.1374 Q1694.17 58.7219 1694.17 51.4303 L1694.17 49.7694 L1686.76 49.7694 M1701.63 46.6907 L1701.63 72.576 L1694.17 72.576 L1694.17 65.6895 Q1691.62 69.8214 1687.81 71.8063 Q1684 73.7508 1678.5 73.7508 Q1671.53 73.7508 1667.4 69.8619 Q1663.3 65.9325 1663.3 59.3701 Q1663.3 51.7138 1668.41 47.825 Q1673.55 43.9361 1683.72 43.9361 L1694.17 43.9361 L1694.17 43.2069 Q1694.17 38.0623 1690.77 35.2672 Q1687.41 32.4315 1681.29 32.4315 Q1677.4 32.4315 1673.72 33.3632 Q1670.03 34.295 1666.63 36.1584 L1666.63 29.2718 Q1670.72 27.692 1674.57 26.9223 Q1678.41 26.1121 1682.06 26.1121 Q1691.9 26.1121 1696.77 31.2163 Q1701.63 36.3204 1701.63 46.6907 Z\" fill=\"#000000\" fill-rule=\"nonzero\" fill-opacity=\"1\" /><path clip-path=\"url(#clip790)\" d=\"M1752.3 35.9153 Q1755.1 30.8922 1758.99 28.5022 Q1762.88 26.1121 1768.14 26.1121 Q1775.23 26.1121 1779.08 31.0947 Q1782.93 36.0368 1782.93 45.1919 L1782.93 72.576 L1775.43 72.576 L1775.43 45.4349 Q1775.43 38.913 1773.12 35.7533 Q1770.82 32.5936 1766.08 32.5936 Q1760.28 32.5936 1756.92 36.4419 Q1753.56 40.2903 1753.56 46.9338 L1753.56 72.576 L1746.06 72.576 L1746.06 45.4349 Q1746.06 38.8725 1743.76 35.7533 Q1741.45 32.5936 1736.63 32.5936 Q1730.91 32.5936 1727.55 36.4824 Q1724.19 40.3308 1724.19 46.9338 L1724.19 72.576 L1716.7 72.576 L1716.7 27.2059 L1724.19 27.2059 L1724.19 34.2544 Q1726.74 30.082 1730.31 28.0971 Q1733.87 26.1121 1738.77 26.1121 Q1743.72 26.1121 1747.16 28.6237 Q1750.64 31.1352 1752.3 35.9153 Z\" fill=\"#000000\" fill-rule=\"nonzero\" fill-opacity=\"1\" /><path clip-path=\"url(#clip790)\" d=\"M1833.12 35.9153 Q1835.91 30.8922 1839.8 28.5022 Q1843.69 26.1121 1848.96 26.1121 Q1856.05 26.1121 1859.9 31.0947 Q1863.74 36.0368 1863.74 45.1919 L1863.74 72.576 L1856.25 72.576 L1856.25 45.4349 Q1856.25 38.913 1853.94 35.7533 Q1851.63 32.5936 1846.89 32.5936 Q1841.1 32.5936 1837.74 36.4419 Q1834.37 40.2903 1834.37 46.9338 L1834.37 72.576 L1826.88 72.576 L1826.88 45.4349 Q1826.88 38.8725 1824.57 35.7533 Q1822.26 32.5936 1817.44 32.5936 Q1811.73 32.5936 1808.37 36.4824 Q1805.01 40.3308 1805.01 46.9338 L1805.01 72.576 L1797.51 72.576 L1797.51 27.2059 L1805.01 27.2059 L1805.01 34.2544 Q1807.56 30.082 1811.12 28.0971 Q1814.69 26.1121 1819.59 26.1121 Q1824.53 26.1121 1827.97 28.6237 Q1831.46 31.1352 1833.12 35.9153 Z\" fill=\"#000000\" fill-rule=\"nonzero\" fill-opacity=\"1\" /><path clip-path=\"url(#clip790)\" d=\"M1899.23 49.7694 Q1890.2 49.7694 1886.71 51.8354 Q1883.23 53.9013 1883.23 58.8839 Q1883.23 62.8538 1885.82 65.2034 Q1888.45 67.5124 1892.95 67.5124 Q1899.15 67.5124 1902.88 63.1374 Q1906.64 58.7219 1906.64 51.4303 L1906.64 49.7694 L1899.23 49.7694 M1914.1 46.6907 L1914.1 72.576 L1906.64 72.576 L1906.64 65.6895 Q1904.09 69.8214 1900.28 71.8063 Q1896.47 73.7508 1890.97 73.7508 Q1884 73.7508 1879.87 69.8619 Q1875.77 65.9325 1875.77 59.3701 Q1875.77 51.7138 1880.88 47.825 Q1886.02 43.9361 1896.19 43.9361 L1906.64 43.9361 L1906.64 43.2069 Q1906.64 38.0623 1903.24 35.2672 Q1899.88 32.4315 1893.76 32.4315 Q1889.87 32.4315 1886.19 33.3632 Q1882.5 34.295 1879.1 36.1584 L1879.1 29.2718 Q1883.19 27.692 1887.04 26.9223 Q1890.88 26.1121 1894.53 26.1121 Q1904.37 26.1121 1909.24 31.2163 Q1914.1 36.3204 1914.1 46.6907 Z\" fill=\"#000000\" fill-rule=\"nonzero\" fill-opacity=\"1\" /><path clip-path=\"url(#clip790)\" d=\"M1937.55 65.6895 L1966.11 65.6895 L1966.11 72.576 L1927.71 72.576 L1927.71 65.6895 Q1932.37 60.8689 1940.39 52.7671 Q1948.45 44.6248 1950.51 42.2752 Q1954.44 37.8598 1955.98 34.8216 Q1957.56 31.7429 1957.56 28.7857 Q1957.56 23.9651 1954.16 20.927 Q1950.8 17.8888 1945.37 17.8888 Q1941.52 17.8888 1937.23 19.2256 Q1932.97 20.5624 1928.11 23.2765 L1928.11 15.0127 Q1933.05 13.0277 1937.35 12.015 Q1941.64 11.0023 1945.21 11.0023 Q1954.61 11.0023 1960.2 15.7013 Q1965.79 20.4004 1965.79 28.2591 Q1965.79 31.9859 1964.37 35.3482 Q1962.99 38.6699 1959.3 43.2069 Q1958.29 44.3817 1952.86 50.0125 Q1947.44 55.6027 1937.55 65.6895 Z\" fill=\"#000000\" fill-rule=\"nonzero\" fill-opacity=\"1\" /><path clip-path=\"url(#clip792)\" d=\"M425.525 1447.87 L425.525 944.641 L639.061 944.641 L639.061 1447.87 L425.525 1447.87 L425.525 1447.87  Z\" fill=\"#009af9\" fill-rule=\"evenodd\" fill-opacity=\"1\"/>\n",
       "<polyline clip-path=\"url(#clip792)\" style=\"stroke:#000000; stroke-linecap:round; stroke-linejoin:round; stroke-width:4; stroke-opacity:1; fill:none\" points=\"425.525,1447.87 425.525,944.641 639.061,944.641 639.061,1447.87 425.525,1447.87 \"/>\n",
       "<path clip-path=\"url(#clip792)\" d=\"M692.445 1233.57 L692.445 944.641 L905.982 944.641 L905.982 1233.57 L692.445 1233.57 L692.445 1233.57  Z\" fill=\"#009af9\" fill-rule=\"evenodd\" fill-opacity=\"1\"/>\n",
       "<polyline clip-path=\"url(#clip792)\" style=\"stroke:#000000; stroke-linecap:round; stroke-linejoin:round; stroke-width:4; stroke-opacity:1; fill:none\" points=\"692.445,1233.57 692.445,944.641 905.982,944.641 905.982,1233.57 692.445,1233.57 \"/>\n",
       "<path clip-path=\"url(#clip792)\" d=\"M959.366 1019.26 L959.366 944.641 L1172.9 944.641 L1172.9 1019.26 L959.366 1019.26 L959.366 1019.26  Z\" fill=\"#009af9\" fill-rule=\"evenodd\" fill-opacity=\"1\"/>\n",
       "<polyline clip-path=\"url(#clip792)\" style=\"stroke:#000000; stroke-linecap:round; stroke-linejoin:round; stroke-width:4; stroke-opacity:1; fill:none\" points=\"959.366,1019.26 959.366,944.641 1172.9,944.641 1172.9,1019.26 959.366,1019.26 \"/>\n",
       "<path clip-path=\"url(#clip792)\" d=\"M1226.29 804.96 L1226.29 944.641 L1439.82 944.641 L1439.82 804.96 L1226.29 804.96 L1226.29 804.96  Z\" fill=\"#009af9\" fill-rule=\"evenodd\" fill-opacity=\"1\"/>\n",
       "<polyline clip-path=\"url(#clip792)\" style=\"stroke:#000000; stroke-linecap:round; stroke-linejoin:round; stroke-width:4; stroke-opacity:1; fill:none\" points=\"1226.29,804.96 1226.29,944.641 1439.82,944.641 1439.82,804.96 1226.29,804.96 \"/>\n",
       "<path clip-path=\"url(#clip792)\" d=\"M1493.21 590.656 L1493.21 944.641 L1706.74 944.641 L1706.74 590.656 L1493.21 590.656 L1493.21 590.656  Z\" fill=\"#009af9\" fill-rule=\"evenodd\" fill-opacity=\"1\"/>\n",
       "<polyline clip-path=\"url(#clip792)\" style=\"stroke:#000000; stroke-linecap:round; stroke-linejoin:round; stroke-width:4; stroke-opacity:1; fill:none\" points=\"1493.21,590.656 1493.21,944.641 1706.74,944.641 1706.74,590.656 1493.21,590.656 \"/>\n",
       "<path clip-path=\"url(#clip792)\" d=\"M1760.13 376.351 L1760.13 944.641 L1973.66 944.641 L1973.66 376.351 L1760.13 376.351 L1760.13 376.351  Z\" fill=\"#009af9\" fill-rule=\"evenodd\" fill-opacity=\"1\"/>\n",
       "<polyline clip-path=\"url(#clip792)\" style=\"stroke:#000000; stroke-linecap:round; stroke-linejoin:round; stroke-width:4; stroke-opacity:1; fill:none\" points=\"1760.13,376.351 1760.13,944.641 1973.66,944.641 1973.66,376.351 1760.13,376.351 \"/>\n",
       "<path clip-path=\"url(#clip792)\" d=\"M2027.05 162.047 L2027.05 944.641 L2240.59 944.641 L2240.59 162.047 L2027.05 162.047 L2027.05 162.047  Z\" fill=\"#009af9\" fill-rule=\"evenodd\" fill-opacity=\"1\"/>\n",
       "<polyline clip-path=\"url(#clip792)\" style=\"stroke:#000000; stroke-linecap:round; stroke-linejoin:round; stroke-width:4; stroke-opacity:1; fill:none\" points=\"2027.05,162.047 2027.05,944.641 2240.59,944.641 2240.59,162.047 2027.05,162.047 \"/>\n",
       "<circle clip-path=\"url(#clip792)\" style=\"fill:#009af9; stroke:none; fill-opacity:0\" cx=\"532.293\" cy=\"1447.87\" r=\"2\"/>\n",
       "<circle clip-path=\"url(#clip792)\" style=\"fill:#009af9; stroke:none; fill-opacity:0\" cx=\"799.213\" cy=\"1233.57\" r=\"2\"/>\n",
       "<circle clip-path=\"url(#clip792)\" style=\"fill:#009af9; stroke:none; fill-opacity:0\" cx=\"1066.13\" cy=\"1019.26\" r=\"2\"/>\n",
       "<circle clip-path=\"url(#clip792)\" style=\"fill:#009af9; stroke:none; fill-opacity:0\" cx=\"1333.05\" cy=\"804.96\" r=\"2\"/>\n",
       "<circle clip-path=\"url(#clip792)\" style=\"fill:#009af9; stroke:none; fill-opacity:0\" cx=\"1599.98\" cy=\"590.656\" r=\"2\"/>\n",
       "<circle clip-path=\"url(#clip792)\" style=\"fill:#009af9; stroke:none; fill-opacity:0\" cx=\"1866.9\" cy=\"376.351\" r=\"2\"/>\n",
       "<circle clip-path=\"url(#clip792)\" style=\"fill:#009af9; stroke:none; fill-opacity:0\" cx=\"2133.82\" cy=\"162.047\" r=\"2\"/>\n",
       "<path clip-path=\"url(#clip790)\" d=\"M381.334 272.585 L637.704 272.585 L637.704 168.905 L381.334 168.905  Z\" fill=\"#ffffff\" fill-rule=\"evenodd\" fill-opacity=\"1\"/>\n",
       "<polyline clip-path=\"url(#clip790)\" style=\"stroke:#000000; stroke-linecap:round; stroke-linejoin:round; stroke-width:4; stroke-opacity:1; fill:none\" points=\"381.334,272.585 637.704,272.585 637.704,168.905 381.334,168.905 381.334,272.585 \"/>\n",
       "<path clip-path=\"url(#clip790)\" d=\"M403.994 241.481 L539.954 241.481 L539.954 200.009 L403.994 200.009 L403.994 241.481  Z\" fill=\"#009af9\" fill-rule=\"evenodd\" fill-opacity=\"1\"/>\n",
       "<polyline clip-path=\"url(#clip790)\" style=\"stroke:#000000; stroke-linecap:round; stroke-linejoin:round; stroke-width:4; stroke-opacity:1; fill:none\" points=\"403.994,241.481 539.954,241.481 539.954,200.009 403.994,200.009 403.994,241.481 \"/>\n",
       "<path clip-path=\"url(#clip790)\" d=\"M576.457 240.432 Q574.651 245.062 572.938 246.474 Q571.225 247.886 568.355 247.886 L564.952 247.886 L564.952 244.321 L567.452 244.321 Q569.211 244.321 570.183 243.488 Q571.156 242.654 572.336 239.552 L573.1 237.608 L562.614 212.099 L567.128 212.099 L575.23 232.377 L583.332 212.099 L587.845 212.099 L576.457 240.432 Z\" fill=\"#000000\" fill-rule=\"nonzero\" fill-opacity=\"1\" /><path clip-path=\"url(#clip790)\" d=\"M595.137 234.089 L602.776 234.089 L602.776 207.724 L594.466 209.391 L594.466 205.131 L602.73 203.465 L607.405 203.465 L607.405 234.089 L615.044 234.089 L615.044 238.025 L595.137 238.025 L595.137 234.089 Z\" fill=\"#000000\" fill-rule=\"nonzero\" fill-opacity=\"1\" /></svg>\n"
      ]
     },
     "execution_count": 42,
     "metadata": {},
     "output_type": "execute_result"
    }
   ],
   "source": [
    "#plot different gamma2 leading to different surplus \n",
    "bar(gamma2_ls , surplus_ls, title=\"surplus with different gamma2\")"
   ]
  },
  {
   "cell_type": "code",
   "execution_count": 43,
   "metadata": {},
   "outputs": [],
   "source": [
    "# Approach 4 RO + demand decline "
   ]
  },
  {
   "cell_type": "code",
   "execution_count": 45,
   "metadata": {},
   "outputs": [
    {
     "name": "stdout",
     "output_type": "stream",
     "text": [
      "l_max= 1.079988857742e10\n"
     ]
    },
    {
     "data": {
      "image/svg+xml": [
       "<?xml version=\"1.0\" encoding=\"utf-8\"?>\n",
       "<svg xmlns=\"http://www.w3.org/2000/svg\" xmlns:xlink=\"http://www.w3.org/1999/xlink\" width=\"600\" height=\"400\" viewBox=\"0 0 2400 1600\">\n",
       "<defs>\n",
       "  <clipPath id=\"clip870\">\n",
       "    <rect x=\"0\" y=\"0\" width=\"2400\" height=\"1600\"/>\n",
       "  </clipPath>\n",
       "</defs>\n",
       "<path clip-path=\"url(#clip870)\" d=\"M0 1600 L2400 1600 L2400 0 L0 0  Z\" fill=\"#ffffff\" fill-rule=\"evenodd\" fill-opacity=\"1\"/>\n",
       "<defs>\n",
       "  <clipPath id=\"clip871\">\n",
       "    <rect x=\"480\" y=\"0\" width=\"1681\" height=\"1600\"/>\n",
       "  </clipPath>\n",
       "</defs>\n",
       "<path clip-path=\"url(#clip870)\" d=\"M186.274 1474.16 L2352.76 1474.16 L2352.76 47.2441 L186.274 47.2441  Z\" fill=\"#ffffff\" fill-rule=\"evenodd\" fill-opacity=\"1\"/>\n",
       "<defs>\n",
       "  <clipPath id=\"clip872\">\n",
       "    <rect x=\"186\" y=\"47\" width=\"2167\" height=\"1428\"/>\n",
       "  </clipPath>\n",
       "</defs>\n",
       "<polyline clip-path=\"url(#clip872)\" style=\"stroke:#000000; stroke-linecap:round; stroke-linejoin:round; stroke-width:2; stroke-opacity:0.1; fill:none\" points=\"247.59,1474.16 247.59,47.2441 \"/>\n",
       "<polyline clip-path=\"url(#clip872)\" style=\"stroke:#000000; stroke-linecap:round; stroke-linejoin:round; stroke-width:2; stroke-opacity:0.1; fill:none\" points=\"720.708,1474.16 720.708,47.2441 \"/>\n",
       "<polyline clip-path=\"url(#clip872)\" style=\"stroke:#000000; stroke-linecap:round; stroke-linejoin:round; stroke-width:2; stroke-opacity:0.1; fill:none\" points=\"1193.83,1474.16 1193.83,47.2441 \"/>\n",
       "<polyline clip-path=\"url(#clip872)\" style=\"stroke:#000000; stroke-linecap:round; stroke-linejoin:round; stroke-width:2; stroke-opacity:0.1; fill:none\" points=\"1666.95,1474.16 1666.95,47.2441 \"/>\n",
       "<polyline clip-path=\"url(#clip872)\" style=\"stroke:#000000; stroke-linecap:round; stroke-linejoin:round; stroke-width:2; stroke-opacity:0.1; fill:none\" points=\"2140.06,1474.16 2140.06,47.2441 \"/>\n",
       "<polyline clip-path=\"url(#clip870)\" style=\"stroke:#000000; stroke-linecap:round; stroke-linejoin:round; stroke-width:4; stroke-opacity:1; fill:none\" points=\"186.274,1474.16 2352.76,1474.16 \"/>\n",
       "<polyline clip-path=\"url(#clip870)\" style=\"stroke:#000000; stroke-linecap:round; stroke-linejoin:round; stroke-width:4; stroke-opacity:1; fill:none\" points=\"247.59,1474.16 247.59,1455.27 \"/>\n",
       "<polyline clip-path=\"url(#clip870)\" style=\"stroke:#000000; stroke-linecap:round; stroke-linejoin:round; stroke-width:4; stroke-opacity:1; fill:none\" points=\"720.708,1474.16 720.708,1455.27 \"/>\n",
       "<polyline clip-path=\"url(#clip870)\" style=\"stroke:#000000; stroke-linecap:round; stroke-linejoin:round; stroke-width:4; stroke-opacity:1; fill:none\" points=\"1193.83,1474.16 1193.83,1455.27 \"/>\n",
       "<polyline clip-path=\"url(#clip870)\" style=\"stroke:#000000; stroke-linecap:round; stroke-linejoin:round; stroke-width:4; stroke-opacity:1; fill:none\" points=\"1666.95,1474.16 1666.95,1455.27 \"/>\n",
       "<polyline clip-path=\"url(#clip870)\" style=\"stroke:#000000; stroke-linecap:round; stroke-linejoin:round; stroke-width:4; stroke-opacity:1; fill:none\" points=\"2140.06,1474.16 2140.06,1455.27 \"/>\n",
       "<path clip-path=\"url(#clip870)\" d=\"M247.59 1505.08 Q243.978 1505.08 242.15 1508.65 Q240.344 1512.19 240.344 1519.32 Q240.344 1526.43 242.15 1529.99 Q243.978 1533.53 247.59 1533.53 Q251.224 1533.53 253.029 1529.99 Q254.858 1526.43 254.858 1519.32 Q254.858 1512.19 253.029 1508.65 Q251.224 1505.08 247.59 1505.08 M247.59 1501.38 Q253.4 1501.38 256.455 1505.99 Q259.534 1510.57 259.534 1519.32 Q259.534 1528.05 256.455 1532.65 Q253.4 1537.24 247.59 1537.24 Q241.779 1537.24 238.701 1532.65 Q235.645 1528.05 235.645 1519.32 Q235.645 1510.57 238.701 1505.99 Q241.779 1501.38 247.59 1501.38 Z\" fill=\"#000000\" fill-rule=\"nonzero\" fill-opacity=\"1\" /><path clip-path=\"url(#clip870)\" d=\"M617.157 1548.29 L633.476 1548.29 L633.476 1552.22 L611.532 1552.22 L611.532 1548.29 Q614.194 1545.53 618.777 1540.91 Q623.384 1536.25 624.564 1534.91 Q626.81 1532.39 627.689 1530.65 Q628.592 1528.89 628.592 1527.2 Q628.592 1524.45 626.647 1522.71 Q624.726 1520.97 621.624 1520.97 Q619.425 1520.97 616.972 1521.74 Q614.541 1522.5 611.763 1524.05 L611.763 1519.33 Q614.587 1518.2 617.041 1517.62 Q619.495 1517.04 621.532 1517.04 Q626.902 1517.04 630.097 1519.72 Q633.291 1522.41 633.291 1526.9 Q633.291 1529.03 632.481 1530.95 Q631.694 1532.85 629.587 1535.44 Q629.009 1536.11 625.907 1539.33 Q622.805 1542.53 617.157 1548.29 Z\" fill=\"#000000\" fill-rule=\"nonzero\" fill-opacity=\"1\" /><path clip-path=\"url(#clip870)\" d=\"M643.291 1546.35 L648.175 1546.35 L648.175 1552.22 L643.291 1552.22 L643.291 1546.35 Z\" fill=\"#000000\" fill-rule=\"nonzero\" fill-opacity=\"1\" /><path clip-path=\"url(#clip870)\" d=\"M658.407 1517.66 L676.763 1517.66 L676.763 1521.6 L662.689 1521.6 L662.689 1530.07 Q663.707 1529.72 664.726 1529.56 Q665.744 1529.38 666.763 1529.38 Q672.55 1529.38 675.93 1532.55 Q679.309 1535.72 679.309 1541.14 Q679.309 1546.72 675.837 1549.82 Q672.365 1552.9 666.045 1552.9 Q663.87 1552.9 661.601 1552.53 Q659.356 1552.16 656.948 1551.41 L656.948 1546.72 Q659.032 1547.85 661.254 1548.41 Q663.476 1548.96 665.953 1548.96 Q669.957 1548.96 672.295 1546.85 Q674.633 1544.75 674.633 1541.14 Q674.633 1537.53 672.295 1535.42 Q669.957 1533.31 665.953 1533.31 Q664.078 1533.31 662.203 1533.73 Q660.351 1534.15 658.407 1535.03 L658.407 1517.66 Z\" fill=\"#000000\" fill-rule=\"nonzero\" fill-opacity=\"1\" /><path clip-path=\"url(#clip870)\" d=\"M698.522 1520.74 Q694.911 1520.74 693.082 1524.31 Q691.277 1527.85 691.277 1534.98 Q691.277 1542.09 693.082 1545.65 Q694.911 1549.19 698.522 1549.19 Q702.156 1549.19 703.962 1545.65 Q705.791 1542.09 705.791 1534.98 Q705.791 1527.85 703.962 1524.31 Q702.156 1520.74 698.522 1520.74 M698.522 1517.04 Q704.332 1517.04 707.388 1521.65 Q710.466 1526.23 710.466 1534.98 Q710.466 1543.71 707.388 1548.31 Q704.332 1552.9 698.522 1552.9 Q692.712 1552.9 689.633 1548.31 Q686.578 1543.71 686.578 1534.98 Q686.578 1526.23 689.633 1521.65 Q692.712 1517.04 698.522 1517.04 Z\" fill=\"#000000\" fill-rule=\"nonzero\" fill-opacity=\"1\" /><path clip-path=\"url(#clip870)\" d=\"M746.855 1526.76 L736.277 1537.39 L746.855 1547.97 L744.101 1550.77 L733.476 1540.14 L722.851 1550.77 L720.119 1547.97 L730.675 1537.39 L720.119 1526.76 L722.851 1523.96 L733.476 1534.59 L744.101 1523.96 L746.855 1526.76 Z\" fill=\"#000000\" fill-rule=\"nonzero\" fill-opacity=\"1\" /><path clip-path=\"url(#clip870)\" d=\"M759.216 1548.29 L766.855 1548.29 L766.855 1521.92 L758.545 1523.59 L758.545 1519.33 L766.809 1517.66 L771.485 1517.66 L771.485 1548.29 L779.124 1548.29 L779.124 1552.22 L759.216 1552.22 L759.216 1548.29 Z\" fill=\"#000000\" fill-rule=\"nonzero\" fill-opacity=\"1\" /><path clip-path=\"url(#clip870)\" d=\"M798.568 1520.74 Q794.957 1520.74 793.128 1524.31 Q791.323 1527.85 791.323 1534.98 Q791.323 1542.09 793.128 1545.65 Q794.957 1549.19 798.568 1549.19 Q802.202 1549.19 804.008 1545.65 Q805.836 1542.09 805.836 1534.98 Q805.836 1527.85 804.008 1524.31 Q802.202 1520.74 798.568 1520.74 M798.568 1517.04 Q804.378 1517.04 807.434 1521.65 Q810.512 1526.23 810.512 1534.98 Q810.512 1543.71 807.434 1548.31 Q804.378 1552.9 798.568 1552.9 Q792.758 1552.9 789.679 1548.31 Q786.623 1543.71 786.623 1534.98 Q786.623 1526.23 789.679 1521.65 Q792.758 1517.04 798.568 1517.04 Z\" fill=\"#000000\" fill-rule=\"nonzero\" fill-opacity=\"1\" /><path clip-path=\"url(#clip870)\" d=\"M812.318 1524.23 L812.318 1520.77 Q813.747 1521.45 815.214 1521.81 Q816.681 1522.16 818.092 1522.16 Q821.853 1522.16 823.828 1519.64 Q825.822 1517.1 826.104 1511.95 Q825.013 1513.57 823.339 1514.43 Q821.665 1515.3 819.634 1515.3 Q815.421 1515.3 812.957 1512.76 Q810.512 1510.2 810.512 1505.78 Q810.512 1501.46 813.07 1498.84 Q815.628 1496.23 819.879 1496.23 Q824.75 1496.23 827.308 1499.97 Q829.884 1503.69 829.884 1510.8 Q829.884 1517.44 826.725 1521.41 Q823.584 1525.36 818.261 1525.36 Q816.832 1525.36 815.365 1525.08 Q813.898 1524.8 812.318 1524.23 M819.879 1512.33 Q822.436 1512.33 823.922 1510.58 Q825.427 1508.83 825.427 1505.78 Q825.427 1502.75 823.922 1501 Q822.436 1499.24 819.879 1499.24 Q817.321 1499.24 815.816 1501 Q814.33 1502.75 814.33 1505.78 Q814.33 1508.83 815.816 1510.58 Q817.321 1512.33 819.879 1512.33 Z\" fill=\"#000000\" fill-rule=\"nonzero\" fill-opacity=\"1\" /><path clip-path=\"url(#clip870)\" d=\"M1086.2 1517.66 L1104.56 1517.66 L1104.56 1521.6 L1090.48 1521.6 L1090.48 1530.07 Q1091.5 1529.72 1092.52 1529.56 Q1093.54 1529.38 1094.56 1529.38 Q1100.34 1529.38 1103.72 1532.55 Q1107.1 1535.72 1107.1 1541.14 Q1107.1 1546.72 1103.63 1549.82 Q1100.16 1552.9 1093.84 1552.9 Q1091.66 1552.9 1089.4 1552.53 Q1087.15 1552.16 1084.74 1551.41 L1084.74 1546.72 Q1086.83 1547.85 1089.05 1548.41 Q1091.27 1548.96 1093.75 1548.96 Q1097.75 1548.96 1100.09 1546.85 Q1102.43 1544.75 1102.43 1541.14 Q1102.43 1537.53 1100.09 1535.42 Q1097.75 1533.31 1093.75 1533.31 Q1091.87 1533.31 1090 1533.73 Q1088.15 1534.15 1086.2 1535.03 L1086.2 1517.66 Z\" fill=\"#000000\" fill-rule=\"nonzero\" fill-opacity=\"1\" /><path clip-path=\"url(#clip870)\" d=\"M1116.32 1546.35 L1121.2 1546.35 L1121.2 1552.22 L1116.32 1552.22 L1116.32 1546.35 Z\" fill=\"#000000\" fill-rule=\"nonzero\" fill-opacity=\"1\" /><path clip-path=\"url(#clip870)\" d=\"M1141.39 1520.74 Q1137.78 1520.74 1135.95 1524.31 Q1134.14 1527.85 1134.14 1534.98 Q1134.14 1542.09 1135.95 1545.65 Q1137.78 1549.19 1141.39 1549.19 Q1145.02 1549.19 1146.83 1545.65 Q1148.65 1542.09 1148.65 1534.98 Q1148.65 1527.85 1146.83 1524.31 Q1145.02 1520.74 1141.39 1520.74 M1141.39 1517.04 Q1147.2 1517.04 1150.25 1521.65 Q1153.33 1526.23 1153.33 1534.98 Q1153.33 1543.71 1150.25 1548.31 Q1147.2 1552.9 1141.39 1552.9 Q1135.58 1552.9 1132.5 1548.31 Q1129.44 1543.71 1129.44 1534.98 Q1129.44 1526.23 1132.5 1521.65 Q1135.58 1517.04 1141.39 1517.04 Z\" fill=\"#000000\" fill-rule=\"nonzero\" fill-opacity=\"1\" /><path clip-path=\"url(#clip870)\" d=\"M1171.55 1520.74 Q1167.94 1520.74 1166.11 1524.31 Q1164.3 1527.85 1164.3 1534.98 Q1164.3 1542.09 1166.11 1545.65 Q1167.94 1549.19 1171.55 1549.19 Q1175.18 1549.19 1176.99 1545.65 Q1178.82 1542.09 1178.82 1534.98 Q1178.82 1527.85 1176.99 1524.31 Q1175.18 1520.74 1171.55 1520.74 M1171.55 1517.04 Q1177.36 1517.04 1180.41 1521.65 Q1183.49 1526.23 1183.49 1534.98 Q1183.49 1543.71 1180.41 1548.31 Q1177.36 1552.9 1171.55 1552.9 Q1165.74 1552.9 1162.66 1548.31 Q1159.6 1543.71 1159.6 1534.98 Q1159.6 1526.23 1162.66 1521.65 Q1165.74 1517.04 1171.55 1517.04 Z\" fill=\"#000000\" fill-rule=\"nonzero\" fill-opacity=\"1\" /><path clip-path=\"url(#clip870)\" d=\"M1219.88 1526.76 L1209.3 1537.39 L1219.88 1547.97 L1217.13 1550.77 L1206.5 1540.14 L1195.88 1550.77 L1193.15 1547.97 L1203.7 1537.39 L1193.15 1526.76 L1195.88 1523.96 L1206.5 1534.59 L1217.13 1523.96 L1219.88 1526.76 Z\" fill=\"#000000\" fill-rule=\"nonzero\" fill-opacity=\"1\" /><path clip-path=\"url(#clip870)\" d=\"M1232.24 1548.29 L1239.88 1548.29 L1239.88 1521.92 L1231.57 1523.59 L1231.57 1519.33 L1239.83 1517.66 L1244.51 1517.66 L1244.51 1548.29 L1252.15 1548.29 L1252.15 1552.22 L1232.24 1552.22 L1232.24 1548.29 Z\" fill=\"#000000\" fill-rule=\"nonzero\" fill-opacity=\"1\" /><path clip-path=\"url(#clip870)\" d=\"M1271.59 1520.74 Q1267.98 1520.74 1266.15 1524.31 Q1264.35 1527.85 1264.35 1534.98 Q1264.35 1542.09 1266.15 1545.65 Q1267.98 1549.19 1271.59 1549.19 Q1275.23 1549.19 1277.03 1545.65 Q1278.86 1542.09 1278.86 1534.98 Q1278.86 1527.85 1277.03 1524.31 Q1275.23 1520.74 1271.59 1520.74 M1271.59 1517.04 Q1277.4 1517.04 1280.46 1521.65 Q1283.54 1526.23 1283.54 1534.98 Q1283.54 1543.71 1280.46 1548.31 Q1277.4 1552.9 1271.59 1552.9 Q1265.78 1552.9 1262.7 1548.31 Q1259.65 1543.71 1259.65 1534.98 Q1259.65 1526.23 1262.7 1521.65 Q1265.78 1517.04 1271.59 1517.04 Z\" fill=\"#000000\" fill-rule=\"nonzero\" fill-opacity=\"1\" /><path clip-path=\"url(#clip870)\" d=\"M1285.34 1524.23 L1285.34 1520.77 Q1286.77 1521.45 1288.24 1521.81 Q1289.71 1522.16 1291.12 1522.16 Q1294.88 1522.16 1296.85 1519.64 Q1298.85 1517.1 1299.13 1511.95 Q1298.04 1513.57 1296.37 1514.43 Q1294.69 1515.3 1292.66 1515.3 Q1288.45 1515.3 1285.98 1512.76 Q1283.54 1510.2 1283.54 1505.78 Q1283.54 1501.46 1286.1 1498.84 Q1288.65 1496.23 1292.9 1496.23 Q1297.78 1496.23 1300.33 1499.97 Q1302.91 1503.69 1302.91 1510.8 Q1302.91 1517.44 1299.75 1521.41 Q1296.61 1525.36 1291.29 1525.36 Q1289.86 1525.36 1288.39 1525.08 Q1286.92 1524.8 1285.34 1524.23 M1292.9 1512.33 Q1295.46 1512.33 1296.95 1510.58 Q1298.45 1508.83 1298.45 1505.78 Q1298.45 1502.75 1296.95 1501 Q1295.46 1499.24 1292.9 1499.24 Q1290.35 1499.24 1288.84 1501 Q1287.36 1502.75 1287.36 1505.78 Q1287.36 1508.83 1288.84 1510.58 Q1290.35 1512.33 1292.9 1512.33 Z\" fill=\"#000000\" fill-rule=\"nonzero\" fill-opacity=\"1\" /><path clip-path=\"url(#clip870)\" d=\"M1557.98 1517.66 L1580.2 1517.66 L1580.2 1519.66 L1567.65 1552.22 L1562.77 1552.22 L1574.57 1521.6 L1557.98 1521.6 L1557.98 1517.66 Z\" fill=\"#000000\" fill-rule=\"nonzero\" fill-opacity=\"1\" /><path clip-path=\"url(#clip870)\" d=\"M1589.32 1546.35 L1594.2 1546.35 L1594.2 1552.22 L1589.32 1552.22 L1589.32 1546.35 Z\" fill=\"#000000\" fill-rule=\"nonzero\" fill-opacity=\"1\" /><path clip-path=\"url(#clip870)\" d=\"M1604.44 1517.66 L1622.79 1517.66 L1622.79 1521.6 L1608.72 1521.6 L1608.72 1530.07 Q1609.74 1529.72 1610.75 1529.56 Q1611.77 1529.38 1612.79 1529.38 Q1618.58 1529.38 1621.96 1532.55 Q1625.34 1535.72 1625.34 1541.14 Q1625.34 1546.72 1621.87 1549.82 Q1618.39 1552.9 1612.07 1552.9 Q1609.9 1552.9 1607.63 1552.53 Q1605.38 1552.16 1602.98 1551.41 L1602.98 1546.72 Q1605.06 1547.85 1607.28 1548.41 Q1609.5 1548.96 1611.98 1548.96 Q1615.99 1548.96 1618.32 1546.85 Q1620.66 1544.75 1620.66 1541.14 Q1620.66 1537.53 1618.32 1535.42 Q1615.99 1533.31 1611.98 1533.31 Q1610.11 1533.31 1608.23 1533.73 Q1606.38 1534.15 1604.44 1535.03 L1604.44 1517.66 Z\" fill=\"#000000\" fill-rule=\"nonzero\" fill-opacity=\"1\" /><path clip-path=\"url(#clip870)\" d=\"M1644.55 1520.74 Q1640.94 1520.74 1639.11 1524.31 Q1637.31 1527.85 1637.31 1534.98 Q1637.31 1542.09 1639.11 1545.65 Q1640.94 1549.19 1644.55 1549.19 Q1648.19 1549.19 1649.99 1545.65 Q1651.82 1542.09 1651.82 1534.98 Q1651.82 1527.85 1649.99 1524.31 Q1648.19 1520.74 1644.55 1520.74 M1644.55 1517.04 Q1650.36 1517.04 1653.42 1521.65 Q1656.5 1526.23 1656.5 1534.98 Q1656.5 1543.71 1653.42 1548.31 Q1650.36 1552.9 1644.55 1552.9 Q1638.74 1552.9 1635.66 1548.31 Q1632.61 1543.71 1632.61 1534.98 Q1632.61 1526.23 1635.66 1521.65 Q1638.74 1517.04 1644.55 1517.04 Z\" fill=\"#000000\" fill-rule=\"nonzero\" fill-opacity=\"1\" /><path clip-path=\"url(#clip870)\" d=\"M1692.88 1526.76 L1682.31 1537.39 L1692.88 1547.97 L1690.13 1550.77 L1679.5 1540.14 L1668.88 1550.77 L1666.15 1547.97 L1676.7 1537.39 L1666.15 1526.76 L1668.88 1523.96 L1679.5 1534.59 L1690.13 1523.96 L1692.88 1526.76 Z\" fill=\"#000000\" fill-rule=\"nonzero\" fill-opacity=\"1\" /><path clip-path=\"url(#clip870)\" d=\"M1705.24 1548.29 L1712.88 1548.29 L1712.88 1521.92 L1704.57 1523.59 L1704.57 1519.33 L1712.84 1517.66 L1717.51 1517.66 L1717.51 1548.29 L1725.15 1548.29 L1725.15 1552.22 L1705.24 1552.22 L1705.24 1548.29 Z\" fill=\"#000000\" fill-rule=\"nonzero\" fill-opacity=\"1\" /><path clip-path=\"url(#clip870)\" d=\"M1744.6 1520.74 Q1740.99 1520.74 1739.16 1524.31 Q1737.35 1527.85 1737.35 1534.98 Q1737.35 1542.09 1739.16 1545.65 Q1740.99 1549.19 1744.6 1549.19 Q1748.23 1549.19 1750.04 1545.65 Q1751.87 1542.09 1751.87 1534.98 Q1751.87 1527.85 1750.04 1524.31 Q1748.23 1520.74 1744.6 1520.74 M1744.6 1517.04 Q1750.41 1517.04 1753.46 1521.65 Q1756.54 1526.23 1756.54 1534.98 Q1756.54 1543.71 1753.46 1548.31 Q1750.41 1552.9 1744.6 1552.9 Q1738.79 1552.9 1735.71 1548.31 Q1732.65 1543.71 1732.65 1534.98 Q1732.65 1526.23 1735.71 1521.65 Q1738.79 1517.04 1744.6 1517.04 Z\" fill=\"#000000\" fill-rule=\"nonzero\" fill-opacity=\"1\" /><path clip-path=\"url(#clip870)\" d=\"M1758.35 1524.23 L1758.35 1520.77 Q1759.78 1521.45 1761.24 1521.81 Q1762.71 1522.16 1764.12 1522.16 Q1767.88 1522.16 1769.86 1519.64 Q1771.85 1517.1 1772.13 1511.95 Q1771.04 1513.57 1769.37 1514.43 Q1767.69 1515.3 1765.66 1515.3 Q1761.45 1515.3 1758.99 1512.76 Q1756.54 1510.2 1756.54 1505.78 Q1756.54 1501.46 1759.1 1498.84 Q1761.66 1496.23 1765.91 1496.23 Q1770.78 1496.23 1773.34 1499.97 Q1775.91 1503.69 1775.91 1510.8 Q1775.91 1517.44 1772.75 1521.41 Q1769.61 1525.36 1764.29 1525.36 Q1762.86 1525.36 1761.39 1525.08 Q1759.93 1524.8 1758.35 1524.23 M1765.91 1512.33 Q1768.47 1512.33 1769.95 1510.58 Q1771.46 1508.83 1771.46 1505.78 Q1771.46 1502.75 1769.95 1501 Q1768.47 1499.24 1765.91 1499.24 Q1763.35 1499.24 1761.84 1501 Q1760.36 1502.75 1760.36 1505.78 Q1760.36 1508.83 1761.84 1510.58 Q1763.35 1512.33 1765.91 1512.33 Z\" fill=\"#000000\" fill-rule=\"nonzero\" fill-opacity=\"1\" /><path clip-path=\"url(#clip870)\" d=\"M2021 1548.29 L2028.64 1548.29 L2028.64 1521.92 L2020.33 1523.59 L2020.33 1519.33 L2028.59 1517.66 L2033.27 1517.66 L2033.27 1548.29 L2040.91 1548.29 L2040.91 1552.22 L2021 1552.22 L2021 1548.29 Z\" fill=\"#000000\" fill-rule=\"nonzero\" fill-opacity=\"1\" /><path clip-path=\"url(#clip870)\" d=\"M2050.35 1546.35 L2055.24 1546.35 L2055.24 1552.22 L2050.35 1552.22 L2050.35 1546.35 Z\" fill=\"#000000\" fill-rule=\"nonzero\" fill-opacity=\"1\" /><path clip-path=\"url(#clip870)\" d=\"M2075.42 1520.74 Q2071.81 1520.74 2069.98 1524.31 Q2068.18 1527.85 2068.18 1534.98 Q2068.18 1542.09 2069.98 1545.65 Q2071.81 1549.19 2075.42 1549.19 Q2079.06 1549.19 2080.86 1545.65 Q2082.69 1542.09 2082.69 1534.98 Q2082.69 1527.85 2080.86 1524.31 Q2079.06 1520.74 2075.42 1520.74 M2075.42 1517.04 Q2081.23 1517.04 2084.29 1521.65 Q2087.37 1526.23 2087.37 1534.98 Q2087.37 1543.71 2084.29 1548.31 Q2081.23 1552.9 2075.42 1552.9 Q2069.61 1552.9 2066.53 1548.31 Q2063.48 1543.71 2063.48 1534.98 Q2063.48 1526.23 2066.53 1521.65 Q2069.61 1517.04 2075.42 1517.04 Z\" fill=\"#000000\" fill-rule=\"nonzero\" fill-opacity=\"1\" /><path clip-path=\"url(#clip870)\" d=\"M2105.58 1520.74 Q2101.97 1520.74 2100.14 1524.31 Q2098.34 1527.85 2098.34 1534.98 Q2098.34 1542.09 2100.14 1545.65 Q2101.97 1549.19 2105.58 1549.19 Q2109.22 1549.19 2111.02 1545.65 Q2112.85 1542.09 2112.85 1534.98 Q2112.85 1527.85 2111.02 1524.31 Q2109.22 1520.74 2105.58 1520.74 M2105.58 1517.04 Q2111.39 1517.04 2114.45 1521.65 Q2117.53 1526.23 2117.53 1534.98 Q2117.53 1543.71 2114.45 1548.31 Q2111.39 1552.9 2105.58 1552.9 Q2099.77 1552.9 2096.69 1548.31 Q2093.64 1543.71 2093.64 1534.98 Q2093.64 1526.23 2096.69 1521.65 Q2099.77 1517.04 2105.58 1517.04 Z\" fill=\"#000000\" fill-rule=\"nonzero\" fill-opacity=\"1\" /><path clip-path=\"url(#clip870)\" d=\"M2153.92 1526.76 L2143.34 1537.39 L2153.92 1547.97 L2151.16 1550.77 L2140.54 1540.14 L2129.91 1550.77 L2127.18 1547.97 L2137.74 1537.39 L2127.18 1526.76 L2129.91 1523.96 L2140.54 1534.59 L2151.16 1523.96 L2153.92 1526.76 Z\" fill=\"#000000\" fill-rule=\"nonzero\" fill-opacity=\"1\" /><path clip-path=\"url(#clip870)\" d=\"M2166.28 1548.29 L2173.92 1548.29 L2173.92 1521.92 L2165.61 1523.59 L2165.61 1519.33 L2173.87 1517.66 L2178.55 1517.66 L2178.55 1548.29 L2186.19 1548.29 L2186.19 1552.22 L2166.28 1552.22 L2166.28 1548.29 Z\" fill=\"#000000\" fill-rule=\"nonzero\" fill-opacity=\"1\" /><path clip-path=\"url(#clip870)\" d=\"M2205.63 1520.74 Q2202.02 1520.74 2200.19 1524.31 Q2198.38 1527.85 2198.38 1534.98 Q2198.38 1542.09 2200.19 1545.65 Q2202.02 1549.19 2205.63 1549.19 Q2209.26 1549.19 2211.07 1545.65 Q2212.9 1542.09 2212.9 1534.98 Q2212.9 1527.85 2211.07 1524.31 Q2209.26 1520.74 2205.63 1520.74 M2205.63 1517.04 Q2211.44 1517.04 2214.5 1521.65 Q2217.57 1526.23 2217.57 1534.98 Q2217.57 1543.71 2214.5 1548.31 Q2211.44 1552.9 2205.63 1552.9 Q2199.82 1552.9 2196.74 1548.31 Q2193.69 1543.71 2193.69 1534.98 Q2193.69 1526.23 2196.74 1521.65 Q2199.82 1517.04 2205.63 1517.04 Z\" fill=\"#000000\" fill-rule=\"nonzero\" fill-opacity=\"1\" /><path clip-path=\"url(#clip870)\" d=\"M2218.12 1521.62 L2224.33 1521.62 L2224.33 1500.19 L2217.57 1501.55 L2217.57 1498.09 L2224.29 1496.73 L2228.09 1496.73 L2228.09 1521.62 L2234.29 1521.62 L2234.29 1524.81 L2218.12 1524.81 L2218.12 1521.62 Z\" fill=\"#000000\" fill-rule=\"nonzero\" fill-opacity=\"1\" /><path clip-path=\"url(#clip870)\" d=\"M2250.09 1499.24 Q2247.16 1499.24 2245.67 1502.13 Q2244.21 1505.01 2244.21 1510.8 Q2244.21 1516.58 2245.67 1519.47 Q2247.16 1522.35 2250.09 1522.35 Q2253.05 1522.35 2254.51 1519.47 Q2256 1516.58 2256 1510.8 Q2256 1505.01 2254.51 1502.13 Q2253.05 1499.24 2250.09 1499.24 M2250.09 1496.23 Q2254.81 1496.23 2257.3 1499.97 Q2259.8 1503.69 2259.8 1510.8 Q2259.8 1517.89 2257.3 1521.64 Q2254.81 1525.36 2250.09 1525.36 Q2245.37 1525.36 2242.87 1521.64 Q2240.39 1517.89 2240.39 1510.8 Q2240.39 1503.69 2242.87 1499.97 Q2245.37 1496.23 2250.09 1496.23 Z\" fill=\"#000000\" fill-rule=\"nonzero\" fill-opacity=\"1\" /><polyline clip-path=\"url(#clip872)\" style=\"stroke:#000000; stroke-linecap:round; stroke-linejoin:round; stroke-width:2; stroke-opacity:0.1; fill:none\" points=\"186.274,1433.78 2352.76,1433.78 \"/>\n",
       "<polyline clip-path=\"url(#clip872)\" style=\"stroke:#000000; stroke-linecap:round; stroke-linejoin:round; stroke-width:2; stroke-opacity:0.1; fill:none\" points=\"186.274,1097.24 2352.76,1097.24 \"/>\n",
       "<polyline clip-path=\"url(#clip872)\" style=\"stroke:#000000; stroke-linecap:round; stroke-linejoin:round; stroke-width:2; stroke-opacity:0.1; fill:none\" points=\"186.274,760.704 2352.76,760.704 \"/>\n",
       "<polyline clip-path=\"url(#clip872)\" style=\"stroke:#000000; stroke-linecap:round; stroke-linejoin:round; stroke-width:2; stroke-opacity:0.1; fill:none\" points=\"186.274,424.167 2352.76,424.167 \"/>\n",
       "<polyline clip-path=\"url(#clip872)\" style=\"stroke:#000000; stroke-linecap:round; stroke-linejoin:round; stroke-width:2; stroke-opacity:0.1; fill:none\" points=\"186.274,87.6286 2352.76,87.6286 \"/>\n",
       "<polyline clip-path=\"url(#clip870)\" style=\"stroke:#000000; stroke-linecap:round; stroke-linejoin:round; stroke-width:4; stroke-opacity:1; fill:none\" points=\"186.274,1474.16 186.274,47.2441 \"/>\n",
       "<polyline clip-path=\"url(#clip870)\" style=\"stroke:#000000; stroke-linecap:round; stroke-linejoin:round; stroke-width:4; stroke-opacity:1; fill:none\" points=\"186.274,1433.78 205.172,1433.78 \"/>\n",
       "<polyline clip-path=\"url(#clip870)\" style=\"stroke:#000000; stroke-linecap:round; stroke-linejoin:round; stroke-width:4; stroke-opacity:1; fill:none\" points=\"186.274,1097.24 205.172,1097.24 \"/>\n",
       "<polyline clip-path=\"url(#clip870)\" style=\"stroke:#000000; stroke-linecap:round; stroke-linejoin:round; stroke-width:4; stroke-opacity:1; fill:none\" points=\"186.274,760.704 205.172,760.704 \"/>\n",
       "<polyline clip-path=\"url(#clip870)\" style=\"stroke:#000000; stroke-linecap:round; stroke-linejoin:round; stroke-width:4; stroke-opacity:1; fill:none\" points=\"186.274,424.167 205.172,424.167 \"/>\n",
       "<polyline clip-path=\"url(#clip870)\" style=\"stroke:#000000; stroke-linecap:round; stroke-linejoin:round; stroke-width:4; stroke-opacity:1; fill:none\" points=\"186.274,87.6286 205.172,87.6286 \"/>\n",
       "<path clip-path=\"url(#clip870)\" d=\"M62.9365 1419.58 Q59.3254 1419.58 57.4967 1423.14 Q55.6912 1426.69 55.6912 1433.81 Q55.6912 1440.92 57.4967 1444.49 Q59.3254 1448.03 62.9365 1448.03 Q66.5707 1448.03 68.3763 1444.49 Q70.205 1440.92 70.205 1433.81 Q70.205 1426.69 68.3763 1423.14 Q66.5707 1419.58 62.9365 1419.58 M62.9365 1415.88 Q68.7467 1415.88 71.8022 1420.48 Q74.8809 1425.06 74.8809 1433.81 Q74.8809 1442.54 71.8022 1447.15 Q68.7467 1451.73 62.9365 1451.73 Q57.1264 1451.73 54.0477 1447.15 Q50.9921 1442.54 50.9921 1433.81 Q50.9921 1425.06 54.0477 1420.48 Q57.1264 1415.88 62.9365 1415.88 Z\" fill=\"#000000\" fill-rule=\"nonzero\" fill-opacity=\"1\" /><path clip-path=\"url(#clip870)\" d=\"M83.0984 1445.18 L87.9827 1445.18 L87.9827 1451.06 L83.0984 1451.06 L83.0984 1445.18 Z\" fill=\"#000000\" fill-rule=\"nonzero\" fill-opacity=\"1\" /><path clip-path=\"url(#clip870)\" d=\"M108.168 1419.58 Q104.557 1419.58 102.728 1423.14 Q100.922 1426.69 100.922 1433.81 Q100.922 1440.92 102.728 1444.49 Q104.557 1448.03 108.168 1448.03 Q111.802 1448.03 113.608 1444.49 Q115.436 1440.92 115.436 1433.81 Q115.436 1426.69 113.608 1423.14 Q111.802 1419.58 108.168 1419.58 M108.168 1415.88 Q113.978 1415.88 117.033 1420.48 Q120.112 1425.06 120.112 1433.81 Q120.112 1442.54 117.033 1447.15 Q113.978 1451.73 108.168 1451.73 Q102.358 1451.73 99.2789 1447.15 Q96.2234 1442.54 96.2234 1433.81 Q96.2234 1425.06 99.2789 1420.48 Q102.358 1415.88 108.168 1415.88 Z\" fill=\"#000000\" fill-rule=\"nonzero\" fill-opacity=\"1\" /><path clip-path=\"url(#clip870)\" d=\"M138.33 1419.58 Q134.719 1419.58 132.89 1423.14 Q131.084 1426.69 131.084 1433.81 Q131.084 1440.92 132.89 1444.49 Q134.719 1448.03 138.33 1448.03 Q141.964 1448.03 143.769 1444.49 Q145.598 1440.92 145.598 1433.81 Q145.598 1426.69 143.769 1423.14 Q141.964 1419.58 138.33 1419.58 M138.33 1415.88 Q144.14 1415.88 147.195 1420.48 Q150.274 1425.06 150.274 1433.81 Q150.274 1442.54 147.195 1447.15 Q144.14 1451.73 138.33 1451.73 Q132.519 1451.73 129.441 1447.15 Q126.385 1442.54 126.385 1433.81 Q126.385 1425.06 129.441 1420.48 Q132.519 1415.88 138.33 1415.88 Z\" fill=\"#000000\" fill-rule=\"nonzero\" fill-opacity=\"1\" /><path clip-path=\"url(#clip870)\" d=\"M63.9319 1083.04 Q60.3208 1083.04 58.4921 1086.61 Q56.6865 1090.15 56.6865 1097.28 Q56.6865 1104.38 58.4921 1107.95 Q60.3208 1111.49 63.9319 1111.49 Q67.5661 1111.49 69.3717 1107.95 Q71.2004 1104.38 71.2004 1097.28 Q71.2004 1090.15 69.3717 1086.61 Q67.5661 1083.04 63.9319 1083.04 M63.9319 1079.34 Q69.742 1079.34 72.7976 1083.94 Q75.8763 1088.53 75.8763 1097.28 Q75.8763 1106 72.7976 1110.61 Q69.742 1115.19 63.9319 1115.19 Q58.1217 1115.19 55.043 1110.61 Q51.9875 1106 51.9875 1097.28 Q51.9875 1088.53 55.043 1083.94 Q58.1217 1079.34 63.9319 1079.34 Z\" fill=\"#000000\" fill-rule=\"nonzero\" fill-opacity=\"1\" /><path clip-path=\"url(#clip870)\" d=\"M84.0938 1108.64 L88.978 1108.64 L88.978 1114.52 L84.0938 1114.52 L84.0938 1108.64 Z\" fill=\"#000000\" fill-rule=\"nonzero\" fill-opacity=\"1\" /><path clip-path=\"url(#clip870)\" d=\"M103.191 1110.59 L119.51 1110.59 L119.51 1114.52 L97.566 1114.52 L97.566 1110.59 Q100.228 1107.83 104.811 1103.2 Q109.418 1098.55 110.598 1097.21 Q112.844 1094.68 113.723 1092.95 Q114.626 1091.19 114.626 1089.5 Q114.626 1086.74 112.682 1085.01 Q110.76 1083.27 107.658 1083.27 Q105.459 1083.27 103.006 1084.04 Q100.575 1084.8 97.7974 1086.35 L97.7974 1081.63 Q100.621 1080.49 103.075 1079.92 Q105.529 1079.34 107.566 1079.34 Q112.936 1079.34 116.131 1082.02 Q119.325 1084.71 119.325 1089.2 Q119.325 1091.33 118.515 1093.25 Q117.728 1095.15 115.621 1097.74 Q115.043 1098.41 111.941 1101.63 Q108.839 1104.82 103.191 1110.59 Z\" fill=\"#000000\" fill-rule=\"nonzero\" fill-opacity=\"1\" /><path clip-path=\"url(#clip870)\" d=\"M129.371 1079.96 L147.728 1079.96 L147.728 1083.9 L133.654 1083.9 L133.654 1092.37 Q134.672 1092.02 135.691 1091.86 Q136.709 1091.68 137.728 1091.68 Q143.515 1091.68 146.894 1094.85 Q150.274 1098.02 150.274 1103.43 Q150.274 1109.01 146.802 1112.11 Q143.33 1115.19 137.01 1115.19 Q134.834 1115.19 132.566 1114.82 Q130.32 1114.45 127.913 1113.71 L127.913 1109.01 Q129.996 1110.15 132.219 1110.7 Q134.441 1111.26 136.918 1111.26 Q140.922 1111.26 143.26 1109.15 Q145.598 1107.05 145.598 1103.43 Q145.598 1099.82 143.26 1097.72 Q140.922 1095.61 136.918 1095.61 Q135.043 1095.61 133.168 1096.03 Q131.316 1096.44 129.371 1097.32 L129.371 1079.96 Z\" fill=\"#000000\" fill-rule=\"nonzero\" fill-opacity=\"1\" /><path clip-path=\"url(#clip870)\" d=\"M62.9365 746.503 Q59.3254 746.503 57.4967 750.068 Q55.6912 753.61 55.6912 760.739 Q55.6912 767.846 57.4967 771.41 Q59.3254 774.952 62.9365 774.952 Q66.5707 774.952 68.3763 771.41 Q70.205 767.846 70.205 760.739 Q70.205 753.61 68.3763 750.068 Q66.5707 746.503 62.9365 746.503 M62.9365 742.799 Q68.7467 742.799 71.8022 747.406 Q74.8809 751.989 74.8809 760.739 Q74.8809 769.466 71.8022 774.072 Q68.7467 778.656 62.9365 778.656 Q57.1264 778.656 54.0477 774.072 Q50.9921 769.466 50.9921 760.739 Q50.9921 751.989 54.0477 747.406 Q57.1264 742.799 62.9365 742.799 Z\" fill=\"#000000\" fill-rule=\"nonzero\" fill-opacity=\"1\" /><path clip-path=\"url(#clip870)\" d=\"M83.0984 772.105 L87.9827 772.105 L87.9827 777.984 L83.0984 777.984 L83.0984 772.105 Z\" fill=\"#000000\" fill-rule=\"nonzero\" fill-opacity=\"1\" /><path clip-path=\"url(#clip870)\" d=\"M98.2141 743.424 L116.57 743.424 L116.57 747.36 L102.496 747.36 L102.496 755.832 Q103.515 755.485 104.534 755.322 Q105.552 755.137 106.571 755.137 Q112.358 755.137 115.737 758.309 Q119.117 761.48 119.117 766.896 Q119.117 772.475 115.645 775.577 Q112.172 778.656 105.853 778.656 Q103.677 778.656 101.409 778.285 Q99.1632 777.915 96.7558 777.174 L96.7558 772.475 Q98.8391 773.609 101.061 774.165 Q103.284 774.721 105.76 774.721 Q109.765 774.721 112.103 772.614 Q114.441 770.508 114.441 766.896 Q114.441 763.285 112.103 761.179 Q109.765 759.072 105.76 759.072 Q103.885 759.072 102.01 759.489 Q100.159 759.906 98.2141 760.785 L98.2141 743.424 Z\" fill=\"#000000\" fill-rule=\"nonzero\" fill-opacity=\"1\" /><path clip-path=\"url(#clip870)\" d=\"M138.33 746.503 Q134.719 746.503 132.89 750.068 Q131.084 753.61 131.084 760.739 Q131.084 767.846 132.89 771.41 Q134.719 774.952 138.33 774.952 Q141.964 774.952 143.769 771.41 Q145.598 767.846 145.598 760.739 Q145.598 753.61 143.769 750.068 Q141.964 746.503 138.33 746.503 M138.33 742.799 Q144.14 742.799 147.195 747.406 Q150.274 751.989 150.274 760.739 Q150.274 769.466 147.195 774.072 Q144.14 778.656 138.33 778.656 Q132.519 778.656 129.441 774.072 Q126.385 769.466 126.385 760.739 Q126.385 751.989 129.441 747.406 Q132.519 742.799 138.33 742.799 Z\" fill=\"#000000\" fill-rule=\"nonzero\" fill-opacity=\"1\" /><path clip-path=\"url(#clip870)\" d=\"M63.9319 409.965 Q60.3208 409.965 58.4921 413.53 Q56.6865 417.072 56.6865 424.201 Q56.6865 431.308 58.4921 434.872 Q60.3208 438.414 63.9319 438.414 Q67.5661 438.414 69.3717 434.872 Q71.2004 431.308 71.2004 424.201 Q71.2004 417.072 69.3717 413.53 Q67.5661 409.965 63.9319 409.965 M63.9319 406.262 Q69.742 406.262 72.7976 410.868 Q75.8763 415.451 75.8763 424.201 Q75.8763 432.928 72.7976 437.534 Q69.742 442.118 63.9319 442.118 Q58.1217 442.118 55.043 437.534 Q51.9875 432.928 51.9875 424.201 Q51.9875 415.451 55.043 410.868 Q58.1217 406.262 63.9319 406.262 Z\" fill=\"#000000\" fill-rule=\"nonzero\" fill-opacity=\"1\" /><path clip-path=\"url(#clip870)\" d=\"M84.0938 435.567 L88.978 435.567 L88.978 441.447 L84.0938 441.447 L84.0938 435.567 Z\" fill=\"#000000\" fill-rule=\"nonzero\" fill-opacity=\"1\" /><path clip-path=\"url(#clip870)\" d=\"M97.9826 406.887 L120.205 406.887 L120.205 408.877 L107.658 441.447 L102.774 441.447 L114.58 410.822 L97.9826 410.822 L97.9826 406.887 Z\" fill=\"#000000\" fill-rule=\"nonzero\" fill-opacity=\"1\" /><path clip-path=\"url(#clip870)\" d=\"M129.371 406.887 L147.728 406.887 L147.728 410.822 L133.654 410.822 L133.654 419.294 Q134.672 418.947 135.691 418.785 Q136.709 418.599 137.728 418.599 Q143.515 418.599 146.894 421.771 Q150.274 424.942 150.274 430.359 Q150.274 435.937 146.802 439.039 Q143.33 442.118 137.01 442.118 Q134.834 442.118 132.566 441.747 Q130.32 441.377 127.913 440.636 L127.913 435.937 Q129.996 437.072 132.219 437.627 Q134.441 438.183 136.918 438.183 Q140.922 438.183 143.26 436.076 Q145.598 433.97 145.598 430.359 Q145.598 426.748 143.26 424.641 Q140.922 422.535 136.918 422.535 Q135.043 422.535 133.168 422.951 Q131.316 423.368 129.371 424.248 L129.371 406.887 Z\" fill=\"#000000\" fill-rule=\"nonzero\" fill-opacity=\"1\" /><path clip-path=\"url(#clip870)\" d=\"M53.7467 100.973 L61.3856 100.973 L61.3856 74.6079 L53.0754 76.2745 L53.0754 72.0153 L61.3393 70.3486 L66.0152 70.3486 L66.0152 100.973 L73.654 100.973 L73.654 104.909 L53.7467 104.909 L53.7467 100.973 Z\" fill=\"#000000\" fill-rule=\"nonzero\" fill-opacity=\"1\" /><path clip-path=\"url(#clip870)\" d=\"M83.0984 99.029 L87.9827 99.029 L87.9827 104.909 L83.0984 104.909 L83.0984 99.029 Z\" fill=\"#000000\" fill-rule=\"nonzero\" fill-opacity=\"1\" /><path clip-path=\"url(#clip870)\" d=\"M108.168 73.4273 Q104.557 73.4273 102.728 76.9921 Q100.922 80.5338 100.922 87.6634 Q100.922 94.7698 102.728 98.3346 Q104.557 101.876 108.168 101.876 Q111.802 101.876 113.608 98.3346 Q115.436 94.7698 115.436 87.6634 Q115.436 80.5338 113.608 76.9921 Q111.802 73.4273 108.168 73.4273 M108.168 69.7236 Q113.978 69.7236 117.033 74.3301 Q120.112 78.9134 120.112 87.6634 Q120.112 96.3902 117.033 100.997 Q113.978 105.58 108.168 105.58 Q102.358 105.58 99.2789 100.997 Q96.2234 96.3902 96.2234 87.6634 Q96.2234 78.9134 99.2789 74.3301 Q102.358 69.7236 108.168 69.7236 Z\" fill=\"#000000\" fill-rule=\"nonzero\" fill-opacity=\"1\" /><path clip-path=\"url(#clip870)\" d=\"M138.33 73.4273 Q134.719 73.4273 132.89 76.9921 Q131.084 80.5338 131.084 87.6634 Q131.084 94.7698 132.89 98.3346 Q134.719 101.876 138.33 101.876 Q141.964 101.876 143.769 98.3346 Q145.598 94.7698 145.598 87.6634 Q145.598 80.5338 143.769 76.9921 Q141.964 73.4273 138.33 73.4273 M138.33 69.7236 Q144.14 69.7236 147.195 74.3301 Q150.274 78.9134 150.274 87.6634 Q150.274 96.3902 147.195 100.997 Q144.14 105.58 138.33 105.58 Q132.519 105.58 129.441 100.997 Q126.385 96.3902 126.385 87.6634 Q126.385 78.9134 129.441 74.3301 Q132.519 69.7236 138.33 69.7236 Z\" fill=\"#000000\" fill-rule=\"nonzero\" fill-opacity=\"1\" /><polyline clip-path=\"url(#clip872)\" style=\"stroke:#009af9; stroke-linecap:round; stroke-linejoin:round; stroke-width:4; stroke-opacity:1; fill:none\" points=\"247.59,87.6286 260.896,96.3928 383.935,177.43 457.876,226.13 520.392,267.306 588.302,312.034 650.909,353.269 718.031,397.478 795.798,448.698 864.908,494.216 925.511,534.131 991.585,577.65 1058.05,621.427 1131.54,669.828 1201.46,715.881 1274.16,763.765 1335.36,804.073 1410.08,853.284 1478.52,898.365 1541.74,940.001 1605.77,982.177 1677.54,1029.44 1742.57,1072.28 1817.03,1121.31 1885.97,1166.72 1953.93,1211.49 2019.92,1254.95 2087.57,1299.5 2161.69,1348.32 2269.35,1419.23 2291.44,1433.78 \"/>\n",
       "<path clip-path=\"url(#clip870)\" d=\"M2011.46 198.488 L2280.54 198.488 L2280.54 94.8081 L2011.46 94.8081  Z\" fill=\"#ffffff\" fill-rule=\"evenodd\" fill-opacity=\"1\"/>\n",
       "<polyline clip-path=\"url(#clip870)\" style=\"stroke:#000000; stroke-linecap:round; stroke-linejoin:round; stroke-width:4; stroke-opacity:1; fill:none\" points=\"2011.46,198.488 2280.54,198.488 2280.54,94.8081 2011.46,94.8081 2011.46,198.488 \"/>\n",
       "<polyline clip-path=\"url(#clip870)\" style=\"stroke:#009af9; stroke-linecap:round; stroke-linejoin:round; stroke-width:4; stroke-opacity:1; fill:none\" points=\"2035.53,146.648 2179.97,146.648 \"/>\n",
       "<path clip-path=\"url(#clip870)\" d=\"M2217.88 166.336 Q2216.07 170.965 2214.36 172.377 Q2212.65 173.789 2209.78 173.789 L2206.38 173.789 L2206.38 170.224 L2208.88 170.224 Q2210.63 170.224 2211.61 169.391 Q2212.58 168.558 2213.76 165.456 L2214.52 163.511 L2204.04 138.002 L2208.55 138.002 L2216.65 158.28 L2224.76 138.002 L2229.27 138.002 L2217.88 166.336 Z\" fill=\"#000000\" fill-rule=\"nonzero\" fill-opacity=\"1\" /><path clip-path=\"url(#clip870)\" d=\"M2236.56 159.993 L2244.2 159.993 L2244.2 133.627 L2235.89 135.294 L2235.89 131.035 L2244.15 129.368 L2248.83 129.368 L2248.83 159.993 L2256.47 159.993 L2256.47 163.928 L2236.56 163.928 L2236.56 159.993 Z\" fill=\"#000000\" fill-rule=\"nonzero\" fill-opacity=\"1\" /></svg>\n"
      ]
     },
     "execution_count": 45,
     "metadata": {},
     "output_type": "execute_result"
    }
   ],
   "source": [
    "## Attempt 1: linearly decline \n",
    "#l_max is the largest historical flood amount overall states overall years \n",
    "l_max = maximum(M_hist)\n",
    "#rate is 1/l_max \n",
    "println(\"l_max= \", l_max)\n",
    "\n",
    "\n",
    "function f_linear(p, slope = 1/l_max) #default rate is 1/P_max \n",
    "    f = 1 - slope*p \n",
    "    \n",
    "#     #set floor to zero: #this constraint is giving me problems \n",
    "#     if f<0\n",
    "#         f=0 \n",
    "#     end \n",
    "    \n",
    "    return f\n",
    "end \n",
    "\n",
    "f_linear(1)\n",
    "plot(f_linear, 0, l_max)"
   ]
  },
  {
   "cell_type": "code",
   "execution_count": 46,
   "metadata": {},
   "outputs": [
    {
     "data": {
      "image/svg+xml": [
       "<?xml version=\"1.0\" encoding=\"utf-8\"?>\n",
       "<svg xmlns=\"http://www.w3.org/2000/svg\" xmlns:xlink=\"http://www.w3.org/1999/xlink\" width=\"600\" height=\"400\" viewBox=\"0 0 2400 1600\">\n",
       "<defs>\n",
       "  <clipPath id=\"clip910\">\n",
       "    <rect x=\"0\" y=\"0\" width=\"2400\" height=\"1600\"/>\n",
       "  </clipPath>\n",
       "</defs>\n",
       "<path clip-path=\"url(#clip910)\" d=\"M0 1600 L2400 1600 L2400 0 L0 0  Z\" fill=\"#ffffff\" fill-rule=\"evenodd\" fill-opacity=\"1\"/>\n",
       "<defs>\n",
       "  <clipPath id=\"clip911\">\n",
       "    <rect x=\"480\" y=\"0\" width=\"1681\" height=\"1600\"/>\n",
       "  </clipPath>\n",
       "</defs>\n",
       "<path clip-path=\"url(#clip910)\" d=\"M186.274 1474.16 L2352.76 1474.16 L2352.76 47.2441 L186.274 47.2441  Z\" fill=\"#ffffff\" fill-rule=\"evenodd\" fill-opacity=\"1\"/>\n",
       "<defs>\n",
       "  <clipPath id=\"clip912\">\n",
       "    <rect x=\"186\" y=\"47\" width=\"2167\" height=\"1428\"/>\n",
       "  </clipPath>\n",
       "</defs>\n",
       "<polyline clip-path=\"url(#clip912)\" style=\"stroke:#000000; stroke-linecap:round; stroke-linejoin:round; stroke-width:2; stroke-opacity:0.1; fill:none\" points=\"247.59,1474.16 247.59,47.2441 \"/>\n",
       "<polyline clip-path=\"url(#clip912)\" style=\"stroke:#000000; stroke-linecap:round; stroke-linejoin:round; stroke-width:2; stroke-opacity:0.1; fill:none\" points=\"758.552,1474.16 758.552,47.2441 \"/>\n",
       "<polyline clip-path=\"url(#clip912)\" style=\"stroke:#000000; stroke-linecap:round; stroke-linejoin:round; stroke-width:2; stroke-opacity:0.1; fill:none\" points=\"1269.51,1474.16 1269.51,47.2441 \"/>\n",
       "<polyline clip-path=\"url(#clip912)\" style=\"stroke:#000000; stroke-linecap:round; stroke-linejoin:round; stroke-width:2; stroke-opacity:0.1; fill:none\" points=\"1780.48,1474.16 1780.48,47.2441 \"/>\n",
       "<polyline clip-path=\"url(#clip912)\" style=\"stroke:#000000; stroke-linecap:round; stroke-linejoin:round; stroke-width:2; stroke-opacity:0.1; fill:none\" points=\"2291.44,1474.16 2291.44,47.2441 \"/>\n",
       "<polyline clip-path=\"url(#clip910)\" style=\"stroke:#000000; stroke-linecap:round; stroke-linejoin:round; stroke-width:4; stroke-opacity:1; fill:none\" points=\"186.274,1474.16 2352.76,1474.16 \"/>\n",
       "<polyline clip-path=\"url(#clip910)\" style=\"stroke:#000000; stroke-linecap:round; stroke-linejoin:round; stroke-width:4; stroke-opacity:1; fill:none\" points=\"247.59,1474.16 247.59,1455.27 \"/>\n",
       "<polyline clip-path=\"url(#clip910)\" style=\"stroke:#000000; stroke-linecap:round; stroke-linejoin:round; stroke-width:4; stroke-opacity:1; fill:none\" points=\"758.552,1474.16 758.552,1455.27 \"/>\n",
       "<polyline clip-path=\"url(#clip910)\" style=\"stroke:#000000; stroke-linecap:round; stroke-linejoin:round; stroke-width:4; stroke-opacity:1; fill:none\" points=\"1269.51,1474.16 1269.51,1455.27 \"/>\n",
       "<polyline clip-path=\"url(#clip910)\" style=\"stroke:#000000; stroke-linecap:round; stroke-linejoin:round; stroke-width:4; stroke-opacity:1; fill:none\" points=\"1780.48,1474.16 1780.48,1455.27 \"/>\n",
       "<polyline clip-path=\"url(#clip910)\" style=\"stroke:#000000; stroke-linecap:round; stroke-linejoin:round; stroke-width:4; stroke-opacity:1; fill:none\" points=\"2291.44,1474.16 2291.44,1455.27 \"/>\n",
       "<path clip-path=\"url(#clip910)\" d=\"M247.59 1505.08 Q243.978 1505.08 242.15 1508.65 Q240.344 1512.19 240.344 1519.32 Q240.344 1526.43 242.15 1529.99 Q243.978 1533.53 247.59 1533.53 Q251.224 1533.53 253.029 1529.99 Q254.858 1526.43 254.858 1519.32 Q254.858 1512.19 253.029 1508.65 Q251.224 1505.08 247.59 1505.08 M247.59 1501.38 Q253.4 1501.38 256.455 1505.99 Q259.534 1510.57 259.534 1519.32 Q259.534 1528.05 256.455 1532.65 Q253.4 1537.24 247.59 1537.24 Q241.779 1537.24 238.701 1532.65 Q235.645 1528.05 235.645 1519.32 Q235.645 1510.57 238.701 1505.99 Q241.779 1501.38 247.59 1501.38 Z\" fill=\"#000000\" fill-rule=\"nonzero\" fill-opacity=\"1\" /><path clip-path=\"url(#clip910)\" d=\"M655.001 1548.29 L671.32 1548.29 L671.32 1552.22 L649.376 1552.22 L649.376 1548.29 Q652.038 1545.53 656.621 1540.91 Q661.228 1536.25 662.408 1534.91 Q664.654 1532.39 665.533 1530.65 Q666.436 1528.89 666.436 1527.2 Q666.436 1524.45 664.492 1522.71 Q662.57 1520.97 659.469 1520.97 Q657.27 1520.97 654.816 1521.74 Q652.385 1522.5 649.608 1524.05 L649.608 1519.33 Q652.432 1518.2 654.885 1517.62 Q657.339 1517.04 659.376 1517.04 Q664.746 1517.04 667.941 1519.72 Q671.135 1522.41 671.135 1526.9 Q671.135 1529.03 670.325 1530.95 Q669.538 1532.85 667.431 1535.44 Q666.853 1536.11 663.751 1539.33 Q660.649 1542.53 655.001 1548.29 Z\" fill=\"#000000\" fill-rule=\"nonzero\" fill-opacity=\"1\" /><path clip-path=\"url(#clip910)\" d=\"M681.135 1546.35 L686.019 1546.35 L686.019 1552.22 L681.135 1552.22 L681.135 1546.35 Z\" fill=\"#000000\" fill-rule=\"nonzero\" fill-opacity=\"1\" /><path clip-path=\"url(#clip910)\" d=\"M696.251 1517.66 L714.607 1517.66 L714.607 1521.6 L700.533 1521.6 L700.533 1530.07 Q701.552 1529.72 702.57 1529.56 Q703.589 1529.38 704.607 1529.38 Q710.394 1529.38 713.774 1532.55 Q717.153 1535.72 717.153 1541.14 Q717.153 1546.72 713.681 1549.82 Q710.209 1552.9 703.89 1552.9 Q701.714 1552.9 699.445 1552.53 Q697.2 1552.16 694.792 1551.41 L694.792 1546.72 Q696.876 1547.85 699.098 1548.41 Q701.32 1548.96 703.797 1548.96 Q707.802 1548.96 710.14 1546.85 Q712.478 1544.75 712.478 1541.14 Q712.478 1537.53 710.14 1535.42 Q707.802 1533.31 703.797 1533.31 Q701.922 1533.31 700.047 1533.73 Q698.195 1534.15 696.251 1535.03 L696.251 1517.66 Z\" fill=\"#000000\" fill-rule=\"nonzero\" fill-opacity=\"1\" /><path clip-path=\"url(#clip910)\" d=\"M736.366 1520.74 Q732.755 1520.74 730.927 1524.31 Q729.121 1527.85 729.121 1534.98 Q729.121 1542.09 730.927 1545.65 Q732.755 1549.19 736.366 1549.19 Q740.001 1549.19 741.806 1545.65 Q743.635 1542.09 743.635 1534.98 Q743.635 1527.85 741.806 1524.31 Q740.001 1520.74 736.366 1520.74 M736.366 1517.04 Q742.176 1517.04 745.232 1521.65 Q748.311 1526.23 748.311 1534.98 Q748.311 1543.71 745.232 1548.31 Q742.176 1552.9 736.366 1552.9 Q730.556 1552.9 727.477 1548.31 Q724.422 1543.71 724.422 1534.98 Q724.422 1526.23 727.477 1521.65 Q730.556 1517.04 736.366 1517.04 Z\" fill=\"#000000\" fill-rule=\"nonzero\" fill-opacity=\"1\" /><path clip-path=\"url(#clip910)\" d=\"M784.699 1526.76 L774.121 1537.39 L784.699 1547.97 L781.945 1550.77 L771.32 1540.14 L760.695 1550.77 L757.963 1547.97 L768.519 1537.39 L757.963 1526.76 L760.695 1523.96 L771.32 1534.59 L781.945 1523.96 L784.699 1526.76 Z\" fill=\"#000000\" fill-rule=\"nonzero\" fill-opacity=\"1\" /><path clip-path=\"url(#clip910)\" d=\"M797.06 1548.29 L804.699 1548.29 L804.699 1521.92 L796.389 1523.59 L796.389 1519.33 L804.653 1517.66 L809.329 1517.66 L809.329 1548.29 L816.968 1548.29 L816.968 1552.22 L797.06 1552.22 L797.06 1548.29 Z\" fill=\"#000000\" fill-rule=\"nonzero\" fill-opacity=\"1\" /><path clip-path=\"url(#clip910)\" d=\"M836.412 1520.74 Q832.801 1520.74 830.972 1524.31 Q829.167 1527.85 829.167 1534.98 Q829.167 1542.09 830.972 1545.65 Q832.801 1549.19 836.412 1549.19 Q840.046 1549.19 841.852 1545.65 Q843.681 1542.09 843.681 1534.98 Q843.681 1527.85 841.852 1524.31 Q840.046 1520.74 836.412 1520.74 M836.412 1517.04 Q842.222 1517.04 845.278 1521.65 Q848.356 1526.23 848.356 1534.98 Q848.356 1543.71 845.278 1548.31 Q842.222 1552.9 836.412 1552.9 Q830.602 1552.9 827.523 1548.31 Q824.468 1543.71 824.468 1534.98 Q824.468 1526.23 827.523 1521.65 Q830.602 1517.04 836.412 1517.04 Z\" fill=\"#000000\" fill-rule=\"nonzero\" fill-opacity=\"1\" /><path clip-path=\"url(#clip910)\" d=\"M850.162 1524.23 L850.162 1520.77 Q851.591 1521.45 853.058 1521.81 Q854.525 1522.16 855.936 1522.16 Q859.698 1522.16 861.672 1519.64 Q863.666 1517.1 863.948 1511.95 Q862.857 1513.57 861.183 1514.43 Q859.509 1515.3 857.478 1515.3 Q853.265 1515.3 850.801 1512.76 Q848.356 1510.2 848.356 1505.78 Q848.356 1501.46 850.914 1498.84 Q853.472 1496.23 857.723 1496.23 Q862.594 1496.23 865.152 1499.97 Q867.728 1503.69 867.728 1510.8 Q867.728 1517.44 864.569 1521.41 Q861.428 1525.36 856.105 1525.36 Q854.676 1525.36 853.209 1525.08 Q851.742 1524.8 850.162 1524.23 M857.723 1512.33 Q860.281 1512.33 861.766 1510.58 Q863.271 1508.83 863.271 1505.78 Q863.271 1502.75 861.766 1501 Q860.281 1499.24 857.723 1499.24 Q855.165 1499.24 853.66 1501 Q852.174 1502.75 852.174 1505.78 Q852.174 1508.83 853.66 1510.58 Q855.165 1512.33 857.723 1512.33 Z\" fill=\"#000000\" fill-rule=\"nonzero\" fill-opacity=\"1\" /><path clip-path=\"url(#clip910)\" d=\"M1161.89 1517.66 L1180.25 1517.66 L1180.25 1521.6 L1166.17 1521.6 L1166.17 1530.07 Q1167.19 1529.72 1168.21 1529.56 Q1169.23 1529.38 1170.25 1529.38 Q1176.03 1529.38 1179.41 1532.55 Q1182.79 1535.72 1182.79 1541.14 Q1182.79 1546.72 1179.32 1549.82 Q1175.85 1552.9 1169.53 1552.9 Q1167.35 1552.9 1165.08 1552.53 Q1162.84 1552.16 1160.43 1551.41 L1160.43 1546.72 Q1162.51 1547.85 1164.74 1548.41 Q1166.96 1548.96 1169.44 1548.96 Q1173.44 1548.96 1175.78 1546.85 Q1178.12 1544.75 1178.12 1541.14 Q1178.12 1537.53 1175.78 1535.42 Q1173.44 1533.31 1169.44 1533.31 Q1167.56 1533.31 1165.69 1533.73 Q1163.83 1534.15 1161.89 1535.03 L1161.89 1517.66 Z\" fill=\"#000000\" fill-rule=\"nonzero\" fill-opacity=\"1\" /><path clip-path=\"url(#clip910)\" d=\"M1192.01 1546.35 L1196.89 1546.35 L1196.89 1552.22 L1192.01 1552.22 L1192.01 1546.35 Z\" fill=\"#000000\" fill-rule=\"nonzero\" fill-opacity=\"1\" /><path clip-path=\"url(#clip910)\" d=\"M1217.07 1520.74 Q1213.46 1520.74 1211.63 1524.31 Q1209.83 1527.85 1209.83 1534.98 Q1209.83 1542.09 1211.63 1545.65 Q1213.46 1549.19 1217.07 1549.19 Q1220.71 1549.19 1222.51 1545.65 Q1224.34 1542.09 1224.34 1534.98 Q1224.34 1527.85 1222.51 1524.31 Q1220.71 1520.74 1217.07 1520.74 M1217.07 1517.04 Q1222.88 1517.04 1225.94 1521.65 Q1229.02 1526.23 1229.02 1534.98 Q1229.02 1543.71 1225.94 1548.31 Q1222.88 1552.9 1217.07 1552.9 Q1211.26 1552.9 1208.19 1548.31 Q1205.13 1543.71 1205.13 1534.98 Q1205.13 1526.23 1208.19 1521.65 Q1211.26 1517.04 1217.07 1517.04 Z\" fill=\"#000000\" fill-rule=\"nonzero\" fill-opacity=\"1\" /><path clip-path=\"url(#clip910)\" d=\"M1247.24 1520.74 Q1243.63 1520.74 1241.8 1524.31 Q1239.99 1527.85 1239.99 1534.98 Q1239.99 1542.09 1241.8 1545.65 Q1243.63 1549.19 1247.24 1549.19 Q1250.87 1549.19 1252.68 1545.65 Q1254.5 1542.09 1254.5 1534.98 Q1254.5 1527.85 1252.68 1524.31 Q1250.87 1520.74 1247.24 1520.74 M1247.24 1517.04 Q1253.05 1517.04 1256.1 1521.65 Q1259.18 1526.23 1259.18 1534.98 Q1259.18 1543.71 1256.1 1548.31 Q1253.05 1552.9 1247.24 1552.9 Q1241.43 1552.9 1238.35 1548.31 Q1235.29 1543.71 1235.29 1534.98 Q1235.29 1526.23 1238.35 1521.65 Q1241.43 1517.04 1247.24 1517.04 Z\" fill=\"#000000\" fill-rule=\"nonzero\" fill-opacity=\"1\" /><path clip-path=\"url(#clip910)\" d=\"M1295.57 1526.76 L1284.99 1537.39 L1295.57 1547.97 L1292.81 1550.77 L1282.19 1540.14 L1271.57 1550.77 L1268.83 1547.97 L1279.39 1537.39 L1268.83 1526.76 L1271.57 1523.96 L1282.19 1534.59 L1292.81 1523.96 L1295.57 1526.76 Z\" fill=\"#000000\" fill-rule=\"nonzero\" fill-opacity=\"1\" /><path clip-path=\"url(#clip910)\" d=\"M1307.93 1548.29 L1315.57 1548.29 L1315.57 1521.92 L1307.26 1523.59 L1307.26 1519.33 L1315.52 1517.66 L1320.2 1517.66 L1320.2 1548.29 L1327.84 1548.29 L1327.84 1552.22 L1307.93 1552.22 L1307.93 1548.29 Z\" fill=\"#000000\" fill-rule=\"nonzero\" fill-opacity=\"1\" /><path clip-path=\"url(#clip910)\" d=\"M1347.28 1520.74 Q1343.67 1520.74 1341.84 1524.31 Q1340.04 1527.85 1340.04 1534.98 Q1340.04 1542.09 1341.84 1545.65 Q1343.67 1549.19 1347.28 1549.19 Q1350.92 1549.19 1352.72 1545.65 Q1354.55 1542.09 1354.55 1534.98 Q1354.55 1527.85 1352.72 1524.31 Q1350.92 1520.74 1347.28 1520.74 M1347.28 1517.04 Q1353.09 1517.04 1356.15 1521.65 Q1359.23 1526.23 1359.23 1534.98 Q1359.23 1543.71 1356.15 1548.31 Q1353.09 1552.9 1347.28 1552.9 Q1341.47 1552.9 1338.39 1548.31 Q1335.34 1543.71 1335.34 1534.98 Q1335.34 1526.23 1338.39 1521.65 Q1341.47 1517.04 1347.28 1517.04 Z\" fill=\"#000000\" fill-rule=\"nonzero\" fill-opacity=\"1\" /><path clip-path=\"url(#clip910)\" d=\"M1361.03 1524.23 L1361.03 1520.77 Q1362.46 1521.45 1363.93 1521.81 Q1365.4 1522.16 1366.81 1522.16 Q1370.57 1522.16 1372.54 1519.64 Q1374.54 1517.1 1374.82 1511.95 Q1373.73 1513.57 1372.05 1514.43 Q1370.38 1515.3 1368.35 1515.3 Q1364.14 1515.3 1361.67 1512.76 Q1359.23 1510.2 1359.23 1505.78 Q1359.23 1501.46 1361.78 1498.84 Q1364.34 1496.23 1368.59 1496.23 Q1373.46 1496.23 1376.02 1499.97 Q1378.6 1503.69 1378.6 1510.8 Q1378.6 1517.44 1375.44 1521.41 Q1372.3 1525.36 1366.98 1525.36 Q1365.55 1525.36 1364.08 1525.08 Q1362.61 1524.8 1361.03 1524.23 M1368.59 1512.33 Q1371.15 1512.33 1372.64 1510.58 Q1374.14 1508.83 1374.14 1505.78 Q1374.14 1502.75 1372.64 1501 Q1371.15 1499.24 1368.59 1499.24 Q1366.03 1499.24 1364.53 1501 Q1363.04 1502.75 1363.04 1505.78 Q1363.04 1508.83 1364.53 1510.58 Q1366.03 1512.33 1368.59 1512.33 Z\" fill=\"#000000\" fill-rule=\"nonzero\" fill-opacity=\"1\" /><path clip-path=\"url(#clip910)\" d=\"M1671.51 1517.66 L1693.73 1517.66 L1693.73 1519.66 L1681.19 1552.22 L1676.3 1552.22 L1688.11 1521.6 L1671.51 1521.6 L1671.51 1517.66 Z\" fill=\"#000000\" fill-rule=\"nonzero\" fill-opacity=\"1\" /><path clip-path=\"url(#clip910)\" d=\"M1702.85 1546.35 L1707.74 1546.35 L1707.74 1552.22 L1702.85 1552.22 L1702.85 1546.35 Z\" fill=\"#000000\" fill-rule=\"nonzero\" fill-opacity=\"1\" /><path clip-path=\"url(#clip910)\" d=\"M1717.97 1517.66 L1736.32 1517.66 L1736.32 1521.6 L1722.25 1521.6 L1722.25 1530.07 Q1723.27 1529.72 1724.29 1529.56 Q1725.31 1529.38 1726.32 1529.38 Q1732.11 1529.38 1735.49 1532.55 Q1738.87 1535.72 1738.87 1541.14 Q1738.87 1546.72 1735.4 1549.82 Q1731.93 1552.9 1725.61 1552.9 Q1723.43 1552.9 1721.16 1552.53 Q1718.92 1552.16 1716.51 1551.41 L1716.51 1546.72 Q1718.59 1547.85 1720.82 1548.41 Q1723.04 1548.96 1725.51 1548.96 Q1729.52 1548.96 1731.86 1546.85 Q1734.19 1544.75 1734.19 1541.14 Q1734.19 1537.53 1731.86 1535.42 Q1729.52 1533.31 1725.51 1533.31 Q1723.64 1533.31 1721.76 1533.73 Q1719.91 1534.15 1717.97 1535.03 L1717.97 1517.66 Z\" fill=\"#000000\" fill-rule=\"nonzero\" fill-opacity=\"1\" /><path clip-path=\"url(#clip910)\" d=\"M1758.08 1520.74 Q1754.47 1520.74 1752.64 1524.31 Q1750.84 1527.85 1750.84 1534.98 Q1750.84 1542.09 1752.64 1545.65 Q1754.47 1549.19 1758.08 1549.19 Q1761.72 1549.19 1763.52 1545.65 Q1765.35 1542.09 1765.35 1534.98 Q1765.35 1527.85 1763.52 1524.31 Q1761.72 1520.74 1758.08 1520.74 M1758.08 1517.04 Q1763.89 1517.04 1766.95 1521.65 Q1770.03 1526.23 1770.03 1534.98 Q1770.03 1543.71 1766.95 1548.31 Q1763.89 1552.9 1758.08 1552.9 Q1752.27 1552.9 1749.19 1548.31 Q1746.14 1543.71 1746.14 1534.98 Q1746.14 1526.23 1749.19 1521.65 Q1752.27 1517.04 1758.08 1517.04 Z\" fill=\"#000000\" fill-rule=\"nonzero\" fill-opacity=\"1\" /><path clip-path=\"url(#clip910)\" d=\"M1806.42 1526.76 L1795.84 1537.39 L1806.42 1547.97 L1803.66 1550.77 L1793.04 1540.14 L1782.41 1550.77 L1779.68 1547.97 L1790.24 1537.39 L1779.68 1526.76 L1782.41 1523.96 L1793.04 1534.59 L1803.66 1523.96 L1806.42 1526.76 Z\" fill=\"#000000\" fill-rule=\"nonzero\" fill-opacity=\"1\" /><path clip-path=\"url(#clip910)\" d=\"M1818.78 1548.29 L1826.42 1548.29 L1826.42 1521.92 L1818.11 1523.59 L1818.11 1519.33 L1826.37 1517.66 L1831.05 1517.66 L1831.05 1548.29 L1838.68 1548.29 L1838.68 1552.22 L1818.78 1552.22 L1818.78 1548.29 Z\" fill=\"#000000\" fill-rule=\"nonzero\" fill-opacity=\"1\" /><path clip-path=\"url(#clip910)\" d=\"M1858.13 1520.74 Q1854.52 1520.74 1852.69 1524.31 Q1850.88 1527.85 1850.88 1534.98 Q1850.88 1542.09 1852.69 1545.65 Q1854.52 1549.19 1858.13 1549.19 Q1861.76 1549.19 1863.57 1545.65 Q1865.4 1542.09 1865.4 1534.98 Q1865.4 1527.85 1863.57 1524.31 Q1861.76 1520.74 1858.13 1520.74 M1858.13 1517.04 Q1863.94 1517.04 1866.99 1521.65 Q1870.07 1526.23 1870.07 1534.98 Q1870.07 1543.71 1866.99 1548.31 Q1863.94 1552.9 1858.13 1552.9 Q1852.32 1552.9 1849.24 1548.31 Q1846.18 1543.71 1846.18 1534.98 Q1846.18 1526.23 1849.24 1521.65 Q1852.32 1517.04 1858.13 1517.04 Z\" fill=\"#000000\" fill-rule=\"nonzero\" fill-opacity=\"1\" /><path clip-path=\"url(#clip910)\" d=\"M1871.88 1524.23 L1871.88 1520.77 Q1873.31 1521.45 1874.78 1521.81 Q1876.24 1522.16 1877.65 1522.16 Q1881.41 1522.16 1883.39 1519.64 Q1885.38 1517.1 1885.67 1511.95 Q1884.57 1513.57 1882.9 1514.43 Q1881.23 1515.3 1879.2 1515.3 Q1874.98 1515.3 1872.52 1512.76 Q1870.07 1510.2 1870.07 1505.78 Q1870.07 1501.46 1872.63 1498.84 Q1875.19 1496.23 1879.44 1496.23 Q1884.31 1496.23 1886.87 1499.97 Q1889.45 1503.69 1889.45 1510.8 Q1889.45 1517.44 1886.29 1521.41 Q1883.14 1525.36 1877.82 1525.36 Q1876.39 1525.36 1874.93 1525.08 Q1873.46 1524.8 1871.88 1524.23 M1879.44 1512.33 Q1882 1512.33 1883.48 1510.58 Q1884.99 1508.83 1884.99 1505.78 Q1884.99 1502.75 1883.48 1501 Q1882 1499.24 1879.44 1499.24 Q1876.88 1499.24 1875.38 1501 Q1873.89 1502.75 1873.89 1505.78 Q1873.89 1508.83 1875.38 1510.58 Q1876.88 1512.33 1879.44 1512.33 Z\" fill=\"#000000\" fill-rule=\"nonzero\" fill-opacity=\"1\" /><path clip-path=\"url(#clip910)\" d=\"M2172.38 1548.29 L2180.02 1548.29 L2180.02 1521.92 L2171.71 1523.59 L2171.71 1519.33 L2179.97 1517.66 L2184.65 1517.66 L2184.65 1548.29 L2192.29 1548.29 L2192.29 1552.22 L2172.38 1552.22 L2172.38 1548.29 Z\" fill=\"#000000\" fill-rule=\"nonzero\" fill-opacity=\"1\" /><path clip-path=\"url(#clip910)\" d=\"M2201.73 1546.35 L2206.61 1546.35 L2206.61 1552.22 L2201.73 1552.22 L2201.73 1546.35 Z\" fill=\"#000000\" fill-rule=\"nonzero\" fill-opacity=\"1\" /><path clip-path=\"url(#clip910)\" d=\"M2226.8 1520.74 Q2223.19 1520.74 2221.36 1524.31 Q2219.55 1527.85 2219.55 1534.98 Q2219.55 1542.09 2221.36 1545.65 Q2223.19 1549.19 2226.8 1549.19 Q2230.43 1549.19 2232.24 1545.65 Q2234.07 1542.09 2234.07 1534.98 Q2234.07 1527.85 2232.24 1524.31 Q2230.43 1520.74 2226.8 1520.74 M2226.8 1517.04 Q2232.61 1517.04 2235.66 1521.65 Q2238.74 1526.23 2238.74 1534.98 Q2238.74 1543.71 2235.66 1548.31 Q2232.61 1552.9 2226.8 1552.9 Q2220.99 1552.9 2217.91 1548.31 Q2214.85 1543.71 2214.85 1534.98 Q2214.85 1526.23 2217.91 1521.65 Q2220.99 1517.04 2226.8 1517.04 Z\" fill=\"#000000\" fill-rule=\"nonzero\" fill-opacity=\"1\" /><path clip-path=\"url(#clip910)\" d=\"M2256.96 1520.74 Q2253.35 1520.74 2251.52 1524.31 Q2249.72 1527.85 2249.72 1534.98 Q2249.72 1542.09 2251.52 1545.65 Q2253.35 1549.19 2256.96 1549.19 Q2260.59 1549.19 2262.4 1545.65 Q2264.23 1542.09 2264.23 1534.98 Q2264.23 1527.85 2262.4 1524.31 Q2260.59 1520.74 2256.96 1520.74 M2256.96 1517.04 Q2262.77 1517.04 2265.83 1521.65 Q2268.91 1526.23 2268.91 1534.98 Q2268.91 1543.71 2265.83 1548.31 Q2262.77 1552.9 2256.96 1552.9 Q2251.15 1552.9 2248.07 1548.31 Q2245.02 1543.71 2245.02 1534.98 Q2245.02 1526.23 2248.07 1521.65 Q2251.15 1517.04 2256.96 1517.04 Z\" fill=\"#000000\" fill-rule=\"nonzero\" fill-opacity=\"1\" /><path clip-path=\"url(#clip910)\" d=\"M2305.29 1526.76 L2294.72 1537.39 L2305.29 1547.97 L2302.54 1550.77 L2291.91 1540.14 L2281.29 1550.77 L2278.56 1547.97 L2289.11 1537.39 L2278.56 1526.76 L2281.29 1523.96 L2291.91 1534.59 L2302.54 1523.96 L2305.29 1526.76 Z\" fill=\"#000000\" fill-rule=\"nonzero\" fill-opacity=\"1\" /><path clip-path=\"url(#clip910)\" d=\"M2317.65 1548.29 L2325.29 1548.29 L2325.29 1521.92 L2316.98 1523.59 L2316.98 1519.33 L2325.25 1517.66 L2329.92 1517.66 L2329.92 1548.29 L2337.56 1548.29 L2337.56 1552.22 L2317.65 1552.22 L2317.65 1548.29 Z\" fill=\"#000000\" fill-rule=\"nonzero\" fill-opacity=\"1\" /><path clip-path=\"url(#clip910)\" d=\"M2357.01 1520.74 Q2353.4 1520.74 2351.57 1524.31 Q2349.76 1527.85 2349.76 1534.98 Q2349.76 1542.09 2351.57 1545.65 Q2353.4 1549.19 2357.01 1549.19 Q2360.64 1549.19 2362.45 1545.65 Q2364.27 1542.09 2364.27 1534.98 Q2364.27 1527.85 2362.45 1524.31 Q2360.64 1520.74 2357.01 1520.74 M2357.01 1517.04 Q2362.82 1517.04 2365.87 1521.65 Q2368.95 1526.23 2368.95 1534.98 Q2368.95 1543.71 2365.87 1548.31 Q2362.82 1552.9 2357.01 1552.9 Q2351.2 1552.9 2348.12 1548.31 Q2345.06 1543.71 2345.06 1534.98 Q2345.06 1526.23 2348.12 1521.65 Q2351.2 1517.04 2357.01 1517.04 Z\" fill=\"#000000\" fill-rule=\"nonzero\" fill-opacity=\"1\" /><path clip-path=\"url(#clip910)\" d=\"M2369.5 1521.62 L2375.7 1521.62 L2375.7 1500.19 L2368.95 1501.55 L2368.95 1498.09 L2375.67 1496.73 L2379.46 1496.73 L2379.46 1521.62 L2385.67 1521.62 L2385.67 1524.81 L2369.5 1524.81 L2369.5 1521.62 Z\" fill=\"#000000\" fill-rule=\"nonzero\" fill-opacity=\"1\" /><path clip-path=\"url(#clip910)\" d=\"M2401.47 1499.24 Q2398.54 1499.24 2397.05 1502.13 Q2395.58 1505.01 2395.58 1510.8 Q2395.58 1516.58 2397.05 1519.47 Q2398.54 1522.35 2401.47 1522.35 Q2404.42 1522.35 2405.89 1519.47 Q2407.38 1516.58 2407.38 1510.8 Q2407.38 1505.01 2405.89 1502.13 Q2404.42 1499.24 2401.47 1499.24 M2401.47 1496.23 Q2406.19 1496.23 2408.67 1499.97 Q2411.17 1503.69 2411.17 1510.8 Q2411.17 1517.89 2408.67 1521.64 Q2406.19 1525.36 2401.47 1525.36 Q2396.75 1525.36 2394.25 1521.64 Q2391.76 1517.89 2391.76 1510.8 Q2391.76 1503.69 2394.25 1499.97 Q2396.75 1496.23 2401.47 1496.23 Z\" fill=\"#000000\" fill-rule=\"nonzero\" fill-opacity=\"1\" /><polyline clip-path=\"url(#clip912)\" style=\"stroke:#000000; stroke-linecap:round; stroke-linejoin:round; stroke-width:2; stroke-opacity:0.1; fill:none\" points=\"186.274,1441.21 2352.76,1441.21 \"/>\n",
       "<polyline clip-path=\"url(#clip912)\" style=\"stroke:#000000; stroke-linecap:round; stroke-linejoin:round; stroke-width:2; stroke-opacity:0.1; fill:none\" points=\"186.274,1102.81 2352.76,1102.81 \"/>\n",
       "<polyline clip-path=\"url(#clip912)\" style=\"stroke:#000000; stroke-linecap:round; stroke-linejoin:round; stroke-width:2; stroke-opacity:0.1; fill:none\" points=\"186.274,764.417 2352.76,764.417 \"/>\n",
       "<polyline clip-path=\"url(#clip912)\" style=\"stroke:#000000; stroke-linecap:round; stroke-linejoin:round; stroke-width:2; stroke-opacity:0.1; fill:none\" points=\"186.274,426.023 2352.76,426.023 \"/>\n",
       "<polyline clip-path=\"url(#clip912)\" style=\"stroke:#000000; stroke-linecap:round; stroke-linejoin:round; stroke-width:2; stroke-opacity:0.1; fill:none\" points=\"186.274,87.6286 2352.76,87.6286 \"/>\n",
       "<polyline clip-path=\"url(#clip910)\" style=\"stroke:#000000; stroke-linecap:round; stroke-linejoin:round; stroke-width:4; stroke-opacity:1; fill:none\" points=\"186.274,1474.16 186.274,47.2441 \"/>\n",
       "<polyline clip-path=\"url(#clip910)\" style=\"stroke:#000000; stroke-linecap:round; stroke-linejoin:round; stroke-width:4; stroke-opacity:1; fill:none\" points=\"186.274,1441.21 205.172,1441.21 \"/>\n",
       "<polyline clip-path=\"url(#clip910)\" style=\"stroke:#000000; stroke-linecap:round; stroke-linejoin:round; stroke-width:4; stroke-opacity:1; fill:none\" points=\"186.274,1102.81 205.172,1102.81 \"/>\n",
       "<polyline clip-path=\"url(#clip910)\" style=\"stroke:#000000; stroke-linecap:round; stroke-linejoin:round; stroke-width:4; stroke-opacity:1; fill:none\" points=\"186.274,764.417 205.172,764.417 \"/>\n",
       "<polyline clip-path=\"url(#clip910)\" style=\"stroke:#000000; stroke-linecap:round; stroke-linejoin:round; stroke-width:4; stroke-opacity:1; fill:none\" points=\"186.274,426.023 205.172,426.023 \"/>\n",
       "<polyline clip-path=\"url(#clip910)\" style=\"stroke:#000000; stroke-linecap:round; stroke-linejoin:round; stroke-width:4; stroke-opacity:1; fill:none\" points=\"186.274,87.6286 205.172,87.6286 \"/>\n",
       "<path clip-path=\"url(#clip910)\" d=\"M62.9365 1427 Q59.3254 1427 57.4967 1430.57 Q55.6912 1434.11 55.6912 1441.24 Q55.6912 1448.35 57.4967 1451.91 Q59.3254 1455.45 62.9365 1455.45 Q66.5707 1455.45 68.3763 1451.91 Q70.205 1448.35 70.205 1441.24 Q70.205 1434.11 68.3763 1430.57 Q66.5707 1427 62.9365 1427 M62.9365 1423.3 Q68.7467 1423.3 71.8022 1427.91 Q74.8809 1432.49 74.8809 1441.24 Q74.8809 1449.97 71.8022 1454.57 Q68.7467 1459.16 62.9365 1459.16 Q57.1264 1459.16 54.0477 1454.57 Q50.9921 1449.97 50.9921 1441.24 Q50.9921 1432.49 54.0477 1427.91 Q57.1264 1423.3 62.9365 1423.3 Z\" fill=\"#000000\" fill-rule=\"nonzero\" fill-opacity=\"1\" /><path clip-path=\"url(#clip910)\" d=\"M83.0984 1452.61 L87.9827 1452.61 L87.9827 1458.49 L83.0984 1458.49 L83.0984 1452.61 Z\" fill=\"#000000\" fill-rule=\"nonzero\" fill-opacity=\"1\" /><path clip-path=\"url(#clip910)\" d=\"M108.168 1427 Q104.557 1427 102.728 1430.57 Q100.922 1434.11 100.922 1441.24 Q100.922 1448.35 102.728 1451.91 Q104.557 1455.45 108.168 1455.45 Q111.802 1455.45 113.608 1451.91 Q115.436 1448.35 115.436 1441.24 Q115.436 1434.11 113.608 1430.57 Q111.802 1427 108.168 1427 M108.168 1423.3 Q113.978 1423.3 117.033 1427.91 Q120.112 1432.49 120.112 1441.24 Q120.112 1449.97 117.033 1454.57 Q113.978 1459.16 108.168 1459.16 Q102.358 1459.16 99.2789 1454.57 Q96.2234 1449.97 96.2234 1441.24 Q96.2234 1432.49 99.2789 1427.91 Q102.358 1423.3 108.168 1423.3 Z\" fill=\"#000000\" fill-rule=\"nonzero\" fill-opacity=\"1\" /><path clip-path=\"url(#clip910)\" d=\"M138.33 1427 Q134.719 1427 132.89 1430.57 Q131.084 1434.11 131.084 1441.24 Q131.084 1448.35 132.89 1451.91 Q134.719 1455.45 138.33 1455.45 Q141.964 1455.45 143.769 1451.91 Q145.598 1448.35 145.598 1441.24 Q145.598 1434.11 143.769 1430.57 Q141.964 1427 138.33 1427 M138.33 1423.3 Q144.14 1423.3 147.195 1427.91 Q150.274 1432.49 150.274 1441.24 Q150.274 1449.97 147.195 1454.57 Q144.14 1459.16 138.33 1459.16 Q132.519 1459.16 129.441 1454.57 Q126.385 1449.97 126.385 1441.24 Q126.385 1432.49 129.441 1427.91 Q132.519 1423.3 138.33 1423.3 Z\" fill=\"#000000\" fill-rule=\"nonzero\" fill-opacity=\"1\" /><path clip-path=\"url(#clip910)\" d=\"M63.9319 1088.61 Q60.3208 1088.61 58.4921 1092.17 Q56.6865 1095.72 56.6865 1102.85 Q56.6865 1109.95 58.4921 1113.52 Q60.3208 1117.06 63.9319 1117.06 Q67.5661 1117.06 69.3717 1113.52 Q71.2004 1109.95 71.2004 1102.85 Q71.2004 1095.72 69.3717 1092.17 Q67.5661 1088.61 63.9319 1088.61 M63.9319 1084.91 Q69.742 1084.91 72.7976 1089.51 Q75.8763 1094.1 75.8763 1102.85 Q75.8763 1111.57 72.7976 1116.18 Q69.742 1120.76 63.9319 1120.76 Q58.1217 1120.76 55.043 1116.18 Q51.9875 1111.57 51.9875 1102.85 Q51.9875 1094.1 55.043 1089.51 Q58.1217 1084.91 63.9319 1084.91 Z\" fill=\"#000000\" fill-rule=\"nonzero\" fill-opacity=\"1\" /><path clip-path=\"url(#clip910)\" d=\"M84.0938 1114.21 L88.978 1114.21 L88.978 1120.09 L84.0938 1120.09 L84.0938 1114.21 Z\" fill=\"#000000\" fill-rule=\"nonzero\" fill-opacity=\"1\" /><path clip-path=\"url(#clip910)\" d=\"M103.191 1116.16 L119.51 1116.16 L119.51 1120.09 L97.566 1120.09 L97.566 1116.16 Q100.228 1113.4 104.811 1108.77 Q109.418 1104.12 110.598 1102.78 Q112.844 1100.25 113.723 1098.52 Q114.626 1096.76 114.626 1095.07 Q114.626 1092.31 112.682 1090.58 Q110.76 1088.84 107.658 1088.84 Q105.459 1088.84 103.006 1089.61 Q100.575 1090.37 97.7974 1091.92 L97.7974 1087.2 Q100.621 1086.06 103.075 1085.48 Q105.529 1084.91 107.566 1084.91 Q112.936 1084.91 116.131 1087.59 Q119.325 1090.28 119.325 1094.77 Q119.325 1096.9 118.515 1098.82 Q117.728 1100.72 115.621 1103.31 Q115.043 1103.98 111.941 1107.2 Q108.839 1110.39 103.191 1116.16 Z\" fill=\"#000000\" fill-rule=\"nonzero\" fill-opacity=\"1\" /><path clip-path=\"url(#clip910)\" d=\"M129.371 1085.53 L147.728 1085.53 L147.728 1089.47 L133.654 1089.47 L133.654 1097.94 Q134.672 1097.59 135.691 1097.43 Q136.709 1097.24 137.728 1097.24 Q143.515 1097.24 146.894 1100.42 Q150.274 1103.59 150.274 1109 Q150.274 1114.58 146.802 1117.68 Q143.33 1120.76 137.01 1120.76 Q134.834 1120.76 132.566 1120.39 Q130.32 1120.02 127.913 1119.28 L127.913 1114.58 Q129.996 1115.72 132.219 1116.27 Q134.441 1116.83 136.918 1116.83 Q140.922 1116.83 143.26 1114.72 Q145.598 1112.61 145.598 1109 Q145.598 1105.39 143.26 1103.29 Q140.922 1101.18 136.918 1101.18 Q135.043 1101.18 133.168 1101.6 Q131.316 1102.01 129.371 1102.89 L129.371 1085.53 Z\" fill=\"#000000\" fill-rule=\"nonzero\" fill-opacity=\"1\" /><path clip-path=\"url(#clip910)\" d=\"M62.9365 750.216 Q59.3254 750.216 57.4967 753.78 Q55.6912 757.322 55.6912 764.452 Q55.6912 771.558 57.4967 775.123 Q59.3254 778.665 62.9365 778.665 Q66.5707 778.665 68.3763 775.123 Q70.205 771.558 70.205 764.452 Q70.205 757.322 68.3763 753.78 Q66.5707 750.216 62.9365 750.216 M62.9365 746.512 Q68.7467 746.512 71.8022 751.118 Q74.8809 755.702 74.8809 764.452 Q74.8809 773.178 71.8022 777.785 Q68.7467 782.368 62.9365 782.368 Q57.1264 782.368 54.0477 777.785 Q50.9921 773.178 50.9921 764.452 Q50.9921 755.702 54.0477 751.118 Q57.1264 746.512 62.9365 746.512 Z\" fill=\"#000000\" fill-rule=\"nonzero\" fill-opacity=\"1\" /><path clip-path=\"url(#clip910)\" d=\"M83.0984 775.817 L87.9827 775.817 L87.9827 781.697 L83.0984 781.697 L83.0984 775.817 Z\" fill=\"#000000\" fill-rule=\"nonzero\" fill-opacity=\"1\" /><path clip-path=\"url(#clip910)\" d=\"M98.2141 747.137 L116.57 747.137 L116.57 751.072 L102.496 751.072 L102.496 759.544 Q103.515 759.197 104.534 759.035 Q105.552 758.85 106.571 758.85 Q112.358 758.85 115.737 762.021 Q119.117 765.192 119.117 770.609 Q119.117 776.188 115.645 779.29 Q112.172 782.368 105.853 782.368 Q103.677 782.368 101.409 781.998 Q99.1632 781.627 96.7558 780.887 L96.7558 776.188 Q98.8391 777.322 101.061 777.878 Q103.284 778.433 105.76 778.433 Q109.765 778.433 112.103 776.327 Q114.441 774.22 114.441 770.609 Q114.441 766.998 112.103 764.891 Q109.765 762.785 105.76 762.785 Q103.885 762.785 102.01 763.202 Q100.159 763.618 98.2141 764.498 L98.2141 747.137 Z\" fill=\"#000000\" fill-rule=\"nonzero\" fill-opacity=\"1\" /><path clip-path=\"url(#clip910)\" d=\"M138.33 750.216 Q134.719 750.216 132.89 753.78 Q131.084 757.322 131.084 764.452 Q131.084 771.558 132.89 775.123 Q134.719 778.665 138.33 778.665 Q141.964 778.665 143.769 775.123 Q145.598 771.558 145.598 764.452 Q145.598 757.322 143.769 753.78 Q141.964 750.216 138.33 750.216 M138.33 746.512 Q144.14 746.512 147.195 751.118 Q150.274 755.702 150.274 764.452 Q150.274 773.178 147.195 777.785 Q144.14 782.368 138.33 782.368 Q132.519 782.368 129.441 777.785 Q126.385 773.178 126.385 764.452 Q126.385 755.702 129.441 751.118 Q132.519 746.512 138.33 746.512 Z\" fill=\"#000000\" fill-rule=\"nonzero\" fill-opacity=\"1\" /><path clip-path=\"url(#clip910)\" d=\"M63.9319 411.821 Q60.3208 411.821 58.4921 415.386 Q56.6865 418.928 56.6865 426.058 Q56.6865 433.164 58.4921 436.729 Q60.3208 440.27 63.9319 440.27 Q67.5661 440.27 69.3717 436.729 Q71.2004 433.164 71.2004 426.058 Q71.2004 418.928 69.3717 415.386 Q67.5661 411.821 63.9319 411.821 M63.9319 408.118 Q69.742 408.118 72.7976 412.724 Q75.8763 417.308 75.8763 426.058 Q75.8763 434.784 72.7976 439.391 Q69.742 443.974 63.9319 443.974 Q58.1217 443.974 55.043 439.391 Q51.9875 434.784 51.9875 426.058 Q51.9875 417.308 55.043 412.724 Q58.1217 408.118 63.9319 408.118 Z\" fill=\"#000000\" fill-rule=\"nonzero\" fill-opacity=\"1\" /><path clip-path=\"url(#clip910)\" d=\"M84.0938 437.423 L88.978 437.423 L88.978 443.303 L84.0938 443.303 L84.0938 437.423 Z\" fill=\"#000000\" fill-rule=\"nonzero\" fill-opacity=\"1\" /><path clip-path=\"url(#clip910)\" d=\"M97.9826 408.743 L120.205 408.743 L120.205 410.734 L107.658 443.303 L102.774 443.303 L114.58 412.678 L97.9826 412.678 L97.9826 408.743 Z\" fill=\"#000000\" fill-rule=\"nonzero\" fill-opacity=\"1\" /><path clip-path=\"url(#clip910)\" d=\"M129.371 408.743 L147.728 408.743 L147.728 412.678 L133.654 412.678 L133.654 421.15 Q134.672 420.803 135.691 420.641 Q136.709 420.456 137.728 420.456 Q143.515 420.456 146.894 423.627 Q150.274 426.798 150.274 432.215 Q150.274 437.794 146.802 440.895 Q143.33 443.974 137.01 443.974 Q134.834 443.974 132.566 443.604 Q130.32 443.233 127.913 442.493 L127.913 437.794 Q129.996 438.928 132.219 439.483 Q134.441 440.039 136.918 440.039 Q140.922 440.039 143.26 437.932 Q145.598 435.826 145.598 432.215 Q145.598 428.604 143.26 426.497 Q140.922 424.391 136.918 424.391 Q135.043 424.391 133.168 424.808 Q131.316 425.224 129.371 426.104 L129.371 408.743 Z\" fill=\"#000000\" fill-rule=\"nonzero\" fill-opacity=\"1\" /><path clip-path=\"url(#clip910)\" d=\"M53.7467 100.973 L61.3856 100.973 L61.3856 74.6079 L53.0754 76.2745 L53.0754 72.0153 L61.3393 70.3486 L66.0152 70.3486 L66.0152 100.973 L73.654 100.973 L73.654 104.909 L53.7467 104.909 L53.7467 100.973 Z\" fill=\"#000000\" fill-rule=\"nonzero\" fill-opacity=\"1\" /><path clip-path=\"url(#clip910)\" d=\"M83.0984 99.029 L87.9827 99.029 L87.9827 104.909 L83.0984 104.909 L83.0984 99.029 Z\" fill=\"#000000\" fill-rule=\"nonzero\" fill-opacity=\"1\" /><path clip-path=\"url(#clip910)\" d=\"M108.168 73.4273 Q104.557 73.4273 102.728 76.9921 Q100.922 80.5338 100.922 87.6634 Q100.922 94.7698 102.728 98.3346 Q104.557 101.876 108.168 101.876 Q111.802 101.876 113.608 98.3346 Q115.436 94.7698 115.436 87.6634 Q115.436 80.5338 113.608 76.9921 Q111.802 73.4273 108.168 73.4273 M108.168 69.7236 Q113.978 69.7236 117.033 74.3301 Q120.112 78.9134 120.112 87.6634 Q120.112 96.3902 117.033 100.997 Q113.978 105.58 108.168 105.58 Q102.358 105.58 99.2789 100.997 Q96.2234 96.3902 96.2234 87.6634 Q96.2234 78.9134 99.2789 74.3301 Q102.358 69.7236 108.168 69.7236 Z\" fill=\"#000000\" fill-rule=\"nonzero\" fill-opacity=\"1\" /><path clip-path=\"url(#clip910)\" d=\"M138.33 73.4273 Q134.719 73.4273 132.89 76.9921 Q131.084 80.5338 131.084 87.6634 Q131.084 94.7698 132.89 98.3346 Q134.719 101.876 138.33 101.876 Q141.964 101.876 143.769 98.3346 Q145.598 94.7698 145.598 87.6634 Q145.598 80.5338 143.769 76.9921 Q141.964 73.4273 138.33 73.4273 M138.33 69.7236 Q144.14 69.7236 147.195 74.3301 Q150.274 78.9134 150.274 87.6634 Q150.274 96.3902 147.195 100.997 Q144.14 105.58 138.33 105.58 Q132.519 105.58 129.441 100.997 Q126.385 96.3902 126.385 87.6634 Q126.385 78.9134 129.441 74.3301 Q132.519 69.7236 138.33 69.7236 Z\" fill=\"#000000\" fill-rule=\"nonzero\" fill-opacity=\"1\" /><polyline clip-path=\"url(#clip912)\" style=\"stroke:#009af9; stroke-linecap:round; stroke-linejoin:round; stroke-width:4; stroke-opacity:1; fill:none\" points=\"247.59,87.6286 260.896,103.899 383.935,249.683 457.876,333.246 520.392,401.528 588.302,473.241 650.909,537.084 718.031,603.111 795.798,676.479 864.908,738.861 925.511,791.38 991.585,846.315 1058.05,899.129 1131.54,954.664 1201.46,1004.72 1274.16,1053.88 1335.36,1092.99 1410.08,1137.92 1478.52,1176.35 1541.74,1209.54 1605.77,1240.89 1677.54,1273.32 1742.57,1300.23 1817.03,1328.16 1885.97,1351.27 1953.93,1371.48 2019.92,1388.64 2087.57,1403.71 2161.69,1417.32 2269.35,1431.64 2291.44,1433.78 \"/>\n",
       "<path clip-path=\"url(#clip910)\" d=\"M2011.46 198.488 L2280.54 198.488 L2280.54 94.8081 L2011.46 94.8081  Z\" fill=\"#ffffff\" fill-rule=\"evenodd\" fill-opacity=\"1\"/>\n",
       "<polyline clip-path=\"url(#clip910)\" style=\"stroke:#000000; stroke-linecap:round; stroke-linejoin:round; stroke-width:4; stroke-opacity:1; fill:none\" points=\"2011.46,198.488 2280.54,198.488 2280.54,94.8081 2011.46,94.8081 2011.46,198.488 \"/>\n",
       "<polyline clip-path=\"url(#clip910)\" style=\"stroke:#009af9; stroke-linecap:round; stroke-linejoin:round; stroke-width:4; stroke-opacity:1; fill:none\" points=\"2035.53,146.648 2179.97,146.648 \"/>\n",
       "<path clip-path=\"url(#clip910)\" d=\"M2217.88 166.336 Q2216.07 170.965 2214.36 172.377 Q2212.65 173.789 2209.78 173.789 L2206.38 173.789 L2206.38 170.224 L2208.88 170.224 Q2210.63 170.224 2211.61 169.391 Q2212.58 168.558 2213.76 165.456 L2214.52 163.511 L2204.04 138.002 L2208.55 138.002 L2216.65 158.28 L2224.76 138.002 L2229.27 138.002 L2217.88 166.336 Z\" fill=\"#000000\" fill-rule=\"nonzero\" fill-opacity=\"1\" /><path clip-path=\"url(#clip910)\" d=\"M2236.56 159.993 L2244.2 159.993 L2244.2 133.627 L2235.89 135.294 L2235.89 131.035 L2244.15 129.368 L2248.83 129.368 L2248.83 159.993 L2256.47 159.993 L2256.47 163.928 L2236.56 163.928 L2236.56 159.993 Z\" fill=\"#000000\" fill-rule=\"nonzero\" fill-opacity=\"1\" /></svg>\n"
      ]
     },
     "execution_count": 46,
     "metadata": {},
     "output_type": "execute_result"
    }
   ],
   "source": [
    "function f_quadratic(p, P_lim = l_max)\n",
    "    k = P_lim^2\n",
    "    f_p = 1/k*(p-P_lim)^2\n",
    "    return f_p \n",
    "end \n",
    "\n",
    "f_quadratic(1, l_max)\n",
    "\n",
    "plot(f_quadratic, 0, 1e10)"
   ]
  },
  {
   "cell_type": "code",
   "execution_count": 47,
   "metadata": {},
   "outputs": [
    {
     "data": {
      "image/svg+xml": [
       "<?xml version=\"1.0\" encoding=\"utf-8\"?>\n",
       "<svg xmlns=\"http://www.w3.org/2000/svg\" xmlns:xlink=\"http://www.w3.org/1999/xlink\" width=\"600\" height=\"400\" viewBox=\"0 0 2400 1600\">\n",
       "<defs>\n",
       "  <clipPath id=\"clip950\">\n",
       "    <rect x=\"0\" y=\"0\" width=\"2400\" height=\"1600\"/>\n",
       "  </clipPath>\n",
       "</defs>\n",
       "<path clip-path=\"url(#clip950)\" d=\"M0 1600 L2400 1600 L2400 0 L0 0  Z\" fill=\"#ffffff\" fill-rule=\"evenodd\" fill-opacity=\"1\"/>\n",
       "<defs>\n",
       "  <clipPath id=\"clip951\">\n",
       "    <rect x=\"480\" y=\"0\" width=\"1681\" height=\"1600\"/>\n",
       "  </clipPath>\n",
       "</defs>\n",
       "<path clip-path=\"url(#clip950)\" d=\"M156.598 1474.16 L2352.76 1474.16 L2352.76 47.2441 L156.598 47.2441  Z\" fill=\"#ffffff\" fill-rule=\"evenodd\" fill-opacity=\"1\"/>\n",
       "<defs>\n",
       "  <clipPath id=\"clip952\">\n",
       "    <rect x=\"156\" y=\"47\" width=\"2197\" height=\"1428\"/>\n",
       "  </clipPath>\n",
       "</defs>\n",
       "<polyline clip-path=\"url(#clip952)\" style=\"stroke:#000000; stroke-linecap:round; stroke-linejoin:round; stroke-width:2; stroke-opacity:0.1; fill:none\" points=\"218.754,1474.16 218.754,47.2441 \"/>\n",
       "<polyline clip-path=\"url(#clip952)\" style=\"stroke:#000000; stroke-linecap:round; stroke-linejoin:round; stroke-width:2; stroke-opacity:0.1; fill:none\" points=\"736.715,1474.16 736.715,47.2441 \"/>\n",
       "<polyline clip-path=\"url(#clip952)\" style=\"stroke:#000000; stroke-linecap:round; stroke-linejoin:round; stroke-width:2; stroke-opacity:0.1; fill:none\" points=\"1254.68,1474.16 1254.68,47.2441 \"/>\n",
       "<polyline clip-path=\"url(#clip952)\" style=\"stroke:#000000; stroke-linecap:round; stroke-linejoin:round; stroke-width:2; stroke-opacity:0.1; fill:none\" points=\"1772.64,1474.16 1772.64,47.2441 \"/>\n",
       "<polyline clip-path=\"url(#clip952)\" style=\"stroke:#000000; stroke-linecap:round; stroke-linejoin:round; stroke-width:2; stroke-opacity:0.1; fill:none\" points=\"2290.6,1474.16 2290.6,47.2441 \"/>\n",
       "<polyline clip-path=\"url(#clip950)\" style=\"stroke:#000000; stroke-linecap:round; stroke-linejoin:round; stroke-width:4; stroke-opacity:1; fill:none\" points=\"156.598,1474.16 2352.76,1474.16 \"/>\n",
       "<polyline clip-path=\"url(#clip950)\" style=\"stroke:#000000; stroke-linecap:round; stroke-linejoin:round; stroke-width:4; stroke-opacity:1; fill:none\" points=\"218.754,1474.16 218.754,1455.27 \"/>\n",
       "<polyline clip-path=\"url(#clip950)\" style=\"stroke:#000000; stroke-linecap:round; stroke-linejoin:round; stroke-width:4; stroke-opacity:1; fill:none\" points=\"736.715,1474.16 736.715,1455.27 \"/>\n",
       "<polyline clip-path=\"url(#clip950)\" style=\"stroke:#000000; stroke-linecap:round; stroke-linejoin:round; stroke-width:4; stroke-opacity:1; fill:none\" points=\"1254.68,1474.16 1254.68,1455.27 \"/>\n",
       "<polyline clip-path=\"url(#clip950)\" style=\"stroke:#000000; stroke-linecap:round; stroke-linejoin:round; stroke-width:4; stroke-opacity:1; fill:none\" points=\"1772.64,1474.16 1772.64,1455.27 \"/>\n",
       "<polyline clip-path=\"url(#clip950)\" style=\"stroke:#000000; stroke-linecap:round; stroke-linejoin:round; stroke-width:4; stroke-opacity:1; fill:none\" points=\"2290.6,1474.16 2290.6,1455.27 \"/>\n",
       "<path clip-path=\"url(#clip950)\" d=\"M218.754 1505.08 Q215.143 1505.08 213.314 1508.65 Q211.508 1512.19 211.508 1519.32 Q211.508 1526.43 213.314 1529.99 Q215.143 1533.53 218.754 1533.53 Q222.388 1533.53 224.193 1529.99 Q226.022 1526.43 226.022 1519.32 Q226.022 1512.19 224.193 1508.65 Q222.388 1505.08 218.754 1505.08 M218.754 1501.38 Q224.564 1501.38 227.619 1505.99 Q230.698 1510.57 230.698 1519.32 Q230.698 1528.05 227.619 1532.65 Q224.564 1537.24 218.754 1537.24 Q212.943 1537.24 209.865 1532.65 Q206.809 1528.05 206.809 1519.32 Q206.809 1510.57 209.865 1505.99 Q212.943 1501.38 218.754 1501.38 Z\" fill=\"#000000\" fill-rule=\"nonzero\" fill-opacity=\"1\" /><path clip-path=\"url(#clip950)\" d=\"M633.221 1548.29 L649.54 1548.29 L649.54 1552.22 L627.596 1552.22 L627.596 1548.29 Q630.258 1545.53 634.841 1540.91 Q639.447 1536.25 640.628 1534.91 Q642.873 1532.39 643.753 1530.65 Q644.656 1528.89 644.656 1527.2 Q644.656 1524.45 642.711 1522.71 Q640.79 1520.97 637.688 1520.97 Q635.489 1520.97 633.035 1521.74 Q630.605 1522.5 627.827 1524.05 L627.827 1519.33 Q630.651 1518.2 633.105 1517.62 Q635.558 1517.04 637.596 1517.04 Q642.966 1517.04 646.16 1519.72 Q649.355 1522.41 649.355 1526.9 Q649.355 1529.03 648.545 1530.95 Q647.757 1532.85 645.651 1535.44 Q645.072 1536.11 641.97 1539.33 Q638.869 1542.53 633.221 1548.29 Z\" fill=\"#000000\" fill-rule=\"nonzero\" fill-opacity=\"1\" /><path clip-path=\"url(#clip950)\" d=\"M659.355 1546.35 L664.239 1546.35 L664.239 1552.22 L659.355 1552.22 L659.355 1546.35 Z\" fill=\"#000000\" fill-rule=\"nonzero\" fill-opacity=\"1\" /><path clip-path=\"url(#clip950)\" d=\"M674.47 1517.66 L692.827 1517.66 L692.827 1521.6 L678.753 1521.6 L678.753 1530.07 Q679.771 1529.72 680.79 1529.56 Q681.808 1529.38 682.827 1529.38 Q688.614 1529.38 691.993 1532.55 Q695.373 1535.72 695.373 1541.14 Q695.373 1546.72 691.901 1549.82 Q688.429 1552.9 682.109 1552.9 Q679.933 1552.9 677.665 1552.53 Q675.419 1552.16 673.012 1551.41 L673.012 1546.72 Q675.095 1547.85 677.318 1548.41 Q679.54 1548.96 682.017 1548.96 Q686.021 1548.96 688.359 1546.85 Q690.697 1544.75 690.697 1541.14 Q690.697 1537.53 688.359 1535.42 Q686.021 1533.31 682.017 1533.31 Q680.142 1533.31 678.267 1533.73 Q676.415 1534.15 674.47 1535.03 L674.47 1517.66 Z\" fill=\"#000000\" fill-rule=\"nonzero\" fill-opacity=\"1\" /><path clip-path=\"url(#clip950)\" d=\"M714.586 1520.74 Q710.975 1520.74 709.146 1524.31 Q707.341 1527.85 707.341 1534.98 Q707.341 1542.09 709.146 1545.65 Q710.975 1549.19 714.586 1549.19 Q718.22 1549.19 720.026 1545.65 Q721.854 1542.09 721.854 1534.98 Q721.854 1527.85 720.026 1524.31 Q718.22 1520.74 714.586 1520.74 M714.586 1517.04 Q720.396 1517.04 723.452 1521.65 Q726.53 1526.23 726.53 1534.98 Q726.53 1543.71 723.452 1548.31 Q720.396 1552.9 714.586 1552.9 Q708.776 1552.9 705.697 1548.31 Q702.641 1543.71 702.641 1534.98 Q702.641 1526.23 705.697 1521.65 Q708.776 1517.04 714.586 1517.04 Z\" fill=\"#000000\" fill-rule=\"nonzero\" fill-opacity=\"1\" /><path clip-path=\"url(#clip950)\" d=\"M762.919 1526.76 L752.34 1537.39 L762.919 1547.97 L760.164 1550.77 L749.539 1540.14 L738.914 1550.77 L736.183 1547.97 L746.738 1537.39 L736.183 1526.76 L738.914 1523.96 L749.539 1534.59 L760.164 1523.96 L762.919 1526.76 Z\" fill=\"#000000\" fill-rule=\"nonzero\" fill-opacity=\"1\" /><path clip-path=\"url(#clip950)\" d=\"M775.28 1548.29 L782.919 1548.29 L782.919 1521.92 L774.609 1523.59 L774.609 1519.33 L782.873 1517.66 L787.548 1517.66 L787.548 1548.29 L795.187 1548.29 L795.187 1552.22 L775.28 1552.22 L775.28 1548.29 Z\" fill=\"#000000\" fill-rule=\"nonzero\" fill-opacity=\"1\" /><path clip-path=\"url(#clip950)\" d=\"M814.632 1520.74 Q811.021 1520.74 809.192 1524.31 Q807.386 1527.85 807.386 1534.98 Q807.386 1542.09 809.192 1545.65 Q811.021 1549.19 814.632 1549.19 Q818.266 1549.19 820.071 1545.65 Q821.9 1542.09 821.9 1534.98 Q821.9 1527.85 820.071 1524.31 Q818.266 1520.74 814.632 1520.74 M814.632 1517.04 Q820.442 1517.04 823.497 1521.65 Q826.576 1526.23 826.576 1534.98 Q826.576 1543.71 823.497 1548.31 Q820.442 1552.9 814.632 1552.9 Q808.821 1552.9 805.743 1548.31 Q802.687 1543.71 802.687 1534.98 Q802.687 1526.23 805.743 1521.65 Q808.821 1517.04 814.632 1517.04 Z\" fill=\"#000000\" fill-rule=\"nonzero\" fill-opacity=\"1\" /><path clip-path=\"url(#clip950)\" d=\"M836.206 1511.48 Q833.497 1511.48 831.936 1512.93 Q830.394 1514.38 830.394 1516.92 Q830.394 1519.45 831.936 1520.9 Q833.497 1522.35 836.206 1522.35 Q838.914 1522.35 840.475 1520.9 Q842.036 1519.44 842.036 1516.92 Q842.036 1514.38 840.475 1512.93 Q838.933 1511.48 836.206 1511.48 M832.406 1509.86 Q829.961 1509.26 828.588 1507.59 Q827.234 1505.91 827.234 1503.51 Q827.234 1500.14 829.623 1498.18 Q832.03 1496.23 836.206 1496.23 Q840.4 1496.23 842.788 1498.18 Q845.177 1500.14 845.177 1503.51 Q845.177 1505.91 843.804 1507.59 Q842.45 1509.26 840.024 1509.86 Q842.769 1510.5 844.293 1512.36 Q845.835 1514.23 845.835 1516.92 Q845.835 1521 843.334 1523.18 Q840.851 1525.36 836.206 1525.36 Q831.56 1525.36 829.059 1523.18 Q826.576 1521 826.576 1516.92 Q826.576 1514.23 828.118 1512.36 Q829.66 1510.5 832.406 1509.86 M831.015 1503.86 Q831.015 1506.04 832.369 1507.27 Q833.742 1508.49 836.206 1508.49 Q838.651 1508.49 840.024 1507.27 Q841.415 1506.04 841.415 1503.86 Q841.415 1501.68 840.024 1500.46 Q838.651 1499.24 836.206 1499.24 Q833.742 1499.24 832.369 1500.46 Q831.015 1501.68 831.015 1503.86 Z\" fill=\"#000000\" fill-rule=\"nonzero\" fill-opacity=\"1\" /><path clip-path=\"url(#clip950)\" d=\"M1147.11 1517.66 L1165.46 1517.66 L1165.46 1521.6 L1151.39 1521.6 L1151.39 1530.07 Q1152.41 1529.72 1153.43 1529.56 Q1154.45 1529.38 1155.46 1529.38 Q1161.25 1529.38 1164.63 1532.55 Q1168.01 1535.72 1168.01 1541.14 Q1168.01 1546.72 1164.54 1549.82 Q1161.07 1552.9 1154.75 1552.9 Q1152.57 1552.9 1150.3 1552.53 Q1148.06 1552.16 1145.65 1551.41 L1145.65 1546.72 Q1147.73 1547.85 1149.96 1548.41 Q1152.18 1548.96 1154.65 1548.96 Q1158.66 1548.96 1161 1546.85 Q1163.33 1544.75 1163.33 1541.14 Q1163.33 1537.53 1161 1535.42 Q1158.66 1533.31 1154.65 1533.31 Q1152.78 1533.31 1150.9 1533.73 Q1149.05 1534.15 1147.11 1535.03 L1147.11 1517.66 Z\" fill=\"#000000\" fill-rule=\"nonzero\" fill-opacity=\"1\" /><path clip-path=\"url(#clip950)\" d=\"M1177.22 1546.35 L1182.11 1546.35 L1182.11 1552.22 L1177.22 1552.22 L1177.22 1546.35 Z\" fill=\"#000000\" fill-rule=\"nonzero\" fill-opacity=\"1\" /><path clip-path=\"url(#clip950)\" d=\"M1202.29 1520.74 Q1198.68 1520.74 1196.85 1524.31 Q1195.05 1527.85 1195.05 1534.98 Q1195.05 1542.09 1196.85 1545.65 Q1198.68 1549.19 1202.29 1549.19 Q1205.93 1549.19 1207.73 1545.65 Q1209.56 1542.09 1209.56 1534.98 Q1209.56 1527.85 1207.73 1524.31 Q1205.93 1520.74 1202.29 1520.74 M1202.29 1517.04 Q1208.1 1517.04 1211.16 1521.65 Q1214.24 1526.23 1214.24 1534.98 Q1214.24 1543.71 1211.16 1548.31 Q1208.1 1552.9 1202.29 1552.9 Q1196.48 1552.9 1193.4 1548.31 Q1190.35 1543.71 1190.35 1534.98 Q1190.35 1526.23 1193.4 1521.65 Q1196.48 1517.04 1202.29 1517.04 Z\" fill=\"#000000\" fill-rule=\"nonzero\" fill-opacity=\"1\" /><path clip-path=\"url(#clip950)\" d=\"M1232.45 1520.74 Q1228.84 1520.74 1227.02 1524.31 Q1225.21 1527.85 1225.21 1534.98 Q1225.21 1542.09 1227.02 1545.65 Q1228.84 1549.19 1232.45 1549.19 Q1236.09 1549.19 1237.89 1545.65 Q1239.72 1542.09 1239.72 1534.98 Q1239.72 1527.85 1237.89 1524.31 Q1236.09 1520.74 1232.45 1520.74 M1232.45 1517.04 Q1238.27 1517.04 1241.32 1521.65 Q1244.4 1526.23 1244.4 1534.98 Q1244.4 1543.71 1241.32 1548.31 Q1238.27 1552.9 1232.45 1552.9 Q1226.64 1552.9 1223.57 1548.31 Q1220.51 1543.71 1220.51 1534.98 Q1220.51 1526.23 1223.57 1521.65 Q1226.64 1517.04 1232.45 1517.04 Z\" fill=\"#000000\" fill-rule=\"nonzero\" fill-opacity=\"1\" /><path clip-path=\"url(#clip950)\" d=\"M1280.79 1526.76 L1270.21 1537.39 L1280.79 1547.97 L1278.03 1550.77 L1267.41 1540.14 L1256.78 1550.77 L1254.05 1547.97 L1264.61 1537.39 L1254.05 1526.76 L1256.78 1523.96 L1267.41 1534.59 L1278.03 1523.96 L1280.79 1526.76 Z\" fill=\"#000000\" fill-rule=\"nonzero\" fill-opacity=\"1\" /><path clip-path=\"url(#clip950)\" d=\"M1293.15 1548.29 L1300.79 1548.29 L1300.79 1521.92 L1292.48 1523.59 L1292.48 1519.33 L1300.74 1517.66 L1305.42 1517.66 L1305.42 1548.29 L1313.06 1548.29 L1313.06 1552.22 L1293.15 1552.22 L1293.15 1548.29 Z\" fill=\"#000000\" fill-rule=\"nonzero\" fill-opacity=\"1\" /><path clip-path=\"url(#clip950)\" d=\"M1332.5 1520.74 Q1328.89 1520.74 1327.06 1524.31 Q1325.26 1527.85 1325.26 1534.98 Q1325.26 1542.09 1327.06 1545.65 Q1328.89 1549.19 1332.5 1549.19 Q1336.13 1549.19 1337.94 1545.65 Q1339.77 1542.09 1339.77 1534.98 Q1339.77 1527.85 1337.94 1524.31 Q1336.13 1520.74 1332.5 1520.74 M1332.5 1517.04 Q1338.31 1517.04 1341.37 1521.65 Q1344.45 1526.23 1344.45 1534.98 Q1344.45 1543.71 1341.37 1548.31 Q1338.31 1552.9 1332.5 1552.9 Q1326.69 1552.9 1323.61 1548.31 Q1320.56 1543.71 1320.56 1534.98 Q1320.56 1526.23 1323.61 1521.65 Q1326.69 1517.04 1332.5 1517.04 Z\" fill=\"#000000\" fill-rule=\"nonzero\" fill-opacity=\"1\" /><path clip-path=\"url(#clip950)\" d=\"M1354.07 1511.48 Q1351.37 1511.48 1349.81 1512.93 Q1348.26 1514.38 1348.26 1516.92 Q1348.26 1519.45 1349.81 1520.9 Q1351.37 1522.35 1354.07 1522.35 Q1356.78 1522.35 1358.34 1520.9 Q1359.91 1519.44 1359.91 1516.92 Q1359.91 1514.38 1358.34 1512.93 Q1356.8 1511.48 1354.07 1511.48 M1350.28 1509.86 Q1347.83 1509.26 1346.46 1507.59 Q1345.1 1505.91 1345.1 1503.51 Q1345.1 1500.14 1347.49 1498.18 Q1349.9 1496.23 1354.07 1496.23 Q1358.27 1496.23 1360.66 1498.18 Q1363.05 1500.14 1363.05 1503.51 Q1363.05 1505.91 1361.67 1507.59 Q1360.32 1509.26 1357.89 1509.86 Q1360.64 1510.5 1362.16 1512.36 Q1363.7 1514.23 1363.7 1516.92 Q1363.7 1521 1361.2 1523.18 Q1358.72 1525.36 1354.07 1525.36 Q1349.43 1525.36 1346.93 1523.18 Q1344.45 1521 1344.45 1516.92 Q1344.45 1514.23 1345.99 1512.36 Q1347.53 1510.5 1350.28 1509.86 M1348.88 1503.86 Q1348.88 1506.04 1350.24 1507.27 Q1351.61 1508.49 1354.07 1508.49 Q1356.52 1508.49 1357.89 1507.27 Q1359.28 1506.04 1359.28 1503.86 Q1359.28 1501.68 1357.89 1500.46 Q1356.52 1499.24 1354.07 1499.24 Q1351.61 1499.24 1350.24 1500.46 Q1348.88 1501.68 1348.88 1503.86 Z\" fill=\"#000000\" fill-rule=\"nonzero\" fill-opacity=\"1\" /><path clip-path=\"url(#clip950)\" d=\"M1663.73 1517.66 L1685.95 1517.66 L1685.95 1519.66 L1673.4 1552.22 L1668.52 1552.22 L1680.32 1521.6 L1663.73 1521.6 L1663.73 1517.66 Z\" fill=\"#000000\" fill-rule=\"nonzero\" fill-opacity=\"1\" /><path clip-path=\"url(#clip950)\" d=\"M1695.07 1546.35 L1699.95 1546.35 L1699.95 1552.22 L1695.07 1552.22 L1695.07 1546.35 Z\" fill=\"#000000\" fill-rule=\"nonzero\" fill-opacity=\"1\" /><path clip-path=\"url(#clip950)\" d=\"M1710.19 1517.66 L1728.54 1517.66 L1728.54 1521.6 L1714.47 1521.6 L1714.47 1530.07 Q1715.49 1529.72 1716.5 1529.56 Q1717.52 1529.38 1718.54 1529.38 Q1724.33 1529.38 1727.71 1532.55 Q1731.09 1535.72 1731.09 1541.14 Q1731.09 1546.72 1727.62 1549.82 Q1724.14 1552.9 1717.82 1552.9 Q1715.65 1552.9 1713.38 1552.53 Q1711.13 1552.16 1708.73 1551.41 L1708.73 1546.72 Q1710.81 1547.85 1713.03 1548.41 Q1715.25 1548.96 1717.73 1548.96 Q1721.74 1548.96 1724.07 1546.85 Q1726.41 1544.75 1726.41 1541.14 Q1726.41 1537.53 1724.07 1535.42 Q1721.74 1533.31 1717.73 1533.31 Q1715.86 1533.31 1713.98 1533.73 Q1712.13 1534.15 1710.19 1535.03 L1710.19 1517.66 Z\" fill=\"#000000\" fill-rule=\"nonzero\" fill-opacity=\"1\" /><path clip-path=\"url(#clip950)\" d=\"M1750.3 1520.74 Q1746.69 1520.74 1744.86 1524.31 Q1743.06 1527.85 1743.06 1534.98 Q1743.06 1542.09 1744.86 1545.65 Q1746.69 1549.19 1750.3 1549.19 Q1753.94 1549.19 1755.74 1545.65 Q1757.57 1542.09 1757.57 1534.98 Q1757.57 1527.85 1755.74 1524.31 Q1753.94 1520.74 1750.3 1520.74 M1750.3 1517.04 Q1756.11 1517.04 1759.17 1521.65 Q1762.25 1526.23 1762.25 1534.98 Q1762.25 1543.71 1759.17 1548.31 Q1756.11 1552.9 1750.3 1552.9 Q1744.49 1552.9 1741.41 1548.31 Q1738.36 1543.71 1738.36 1534.98 Q1738.36 1526.23 1741.41 1521.65 Q1744.49 1517.04 1750.3 1517.04 Z\" fill=\"#000000\" fill-rule=\"nonzero\" fill-opacity=\"1\" /><path clip-path=\"url(#clip950)\" d=\"M1798.63 1526.76 L1788.06 1537.39 L1798.63 1547.97 L1795.88 1550.77 L1785.25 1540.14 L1774.63 1550.77 L1771.9 1547.97 L1782.45 1537.39 L1771.9 1526.76 L1774.63 1523.96 L1785.25 1534.59 L1795.88 1523.96 L1798.63 1526.76 Z\" fill=\"#000000\" fill-rule=\"nonzero\" fill-opacity=\"1\" /><path clip-path=\"url(#clip950)\" d=\"M1811 1548.29 L1818.63 1548.29 L1818.63 1521.92 L1810.32 1523.59 L1810.32 1519.33 L1818.59 1517.66 L1823.26 1517.66 L1823.26 1548.29 L1830.9 1548.29 L1830.9 1552.22 L1811 1552.22 L1811 1548.29 Z\" fill=\"#000000\" fill-rule=\"nonzero\" fill-opacity=\"1\" /><path clip-path=\"url(#clip950)\" d=\"M1850.35 1520.74 Q1846.74 1520.74 1844.91 1524.31 Q1843.1 1527.85 1843.1 1534.98 Q1843.1 1542.09 1844.91 1545.65 Q1846.74 1549.19 1850.35 1549.19 Q1853.98 1549.19 1855.79 1545.65 Q1857.62 1542.09 1857.62 1534.98 Q1857.62 1527.85 1855.79 1524.31 Q1853.98 1520.74 1850.35 1520.74 M1850.35 1517.04 Q1856.16 1517.04 1859.21 1521.65 Q1862.29 1526.23 1862.29 1534.98 Q1862.29 1543.71 1859.21 1548.31 Q1856.16 1552.9 1850.35 1552.9 Q1844.54 1552.9 1841.46 1548.31 Q1838.4 1543.71 1838.4 1534.98 Q1838.4 1526.23 1841.46 1521.65 Q1844.54 1517.04 1850.35 1517.04 Z\" fill=\"#000000\" fill-rule=\"nonzero\" fill-opacity=\"1\" /><path clip-path=\"url(#clip950)\" d=\"M1871.92 1511.48 Q1869.21 1511.48 1867.65 1512.93 Q1866.11 1514.38 1866.11 1516.92 Q1866.11 1519.45 1867.65 1520.9 Q1869.21 1522.35 1871.92 1522.35 Q1874.63 1522.35 1876.19 1520.9 Q1877.75 1519.44 1877.75 1516.92 Q1877.75 1514.38 1876.19 1512.93 Q1874.65 1511.48 1871.92 1511.48 M1868.12 1509.86 Q1865.68 1509.26 1864.3 1507.59 Q1862.95 1505.91 1862.95 1503.51 Q1862.95 1500.14 1865.34 1498.18 Q1867.75 1496.23 1871.92 1496.23 Q1876.11 1496.23 1878.5 1498.18 Q1880.89 1500.14 1880.89 1503.51 Q1880.89 1505.91 1879.52 1507.59 Q1878.16 1509.26 1875.74 1509.86 Q1878.48 1510.5 1880.01 1512.36 Q1881.55 1514.23 1881.55 1516.92 Q1881.55 1521 1879.05 1523.18 Q1876.57 1525.36 1871.92 1525.36 Q1867.28 1525.36 1864.77 1523.18 Q1862.29 1521 1862.29 1516.92 Q1862.29 1514.23 1863.83 1512.36 Q1865.38 1510.5 1868.12 1509.86 M1866.73 1503.86 Q1866.73 1506.04 1868.08 1507.27 Q1869.46 1508.49 1871.92 1508.49 Q1874.37 1508.49 1875.74 1507.27 Q1877.13 1506.04 1877.13 1503.86 Q1877.13 1501.68 1875.74 1500.46 Q1874.37 1499.24 1871.92 1499.24 Q1869.46 1499.24 1868.08 1500.46 Q1866.73 1501.68 1866.73 1503.86 Z\" fill=\"#000000\" fill-rule=\"nonzero\" fill-opacity=\"1\" /><path clip-path=\"url(#clip950)\" d=\"M2182.96 1548.29 L2190.6 1548.29 L2190.6 1521.92 L2182.29 1523.59 L2182.29 1519.33 L2190.56 1517.66 L2195.23 1517.66 L2195.23 1548.29 L2202.87 1548.29 L2202.87 1552.22 L2182.96 1552.22 L2182.96 1548.29 Z\" fill=\"#000000\" fill-rule=\"nonzero\" fill-opacity=\"1\" /><path clip-path=\"url(#clip950)\" d=\"M2212.32 1546.35 L2217.2 1546.35 L2217.2 1552.22 L2212.32 1552.22 L2212.32 1546.35 Z\" fill=\"#000000\" fill-rule=\"nonzero\" fill-opacity=\"1\" /><path clip-path=\"url(#clip950)\" d=\"M2237.38 1520.74 Q2233.77 1520.74 2231.94 1524.31 Q2230.14 1527.85 2230.14 1534.98 Q2230.14 1542.09 2231.94 1545.65 Q2233.77 1549.19 2237.38 1549.19 Q2241.02 1549.19 2242.82 1545.65 Q2244.65 1542.09 2244.65 1534.98 Q2244.65 1527.85 2242.82 1524.31 Q2241.02 1520.74 2237.38 1520.74 M2237.38 1517.04 Q2243.19 1517.04 2246.25 1521.65 Q2249.33 1526.23 2249.33 1534.98 Q2249.33 1543.71 2246.25 1548.31 Q2243.19 1552.9 2237.38 1552.9 Q2231.57 1552.9 2228.5 1548.31 Q2225.44 1543.71 2225.44 1534.98 Q2225.44 1526.23 2228.5 1521.65 Q2231.57 1517.04 2237.38 1517.04 Z\" fill=\"#000000\" fill-rule=\"nonzero\" fill-opacity=\"1\" /><path clip-path=\"url(#clip950)\" d=\"M2267.55 1520.74 Q2263.94 1520.74 2262.11 1524.31 Q2260.3 1527.85 2260.3 1534.98 Q2260.3 1542.09 2262.11 1545.65 Q2263.94 1549.19 2267.55 1549.19 Q2271.18 1549.19 2272.99 1545.65 Q2274.81 1542.09 2274.81 1534.98 Q2274.81 1527.85 2272.99 1524.31 Q2271.18 1520.74 2267.55 1520.74 M2267.55 1517.04 Q2273.36 1517.04 2276.41 1521.65 Q2279.49 1526.23 2279.49 1534.98 Q2279.49 1543.71 2276.41 1548.31 Q2273.36 1552.9 2267.55 1552.9 Q2261.74 1552.9 2258.66 1548.31 Q2255.6 1543.71 2255.6 1534.98 Q2255.6 1526.23 2258.66 1521.65 Q2261.74 1517.04 2267.55 1517.04 Z\" fill=\"#000000\" fill-rule=\"nonzero\" fill-opacity=\"1\" /><path clip-path=\"url(#clip950)\" d=\"M2315.88 1526.76 L2305.3 1537.39 L2315.88 1547.97 L2313.12 1550.77 L2302.5 1540.14 L2291.88 1550.77 L2289.14 1547.97 L2299.7 1537.39 L2289.14 1526.76 L2291.88 1523.96 L2302.5 1534.59 L2313.12 1523.96 L2315.88 1526.76 Z\" fill=\"#000000\" fill-rule=\"nonzero\" fill-opacity=\"1\" /><path clip-path=\"url(#clip950)\" d=\"M2328.24 1548.29 L2335.88 1548.29 L2335.88 1521.92 L2327.57 1523.59 L2327.57 1519.33 L2335.83 1517.66 L2340.51 1517.66 L2340.51 1548.29 L2348.15 1548.29 L2348.15 1552.22 L2328.24 1552.22 L2328.24 1548.29 Z\" fill=\"#000000\" fill-rule=\"nonzero\" fill-opacity=\"1\" /><path clip-path=\"url(#clip950)\" d=\"M2367.59 1520.74 Q2363.98 1520.74 2362.15 1524.31 Q2360.35 1527.85 2360.35 1534.98 Q2360.35 1542.09 2362.15 1545.65 Q2363.98 1549.19 2367.59 1549.19 Q2371.23 1549.19 2373.03 1545.65 Q2374.86 1542.09 2374.86 1534.98 Q2374.86 1527.85 2373.03 1524.31 Q2371.23 1520.74 2367.59 1520.74 M2367.59 1517.04 Q2373.4 1517.04 2376.46 1521.65 Q2379.54 1526.23 2379.54 1534.98 Q2379.54 1543.71 2376.46 1548.31 Q2373.4 1552.9 2367.59 1552.9 Q2361.78 1552.9 2358.7 1548.31 Q2355.65 1543.71 2355.65 1534.98 Q2355.65 1526.23 2358.7 1521.65 Q2361.78 1517.04 2367.59 1517.04 Z\" fill=\"#000000\" fill-rule=\"nonzero\" fill-opacity=\"1\" /><path clip-path=\"url(#clip950)\" d=\"M2381.34 1524.23 L2381.34 1520.77 Q2382.77 1521.45 2384.24 1521.81 Q2385.71 1522.16 2387.12 1522.16 Q2390.88 1522.16 2392.85 1519.64 Q2394.85 1517.1 2395.13 1511.95 Q2394.04 1513.57 2392.36 1514.43 Q2390.69 1515.3 2388.66 1515.3 Q2384.45 1515.3 2381.98 1512.76 Q2379.54 1510.2 2379.54 1505.78 Q2379.54 1501.46 2382.09 1498.84 Q2384.65 1496.23 2388.9 1496.23 Q2393.77 1496.23 2396.33 1499.97 Q2398.91 1503.69 2398.91 1510.8 Q2398.91 1517.44 2395.75 1521.41 Q2392.61 1525.36 2387.29 1525.36 Q2385.86 1525.36 2384.39 1525.08 Q2382.92 1524.8 2381.34 1524.23 M2388.9 1512.33 Q2391.46 1512.33 2392.95 1510.58 Q2394.45 1508.83 2394.45 1505.78 Q2394.45 1502.75 2392.95 1501 Q2391.46 1499.24 2388.9 1499.24 Q2386.35 1499.24 2384.84 1501 Q2383.35 1502.75 2383.35 1505.78 Q2383.35 1508.83 2384.84 1510.58 Q2386.35 1512.33 2388.9 1512.33 Z\" fill=\"#000000\" fill-rule=\"nonzero\" fill-opacity=\"1\" /><polyline clip-path=\"url(#clip952)\" style=\"stroke:#000000; stroke-linecap:round; stroke-linejoin:round; stroke-width:2; stroke-opacity:0.1; fill:none\" points=\"156.598,1288.21 2352.76,1288.21 \"/>\n",
       "<polyline clip-path=\"url(#clip952)\" style=\"stroke:#000000; stroke-linecap:round; stroke-linejoin:round; stroke-width:2; stroke-opacity:0.1; fill:none\" points=\"156.598,988.062 2352.76,988.062 \"/>\n",
       "<polyline clip-path=\"url(#clip952)\" style=\"stroke:#000000; stroke-linecap:round; stroke-linejoin:round; stroke-width:2; stroke-opacity:0.1; fill:none\" points=\"156.598,687.918 2352.76,687.918 \"/>\n",
       "<polyline clip-path=\"url(#clip952)\" style=\"stroke:#000000; stroke-linecap:round; stroke-linejoin:round; stroke-width:2; stroke-opacity:0.1; fill:none\" points=\"156.598,387.773 2352.76,387.773 \"/>\n",
       "<polyline clip-path=\"url(#clip952)\" style=\"stroke:#000000; stroke-linecap:round; stroke-linejoin:round; stroke-width:2; stroke-opacity:0.1; fill:none\" points=\"156.598,87.6286 2352.76,87.6286 \"/>\n",
       "<polyline clip-path=\"url(#clip950)\" style=\"stroke:#000000; stroke-linecap:round; stroke-linejoin:round; stroke-width:4; stroke-opacity:1; fill:none\" points=\"156.598,1474.16 156.598,47.2441 \"/>\n",
       "<polyline clip-path=\"url(#clip950)\" style=\"stroke:#000000; stroke-linecap:round; stroke-linejoin:round; stroke-width:4; stroke-opacity:1; fill:none\" points=\"156.598,1288.21 175.496,1288.21 \"/>\n",
       "<polyline clip-path=\"url(#clip950)\" style=\"stroke:#000000; stroke-linecap:round; stroke-linejoin:round; stroke-width:4; stroke-opacity:1; fill:none\" points=\"156.598,988.062 175.496,988.062 \"/>\n",
       "<polyline clip-path=\"url(#clip950)\" style=\"stroke:#000000; stroke-linecap:round; stroke-linejoin:round; stroke-width:4; stroke-opacity:1; fill:none\" points=\"156.598,687.918 175.496,687.918 \"/>\n",
       "<polyline clip-path=\"url(#clip950)\" style=\"stroke:#000000; stroke-linecap:round; stroke-linejoin:round; stroke-width:4; stroke-opacity:1; fill:none\" points=\"156.598,387.773 175.496,387.773 \"/>\n",
       "<polyline clip-path=\"url(#clip950)\" style=\"stroke:#000000; stroke-linecap:round; stroke-linejoin:round; stroke-width:4; stroke-opacity:1; fill:none\" points=\"156.598,87.6286 175.496,87.6286 \"/>\n",
       "<path clip-path=\"url(#clip950)\" d=\"M65.0198 1274.01 Q61.4087 1274.01 59.58 1277.57 Q57.7745 1281.11 57.7745 1288.24 Q57.7745 1295.35 59.58 1298.91 Q61.4087 1302.45 65.0198 1302.45 Q68.6541 1302.45 70.4596 1298.91 Q72.2883 1295.35 72.2883 1288.24 Q72.2883 1281.11 70.4596 1277.57 Q68.6541 1274.01 65.0198 1274.01 M65.0198 1270.3 Q70.83 1270.3 73.8855 1274.91 Q76.9642 1279.49 76.9642 1288.24 Q76.9642 1296.97 73.8855 1301.57 Q70.83 1306.16 65.0198 1306.16 Q59.2097 1306.16 56.131 1301.57 Q53.0754 1296.97 53.0754 1288.24 Q53.0754 1279.49 56.131 1274.91 Q59.2097 1270.3 65.0198 1270.3 Z\" fill=\"#000000\" fill-rule=\"nonzero\" fill-opacity=\"1\" /><path clip-path=\"url(#clip950)\" d=\"M85.1818 1299.61 L90.066 1299.61 L90.066 1305.49 L85.1818 1305.49 L85.1818 1299.61 Z\" fill=\"#000000\" fill-rule=\"nonzero\" fill-opacity=\"1\" /><path clip-path=\"url(#clip950)\" d=\"M104.279 1301.55 L120.598 1301.55 L120.598 1305.49 L98.6539 1305.49 L98.6539 1301.55 Q101.316 1298.8 105.899 1294.17 Q110.506 1289.51 111.686 1288.17 Q113.932 1285.65 114.811 1283.91 Q115.714 1282.15 115.714 1280.46 Q115.714 1277.71 113.77 1275.97 Q111.848 1274.24 108.746 1274.24 Q106.547 1274.24 104.094 1275 Q101.663 1275.76 98.8854 1277.32 L98.8854 1272.59 Q101.709 1271.46 104.163 1270.88 Q106.617 1270.3 108.654 1270.3 Q114.024 1270.3 117.219 1272.99 Q120.413 1275.67 120.413 1280.16 Q120.413 1282.29 119.603 1284.21 Q118.816 1286.11 116.709 1288.7 Q116.131 1289.38 113.029 1292.59 Q109.927 1295.79 104.279 1301.55 Z\" fill=\"#000000\" fill-rule=\"nonzero\" fill-opacity=\"1\" /><path clip-path=\"url(#clip950)\" d=\"M62.9365 973.861 Q59.3254 973.861 57.4967 977.426 Q55.6912 980.967 55.6912 988.097 Q55.6912 995.203 57.4967 998.768 Q59.3254 1002.31 62.9365 1002.31 Q66.5707 1002.31 68.3763 998.768 Q70.205 995.203 70.205 988.097 Q70.205 980.967 68.3763 977.426 Q66.5707 973.861 62.9365 973.861 M62.9365 970.157 Q68.7467 970.157 71.8022 974.764 Q74.8809 979.347 74.8809 988.097 Q74.8809 996.824 71.8022 1001.43 Q68.7467 1006.01 62.9365 1006.01 Q57.1264 1006.01 54.0477 1001.43 Q50.9921 996.824 50.9921 988.097 Q50.9921 979.347 54.0477 974.764 Q57.1264 970.157 62.9365 970.157 Z\" fill=\"#000000\" fill-rule=\"nonzero\" fill-opacity=\"1\" /><path clip-path=\"url(#clip950)\" d=\"M83.0984 999.463 L87.9827 999.463 L87.9827 1005.34 L83.0984 1005.34 L83.0984 999.463 Z\" fill=\"#000000\" fill-rule=\"nonzero\" fill-opacity=\"1\" /><path clip-path=\"url(#clip950)\" d=\"M111.015 974.856 L99.2095 993.305 L111.015 993.305 L111.015 974.856 M109.788 970.782 L115.668 970.782 L115.668 993.305 L120.598 993.305 L120.598 997.194 L115.668 997.194 L115.668 1005.34 L111.015 1005.34 L111.015 997.194 L95.4132 997.194 L95.4132 992.68 L109.788 970.782 Z\" fill=\"#000000\" fill-rule=\"nonzero\" fill-opacity=\"1\" /><path clip-path=\"url(#clip950)\" d=\"M63.2606 673.716 Q59.6495 673.716 57.8208 677.281 Q56.0152 680.823 56.0152 687.952 Q56.0152 695.059 57.8208 698.624 Q59.6495 702.165 63.2606 702.165 Q66.8948 702.165 68.7004 698.624 Q70.5291 695.059 70.5291 687.952 Q70.5291 680.823 68.7004 677.281 Q66.8948 673.716 63.2606 673.716 M63.2606 670.013 Q69.0707 670.013 72.1263 674.619 Q75.205 679.202 75.205 687.952 Q75.205 696.679 72.1263 701.286 Q69.0707 705.869 63.2606 705.869 Q57.4504 705.869 54.3717 701.286 Q51.3162 696.679 51.3162 687.952 Q51.3162 679.202 54.3717 674.619 Q57.4504 670.013 63.2606 670.013 Z\" fill=\"#000000\" fill-rule=\"nonzero\" fill-opacity=\"1\" /><path clip-path=\"url(#clip950)\" d=\"M83.4225 699.318 L88.3067 699.318 L88.3067 705.198 L83.4225 705.198 L83.4225 699.318 Z\" fill=\"#000000\" fill-rule=\"nonzero\" fill-opacity=\"1\" /><path clip-path=\"url(#clip950)\" d=\"M109.071 686.054 Q105.922 686.054 104.071 688.207 Q102.242 690.36 102.242 694.11 Q102.242 697.837 104.071 700.012 Q105.922 702.165 109.071 702.165 Q112.219 702.165 114.047 700.012 Q115.899 697.837 115.899 694.11 Q115.899 690.36 114.047 688.207 Q112.219 686.054 109.071 686.054 M118.353 671.402 L118.353 675.661 Q116.594 674.827 114.788 674.388 Q113.006 673.948 111.246 673.948 Q106.617 673.948 104.163 677.073 Q101.733 680.198 101.385 686.517 Q102.751 684.503 104.811 683.438 Q106.871 682.351 109.348 682.351 Q114.557 682.351 117.566 685.522 Q120.598 688.67 120.598 694.11 Q120.598 699.434 117.45 702.651 Q114.302 705.869 109.071 705.869 Q103.075 705.869 99.9039 701.286 Q96.7326 696.679 96.7326 687.952 Q96.7326 679.758 100.621 674.897 Q104.51 670.013 111.061 670.013 Q112.82 670.013 114.603 670.36 Q116.408 670.707 118.353 671.402 Z\" fill=\"#000000\" fill-rule=\"nonzero\" fill-opacity=\"1\" /><path clip-path=\"url(#clip950)\" d=\"M63.5152 373.572 Q59.9041 373.572 58.0754 377.137 Q56.2699 380.678 56.2699 387.808 Q56.2699 394.914 58.0754 398.479 Q59.9041 402.021 63.5152 402.021 Q67.1494 402.021 68.955 398.479 Q70.7837 394.914 70.7837 387.808 Q70.7837 380.678 68.955 377.137 Q67.1494 373.572 63.5152 373.572 M63.5152 369.868 Q69.3254 369.868 72.3809 374.475 Q75.4596 379.058 75.4596 387.808 Q75.4596 396.535 72.3809 401.141 Q69.3254 405.724 63.5152 405.724 Q57.7051 405.724 54.6264 401.141 Q51.5708 396.535 51.5708 387.808 Q51.5708 379.058 54.6264 374.475 Q57.7051 369.868 63.5152 369.868 Z\" fill=\"#000000\" fill-rule=\"nonzero\" fill-opacity=\"1\" /><path clip-path=\"url(#clip950)\" d=\"M83.6771 399.174 L88.5614 399.174 L88.5614 405.053 L83.6771 405.053 L83.6771 399.174 Z\" fill=\"#000000\" fill-rule=\"nonzero\" fill-opacity=\"1\" /><path clip-path=\"url(#clip950)\" d=\"M108.746 388.641 Q105.413 388.641 103.492 390.424 Q101.594 392.206 101.594 395.331 Q101.594 398.456 103.492 400.238 Q105.413 402.021 108.746 402.021 Q112.08 402.021 114.001 400.238 Q115.922 398.433 115.922 395.331 Q115.922 392.206 114.001 390.424 Q112.103 388.641 108.746 388.641 M104.071 386.65 Q101.061 385.91 99.3715 383.85 Q97.7048 381.789 97.7048 378.826 Q97.7048 374.683 100.645 372.276 Q103.608 369.868 108.746 369.868 Q113.908 369.868 116.848 372.276 Q119.788 374.683 119.788 378.826 Q119.788 381.789 118.098 383.85 Q116.432 385.91 113.445 386.65 Q116.825 387.437 118.7 389.729 Q120.598 392.021 120.598 395.331 Q120.598 400.354 117.52 403.039 Q114.464 405.724 108.746 405.724 Q103.029 405.724 99.9502 403.039 Q96.8947 400.354 96.8947 395.331 Q96.8947 392.021 98.7928 389.729 Q100.691 387.437 104.071 386.65 M102.358 379.266 Q102.358 381.951 104.024 383.456 Q105.714 384.961 108.746 384.961 Q111.756 384.961 113.445 383.456 Q115.158 381.951 115.158 379.266 Q115.158 376.581 113.445 375.076 Q111.756 373.572 108.746 373.572 Q105.714 373.572 104.024 375.076 Q102.358 376.581 102.358 379.266 Z\" fill=\"#000000\" fill-rule=\"nonzero\" fill-opacity=\"1\" /><path clip-path=\"url(#clip950)\" d=\"M54.2328 100.973 L61.8717 100.973 L61.8717 74.6079 L53.5616 76.2745 L53.5616 72.0153 L61.8254 70.3486 L66.5013 70.3486 L66.5013 100.973 L74.1402 100.973 L74.1402 104.909 L54.2328 104.909 L54.2328 100.973 Z\" fill=\"#000000\" fill-rule=\"nonzero\" fill-opacity=\"1\" /><path clip-path=\"url(#clip950)\" d=\"M83.5845 99.029 L88.4688 99.029 L88.4688 104.909 L83.5845 104.909 L83.5845 99.029 Z\" fill=\"#000000\" fill-rule=\"nonzero\" fill-opacity=\"1\" /><path clip-path=\"url(#clip950)\" d=\"M108.654 73.4273 Q105.043 73.4273 103.214 76.9921 Q101.409 80.5338 101.409 87.6634 Q101.409 94.7698 103.214 98.3346 Q105.043 101.876 108.654 101.876 Q112.288 101.876 114.094 98.3346 Q115.922 94.7698 115.922 87.6634 Q115.922 80.5338 114.094 76.9921 Q112.288 73.4273 108.654 73.4273 M108.654 69.7236 Q114.464 69.7236 117.52 74.3301 Q120.598 78.9134 120.598 87.6634 Q120.598 96.3902 117.52 100.997 Q114.464 105.58 108.654 105.58 Q102.844 105.58 99.765 100.997 Q96.7095 96.3902 96.7095 87.6634 Q96.7095 78.9134 99.765 74.3301 Q102.844 69.7236 108.654 69.7236 Z\" fill=\"#000000\" fill-rule=\"nonzero\" fill-opacity=\"1\" /><polyline clip-path=\"url(#clip952)\" style=\"stroke:#009af9; stroke-linecap:round; stroke-linejoin:round; stroke-width:4; stroke-opacity:1; fill:none\" points=\"218.754,87.6286 239.681,1135.29 260.609,1180.31 281.537,1206.65 302.465,1225.34 323.392,1239.83 344.32,1251.68 365.248,1261.69 386.176,1270.37 407.103,1278.02 428.031,1284.86 448.959,1291.05 469.887,1296.7 490.814,1301.9 511.742,1306.72 532.67,1311.2 553.598,1315.39 574.525,1319.33 595.453,1323.04 616.381,1326.55 637.309,1329.89 658.236,1333.06 679.164,1336.08 700.092,1338.97 721.02,1341.73 741.947,1344.38 762.875,1346.93 783.803,1349.38 804.731,1351.74 825.658,1354.02 846.586,1356.22 867.514,1358.35 888.442,1360.42 909.369,1362.42 930.297,1364.36 951.225,1366.24 972.152,1368.07 993.08,1369.85 1014.01,1371.58 1034.94,1373.27 1055.86,1374.91 1076.79,1376.52 1097.72,1378.08 1118.65,1379.61 1139.57,1381.1 1160.5,1382.56 1181.43,1383.99 1202.36,1385.39 1223.29,1386.76 1244.21,1388.09 1265.14,1389.41 1286.07,1390.69 1307,1391.95 1327.92,1393.19 1348.85,1394.41 1369.78,1395.6 1390.71,1396.77 1411.64,1397.92 1432.56,1399.05 1453.49,1400.16 1474.42,1401.25 1495.35,1402.32 1516.27,1403.38 1537.2,1404.42 1558.13,1405.44 1579.06,1406.45 1599.98,1407.44 1620.91,1408.42 1641.84,1409.38 1662.77,1410.33 1683.7,1411.26 1704.62,1412.19 1725.55,1413.09 1746.48,1413.99 1767.41,1414.87 1788.33,1415.75 1809.26,1416.61 1830.19,1417.46 1851.12,1418.29 1872.05,1419.12 1892.97,1419.94 1913.9,1420.74 1934.83,1421.54 1955.76,1422.33 1976.68,1423.11 1997.61,1423.88 2018.54,1424.64 2039.47,1425.39 2060.4,1426.13 2081.32,1426.86 2102.25,1427.59 2123.18,1428.31 2144.11,1429.02 2165.03,1429.72 2185.96,1430.41 2206.89,1431.1 2227.82,1431.78 2248.75,1432.45 2269.67,1433.12 2290.6,1433.78 \"/>\n",
       "<polyline clip-path=\"url(#clip952)\" style=\"stroke:#e26f46; stroke-linecap:round; stroke-linejoin:round; stroke-width:4; stroke-opacity:1; fill:none\" points=\"218.754,87.6286 239.681,90.4345 260.609,93.2378 281.537,96.0385 302.465,98.8365 323.392,101.632 344.32,104.425 365.248,107.215 386.176,110.002 407.103,112.787 428.031,115.57 448.959,118.349 469.887,121.126 490.814,123.901 511.742,126.672 532.67,129.442 553.598,132.208 574.525,134.972 595.453,137.733 616.381,140.492 637.309,143.248 658.236,146.001 679.164,148.752 700.092,151.5 721.02,154.246 741.947,156.989 762.875,159.729 783.803,162.466 804.731,165.201 825.658,167.934 846.586,170.664 867.514,173.391 888.442,176.115 909.369,178.837 930.297,181.556 951.225,184.273 972.152,186.987 993.08,189.698 1014.01,192.407 1034.94,195.113 1055.86,197.817 1076.79,200.518 1097.72,203.216 1118.65,205.912 1139.57,208.605 1160.5,211.295 1181.43,213.983 1202.36,216.668 1223.29,219.35 1244.21,222.03 1265.14,224.708 1286.07,227.382 1307,230.054 1327.92,232.724 1348.85,235.39 1369.78,238.054 1390.71,240.716 1411.64,243.375 1432.56,246.031 1453.49,248.685 1474.42,251.336 1495.35,253.984 1516.27,256.63 1537.2,259.273 1558.13,261.913 1579.06,264.551 1599.98,267.186 1620.91,269.819 1641.84,272.449 1662.77,275.076 1683.7,277.701 1704.62,280.323 1725.55,282.943 1746.48,285.56 1767.41,288.174 1788.33,290.786 1809.26,293.394 1830.19,296.001 1851.12,298.605 1872.05,301.206 1892.97,303.804 1913.9,306.4 1934.83,308.993 1955.76,311.584 1976.68,314.172 1997.61,316.757 2018.54,319.34 2039.47,321.92 2060.4,324.498 2081.32,327.072 2102.25,329.645 2123.18,332.214 2144.11,334.781 2165.03,337.346 2185.96,339.907 2206.89,342.466 2227.82,345.023 2248.75,347.577 2269.67,350.128 2290.6,352.677 \"/>\n",
       "<polyline clip-path=\"url(#clip952)\" style=\"stroke:#3da44d; stroke-linecap:round; stroke-linejoin:round; stroke-width:4; stroke-opacity:1; fill:none\" points=\"218.754,87.6286 239.681,89.0322 260.609,90.4359 281.537,91.8395 302.465,93.2431 323.392,94.6467 344.32,96.0503 365.248,97.4539 386.176,98.8575 407.103,100.261 428.031,101.665 448.959,103.068 469.887,104.472 490.814,105.876 511.742,107.279 532.67,108.683 553.598,110.086 574.525,111.49 595.453,112.894 616.381,114.297 637.309,115.701 658.236,117.104 679.164,118.508 700.092,119.912 721.02,121.315 741.947,122.719 762.875,124.122 783.803,125.526 804.731,126.93 825.658,128.333 846.586,129.737 867.514,131.14 888.442,132.544 909.369,133.948 930.297,135.351 951.225,136.755 972.152,138.159 993.08,139.562 1014.01,140.966 1034.94,142.369 1055.86,143.773 1076.79,145.177 1097.72,146.58 1118.65,147.984 1139.57,149.387 1160.5,150.791 1181.43,152.195 1202.36,153.598 1223.29,155.002 1244.21,156.405 1265.14,157.809 1286.07,159.213 1307,160.616 1327.92,162.02 1348.85,163.423 1369.78,164.827 1390.71,166.231 1411.64,167.634 1432.56,169.038 1453.49,170.442 1474.42,171.845 1495.35,173.249 1516.27,174.652 1537.2,176.056 1558.13,177.46 1579.06,178.863 1599.98,180.267 1620.91,181.67 1641.84,183.074 1662.77,184.478 1683.7,185.881 1704.62,187.285 1725.55,188.688 1746.48,190.092 1767.41,191.496 1788.33,192.899 1809.26,194.303 1830.19,195.706 1851.12,197.11 1872.05,198.514 1892.97,199.917 1913.9,201.321 1934.83,202.725 1955.76,204.128 1976.68,205.532 1997.61,206.935 2018.54,208.339 2039.47,209.743 2060.4,211.146 2081.32,212.55 2102.25,213.953 2123.18,215.357 2144.11,216.761 2165.03,218.164 2185.96,219.568 2206.89,220.971 2227.82,222.375 2248.75,223.779 2269.67,225.182 2290.6,226.586 \"/>\n",
       "<path clip-path=\"url(#clip950)\" d=\"M229.803 1426.6 L502.428 1426.6 L502.428 1219.24 L229.803 1219.24  Z\" fill=\"#ffffff\" fill-rule=\"evenodd\" fill-opacity=\"1\"/>\n",
       "<polyline clip-path=\"url(#clip950)\" style=\"stroke:#000000; stroke-linecap:round; stroke-linejoin:round; stroke-width:4; stroke-opacity:1; fill:none\" points=\"229.803,1426.6 502.428,1426.6 502.428,1219.24 229.803,1219.24 229.803,1426.6 \"/>\n",
       "<polyline clip-path=\"url(#clip950)\" style=\"stroke:#009af9; stroke-linecap:round; stroke-linejoin:round; stroke-width:4; stroke-opacity:1; fill:none\" points=\"254.205,1271.08 400.616,1271.08 \"/>\n",
       "<path clip-path=\"url(#clip950)\" d=\"M438.86 1290.77 Q437.054 1295.4 435.342 1296.81 Q433.629 1298.22 430.758 1298.22 L427.355 1298.22 L427.355 1294.66 L429.855 1294.66 Q431.615 1294.66 432.587 1293.82 Q433.559 1292.99 434.74 1289.89 L435.504 1287.94 L425.018 1262.43 L429.531 1262.43 L437.633 1282.71 L445.735 1262.43 L450.249 1262.43 L438.86 1290.77 Z\" fill=\"#000000\" fill-rule=\"nonzero\" fill-opacity=\"1\" /><path clip-path=\"url(#clip950)\" d=\"M457.54 1284.43 L465.179 1284.43 L465.179 1258.06 L456.869 1259.73 L456.869 1255.47 L465.133 1253.8 L469.809 1253.8 L469.809 1284.43 L477.448 1284.43 L477.448 1288.36 L457.54 1288.36 L457.54 1284.43 Z\" fill=\"#000000\" fill-rule=\"nonzero\" fill-opacity=\"1\" /><polyline clip-path=\"url(#clip950)\" style=\"stroke:#e26f46; stroke-linecap:round; stroke-linejoin:round; stroke-width:4; stroke-opacity:1; fill:none\" points=\"254.205,1322.92 400.616,1322.92 \"/>\n",
       "<path clip-path=\"url(#clip950)\" d=\"M438.86 1342.61 Q437.054 1347.24 435.342 1348.65 Q433.629 1350.06 430.758 1350.06 L427.355 1350.06 L427.355 1346.5 L429.855 1346.5 Q431.615 1346.5 432.587 1345.66 Q433.559 1344.83 434.74 1341.73 L435.504 1339.78 L425.018 1314.27 L429.531 1314.27 L437.633 1334.55 L445.735 1314.27 L450.249 1314.27 L438.86 1342.61 Z\" fill=\"#000000\" fill-rule=\"nonzero\" fill-opacity=\"1\" /><path clip-path=\"url(#clip950)\" d=\"M460.758 1336.27 L477.077 1336.27 L477.077 1340.2 L455.133 1340.2 L455.133 1336.27 Q457.795 1333.51 462.378 1328.88 Q466.985 1324.23 468.165 1322.89 Q470.411 1320.36 471.29 1318.63 Q472.193 1316.87 472.193 1315.18 Q472.193 1312.42 470.249 1310.69 Q468.327 1308.95 465.226 1308.95 Q463.027 1308.95 460.573 1309.71 Q458.142 1310.48 455.365 1312.03 L455.365 1307.31 Q458.189 1306.17 460.642 1305.59 Q463.096 1305.02 465.133 1305.02 Q470.503 1305.02 473.698 1307.7 Q476.892 1310.39 476.892 1314.88 Q476.892 1317.01 476.082 1318.93 Q475.295 1320.83 473.189 1323.42 Q472.61 1324.09 469.508 1327.31 Q466.406 1330.5 460.758 1336.27 Z\" fill=\"#000000\" fill-rule=\"nonzero\" fill-opacity=\"1\" /><polyline clip-path=\"url(#clip950)\" style=\"stroke:#3da44d; stroke-linecap:round; stroke-linejoin:round; stroke-width:4; stroke-opacity:1; fill:none\" points=\"254.205,1374.76 400.616,1374.76 \"/>\n",
       "<path clip-path=\"url(#clip950)\" d=\"M438.86 1394.45 Q437.054 1399.08 435.342 1400.49 Q433.629 1401.9 430.758 1401.9 L427.355 1401.9 L427.355 1398.34 L429.855 1398.34 Q431.615 1398.34 432.587 1397.5 Q433.559 1396.67 434.74 1393.57 L435.504 1391.62 L425.018 1366.11 L429.531 1366.11 L437.633 1386.39 L445.735 1366.11 L450.249 1366.11 L438.86 1394.45 Z\" fill=\"#000000\" fill-rule=\"nonzero\" fill-opacity=\"1\" /><path clip-path=\"url(#clip950)\" d=\"M470.897 1373.41 Q474.253 1374.12 476.128 1376.39 Q478.026 1378.66 478.026 1381.99 Q478.026 1387.11 474.508 1389.91 Q470.989 1392.71 464.508 1392.71 Q462.332 1392.71 460.017 1392.27 Q457.726 1391.86 455.272 1391 L455.272 1386.49 Q457.216 1387.62 459.531 1388.2 Q461.846 1388.78 464.369 1388.78 Q468.767 1388.78 471.059 1387.04 Q473.374 1385.3 473.374 1381.99 Q473.374 1378.94 471.221 1377.23 Q469.091 1375.49 465.272 1375.49 L461.244 1375.49 L461.244 1371.65 L465.457 1371.65 Q468.906 1371.65 470.735 1370.28 Q472.564 1368.89 472.564 1366.3 Q472.564 1363.64 470.665 1362.23 Q468.79 1360.79 465.272 1360.79 Q463.351 1360.79 461.152 1361.21 Q458.953 1361.62 456.314 1362.5 L456.314 1358.34 Q458.976 1357.6 461.29 1357.23 Q463.628 1356.86 465.689 1356.86 Q471.013 1356.86 474.114 1359.29 Q477.216 1361.69 477.216 1365.81 Q477.216 1368.68 475.573 1370.68 Q473.929 1372.64 470.897 1373.41 Z\" fill=\"#000000\" fill-rule=\"nonzero\" fill-opacity=\"1\" /></svg>\n"
      ]
     },
     "execution_count": 47,
     "metadata": {},
     "output_type": "execute_result"
    }
   ],
   "source": [
    "function f_log(p, P_lim = l_max)\n",
    "    \n",
    "    k = log(P_lim)\n",
    "    f_p = 1-log(p+1)*1/k\n",
    "    return f_p \n",
    "end \n",
    "\n",
    "x = range(0, 1e9, length=100)\n",
    "plot(x, [f_log, f_quadratic, f_linear])"
   ]
  },
  {
   "cell_type": "code",
   "execution_count": 48,
   "metadata": {},
   "outputs": [
    {
     "data": {
      "image/svg+xml": [
       "<?xml version=\"1.0\" encoding=\"utf-8\"?>\n",
       "<svg xmlns=\"http://www.w3.org/2000/svg\" xmlns:xlink=\"http://www.w3.org/1999/xlink\" width=\"600\" height=\"400\" viewBox=\"0 0 2400 1600\">\n",
       "<defs>\n",
       "  <clipPath id=\"clip990\">\n",
       "    <rect x=\"0\" y=\"0\" width=\"2400\" height=\"1600\"/>\n",
       "  </clipPath>\n",
       "</defs>\n",
       "<path clip-path=\"url(#clip990)\" d=\"M0 1600 L2400 1600 L2400 0 L0 0  Z\" fill=\"#ffffff\" fill-rule=\"evenodd\" fill-opacity=\"1\"/>\n",
       "<defs>\n",
       "  <clipPath id=\"clip991\">\n",
       "    <rect x=\"480\" y=\"0\" width=\"1681\" height=\"1600\"/>\n",
       "  </clipPath>\n",
       "</defs>\n",
       "<path clip-path=\"url(#clip990)\" d=\"M186.274 1474.16 L2352.76 1474.16 L2352.76 47.2441 L186.274 47.2441  Z\" fill=\"#ffffff\" fill-rule=\"evenodd\" fill-opacity=\"1\"/>\n",
       "<defs>\n",
       "  <clipPath id=\"clip992\">\n",
       "    <rect x=\"186\" y=\"47\" width=\"2167\" height=\"1428\"/>\n",
       "  </clipPath>\n",
       "</defs>\n",
       "<polyline clip-path=\"url(#clip992)\" style=\"stroke:#000000; stroke-linecap:round; stroke-linejoin:round; stroke-width:2; stroke-opacity:0.1; fill:none\" points=\"247.59,1474.16 247.59,47.2441 \"/>\n",
       "<polyline clip-path=\"url(#clip992)\" style=\"stroke:#000000; stroke-linecap:round; stroke-linejoin:round; stroke-width:2; stroke-opacity:0.1; fill:none\" points=\"758.552,1474.16 758.552,47.2441 \"/>\n",
       "<polyline clip-path=\"url(#clip992)\" style=\"stroke:#000000; stroke-linecap:round; stroke-linejoin:round; stroke-width:2; stroke-opacity:0.1; fill:none\" points=\"1269.51,1474.16 1269.51,47.2441 \"/>\n",
       "<polyline clip-path=\"url(#clip992)\" style=\"stroke:#000000; stroke-linecap:round; stroke-linejoin:round; stroke-width:2; stroke-opacity:0.1; fill:none\" points=\"1780.48,1474.16 1780.48,47.2441 \"/>\n",
       "<polyline clip-path=\"url(#clip992)\" style=\"stroke:#000000; stroke-linecap:round; stroke-linejoin:round; stroke-width:2; stroke-opacity:0.1; fill:none\" points=\"2291.44,1474.16 2291.44,47.2441 \"/>\n",
       "<polyline clip-path=\"url(#clip990)\" style=\"stroke:#000000; stroke-linecap:round; stroke-linejoin:round; stroke-width:4; stroke-opacity:1; fill:none\" points=\"186.274,1474.16 2352.76,1474.16 \"/>\n",
       "<polyline clip-path=\"url(#clip990)\" style=\"stroke:#000000; stroke-linecap:round; stroke-linejoin:round; stroke-width:4; stroke-opacity:1; fill:none\" points=\"247.59,1474.16 247.59,1455.27 \"/>\n",
       "<polyline clip-path=\"url(#clip990)\" style=\"stroke:#000000; stroke-linecap:round; stroke-linejoin:round; stroke-width:4; stroke-opacity:1; fill:none\" points=\"758.552,1474.16 758.552,1455.27 \"/>\n",
       "<polyline clip-path=\"url(#clip990)\" style=\"stroke:#000000; stroke-linecap:round; stroke-linejoin:round; stroke-width:4; stroke-opacity:1; fill:none\" points=\"1269.51,1474.16 1269.51,1455.27 \"/>\n",
       "<polyline clip-path=\"url(#clip990)\" style=\"stroke:#000000; stroke-linecap:round; stroke-linejoin:round; stroke-width:4; stroke-opacity:1; fill:none\" points=\"1780.48,1474.16 1780.48,1455.27 \"/>\n",
       "<polyline clip-path=\"url(#clip990)\" style=\"stroke:#000000; stroke-linecap:round; stroke-linejoin:round; stroke-width:4; stroke-opacity:1; fill:none\" points=\"2291.44,1474.16 2291.44,1455.27 \"/>\n",
       "<path clip-path=\"url(#clip990)\" d=\"M247.59 1505.08 Q243.978 1505.08 242.15 1508.65 Q240.344 1512.19 240.344 1519.32 Q240.344 1526.43 242.15 1529.99 Q243.978 1533.53 247.59 1533.53 Q251.224 1533.53 253.029 1529.99 Q254.858 1526.43 254.858 1519.32 Q254.858 1512.19 253.029 1508.65 Q251.224 1505.08 247.59 1505.08 M247.59 1501.38 Q253.4 1501.38 256.455 1505.99 Q259.534 1510.57 259.534 1519.32 Q259.534 1528.05 256.455 1532.65 Q253.4 1537.24 247.59 1537.24 Q241.779 1537.24 238.701 1532.65 Q235.645 1528.05 235.645 1519.32 Q235.645 1510.57 238.701 1505.99 Q241.779 1501.38 247.59 1501.38 Z\" fill=\"#000000\" fill-rule=\"nonzero\" fill-opacity=\"1\" /><path clip-path=\"url(#clip990)\" d=\"M655.057 1548.29 L671.377 1548.29 L671.377 1552.22 L649.432 1552.22 L649.432 1548.29 Q652.094 1545.53 656.678 1540.91 Q661.284 1536.25 662.465 1534.91 Q664.71 1532.39 665.59 1530.65 Q666.493 1528.89 666.493 1527.2 Q666.493 1524.45 664.548 1522.71 Q662.627 1520.97 659.525 1520.97 Q657.326 1520.97 654.872 1521.74 Q652.442 1522.5 649.664 1524.05 L649.664 1519.33 Q652.488 1518.2 654.942 1517.62 Q657.395 1517.04 659.432 1517.04 Q664.803 1517.04 667.997 1519.72 Q671.192 1522.41 671.192 1526.9 Q671.192 1529.03 670.381 1530.95 Q669.594 1532.85 667.488 1535.44 Q666.909 1536.11 663.807 1539.33 Q660.706 1542.53 655.057 1548.29 Z\" fill=\"#000000\" fill-rule=\"nonzero\" fill-opacity=\"1\" /><path clip-path=\"url(#clip990)\" d=\"M681.192 1546.35 L686.076 1546.35 L686.076 1552.22 L681.192 1552.22 L681.192 1546.35 Z\" fill=\"#000000\" fill-rule=\"nonzero\" fill-opacity=\"1\" /><path clip-path=\"url(#clip990)\" d=\"M696.307 1517.66 L714.664 1517.66 L714.664 1521.6 L700.59 1521.6 L700.59 1530.07 Q701.608 1529.72 702.627 1529.56 Q703.645 1529.38 704.664 1529.38 Q710.451 1529.38 713.83 1532.55 Q717.21 1535.72 717.21 1541.14 Q717.21 1546.72 713.738 1549.82 Q710.265 1552.9 703.946 1552.9 Q701.77 1552.9 699.502 1552.53 Q697.256 1552.16 694.849 1551.41 L694.849 1546.72 Q696.932 1547.85 699.154 1548.41 Q701.377 1548.96 703.853 1548.96 Q707.858 1548.96 710.196 1546.85 Q712.534 1544.75 712.534 1541.14 Q712.534 1537.53 710.196 1535.42 Q707.858 1533.31 703.853 1533.31 Q701.978 1533.31 700.103 1533.73 Q698.252 1534.15 696.307 1535.03 L696.307 1517.66 Z\" fill=\"#000000\" fill-rule=\"nonzero\" fill-opacity=\"1\" /><path clip-path=\"url(#clip990)\" d=\"M736.423 1520.74 Q732.812 1520.74 730.983 1524.31 Q729.177 1527.85 729.177 1534.98 Q729.177 1542.09 730.983 1545.65 Q732.812 1549.19 736.423 1549.19 Q740.057 1549.19 741.863 1545.65 Q743.691 1542.09 743.691 1534.98 Q743.691 1527.85 741.863 1524.31 Q740.057 1520.74 736.423 1520.74 M736.423 1517.04 Q742.233 1517.04 745.288 1521.65 Q748.367 1526.23 748.367 1534.98 Q748.367 1543.71 745.288 1548.31 Q742.233 1552.9 736.423 1552.9 Q730.613 1552.9 727.534 1548.31 Q724.478 1543.71 724.478 1534.98 Q724.478 1526.23 727.534 1521.65 Q730.613 1517.04 736.423 1517.04 Z\" fill=\"#000000\" fill-rule=\"nonzero\" fill-opacity=\"1\" /><path clip-path=\"url(#clip990)\" d=\"M784.756 1526.76 L774.177 1537.39 L784.756 1547.97 L782.001 1550.77 L771.376 1540.14 L760.751 1550.77 L758.02 1547.97 L768.575 1537.39 L758.02 1526.76 L760.751 1523.96 L771.376 1534.59 L782.001 1523.96 L784.756 1526.76 Z\" fill=\"#000000\" fill-rule=\"nonzero\" fill-opacity=\"1\" /><path clip-path=\"url(#clip990)\" d=\"M797.117 1548.29 L804.756 1548.29 L804.756 1521.92 L796.446 1523.59 L796.446 1519.33 L804.709 1517.66 L809.385 1517.66 L809.385 1548.29 L817.024 1548.29 L817.024 1552.22 L797.117 1552.22 L797.117 1548.29 Z\" fill=\"#000000\" fill-rule=\"nonzero\" fill-opacity=\"1\" /><path clip-path=\"url(#clip990)\" d=\"M836.468 1520.74 Q832.857 1520.74 831.029 1524.31 Q829.223 1527.85 829.223 1534.98 Q829.223 1542.09 831.029 1545.65 Q832.857 1549.19 836.468 1549.19 Q840.103 1549.19 841.908 1545.65 Q843.737 1542.09 843.737 1534.98 Q843.737 1527.85 841.908 1524.31 Q840.103 1520.74 836.468 1520.74 M836.468 1517.04 Q842.279 1517.04 845.334 1521.65 Q848.413 1526.23 848.413 1534.98 Q848.413 1543.71 845.334 1548.31 Q842.279 1552.9 836.468 1552.9 Q830.658 1552.9 827.58 1548.31 Q824.524 1543.71 824.524 1534.98 Q824.524 1526.23 827.58 1521.65 Q830.658 1517.04 836.468 1517.04 Z\" fill=\"#000000\" fill-rule=\"nonzero\" fill-opacity=\"1\" /><path clip-path=\"url(#clip990)\" d=\"M858.042 1511.48 Q855.334 1511.48 853.773 1512.93 Q852.231 1514.38 852.231 1516.92 Q852.231 1519.45 853.773 1520.9 Q855.334 1522.35 858.042 1522.35 Q860.751 1522.35 862.312 1520.9 Q863.873 1519.44 863.873 1516.92 Q863.873 1514.38 862.312 1512.93 Q860.77 1511.48 858.042 1511.48 M854.243 1509.86 Q851.798 1509.26 850.425 1507.59 Q849.071 1505.91 849.071 1503.51 Q849.071 1500.14 851.46 1498.18 Q853.867 1496.23 858.042 1496.23 Q862.237 1496.23 864.625 1498.18 Q867.014 1500.14 867.014 1503.51 Q867.014 1505.91 865.641 1507.59 Q864.287 1509.26 861.86 1509.86 Q864.606 1510.5 866.13 1512.36 Q867.672 1514.23 867.672 1516.92 Q867.672 1521 865.171 1523.18 Q862.688 1525.36 858.042 1525.36 Q853.397 1525.36 850.895 1523.18 Q848.413 1521 848.413 1516.92 Q848.413 1514.23 849.955 1512.36 Q851.497 1510.5 854.243 1509.86 M852.852 1503.86 Q852.852 1506.04 854.206 1507.27 Q855.579 1508.49 858.042 1508.49 Q860.487 1508.49 861.86 1507.27 Q863.252 1506.04 863.252 1503.86 Q863.252 1501.68 861.86 1500.46 Q860.487 1499.24 858.042 1499.24 Q855.579 1499.24 854.206 1500.46 Q852.852 1501.68 852.852 1503.86 Z\" fill=\"#000000\" fill-rule=\"nonzero\" fill-opacity=\"1\" /><path clip-path=\"url(#clip990)\" d=\"M1161.95 1517.66 L1180.3 1517.66 L1180.3 1521.6 L1166.23 1521.6 L1166.23 1530.07 Q1167.25 1529.72 1168.27 1529.56 Q1169.28 1529.38 1170.3 1529.38 Q1176.09 1529.38 1179.47 1532.55 Q1182.85 1535.72 1182.85 1541.14 Q1182.85 1546.72 1179.38 1549.82 Q1175.9 1552.9 1169.58 1552.9 Q1167.41 1552.9 1165.14 1552.53 Q1162.9 1552.16 1160.49 1551.41 L1160.49 1546.72 Q1162.57 1547.85 1164.79 1548.41 Q1167.02 1548.96 1169.49 1548.96 Q1173.5 1548.96 1175.83 1546.85 Q1178.17 1544.75 1178.17 1541.14 Q1178.17 1537.53 1175.83 1535.42 Q1173.5 1533.31 1169.49 1533.31 Q1167.62 1533.31 1165.74 1533.73 Q1163.89 1534.15 1161.95 1535.03 L1161.95 1517.66 Z\" fill=\"#000000\" fill-rule=\"nonzero\" fill-opacity=\"1\" /><path clip-path=\"url(#clip990)\" d=\"M1192.06 1546.35 L1196.95 1546.35 L1196.95 1552.22 L1192.06 1552.22 L1192.06 1546.35 Z\" fill=\"#000000\" fill-rule=\"nonzero\" fill-opacity=\"1\" /><path clip-path=\"url(#clip990)\" d=\"M1217.13 1520.74 Q1213.52 1520.74 1211.69 1524.31 Q1209.89 1527.85 1209.89 1534.98 Q1209.89 1542.09 1211.69 1545.65 Q1213.52 1549.19 1217.13 1549.19 Q1220.77 1549.19 1222.57 1545.65 Q1224.4 1542.09 1224.4 1534.98 Q1224.4 1527.85 1222.57 1524.31 Q1220.77 1520.74 1217.13 1520.74 M1217.13 1517.04 Q1222.94 1517.04 1226 1521.65 Q1229.08 1526.23 1229.08 1534.98 Q1229.08 1543.71 1226 1548.31 Q1222.94 1552.9 1217.13 1552.9 Q1211.32 1552.9 1208.24 1548.31 Q1205.19 1543.71 1205.19 1534.98 Q1205.19 1526.23 1208.24 1521.65 Q1211.32 1517.04 1217.13 1517.04 Z\" fill=\"#000000\" fill-rule=\"nonzero\" fill-opacity=\"1\" /><path clip-path=\"url(#clip990)\" d=\"M1247.29 1520.74 Q1243.68 1520.74 1241.85 1524.31 Q1240.05 1527.85 1240.05 1534.98 Q1240.05 1542.09 1241.85 1545.65 Q1243.68 1549.19 1247.29 1549.19 Q1250.93 1549.19 1252.73 1545.65 Q1254.56 1542.09 1254.56 1534.98 Q1254.56 1527.85 1252.73 1524.31 Q1250.93 1520.74 1247.29 1520.74 M1247.29 1517.04 Q1253.1 1517.04 1256.16 1521.65 Q1259.24 1526.23 1259.24 1534.98 Q1259.24 1543.71 1256.16 1548.31 Q1253.1 1552.9 1247.29 1552.9 Q1241.48 1552.9 1238.4 1548.31 Q1235.35 1543.71 1235.35 1534.98 Q1235.35 1526.23 1238.4 1521.65 Q1241.48 1517.04 1247.29 1517.04 Z\" fill=\"#000000\" fill-rule=\"nonzero\" fill-opacity=\"1\" /><path clip-path=\"url(#clip990)\" d=\"M1295.63 1526.76 L1285.05 1537.39 L1295.63 1547.97 L1292.87 1550.77 L1282.25 1540.14 L1271.62 1550.77 L1268.89 1547.97 L1279.45 1537.39 L1268.89 1526.76 L1271.62 1523.96 L1282.25 1534.59 L1292.87 1523.96 L1295.63 1526.76 Z\" fill=\"#000000\" fill-rule=\"nonzero\" fill-opacity=\"1\" /><path clip-path=\"url(#clip990)\" d=\"M1307.99 1548.29 L1315.63 1548.29 L1315.63 1521.92 L1307.32 1523.59 L1307.32 1519.33 L1315.58 1517.66 L1320.26 1517.66 L1320.26 1548.29 L1327.89 1548.29 L1327.89 1552.22 L1307.99 1552.22 L1307.99 1548.29 Z\" fill=\"#000000\" fill-rule=\"nonzero\" fill-opacity=\"1\" /><path clip-path=\"url(#clip990)\" d=\"M1347.34 1520.74 Q1343.73 1520.74 1341.9 1524.31 Q1340.09 1527.85 1340.09 1534.98 Q1340.09 1542.09 1341.9 1545.65 Q1343.73 1549.19 1347.34 1549.19 Q1350.97 1549.19 1352.78 1545.65 Q1354.61 1542.09 1354.61 1534.98 Q1354.61 1527.85 1352.78 1524.31 Q1350.97 1520.74 1347.34 1520.74 M1347.34 1517.04 Q1353.15 1517.04 1356.2 1521.65 Q1359.28 1526.23 1359.28 1534.98 Q1359.28 1543.71 1356.2 1548.31 Q1353.15 1552.9 1347.34 1552.9 Q1341.53 1552.9 1338.45 1548.31 Q1335.39 1543.71 1335.39 1534.98 Q1335.39 1526.23 1338.45 1521.65 Q1341.53 1517.04 1347.34 1517.04 Z\" fill=\"#000000\" fill-rule=\"nonzero\" fill-opacity=\"1\" /><path clip-path=\"url(#clip990)\" d=\"M1368.91 1511.48 Q1366.2 1511.48 1364.64 1512.93 Q1363.1 1514.38 1363.1 1516.92 Q1363.1 1519.45 1364.64 1520.9 Q1366.2 1522.35 1368.91 1522.35 Q1371.62 1522.35 1373.18 1520.9 Q1374.74 1519.44 1374.74 1516.92 Q1374.74 1514.38 1373.18 1512.93 Q1371.64 1511.48 1368.91 1511.48 M1365.11 1509.86 Q1362.67 1509.26 1361.3 1507.59 Q1359.94 1505.91 1359.94 1503.51 Q1359.94 1500.14 1362.33 1498.18 Q1364.74 1496.23 1368.91 1496.23 Q1373.11 1496.23 1375.5 1498.18 Q1377.88 1500.14 1377.88 1503.51 Q1377.88 1505.91 1376.51 1507.59 Q1375.16 1509.26 1372.73 1509.86 Q1375.48 1510.5 1377 1512.36 Q1378.54 1514.23 1378.54 1516.92 Q1378.54 1521 1376.04 1523.18 Q1373.56 1525.36 1368.91 1525.36 Q1364.27 1525.36 1361.77 1523.18 Q1359.28 1521 1359.28 1516.92 Q1359.28 1514.23 1360.83 1512.36 Q1362.37 1510.5 1365.11 1509.86 M1363.72 1503.86 Q1363.72 1506.04 1365.08 1507.27 Q1366.45 1508.49 1368.91 1508.49 Q1371.36 1508.49 1372.73 1507.27 Q1374.12 1506.04 1374.12 1503.86 Q1374.12 1501.68 1372.73 1500.46 Q1371.36 1499.24 1368.91 1499.24 Q1366.45 1499.24 1365.08 1500.46 Q1363.72 1501.68 1363.72 1503.86 Z\" fill=\"#000000\" fill-rule=\"nonzero\" fill-opacity=\"1\" /><path clip-path=\"url(#clip990)\" d=\"M1671.57 1517.66 L1693.79 1517.66 L1693.79 1519.66 L1681.24 1552.22 L1676.36 1552.22 L1688.16 1521.6 L1671.57 1521.6 L1671.57 1517.66 Z\" fill=\"#000000\" fill-rule=\"nonzero\" fill-opacity=\"1\" /><path clip-path=\"url(#clip990)\" d=\"M1702.91 1546.35 L1707.79 1546.35 L1707.79 1552.22 L1702.91 1552.22 L1702.91 1546.35 Z\" fill=\"#000000\" fill-rule=\"nonzero\" fill-opacity=\"1\" /><path clip-path=\"url(#clip990)\" d=\"M1718.02 1517.66 L1736.38 1517.66 L1736.38 1521.6 L1722.31 1521.6 L1722.31 1530.07 Q1723.33 1529.72 1724.34 1529.56 Q1725.36 1529.38 1726.38 1529.38 Q1732.17 1529.38 1735.55 1532.55 Q1738.93 1535.72 1738.93 1541.14 Q1738.93 1546.72 1735.45 1549.82 Q1731.98 1552.9 1725.66 1552.9 Q1723.49 1552.9 1721.22 1552.53 Q1718.97 1552.16 1716.57 1551.41 L1716.57 1546.72 Q1718.65 1547.85 1720.87 1548.41 Q1723.09 1548.96 1725.57 1548.96 Q1729.58 1548.96 1731.91 1546.85 Q1734.25 1544.75 1734.25 1541.14 Q1734.25 1537.53 1731.91 1535.42 Q1729.58 1533.31 1725.57 1533.31 Q1723.7 1533.31 1721.82 1533.73 Q1719.97 1534.15 1718.02 1535.03 L1718.02 1517.66 Z\" fill=\"#000000\" fill-rule=\"nonzero\" fill-opacity=\"1\" /><path clip-path=\"url(#clip990)\" d=\"M1758.14 1520.74 Q1754.53 1520.74 1752.7 1524.31 Q1750.89 1527.85 1750.89 1534.98 Q1750.89 1542.09 1752.7 1545.65 Q1754.53 1549.19 1758.14 1549.19 Q1761.77 1549.19 1763.58 1545.65 Q1765.41 1542.09 1765.41 1534.98 Q1765.41 1527.85 1763.58 1524.31 Q1761.77 1520.74 1758.14 1520.74 M1758.14 1517.04 Q1763.95 1517.04 1767.01 1521.65 Q1770.08 1526.23 1770.08 1534.98 Q1770.08 1543.71 1767.01 1548.31 Q1763.95 1552.9 1758.14 1552.9 Q1752.33 1552.9 1749.25 1548.31 Q1746.2 1543.71 1746.2 1534.98 Q1746.2 1526.23 1749.25 1521.65 Q1752.33 1517.04 1758.14 1517.04 Z\" fill=\"#000000\" fill-rule=\"nonzero\" fill-opacity=\"1\" /><path clip-path=\"url(#clip990)\" d=\"M1806.47 1526.76 L1795.89 1537.39 L1806.47 1547.97 L1803.72 1550.77 L1793.09 1540.14 L1782.47 1550.77 L1779.74 1547.97 L1790.29 1537.39 L1779.74 1526.76 L1782.47 1523.96 L1793.09 1534.59 L1803.72 1523.96 L1806.47 1526.76 Z\" fill=\"#000000\" fill-rule=\"nonzero\" fill-opacity=\"1\" /><path clip-path=\"url(#clip990)\" d=\"M1818.83 1548.29 L1826.47 1548.29 L1826.47 1521.92 L1818.16 1523.59 L1818.16 1519.33 L1826.43 1517.66 L1831.1 1517.66 L1831.1 1548.29 L1838.74 1548.29 L1838.74 1552.22 L1818.83 1552.22 L1818.83 1548.29 Z\" fill=\"#000000\" fill-rule=\"nonzero\" fill-opacity=\"1\" /><path clip-path=\"url(#clip990)\" d=\"M1858.19 1520.74 Q1854.57 1520.74 1852.75 1524.31 Q1850.94 1527.85 1850.94 1534.98 Q1850.94 1542.09 1852.75 1545.65 Q1854.57 1549.19 1858.19 1549.19 Q1861.82 1549.19 1863.63 1545.65 Q1865.45 1542.09 1865.45 1534.98 Q1865.45 1527.85 1863.63 1524.31 Q1861.82 1520.74 1858.19 1520.74 M1858.19 1517.04 Q1864 1517.04 1867.05 1521.65 Q1870.13 1526.23 1870.13 1534.98 Q1870.13 1543.71 1867.05 1548.31 Q1864 1552.9 1858.19 1552.9 Q1852.38 1552.9 1849.3 1548.31 Q1846.24 1543.71 1846.24 1534.98 Q1846.24 1526.23 1849.3 1521.65 Q1852.38 1517.04 1858.19 1517.04 Z\" fill=\"#000000\" fill-rule=\"nonzero\" fill-opacity=\"1\" /><path clip-path=\"url(#clip990)\" d=\"M1879.76 1511.48 Q1877.05 1511.48 1875.49 1512.93 Q1873.95 1514.38 1873.95 1516.92 Q1873.95 1519.45 1875.49 1520.9 Q1877.05 1522.35 1879.76 1522.35 Q1882.47 1522.35 1884.03 1520.9 Q1885.59 1519.44 1885.59 1516.92 Q1885.59 1514.38 1884.03 1512.93 Q1882.49 1511.48 1879.76 1511.48 M1875.96 1509.86 Q1873.52 1509.26 1872.14 1507.59 Q1870.79 1505.91 1870.79 1503.51 Q1870.79 1500.14 1873.18 1498.18 Q1875.58 1496.23 1879.76 1496.23 Q1883.95 1496.23 1886.34 1498.18 Q1888.73 1500.14 1888.73 1503.51 Q1888.73 1505.91 1887.36 1507.59 Q1886 1509.26 1883.58 1509.86 Q1886.32 1510.5 1887.85 1512.36 Q1889.39 1514.23 1889.39 1516.92 Q1889.39 1521 1886.89 1523.18 Q1884.41 1525.36 1879.76 1525.36 Q1875.11 1525.36 1872.61 1523.18 Q1870.13 1521 1870.13 1516.92 Q1870.13 1514.23 1871.67 1512.36 Q1873.21 1510.5 1875.96 1509.86 M1874.57 1503.86 Q1874.57 1506.04 1875.92 1507.27 Q1877.3 1508.49 1879.76 1508.49 Q1882.2 1508.49 1883.58 1507.27 Q1884.97 1506.04 1884.97 1503.86 Q1884.97 1501.68 1883.58 1500.46 Q1882.2 1499.24 1879.76 1499.24 Q1877.3 1499.24 1875.92 1500.46 Q1874.57 1501.68 1874.57 1503.86 Z\" fill=\"#000000\" fill-rule=\"nonzero\" fill-opacity=\"1\" /><path clip-path=\"url(#clip990)\" d=\"M2183.8 1548.29 L2191.44 1548.29 L2191.44 1521.92 L2183.13 1523.59 L2183.13 1519.33 L2191.4 1517.66 L2196.07 1517.66 L2196.07 1548.29 L2203.71 1548.29 L2203.71 1552.22 L2183.8 1552.22 L2183.8 1548.29 Z\" fill=\"#000000\" fill-rule=\"nonzero\" fill-opacity=\"1\" /><path clip-path=\"url(#clip990)\" d=\"M2213.16 1546.35 L2218.04 1546.35 L2218.04 1552.22 L2213.16 1552.22 L2213.16 1546.35 Z\" fill=\"#000000\" fill-rule=\"nonzero\" fill-opacity=\"1\" /><path clip-path=\"url(#clip990)\" d=\"M2238.22 1520.74 Q2234.61 1520.74 2232.78 1524.31 Q2230.98 1527.85 2230.98 1534.98 Q2230.98 1542.09 2232.78 1545.65 Q2234.61 1549.19 2238.22 1549.19 Q2241.86 1549.19 2243.66 1545.65 Q2245.49 1542.09 2245.49 1534.98 Q2245.49 1527.85 2243.66 1524.31 Q2241.86 1520.74 2238.22 1520.74 M2238.22 1517.04 Q2244.03 1517.04 2247.09 1521.65 Q2250.17 1526.23 2250.17 1534.98 Q2250.17 1543.71 2247.09 1548.31 Q2244.03 1552.9 2238.22 1552.9 Q2232.41 1552.9 2229.34 1548.31 Q2226.28 1543.71 2226.28 1534.98 Q2226.28 1526.23 2229.34 1521.65 Q2232.41 1517.04 2238.22 1517.04 Z\" fill=\"#000000\" fill-rule=\"nonzero\" fill-opacity=\"1\" /><path clip-path=\"url(#clip990)\" d=\"M2268.39 1520.74 Q2264.78 1520.74 2262.95 1524.31 Q2261.14 1527.85 2261.14 1534.98 Q2261.14 1542.09 2262.95 1545.65 Q2264.78 1549.19 2268.39 1549.19 Q2272.02 1549.19 2273.83 1545.65 Q2275.65 1542.09 2275.65 1534.98 Q2275.65 1527.85 2273.83 1524.31 Q2272.02 1520.74 2268.39 1520.74 M2268.39 1517.04 Q2274.2 1517.04 2277.25 1521.65 Q2280.33 1526.23 2280.33 1534.98 Q2280.33 1543.71 2277.25 1548.31 Q2274.2 1552.9 2268.39 1552.9 Q2262.58 1552.9 2259.5 1548.31 Q2256.44 1543.71 2256.44 1534.98 Q2256.44 1526.23 2259.5 1521.65 Q2262.58 1517.04 2268.39 1517.04 Z\" fill=\"#000000\" fill-rule=\"nonzero\" fill-opacity=\"1\" /><path clip-path=\"url(#clip990)\" d=\"M2316.72 1526.76 L2306.14 1537.39 L2316.72 1547.97 L2313.96 1550.77 L2303.34 1540.14 L2292.71 1550.77 L2289.98 1547.97 L2300.54 1537.39 L2289.98 1526.76 L2292.71 1523.96 L2303.34 1534.59 L2313.96 1523.96 L2316.72 1526.76 Z\" fill=\"#000000\" fill-rule=\"nonzero\" fill-opacity=\"1\" /><path clip-path=\"url(#clip990)\" d=\"M2329.08 1548.29 L2336.72 1548.29 L2336.72 1521.92 L2328.41 1523.59 L2328.41 1519.33 L2336.67 1517.66 L2341.35 1517.66 L2341.35 1548.29 L2348.99 1548.29 L2348.99 1552.22 L2329.08 1552.22 L2329.08 1548.29 Z\" fill=\"#000000\" fill-rule=\"nonzero\" fill-opacity=\"1\" /><path clip-path=\"url(#clip990)\" d=\"M2368.43 1520.74 Q2364.82 1520.74 2362.99 1524.31 Q2361.19 1527.85 2361.19 1534.98 Q2361.19 1542.09 2362.99 1545.65 Q2364.82 1549.19 2368.43 1549.19 Q2372.07 1549.19 2373.87 1545.65 Q2375.7 1542.09 2375.7 1534.98 Q2375.7 1527.85 2373.87 1524.31 Q2372.07 1520.74 2368.43 1520.74 M2368.43 1517.04 Q2374.24 1517.04 2377.3 1521.65 Q2380.38 1526.23 2380.38 1534.98 Q2380.38 1543.71 2377.3 1548.31 Q2374.24 1552.9 2368.43 1552.9 Q2362.62 1552.9 2359.54 1548.31 Q2356.49 1543.71 2356.49 1534.98 Q2356.49 1526.23 2359.54 1521.65 Q2362.62 1517.04 2368.43 1517.04 Z\" fill=\"#000000\" fill-rule=\"nonzero\" fill-opacity=\"1\" /><path clip-path=\"url(#clip990)\" d=\"M2382.18 1524.23 L2382.18 1520.77 Q2383.61 1521.45 2385.08 1521.81 Q2386.55 1522.16 2387.96 1522.16 Q2391.72 1522.16 2393.69 1519.64 Q2395.69 1517.1 2395.97 1511.95 Q2394.88 1513.57 2393.2 1514.43 Q2391.53 1515.3 2389.5 1515.3 Q2385.29 1515.3 2382.82 1512.76 Q2380.38 1510.2 2380.38 1505.78 Q2380.38 1501.46 2382.93 1498.84 Q2385.49 1496.23 2389.74 1496.23 Q2394.61 1496.23 2397.17 1499.97 Q2399.75 1503.69 2399.75 1510.8 Q2399.75 1517.44 2396.59 1521.41 Q2393.45 1525.36 2388.13 1525.36 Q2386.7 1525.36 2385.23 1525.08 Q2383.76 1524.8 2382.18 1524.23 M2389.74 1512.33 Q2392.3 1512.33 2393.79 1510.58 Q2395.29 1508.83 2395.29 1505.78 Q2395.29 1502.75 2393.79 1501 Q2392.3 1499.24 2389.74 1499.24 Q2387.18 1499.24 2385.68 1501 Q2384.19 1502.75 2384.19 1505.78 Q2384.19 1508.83 2385.68 1510.58 Q2387.18 1512.33 2389.74 1512.33 Z\" fill=\"#000000\" fill-rule=\"nonzero\" fill-opacity=\"1\" /><polyline clip-path=\"url(#clip992)\" style=\"stroke:#000000; stroke-linecap:round; stroke-linejoin:round; stroke-width:2; stroke-opacity:0.1; fill:none\" points=\"186.274,1230.93 2352.76,1230.93 \"/>\n",
       "<polyline clip-path=\"url(#clip992)\" style=\"stroke:#000000; stroke-linecap:round; stroke-linejoin:round; stroke-width:2; stroke-opacity:0.1; fill:none\" points=\"186.274,849.83 2352.76,849.83 \"/>\n",
       "<polyline clip-path=\"url(#clip992)\" style=\"stroke:#000000; stroke-linecap:round; stroke-linejoin:round; stroke-width:2; stroke-opacity:0.1; fill:none\" points=\"186.274,468.73 2352.76,468.73 \"/>\n",
       "<polyline clip-path=\"url(#clip992)\" style=\"stroke:#000000; stroke-linecap:round; stroke-linejoin:round; stroke-width:2; stroke-opacity:0.1; fill:none\" points=\"186.274,87.6286 2352.76,87.6286 \"/>\n",
       "<polyline clip-path=\"url(#clip990)\" style=\"stroke:#000000; stroke-linecap:round; stroke-linejoin:round; stroke-width:4; stroke-opacity:1; fill:none\" points=\"186.274,1474.16 186.274,47.2441 \"/>\n",
       "<polyline clip-path=\"url(#clip990)\" style=\"stroke:#000000; stroke-linecap:round; stroke-linejoin:round; stroke-width:4; stroke-opacity:1; fill:none\" points=\"186.274,1230.93 205.172,1230.93 \"/>\n",
       "<polyline clip-path=\"url(#clip990)\" style=\"stroke:#000000; stroke-linecap:round; stroke-linejoin:round; stroke-width:4; stroke-opacity:1; fill:none\" points=\"186.274,849.83 205.172,849.83 \"/>\n",
       "<polyline clip-path=\"url(#clip990)\" style=\"stroke:#000000; stroke-linecap:round; stroke-linejoin:round; stroke-width:4; stroke-opacity:1; fill:none\" points=\"186.274,468.73 205.172,468.73 \"/>\n",
       "<polyline clip-path=\"url(#clip990)\" style=\"stroke:#000000; stroke-linecap:round; stroke-linejoin:round; stroke-width:4; stroke-opacity:1; fill:none\" points=\"186.274,87.6286 205.172,87.6286 \"/>\n",
       "<path clip-path=\"url(#clip990)\" d=\"M63.9319 1216.73 Q60.3208 1216.73 58.4921 1220.29 Q56.6865 1223.84 56.6865 1230.97 Q56.6865 1238.07 58.4921 1241.64 Q60.3208 1245.18 63.9319 1245.18 Q67.5661 1245.18 69.3717 1241.64 Q71.2004 1238.07 71.2004 1230.97 Q71.2004 1223.84 69.3717 1220.29 Q67.5661 1216.73 63.9319 1216.73 M63.9319 1213.03 Q69.742 1213.03 72.7976 1217.63 Q75.8763 1222.22 75.8763 1230.97 Q75.8763 1239.69 72.7976 1244.3 Q69.742 1248.88 63.9319 1248.88 Q58.1217 1248.88 55.043 1244.3 Q51.9875 1239.69 51.9875 1230.97 Q51.9875 1222.22 55.043 1217.63 Q58.1217 1213.03 63.9319 1213.03 Z\" fill=\"#000000\" fill-rule=\"nonzero\" fill-opacity=\"1\" /><path clip-path=\"url(#clip990)\" d=\"M84.0938 1242.33 L88.978 1242.33 L88.978 1248.21 L84.0938 1248.21 L84.0938 1242.33 Z\" fill=\"#000000\" fill-rule=\"nonzero\" fill-opacity=\"1\" /><path clip-path=\"url(#clip990)\" d=\"M109.163 1231.8 Q105.83 1231.8 103.909 1233.58 Q102.01 1235.36 102.01 1238.49 Q102.01 1241.61 103.909 1243.4 Q105.83 1245.18 109.163 1245.18 Q112.496 1245.18 114.418 1243.4 Q116.339 1241.59 116.339 1238.49 Q116.339 1235.36 114.418 1233.58 Q112.52 1231.8 109.163 1231.8 M104.487 1229.81 Q101.478 1229.07 99.7882 1227.01 Q98.1215 1224.95 98.1215 1221.98 Q98.1215 1217.84 101.061 1215.43 Q104.024 1213.03 109.163 1213.03 Q114.325 1213.03 117.265 1215.43 Q120.205 1217.84 120.205 1221.98 Q120.205 1224.95 118.515 1227.01 Q116.848 1229.07 113.862 1229.81 Q117.242 1230.6 119.117 1232.89 Q121.015 1235.18 121.015 1238.49 Q121.015 1243.51 117.936 1246.2 Q114.881 1248.88 109.163 1248.88 Q103.446 1248.88 100.367 1246.2 Q97.3113 1243.51 97.3113 1238.49 Q97.3113 1235.18 99.2095 1232.89 Q101.108 1230.6 104.487 1229.81 M102.774 1222.42 Q102.774 1225.11 104.441 1226.61 Q106.131 1228.12 109.163 1228.12 Q112.172 1228.12 113.862 1226.61 Q115.575 1225.11 115.575 1222.42 Q115.575 1219.74 113.862 1218.23 Q112.172 1216.73 109.163 1216.73 Q106.131 1216.73 104.441 1218.23 Q102.774 1219.74 102.774 1222.42 Z\" fill=\"#000000\" fill-rule=\"nonzero\" fill-opacity=\"1\" /><path clip-path=\"url(#clip990)\" d=\"M129.371 1213.65 L147.728 1213.65 L147.728 1217.59 L133.654 1217.59 L133.654 1226.06 Q134.672 1225.71 135.691 1225.55 Q136.709 1225.36 137.728 1225.36 Q143.515 1225.36 146.894 1228.54 Q150.274 1231.71 150.274 1237.12 Q150.274 1242.7 146.802 1245.8 Q143.33 1248.88 137.01 1248.88 Q134.834 1248.88 132.566 1248.51 Q130.32 1248.14 127.913 1247.4 L127.913 1242.7 Q129.996 1243.84 132.219 1244.39 Q134.441 1244.95 136.918 1244.95 Q140.922 1244.95 143.26 1242.84 Q145.598 1240.73 145.598 1237.12 Q145.598 1233.51 143.26 1231.41 Q140.922 1229.3 136.918 1229.3 Q135.043 1229.3 133.168 1229.72 Q131.316 1230.13 129.371 1231.01 L129.371 1213.65 Z\" fill=\"#000000\" fill-rule=\"nonzero\" fill-opacity=\"1\" /><path clip-path=\"url(#clip990)\" d=\"M62.9365 835.629 Q59.3254 835.629 57.4967 839.194 Q55.6912 842.736 55.6912 849.865 Q55.6912 856.972 57.4967 860.536 Q59.3254 864.078 62.9365 864.078 Q66.5707 864.078 68.3763 860.536 Q70.205 856.972 70.205 849.865 Q70.205 842.736 68.3763 839.194 Q66.5707 835.629 62.9365 835.629 M62.9365 831.925 Q68.7467 831.925 71.8022 836.532 Q74.8809 841.115 74.8809 849.865 Q74.8809 858.592 71.8022 863.198 Q68.7467 867.782 62.9365 867.782 Q57.1264 867.782 54.0477 863.198 Q50.9921 858.592 50.9921 849.865 Q50.9921 841.115 54.0477 836.532 Q57.1264 831.925 62.9365 831.925 Z\" fill=\"#000000\" fill-rule=\"nonzero\" fill-opacity=\"1\" /><path clip-path=\"url(#clip990)\" d=\"M83.0984 861.231 L87.9827 861.231 L87.9827 867.11 L83.0984 867.11 L83.0984 861.231 Z\" fill=\"#000000\" fill-rule=\"nonzero\" fill-opacity=\"1\" /><path clip-path=\"url(#clip990)\" d=\"M98.3067 866.393 L98.3067 862.134 Q100.066 862.967 101.871 863.407 Q103.677 863.847 105.413 863.847 Q110.043 863.847 112.473 860.745 Q114.927 857.62 115.274 851.277 Q113.932 853.268 111.871 854.333 Q109.811 855.398 107.311 855.398 Q102.126 855.398 99.0937 852.273 Q96.0845 849.124 96.0845 843.685 Q96.0845 838.361 99.2326 835.143 Q102.381 831.925 107.612 831.925 Q113.608 831.925 116.756 836.532 Q119.927 841.115 119.927 849.865 Q119.927 858.036 116.038 862.921 Q112.172 867.782 105.621 867.782 Q103.862 867.782 102.057 867.435 Q100.251 867.087 98.3067 866.393 M107.612 851.74 Q110.76 851.74 112.589 849.587 Q114.441 847.435 114.441 843.685 Q114.441 839.958 112.589 837.805 Q110.76 835.629 107.612 835.629 Q104.464 835.629 102.612 837.805 Q100.784 839.958 100.784 843.685 Q100.784 847.435 102.612 849.587 Q104.464 851.74 107.612 851.74 Z\" fill=\"#000000\" fill-rule=\"nonzero\" fill-opacity=\"1\" /><path clip-path=\"url(#clip990)\" d=\"M138.33 835.629 Q134.719 835.629 132.89 839.194 Q131.084 842.736 131.084 849.865 Q131.084 856.972 132.89 860.536 Q134.719 864.078 138.33 864.078 Q141.964 864.078 143.769 860.536 Q145.598 856.972 145.598 849.865 Q145.598 842.736 143.769 839.194 Q141.964 835.629 138.33 835.629 M138.33 831.925 Q144.14 831.925 147.195 836.532 Q150.274 841.115 150.274 849.865 Q150.274 858.592 147.195 863.198 Q144.14 867.782 138.33 867.782 Q132.519 867.782 129.441 863.198 Q126.385 858.592 126.385 849.865 Q126.385 841.115 129.441 836.532 Q132.519 831.925 138.33 831.925 Z\" fill=\"#000000\" fill-rule=\"nonzero\" fill-opacity=\"1\" /><path clip-path=\"url(#clip990)\" d=\"M63.9319 454.528 Q60.3208 454.528 58.4921 458.093 Q56.6865 461.635 56.6865 468.764 Q56.6865 475.871 58.4921 479.435 Q60.3208 482.977 63.9319 482.977 Q67.5661 482.977 69.3717 479.435 Q71.2004 475.871 71.2004 468.764 Q71.2004 461.635 69.3717 458.093 Q67.5661 454.528 63.9319 454.528 M63.9319 450.825 Q69.742 450.825 72.7976 455.431 Q75.8763 460.014 75.8763 468.764 Q75.8763 477.491 72.7976 482.098 Q69.742 486.681 63.9319 486.681 Q58.1217 486.681 55.043 482.098 Q51.9875 477.491 51.9875 468.764 Q51.9875 460.014 55.043 455.431 Q58.1217 450.825 63.9319 450.825 Z\" fill=\"#000000\" fill-rule=\"nonzero\" fill-opacity=\"1\" /><path clip-path=\"url(#clip990)\" d=\"M84.0938 480.13 L88.978 480.13 L88.978 486.01 L84.0938 486.01 L84.0938 480.13 Z\" fill=\"#000000\" fill-rule=\"nonzero\" fill-opacity=\"1\" /><path clip-path=\"url(#clip990)\" d=\"M99.3021 485.292 L99.3021 481.033 Q101.061 481.866 102.867 482.306 Q104.672 482.746 106.408 482.746 Q111.038 482.746 113.469 479.644 Q115.922 476.519 116.27 470.176 Q114.927 472.167 112.867 473.232 Q110.807 474.297 108.307 474.297 Q103.121 474.297 100.089 471.172 Q97.0798 468.024 97.0798 462.584 Q97.0798 457.26 100.228 454.042 Q103.376 450.825 108.608 450.825 Q114.603 450.825 117.751 455.431 Q120.922 460.014 120.922 468.764 Q120.922 476.936 117.033 481.82 Q113.168 486.681 106.617 486.681 Q104.858 486.681 103.052 486.334 Q101.246 485.986 99.3021 485.292 M108.608 470.639 Q111.756 470.639 113.584 468.486 Q115.436 466.334 115.436 462.584 Q115.436 458.857 113.584 456.704 Q111.756 454.528 108.608 454.528 Q105.459 454.528 103.608 456.704 Q101.779 458.857 101.779 462.584 Q101.779 466.334 103.608 468.486 Q105.459 470.639 108.608 470.639 Z\" fill=\"#000000\" fill-rule=\"nonzero\" fill-opacity=\"1\" /><path clip-path=\"url(#clip990)\" d=\"M129.371 451.45 L147.728 451.45 L147.728 455.385 L133.654 455.385 L133.654 463.857 Q134.672 463.51 135.691 463.348 Q136.709 463.162 137.728 463.162 Q143.515 463.162 146.894 466.334 Q150.274 469.505 150.274 474.922 Q150.274 480.5 146.802 483.602 Q143.33 486.681 137.01 486.681 Q134.834 486.681 132.566 486.31 Q130.32 485.94 127.913 485.199 L127.913 480.5 Q129.996 481.635 132.219 482.19 Q134.441 482.746 136.918 482.746 Q140.922 482.746 143.26 480.639 Q145.598 478.533 145.598 474.922 Q145.598 471.311 143.26 469.204 Q140.922 467.098 136.918 467.098 Q135.043 467.098 133.168 467.514 Q131.316 467.931 129.371 468.811 L129.371 451.45 Z\" fill=\"#000000\" fill-rule=\"nonzero\" fill-opacity=\"1\" /><path clip-path=\"url(#clip990)\" d=\"M53.7467 100.973 L61.3856 100.973 L61.3856 74.6079 L53.0754 76.2745 L53.0754 72.0153 L61.3393 70.3486 L66.0152 70.3486 L66.0152 100.973 L73.654 100.973 L73.654 104.909 L53.7467 104.909 L53.7467 100.973 Z\" fill=\"#000000\" fill-rule=\"nonzero\" fill-opacity=\"1\" /><path clip-path=\"url(#clip990)\" d=\"M83.0984 99.029 L87.9827 99.029 L87.9827 104.909 L83.0984 104.909 L83.0984 99.029 Z\" fill=\"#000000\" fill-rule=\"nonzero\" fill-opacity=\"1\" /><path clip-path=\"url(#clip990)\" d=\"M108.168 73.4273 Q104.557 73.4273 102.728 76.9921 Q100.922 80.5338 100.922 87.6634 Q100.922 94.7698 102.728 98.3346 Q104.557 101.876 108.168 101.876 Q111.802 101.876 113.608 98.3346 Q115.436 94.7698 115.436 87.6634 Q115.436 80.5338 113.608 76.9921 Q111.802 73.4273 108.168 73.4273 M108.168 69.7236 Q113.978 69.7236 117.033 74.3301 Q120.112 78.9134 120.112 87.6634 Q120.112 96.3902 117.033 100.997 Q113.978 105.58 108.168 105.58 Q102.358 105.58 99.2789 100.997 Q96.2234 96.3902 96.2234 87.6634 Q96.2234 78.9134 99.2789 74.3301 Q102.358 69.7236 108.168 69.7236 Z\" fill=\"#000000\" fill-rule=\"nonzero\" fill-opacity=\"1\" /><path clip-path=\"url(#clip990)\" d=\"M138.33 73.4273 Q134.719 73.4273 132.89 76.9921 Q131.084 80.5338 131.084 87.6634 Q131.084 94.7698 132.89 98.3346 Q134.719 101.876 138.33 101.876 Q141.964 101.876 143.769 98.3346 Q145.598 94.7698 145.598 87.6634 Q145.598 80.5338 143.769 76.9921 Q141.964 73.4273 138.33 73.4273 M138.33 69.7236 Q144.14 69.7236 147.195 74.3301 Q150.274 78.9134 150.274 87.6634 Q150.274 96.3902 147.195 100.997 Q144.14 105.58 138.33 105.58 Q132.519 105.58 129.441 100.997 Q126.385 96.3902 126.385 87.6634 Q126.385 78.9134 129.441 74.3301 Q132.519 69.7236 138.33 69.7236 Z\" fill=\"#000000\" fill-rule=\"nonzero\" fill-opacity=\"1\" /><polyline clip-path=\"url(#clip992)\" style=\"stroke:#009af9; stroke-linecap:round; stroke-linejoin:round; stroke-width:4; stroke-opacity:1; fill:none\" points=\"247.59,87.6286 268.234,88.0183 288.879,88.4085 309.524,88.7991 330.169,89.1902 350.814,89.5817 371.459,89.9737 392.104,90.3662 412.749,90.7591 433.394,91.1525 454.039,91.5463 474.684,91.9406 495.329,92.3354 515.974,92.7306 536.619,93.1264 557.264,93.5225 577.909,93.9192 598.554,94.3163 619.199,94.7139 639.844,95.112 660.489,95.5106 681.134,95.9096 701.779,96.3091 722.424,96.7091 743.069,97.1096 763.713,97.5106 784.358,97.912 805.003,98.3139 825.648,98.7163 846.293,99.1192 866.938,99.5226 887.583,99.9265 908.228,100.331 928.873,100.736 949.518,101.141 970.163,101.547 990.808,101.953 1011.45,102.36 1032.1,102.767 1052.74,103.175 1073.39,103.584 1094.03,103.992 1114.68,104.402 1135.32,104.812 1155.97,105.222 1176.61,105.633 1197.26,106.044 1217.9,106.456 1238.55,106.868 1259.19,107.281 1279.84,107.695 1300.48,108.109 1321.13,108.523 1341.77,108.938 1362.42,109.353 1383.06,109.769 1403.71,110.186 1424.35,110.603 1445,111.02 1465.64,111.438 1486.29,111.857 1506.93,112.276 1527.58,112.696 1548.22,113.116 1568.87,113.537 1589.51,113.958 1610.16,114.38 1630.8,114.802 1651.45,115.225 1672.09,115.648 1692.74,116.072 1713.38,116.497 1734.03,116.922 1754.67,117.347 1775.32,117.773 1795.96,118.2 1816.61,118.627 1837.25,119.055 1857.9,119.483 1878.54,119.912 1899.19,120.341 1919.83,120.771 1940.48,121.202 1961.12,121.633 1981.77,122.064 2002.41,122.496 2023.06,122.929 2043.7,123.362 2064.35,123.796 2084.99,124.231 2105.64,124.666 2126.28,125.101 2146.93,125.537 2167.57,125.974 2188.22,126.411 2208.86,126.849 2229.51,127.288 2250.15,127.727 2270.8,128.166 2291.44,128.606 \"/>\n",
       "<polyline clip-path=\"url(#clip992)\" style=\"stroke:#e26f46; stroke-linecap:round; stroke-linejoin:round; stroke-width:4; stroke-opacity:1; fill:none\" points=\"247.59,87.6286 268.234,101.88 288.879,116.117 309.524,130.341 330.169,144.552 350.814,158.75 371.459,172.934 392.104,187.105 412.749,201.262 433.394,215.407 454.039,229.538 474.684,243.655 495.329,257.759 515.974,271.85 536.619,285.928 557.264,299.992 577.909,314.043 598.554,328.08 619.199,342.105 639.844,356.115 660.489,370.113 681.134,384.097 701.779,398.068 722.424,412.026 743.069,425.97 763.713,439.901 784.358,453.818 805.003,467.722 825.648,481.613 846.293,495.491 866.938,509.355 887.583,523.206 908.228,537.043 928.873,550.868 949.518,564.678 970.163,578.476 990.808,592.26 1011.45,606.031 1032.1,619.788 1052.74,633.533 1073.39,647.263 1094.03,660.981 1114.68,674.685 1135.32,688.376 1155.97,702.053 1176.61,715.718 1197.26,729.368 1217.9,743.006 1238.55,756.63 1259.19,770.241 1279.84,783.838 1300.48,797.423 1321.13,810.993 1341.77,824.551 1362.42,838.095 1383.06,851.626 1403.71,865.143 1424.35,878.647 1445,892.138 1465.64,905.616 1486.29,919.08 1506.93,932.531 1527.58,945.968 1548.22,959.392 1568.87,972.803 1589.51,986.201 1610.16,999.585 1630.8,1012.96 1651.45,1026.31 1672.09,1039.66 1692.74,1052.99 1713.38,1066.31 1734.03,1079.61 1754.67,1092.9 1775.32,1106.18 1795.96,1119.44 1816.61,1132.69 1837.25,1145.93 1857.9,1159.15 1878.54,1172.36 1899.19,1185.56 1919.83,1198.75 1940.48,1211.92 1961.12,1225.07 1981.77,1238.22 2002.41,1251.35 2023.06,1264.47 2043.7,1277.57 2064.35,1290.66 2084.99,1303.74 2105.64,1316.8 2126.28,1329.85 2146.93,1342.89 2167.57,1355.92 2188.22,1368.93 2208.86,1381.92 2229.51,1394.91 2250.15,1407.88 2270.8,1420.84 2291.44,1433.78 \"/>\n",
       "<polyline clip-path=\"url(#clip992)\" style=\"stroke:#3da44d; stroke-linecap:round; stroke-linejoin:round; stroke-width:4; stroke-opacity:1; fill:none\" points=\"247.59,87.6286 268.234,94.7574 288.879,101.886 309.524,109.015 330.169,116.144 350.814,123.273 371.459,130.401 392.104,137.53 412.749,144.659 433.394,151.788 454.039,158.916 474.684,166.045 495.329,173.174 515.974,180.303 536.619,187.432 557.264,194.56 577.909,201.689 598.554,208.818 619.199,215.947 639.844,223.076 660.489,230.204 681.134,237.333 701.779,244.462 722.424,251.591 743.069,258.719 763.713,265.848 784.358,272.977 805.003,280.106 825.648,287.235 846.293,294.363 866.938,301.492 887.583,308.621 908.228,315.75 928.873,322.879 949.518,330.007 970.163,337.136 990.808,344.265 1011.45,351.394 1032.1,358.522 1052.74,365.651 1073.39,372.78 1094.03,379.909 1114.68,387.038 1135.32,394.166 1155.97,401.295 1176.61,408.424 1197.26,415.553 1217.9,422.682 1238.55,429.81 1259.19,436.939 1279.84,444.068 1300.48,451.197 1321.13,458.325 1341.77,465.454 1362.42,472.583 1383.06,479.712 1403.71,486.841 1424.35,493.969 1445,501.098 1465.64,508.227 1486.29,515.356 1506.93,522.485 1527.58,529.613 1548.22,536.742 1568.87,543.871 1589.51,551 1610.16,558.128 1630.8,565.257 1651.45,572.386 1672.09,579.515 1692.74,586.644 1713.38,593.772 1734.03,600.901 1754.67,608.03 1775.32,615.159 1795.96,622.287 1816.61,629.416 1837.25,636.545 1857.9,643.674 1878.54,650.803 1899.19,657.931 1919.83,665.06 1940.48,672.189 1961.12,679.318 1981.77,686.447 2002.41,693.575 2023.06,700.704 2043.7,707.833 2064.35,714.962 2084.99,722.09 2105.64,729.219 2126.28,736.348 2146.93,743.477 2167.57,750.606 2188.22,757.734 2208.86,764.863 2229.51,771.992 2250.15,779.121 2270.8,786.25 2291.44,793.378 \"/>\n",
       "<path clip-path=\"url(#clip990)\" d=\"M258.49 1426.6 L695.23 1426.6 L695.23 1219.24 L258.49 1219.24  Z\" fill=\"#ffffff\" fill-rule=\"evenodd\" fill-opacity=\"1\"/>\n",
       "<polyline clip-path=\"url(#clip990)\" style=\"stroke:#000000; stroke-linecap:round; stroke-linejoin:round; stroke-width:4; stroke-opacity:1; fill:none\" points=\"258.49,1426.6 695.23,1426.6 695.23,1219.24 258.49,1219.24 258.49,1426.6 \"/>\n",
       "<polyline clip-path=\"url(#clip990)\" style=\"stroke:#009af9; stroke-linecap:round; stroke-linejoin:round; stroke-width:4; stroke-opacity:1; fill:none\" points=\"282.562,1271.08 426.994,1271.08 \"/>\n",
       "<path clip-path=\"url(#clip990)\" d=\"M451.066 1252.34 L455.325 1252.34 L455.325 1288.36 L451.066 1288.36 L451.066 1252.34 Z\" fill=\"#000000\" fill-rule=\"nonzero\" fill-opacity=\"1\" /><path clip-path=\"url(#clip990)\" d=\"M474.284 1265.42 Q470.858 1265.42 468.867 1268.11 Q466.876 1270.77 466.876 1275.42 Q466.876 1280.07 468.844 1282.76 Q470.835 1285.42 474.284 1285.42 Q477.686 1285.42 479.677 1282.74 Q481.668 1280.05 481.668 1275.42 Q481.668 1270.81 479.677 1268.13 Q477.686 1265.42 474.284 1265.42 M474.284 1261.81 Q479.839 1261.81 483.011 1265.42 Q486.182 1269.03 486.182 1275.42 Q486.182 1281.79 483.011 1285.42 Q479.839 1289.03 474.284 1289.03 Q468.705 1289.03 465.534 1285.42 Q462.386 1281.79 462.386 1275.42 Q462.386 1269.03 465.534 1265.42 Q468.705 1261.81 474.284 1261.81 Z\" fill=\"#000000\" fill-rule=\"nonzero\" fill-opacity=\"1\" /><path clip-path=\"url(#clip990)\" d=\"M510.302 1275.1 Q510.302 1270.47 508.381 1267.92 Q506.483 1265.37 503.034 1265.37 Q499.608 1265.37 497.686 1267.92 Q495.788 1270.47 495.788 1275.1 Q495.788 1279.7 497.686 1282.25 Q499.608 1284.8 503.034 1284.8 Q506.483 1284.8 508.381 1282.25 Q510.302 1279.7 510.302 1275.1 M514.561 1285.14 Q514.561 1291.76 511.621 1294.98 Q508.682 1298.22 502.617 1298.22 Q500.372 1298.22 498.381 1297.87 Q496.39 1297.55 494.515 1296.86 L494.515 1292.71 Q496.39 1293.73 498.219 1294.22 Q500.047 1294.7 501.946 1294.7 Q506.135 1294.7 508.219 1292.5 Q510.302 1290.33 510.302 1285.91 L510.302 1283.8 Q508.983 1286.09 506.922 1287.23 Q504.862 1288.36 501.992 1288.36 Q497.223 1288.36 494.307 1284.73 Q491.39 1281.09 491.39 1275.1 Q491.39 1269.08 494.307 1265.44 Q497.223 1261.81 501.992 1261.81 Q504.862 1261.81 506.922 1262.94 Q508.983 1264.08 510.302 1266.37 L510.302 1262.43 L514.561 1262.43 L514.561 1285.14 Z\" fill=\"#000000\" fill-rule=\"nonzero\" fill-opacity=\"1\" /><polyline clip-path=\"url(#clip990)\" style=\"stroke:#e26f46; stroke-linecap:round; stroke-linejoin:round; stroke-width:4; stroke-opacity:1; fill:none\" points=\"282.562,1322.92 426.994,1322.92 \"/>\n",
       "<path clip-path=\"url(#clip990)\" d=\"M455.464 1327.26 Q455.464 1331.96 457.386 1334.65 Q459.33 1337.31 462.71 1337.31 Q466.089 1337.31 468.034 1334.65 Q469.978 1331.96 469.978 1327.26 Q469.978 1322.56 468.034 1319.9 Q466.089 1317.21 462.71 1317.21 Q459.33 1317.21 457.386 1319.9 Q455.464 1322.56 455.464 1327.26 M469.978 1336.31 Q468.636 1338.63 466.575 1339.76 Q464.538 1340.87 461.668 1340.87 Q456.969 1340.87 454.006 1337.12 Q451.066 1333.37 451.066 1327.26 Q451.066 1321.15 454.006 1317.4 Q456.969 1313.65 461.668 1313.65 Q464.538 1313.65 466.575 1314.78 Q468.636 1315.9 469.978 1318.21 L469.978 1314.27 L474.237 1314.27 L474.237 1350.06 L469.978 1350.06 L469.978 1336.31 Z\" fill=\"#000000\" fill-rule=\"nonzero\" fill-opacity=\"1\" /><path clip-path=\"url(#clip990)\" d=\"M482.571 1329.97 L482.571 1314.27 L486.83 1314.27 L486.83 1329.81 Q486.83 1333.49 488.265 1335.34 Q489.7 1337.17 492.571 1337.17 Q496.02 1337.17 498.01 1334.97 Q500.024 1332.77 500.024 1328.97 L500.024 1314.27 L504.284 1314.27 L504.284 1340.2 L500.024 1340.2 L500.024 1336.22 Q498.473 1338.58 496.413 1339.74 Q494.376 1340.87 491.668 1340.87 Q487.2 1340.87 484.885 1338.09 Q482.571 1335.32 482.571 1329.97 M493.288 1313.65 L493.288 1313.65 Z\" fill=\"#000000\" fill-rule=\"nonzero\" fill-opacity=\"1\" /><path clip-path=\"url(#clip990)\" d=\"M524.839 1327.17 Q519.677 1327.17 517.686 1328.35 Q515.696 1329.53 515.696 1332.38 Q515.696 1334.65 517.177 1335.99 Q518.682 1337.31 521.251 1337.31 Q524.793 1337.31 526.922 1334.81 Q529.075 1332.28 529.075 1328.12 L529.075 1327.17 L524.839 1327.17 M533.334 1325.41 L533.334 1340.2 L529.075 1340.2 L529.075 1336.27 Q527.617 1338.63 525.441 1339.76 Q523.265 1340.87 520.117 1340.87 Q516.135 1340.87 513.774 1338.65 Q511.436 1336.4 511.436 1332.65 Q511.436 1328.28 514.353 1326.06 Q517.293 1323.84 523.103 1323.84 L529.075 1323.84 L529.075 1323.42 Q529.075 1320.48 527.131 1318.88 Q525.209 1317.26 521.714 1317.26 Q519.492 1317.26 517.385 1317.79 Q515.279 1318.33 513.334 1319.39 L513.334 1315.46 Q515.672 1314.55 517.871 1314.11 Q520.07 1313.65 522.154 1313.65 Q527.779 1313.65 530.557 1316.57 Q533.334 1319.48 533.334 1325.41 Z\" fill=\"#000000\" fill-rule=\"nonzero\" fill-opacity=\"1\" /><path clip-path=\"url(#clip990)\" d=\"M559.168 1318.21 L559.168 1304.18 L563.427 1304.18 L563.427 1340.2 L559.168 1340.2 L559.168 1336.31 Q557.825 1338.63 555.765 1339.76 Q553.728 1340.87 550.857 1340.87 Q546.158 1340.87 543.195 1337.12 Q540.256 1333.37 540.256 1327.26 Q540.256 1321.15 543.195 1317.4 Q546.158 1313.65 550.857 1313.65 Q553.728 1313.65 555.765 1314.78 Q557.825 1315.9 559.168 1318.21 M544.654 1327.26 Q544.654 1331.96 546.575 1334.65 Q548.519 1337.31 551.899 1337.31 Q555.279 1337.31 557.223 1334.65 Q559.168 1331.96 559.168 1327.26 Q559.168 1322.56 557.223 1319.9 Q555.279 1317.21 551.899 1317.21 Q548.519 1317.21 546.575 1319.9 Q544.654 1322.56 544.654 1327.26 Z\" fill=\"#000000\" fill-rule=\"nonzero\" fill-opacity=\"1\" /><path clip-path=\"url(#clip990)\" d=\"M587.223 1318.26 Q586.505 1317.84 585.649 1317.65 Q584.816 1317.45 583.797 1317.45 Q580.186 1317.45 578.241 1319.81 Q576.32 1322.15 576.32 1326.54 L576.32 1340.2 L572.038 1340.2 L572.038 1314.27 L576.32 1314.27 L576.32 1318.3 Q577.663 1315.94 579.816 1314.81 Q581.968 1313.65 585.047 1313.65 Q585.487 1313.65 586.019 1313.72 Q586.552 1313.77 587.2 1313.88 L587.223 1318.26 Z\" fill=\"#000000\" fill-rule=\"nonzero\" fill-opacity=\"1\" /><path clip-path=\"url(#clip990)\" d=\"M603.473 1327.17 Q598.311 1327.17 596.32 1328.35 Q594.329 1329.53 594.329 1332.38 Q594.329 1334.65 595.811 1335.99 Q597.315 1337.31 599.885 1337.31 Q603.427 1337.31 605.556 1334.81 Q607.709 1332.28 607.709 1328.12 L607.709 1327.17 L603.473 1327.17 M611.968 1325.41 L611.968 1340.2 L607.709 1340.2 L607.709 1336.27 Q606.251 1338.63 604.075 1339.76 Q601.899 1340.87 598.751 1340.87 Q594.769 1340.87 592.408 1338.65 Q590.07 1336.4 590.07 1332.65 Q590.07 1328.28 592.987 1326.06 Q595.927 1323.84 601.737 1323.84 L607.709 1323.84 L607.709 1323.42 Q607.709 1320.48 605.764 1318.88 Q603.843 1317.26 600.348 1317.26 Q598.126 1317.26 596.019 1317.79 Q593.913 1318.33 591.968 1319.39 L591.968 1315.46 Q594.306 1314.55 596.505 1314.11 Q598.704 1313.65 600.788 1313.65 Q606.413 1313.65 609.19 1316.57 Q611.968 1319.48 611.968 1325.41 Z\" fill=\"#000000\" fill-rule=\"nonzero\" fill-opacity=\"1\" /><path clip-path=\"url(#clip990)\" d=\"M624.954 1306.91 L624.954 1314.27 L633.727 1314.27 L633.727 1317.59 L624.954 1317.59 L624.954 1331.66 Q624.954 1334.83 625.811 1335.73 Q626.69 1336.64 629.352 1336.64 L633.727 1336.64 L633.727 1340.2 L629.352 1340.2 Q624.422 1340.2 622.547 1338.37 Q620.672 1336.52 620.672 1331.66 L620.672 1317.59 L617.547 1317.59 L617.547 1314.27 L620.672 1314.27 L620.672 1306.91 L624.954 1306.91 Z\" fill=\"#000000\" fill-rule=\"nonzero\" fill-opacity=\"1\" /><path clip-path=\"url(#clip990)\" d=\"M639.329 1314.27 L643.588 1314.27 L643.588 1340.2 L639.329 1340.2 L639.329 1314.27 M639.329 1304.18 L643.588 1304.18 L643.588 1309.58 L639.329 1309.58 L639.329 1304.18 Z\" fill=\"#000000\" fill-rule=\"nonzero\" fill-opacity=\"1\" /><path clip-path=\"url(#clip990)\" d=\"M671.158 1315.27 L671.158 1319.25 Q669.352 1318.26 667.523 1317.77 Q665.718 1317.26 663.866 1317.26 Q659.723 1317.26 657.431 1319.9 Q655.139 1322.52 655.139 1327.26 Q655.139 1332.01 657.431 1334.65 Q659.723 1337.26 663.866 1337.26 Q665.718 1337.26 667.523 1336.77 Q669.352 1336.27 671.158 1335.27 L671.158 1339.21 Q669.375 1340.04 667.454 1340.46 Q665.556 1340.87 663.403 1340.87 Q657.547 1340.87 654.098 1337.19 Q650.648 1333.51 650.648 1327.26 Q650.648 1320.92 654.121 1317.28 Q657.616 1313.65 663.681 1313.65 Q665.648 1313.65 667.523 1314.07 Q669.398 1314.46 671.158 1315.27 Z\" fill=\"#000000\" fill-rule=\"nonzero\" fill-opacity=\"1\" /><polyline clip-path=\"url(#clip990)\" style=\"stroke:#3da44d; stroke-linecap:round; stroke-linejoin:round; stroke-width:4; stroke-opacity:1; fill:none\" points=\"282.562,1374.76 426.994,1374.76 \"/>\n",
       "<path clip-path=\"url(#clip990)\" d=\"M451.066 1356.02 L455.325 1356.02 L455.325 1392.04 L451.066 1392.04 L451.066 1356.02 Z\" fill=\"#000000\" fill-rule=\"nonzero\" fill-opacity=\"1\" /><path clip-path=\"url(#clip990)\" d=\"M464.237 1366.11 L468.497 1366.11 L468.497 1392.04 L464.237 1392.04 L464.237 1366.11 M464.237 1356.02 L468.497 1356.02 L468.497 1361.42 L464.237 1361.42 L464.237 1356.02 Z\" fill=\"#000000\" fill-rule=\"nonzero\" fill-opacity=\"1\" /><path clip-path=\"url(#clip990)\" d=\"M498.959 1376.39 L498.959 1392.04 L494.7 1392.04 L494.7 1376.53 Q494.7 1372.85 493.265 1371.02 Q491.83 1369.19 488.96 1369.19 Q485.51 1369.19 483.52 1371.39 Q481.529 1373.59 481.529 1377.39 L481.529 1392.04 L477.247 1392.04 L477.247 1366.11 L481.529 1366.11 L481.529 1370.14 Q483.057 1367.8 485.117 1366.65 Q487.2 1365.49 489.909 1365.49 Q494.376 1365.49 496.668 1368.27 Q498.959 1371.02 498.959 1376.39 Z\" fill=\"#000000\" fill-rule=\"nonzero\" fill-opacity=\"1\" /><path clip-path=\"url(#clip990)\" d=\"M529.631 1378.01 L529.631 1380.1 L510.047 1380.1 Q510.325 1384.49 512.686 1386.81 Q515.071 1389.1 519.307 1389.1 Q521.76 1389.1 524.052 1388.5 Q526.367 1387.9 528.635 1386.69 L528.635 1390.72 Q526.344 1391.69 523.936 1392.2 Q521.529 1392.71 519.052 1392.71 Q512.848 1392.71 509.214 1389.1 Q505.603 1385.49 505.603 1379.33 Q505.603 1372.97 509.029 1369.24 Q512.478 1365.49 518.311 1365.49 Q523.543 1365.49 526.575 1368.87 Q529.631 1372.23 529.631 1378.01 M525.371 1376.76 Q525.325 1373.27 523.404 1371.18 Q521.506 1369.1 518.358 1369.1 Q514.793 1369.1 512.64 1371.11 Q510.51 1373.13 510.186 1376.79 L525.371 1376.76 Z\" fill=\"#000000\" fill-rule=\"nonzero\" fill-opacity=\"1\" /><path clip-path=\"url(#clip990)\" d=\"M548.404 1379.01 Q543.242 1379.01 541.251 1380.19 Q539.26 1381.37 539.26 1384.22 Q539.26 1386.49 540.742 1387.83 Q542.246 1389.15 544.816 1389.15 Q548.357 1389.15 550.487 1386.65 Q552.64 1384.12 552.64 1379.96 L552.64 1379.01 L548.404 1379.01 M556.899 1377.25 L556.899 1392.04 L552.64 1392.04 L552.64 1388.11 Q551.181 1390.47 549.006 1391.6 Q546.83 1392.71 543.681 1392.71 Q539.7 1392.71 537.339 1390.49 Q535.001 1388.24 535.001 1384.49 Q535.001 1380.12 537.918 1377.9 Q540.857 1375.68 546.668 1375.68 L552.64 1375.68 L552.64 1375.26 Q552.64 1372.32 550.695 1370.72 Q548.774 1369.1 545.279 1369.1 Q543.056 1369.1 540.95 1369.63 Q538.844 1370.17 536.899 1371.23 L536.899 1367.3 Q539.237 1366.39 541.436 1365.95 Q543.635 1365.49 545.719 1365.49 Q551.343 1365.49 554.121 1368.41 Q556.899 1371.32 556.899 1377.25 Z\" fill=\"#000000\" fill-rule=\"nonzero\" fill-opacity=\"1\" /><path clip-path=\"url(#clip990)\" d=\"M580.695 1370.1 Q579.978 1369.68 579.121 1369.49 Q578.288 1369.29 577.269 1369.29 Q573.658 1369.29 571.714 1371.65 Q569.792 1373.99 569.792 1378.38 L569.792 1392.04 L565.51 1392.04 L565.51 1366.11 L569.792 1366.11 L569.792 1370.14 Q571.135 1367.78 573.288 1366.65 Q575.441 1365.49 578.519 1365.49 Q578.959 1365.49 579.491 1365.56 Q580.024 1365.61 580.672 1365.72 L580.695 1370.1 Z\" fill=\"#000000\" fill-rule=\"nonzero\" fill-opacity=\"1\" /></svg>\n"
      ]
     },
     "execution_count": 48,
     "metadata": {},
     "output_type": "execute_result"
    }
   ],
   "source": [
    "function f_log2(p, P_lim = 0.8*l_max)\n",
    "    \n",
    "    k = log(P_lim)\n",
    "    f_p = log(-p+P_lim)*1/k\n",
    "    return f_p \n",
    "end \n",
    "\n",
    "x = range(0, 1e9, length=100)\n",
    "plot(x, [f_log2, f_quadratic, f_linear], label=[\"log\" \"quadratic\" \"linear\"])\n",
    "# plot(x, f_log2)"
   ]
  },
  {
   "cell_type": "code",
   "execution_count": 49,
   "metadata": {},
   "outputs": [
    {
     "name": "stdout",
     "output_type": "stream",
     "text": [
      "L_star7.808811639581051e9\n",
      "\n",
      "******************************************************************************\n",
      "This program contains Ipopt, a library for large-scale nonlinear optimization.\n",
      " Ipopt is released as open source code under the Eclipse Public License (EPL).\n",
      "         For more information visit https://github.com/coin-or/Ipopt\n",
      "******************************************************************************\n",
      "\n",
      "This is Ipopt version 3.14.4, running with linear solver MUMPS 5.4.1.\n",
      "\n",
      "Number of nonzeros in equality constraint Jacobian...:        0\n",
      "Number of nonzeros in inequality constraint Jacobian.:     2968\n",
      "Number of nonzeros in Lagrangian Hessian.............:        0\n",
      "\n",
      "Total number of variables............................:      530\n",
      "                     variables with only lower bounds:      530\n",
      "                variables with lower and upper bounds:        0\n",
      "                     variables with only upper bounds:        0\n",
      "Total number of equality constraints.................:        0\n",
      "Total number of inequality constraints...............:     1537\n",
      "        inequality constraints with only lower bounds:       53\n",
      "   inequality constraints with lower and upper bounds:        0\n",
      "        inequality constraints with only upper bounds:     1484\n",
      "\n",
      "iter    objective    inf_pr   inf_du lg(mu)  ||d||  lg(rg) alpha_du alpha_pr  ls\n",
      "   0  1.0000000e+03 7.81e+09 8.52e-01   0.0 0.00e+00    -  0.00e+00 0.00e+00   0\n",
      "   1  1.0000000e+03 7.78e+09 1.19e+09  11.7 1.01e+12    -  2.19e-14 2.59e-05h 14\n",
      "   2  1.0000000e+03 7.78e+09 1.19e+09   3.7 7.81e+09    -  9.90e-01 3.23e-03f  1\n",
      "   3  1.0000000e+03 7.78e+09 1.19e+09   1.7 7.78e+09    -  7.94e-01 3.25e-05f  1\n",
      "   4  1.0000000e+03 7.78e+09 1.19e+09   1.3 2.81e+09    -  3.26e-03 6.43e-04f  1\n",
      "   5  1.0000000e+03 7.74e+09 1.78e+09   9.4 2.81e+09    -  1.00e+00 4.46e-03f  1\n",
      "   6  1.0000000e+03 7.73e+09 1.78e+09   3.4 1.99e+09    -  8.28e-03 1.28e-03f  1\n",
      "   7  1.0000000e+03 7.71e+09 1.77e+09   3.4 1.76e+09    -  9.54e-03 2.76e-03f  1\n",
      "   8  1.0000000e+03 7.69e+09 1.77e+09   3.4 1.34e+09    -  1.22e-02 2.34e-03f  1\n",
      "   9  1.0000000e+03 7.66e+09 1.76e+09   3.4 1.27e+09    -  1.45e-02 4.05e-03f  1\n",
      "iter    objective    inf_pr   inf_du lg(mu)  ||d||  lg(rg) alpha_du alpha_pr  ls\n",
      "  10  1.0000000e+03 7.65e+09 1.76e+09   3.4 1.00e+09    -  1.85e-02 1.82e-03f  1\n",
      "  11  1.0000000e+03 7.61e+09 1.75e+09   3.4 7.15e+08    -  2.03e-02 4.74e-03f  1\n",
      "  12  1.0000000e+03 7.46e+09 1.71e+09   3.3 7.12e+08    -  2.49e-02 1.99e-02f  1\n",
      "  13  1.0000000e+03 7.27e+09 1.67e+09   3.3 7.00e+08    -  4.40e-02 2.63e-02f  1\n",
      "  14  1.0000000e+03 7.26e+09 1.67e+09   3.3 6.84e+08    -  6.89e-02 3.21e-04f  1\n",
      "  15  1.0000000e+03 7.24e+09 1.66e+09   3.3 6.83e+08    -  6.92e-02 3.52e-03f  1\n",
      "  16  1.0000000e+03 7.18e+09 1.64e+09   3.3 6.81e+08    -  7.24e-02 7.85e-03f  1\n",
      "  17  1.0000000e+03 6.99e+09 1.60e+09   3.2 6.77e+08    -  7.96e-02 2.73e-02f  1\n",
      "  18  1.0000000e+03 6.91e+09 1.57e+09   3.2 6.60e+08    -  1.04e-01 1.10e-02f  1\n",
      "  19  1.0000000e+03 6.85e+09 1.56e+09   3.2 6.54e+08    -  1.14e-01 8.41e-03f  1\n",
      "iter    objective    inf_pr   inf_du lg(mu)  ||d||  lg(rg) alpha_du alpha_pr  ls\n",
      "  20  1.0000000e+03 6.69e+09 1.52e+09   3.2 6.49e+08    -  1.22e-01 2.41e-02f  1\n",
      "  21  1.0000000e+03 6.54e+09 1.48e+09   3.2 6.35e+08    -  1.43e-01 2.21e-02f  1\n",
      "  22  1.0000000e+03 6.36e+09 1.43e+09   3.2 6.23e+08    -  1.61e-01 2.66e-02f  1\n",
      "  23  1.0000000e+03 6.17e+09 1.38e+09   3.2 6.08e+08    -  1.83e-01 3.12e-02f  1\n",
      "  24  1.0000000e+03 5.99e+09 1.33e+09   3.2 5.91e+08    -  2.08e-01 2.88e-02f  1\n",
      "  25  1.0000000e+03 5.68e+09 1.25e+09   3.2 5.76e+08    -  2.31e-01 5.12e-02f  1\n",
      "  26  1.0000000e+03 5.45e+09 1.18e+09   3.2 5.49e+08    -  2.70e-01 4.19e-02f  1\n",
      "  27  1.0000000e+03 5.19e+09 1.11e+09   3.2 5.28e+08    -  3.00e-01 4.69e-02f  1\n",
      "  28  1.0000000e+03 4.83e+09 1.01e+09   3.2 5.06e+08    -  3.32e-01 6.99e-02f  1\n",
      "  29  1.0000000e+03 4.00e+09 8.21e+08   3.1 4.74e+08    -  3.78e-01 1.73e-01f  1\n",
      "iter    objective    inf_pr   inf_du lg(mu)  ||d||  lg(rg) alpha_du alpha_pr  ls\n",
      "  30  1.0000000e+03 3.97e+09 7.01e+08   7.8 3.98e+08    -  1.00e+00 7.80e-03f  1\n",
      "  31  1.0000000e+03 3.26e+09 5.74e+08   7.8 3.95e+08    -  1.00e+00 1.79e-01f  1\n",
      "  32  1.0000000e+03 3.14e+09 4.93e+08   7.8 3.29e+08    -  1.00e+00 3.91e-02f  1\n",
      "  33  1.0000000e+03 1.96e+09 2.99e+08   7.6 3.17e+08    -  1.00e+00 3.79e-01f  1\n",
      "  34  1.0000000e+03 1.93e+09 2.87e+08   7.3 2.03e+08    -  1.00e+00 1.60e-02f  1\n",
      "  35  1.0000000e+03 1.48e+09 2.20e+08   6.7 2.00e+08    -  9.57e-01 2.33e-01f  1\n",
      "  36  1.0000000e+03 2.22e+07 8.52e+06   6.2 1.55e+08    -  9.58e-01 1.00e+00f  1\n",
      "  37  1.0000000e+03 5.29e+03 1.37e+05   4.8 2.39e+06    -  9.87e-01 1.00e+00f  1\n",
      "  38  1.0000000e+03 0.00e+00 1.39e+03  -0.9 5.70e+02    -  9.90e-01 1.00e+00h  1\n",
      "  39  1.0000000e+03 0.00e+00 1.39e+01  -2.9 1.14e+01    -  9.90e-01 1.00e+00h  1\n",
      "iter    objective    inf_pr   inf_du lg(mu)  ||d||  lg(rg) alpha_du alpha_pr  ls\n",
      "  40  1.0000000e+03 0.00e+00 1.39e-01  -4.9 1.16e-01    -  9.90e-01 1.00e+00h  1\n",
      "  41  1.0000000e+03 0.00e+00 1.39e-03  -1.0 2.17e+03    -  9.90e-01 1.00e+00f  1\n",
      "  42  1.0000000e+03 0.00e+00 2.14e-02  -1.7 1.99e-01    -  1.00e+00 1.00e+00h  1\n",
      "  43  1.0000000e+03 0.00e+00 2.31e-04  -7.7 2.08e-03    -  9.90e-01 1.00e+00h  1\n",
      "  44  1.0000000e+03 0.00e+00 5.48e-08  -9.7 2.43e-03    -  1.00e+00 1.00e+00h  1\n",
      "  45  1.0000000e+03 0.00e+00 4.27e-09  -7.4 2.02e+03    -  9.22e-01 1.00e+00h  1\n",
      "  46  1.0000000e+03 0.00e+00 3.51e-09  -7.4 3.46e+04    -  1.81e-01 1.00e+00h  1\n",
      "  47  1.0000000e+03 0.00e+00 3.72e-10  -7.4 2.76e+04    -  8.93e-01 1.00e+00h  1\n",
      "  48  1.0000000e+03 0.00e+00 1.59e-10  -7.4 8.26e+04    -  5.69e-01 1.00e+00h  1\n",
      "  49  1.0000000e+03 0.00e+00 2.49e-10  -7.4 6.34e-02    -  1.00e+00 1.00e+00h  1\n",
      "iter    objective    inf_pr   inf_du lg(mu)  ||d||  lg(rg) alpha_du alpha_pr  ls\n",
      "  50  1.0000000e+03 0.00e+00 6.75e-14 -11.0 2.64e-09    -  1.00e+00 1.00e+00h  1\n",
      "\n",
      "Number of Iterations....: 50\n",
      "\n",
      "                                   (scaled)                 (unscaled)\n",
      "Objective...............:   1.0000000000000000e+03    1.0000000000000000e+03\n",
      "Dual infeasibility......:   6.7499527604928954e-14    6.7499527604928954e-14\n",
      "Constraint violation....:   0.0000000000000000e+00    0.0000000000000000e+00\n",
      "Variable bound violation:   0.0000000000000000e+00    0.0000000000000000e+00\n",
      "Complementarity.........:   1.0000000810016521e-11    1.0000000810016521e-11\n",
      "Overall NLP error.......:   1.0000000810016521e-11    1.0000000810016521e-11\n",
      "\n",
      "\n",
      "Number of objective function evaluations             = 66\n",
      "Number of objective gradient evaluations             = 51\n",
      "Number of equality constraint evaluations            = 0\n",
      "Number of inequality constraint evaluations          = 66\n",
      "Number of equality constraint Jacobian evaluations   = 0\n",
      "Number of inequality constraint Jacobian evaluations = 51\n",
      "Number of Lagrangian Hessian evaluations             = 0\n",
      "Total seconds in IPOPT                               = 2.031\n",
      "\n",
      "EXIT: Optimal Solution Found.\n"
     ]
    }
   ],
   "source": [
    "#try different gammas \n",
    "gamma2 = 0.8\n",
    "P_lim = l_max #historical max \n",
    "\n",
    "    \n",
    "#gamma determines L_star\n",
    "L_star = 10*mean_hist + gamma2*std_hist*sqrt(10); \n",
    "println(\"L_star\", maximum(L_star))\n",
    "\n",
    "#         model3 = Model(Gurobi.Optimizer)\n",
    "model3 = Model(Ipopt.Optimizer)\n",
    "#         model3 = Model(Mosek.Optimizer)\n",
    "set_attribute(model3, \"max_cpu_time\", 60.0)\n",
    "#         set_optimizer_attribute(model3, \"TimeLimit\", 30)\n",
    "register(model3, :f_linear, 2, f_linear; autodiff = true)\n",
    "\n",
    "# VARIABLES: premium for the next 10 years \n",
    "T1 = 10 \n",
    "@variable(model3, P[1:N,1:T1] >=0);  #P_i,t is the premium at state i in time t \n",
    "\n",
    "surplus = 1000 \n",
    "\n",
    "# each state premium covers state loss L* from the inner problem \n",
    "# adding demand term to demp the revenue: reduce demand by f(P), reduce loss by avg of f(P) across time \n",
    "my_slope=1/P_lim \n",
    "\n",
    "@NLconstraint(model3, coverage[i=1:N],\n",
    "    sum(P[i, t]* f_linear(P[i,t], my_slope) for t = 1:T1) - L_star[i]*1/T1*sum(f_linear(P[i,t], my_slope) for t = 1:T1) >= surplus); \n",
    "\n",
    "# #simpler constraint, without considering \n",
    "# @NLconstraint(model3, coverage[i=1:N],\n",
    "#     sum(P[i, t]* f_log2(P[i,t]) for t = 1:T1) - L_star[i]  >= surplus); \n",
    "\n",
    "\n",
    "@constraint(model3, set_limit[i=1:N, t=1:T1],\n",
    "    P[i,t] <= 2*P_lim )\n",
    "\n",
    "#slowly vary \n",
    "gamma1 = 50000  \n",
    "@constraint(model3, slowly_vary[i=1:N, t=2:T1],\n",
    "    P[i,t] - P[i, t-1] <= gamma1);\n",
    "@constraint(model3, slowly_vary2[i=1:N, t=2:T1],\n",
    "    P[i,t-1] - P[i, t] <= gamma1)\n",
    "\n",
    "@objective(\n",
    "        model3, Min, surplus \n",
    "    )\n",
    "\n",
    "optimize!(model3)\n",
    "P_ro = value.(P);   \n"
   ]
  },
  {
   "cell_type": "code",
   "execution_count": 51,
   "metadata": {},
   "outputs": [
    {
     "name": "stdout",
     "output_type": "stream",
     "text": [
      "7.808812847103283e8\n",
      "2.599723570994909e6\n"
     ]
    }
   ],
   "source": [
    "# P_ro2 = solve_RO2(gamma2)\n",
    "println(maximum(P_ro))\n",
    "println(minimum(P_ro))"
   ]
  },
  {
   "cell_type": "code",
   "execution_count": 52,
   "metadata": {},
   "outputs": [
    {
     "name": "stdout",
     "output_type": "stream",
     "text": [
      "7.808811639581051e9\n",
      "602707.2778836392\n"
     ]
    }
   ],
   "source": [
    "println(maximum(L_star))\n",
    "println(minimum(L_star))"
   ]
  },
  {
   "cell_type": "code",
   "execution_count": 53,
   "metadata": {
    "scrolled": true
   },
   "outputs": [
    {
     "name": "stdout",
     "output_type": "stream",
     "text": [
      "-8.305897219413555e9\n",
      "2.1116805892713394e9\n"
     ]
    }
   ],
   "source": [
    "#compute cumulative loss of Premium - loss for the last 10 years \n",
    "println(sum(P_base)-sum(act_loss))\n",
    "println(sum(P_ro)-sum(act_loss))\n"
   ]
  },
  {
   "cell_type": "code",
   "execution_count": 54,
   "metadata": {},
   "outputs": [
    {
     "name": "stdout",
     "output_type": "stream",
     "text": [
      "MS"
     ]
    },
    {
     "data": {
      "image/svg+xml": [
       "<?xml version=\"1.0\" encoding=\"utf-8\"?>\n",
       "<svg xmlns=\"http://www.w3.org/2000/svg\" xmlns:xlink=\"http://www.w3.org/1999/xlink\" width=\"600\" height=\"400\" viewBox=\"0 0 2400 1600\">\n",
       "<defs>\n",
       "  <clipPath id=\"clip030\">\n",
       "    <rect x=\"0\" y=\"0\" width=\"2400\" height=\"1600\"/>\n",
       "  </clipPath>\n",
       "</defs>\n",
       "<path clip-path=\"url(#clip030)\" d=\"M0 1600 L2400 1600 L2400 0 L0 0  Z\" fill=\"#ffffff\" fill-rule=\"evenodd\" fill-opacity=\"1\"/>\n",
       "<defs>\n",
       "  <clipPath id=\"clip031\">\n",
       "    <rect x=\"480\" y=\"0\" width=\"1681\" height=\"1600\"/>\n",
       "  </clipPath>\n",
       "</defs>\n",
       "<path clip-path=\"url(#clip030)\" d=\"M305.047 1486.45 L2352.76 1486.45 L2352.76 123.472 L305.047 123.472  Z\" fill=\"#ffffff\" fill-rule=\"evenodd\" fill-opacity=\"1\"/>\n",
       "<defs>\n",
       "  <clipPath id=\"clip032\">\n",
       "    <rect x=\"305\" y=\"123\" width=\"2049\" height=\"1364\"/>\n",
       "  </clipPath>\n",
       "</defs>\n",
       "<polyline clip-path=\"url(#clip032)\" style=\"stroke:#000000; stroke-linecap:round; stroke-linejoin:round; stroke-width:2; stroke-opacity:0.1; fill:none\" points=\"577.645,1486.45 577.645,123.472 \"/>\n",
       "<polyline clip-path=\"url(#clip032)\" style=\"stroke:#000000; stroke-linecap:round; stroke-linejoin:round; stroke-width:2; stroke-opacity:0.1; fill:none\" points=\"1006.93,1486.45 1006.93,123.472 \"/>\n",
       "<polyline clip-path=\"url(#clip032)\" style=\"stroke:#000000; stroke-linecap:round; stroke-linejoin:round; stroke-width:2; stroke-opacity:0.1; fill:none\" points=\"1436.22,1486.45 1436.22,123.472 \"/>\n",
       "<polyline clip-path=\"url(#clip032)\" style=\"stroke:#000000; stroke-linecap:round; stroke-linejoin:round; stroke-width:2; stroke-opacity:0.1; fill:none\" points=\"1865.51,1486.45 1865.51,123.472 \"/>\n",
       "<polyline clip-path=\"url(#clip032)\" style=\"stroke:#000000; stroke-linecap:round; stroke-linejoin:round; stroke-width:2; stroke-opacity:0.1; fill:none\" points=\"2294.8,1486.45 2294.8,123.472 \"/>\n",
       "<polyline clip-path=\"url(#clip030)\" style=\"stroke:#000000; stroke-linecap:round; stroke-linejoin:round; stroke-width:4; stroke-opacity:1; fill:none\" points=\"305.047,1486.45 2352.76,1486.45 \"/>\n",
       "<polyline clip-path=\"url(#clip030)\" style=\"stroke:#000000; stroke-linecap:round; stroke-linejoin:round; stroke-width:4; stroke-opacity:1; fill:none\" points=\"577.645,1486.45 577.645,1467.55 \"/>\n",
       "<polyline clip-path=\"url(#clip030)\" style=\"stroke:#000000; stroke-linecap:round; stroke-linejoin:round; stroke-width:4; stroke-opacity:1; fill:none\" points=\"1006.93,1486.45 1006.93,1467.55 \"/>\n",
       "<polyline clip-path=\"url(#clip030)\" style=\"stroke:#000000; stroke-linecap:round; stroke-linejoin:round; stroke-width:4; stroke-opacity:1; fill:none\" points=\"1436.22,1486.45 1436.22,1467.55 \"/>\n",
       "<polyline clip-path=\"url(#clip030)\" style=\"stroke:#000000; stroke-linecap:round; stroke-linejoin:round; stroke-width:4; stroke-opacity:1; fill:none\" points=\"1865.51,1486.45 1865.51,1467.55 \"/>\n",
       "<polyline clip-path=\"url(#clip030)\" style=\"stroke:#000000; stroke-linecap:round; stroke-linejoin:round; stroke-width:4; stroke-opacity:1; fill:none\" points=\"2294.8,1486.45 2294.8,1467.55 \"/>\n",
       "<path clip-path=\"url(#clip030)\" d=\"M572.298 1544.91 L588.617 1544.91 L588.617 1548.85 L566.673 1548.85 L566.673 1544.91 Q569.335 1542.16 573.918 1537.53 Q578.525 1532.88 579.705 1531.53 Q581.951 1529.01 582.83 1527.27 Q583.733 1525.51 583.733 1523.82 Q583.733 1521.07 581.789 1519.33 Q579.867 1517.6 576.766 1517.6 Q574.566 1517.6 572.113 1518.36 Q569.682 1519.13 566.904 1520.68 L566.904 1515.95 Q569.729 1514.82 572.182 1514.24 Q574.636 1513.66 576.673 1513.66 Q582.043 1513.66 585.238 1516.35 Q588.432 1519.03 588.432 1523.52 Q588.432 1525.65 587.622 1527.57 Q586.835 1529.47 584.728 1532.07 Q584.15 1532.74 581.048 1535.95 Q577.946 1539.15 572.298 1544.91 Z\" fill=\"#000000\" fill-rule=\"nonzero\" fill-opacity=\"1\" /><path clip-path=\"url(#clip030)\" d=\"M1009.94 1518.36 L998.138 1536.81 L1009.94 1536.81 L1009.94 1518.36 M1008.72 1514.29 L1014.6 1514.29 L1014.6 1536.81 L1019.53 1536.81 L1019.53 1540.7 L1014.6 1540.7 L1014.6 1548.85 L1009.94 1548.85 L1009.94 1540.7 L994.342 1540.7 L994.342 1536.19 L1008.72 1514.29 Z\" fill=\"#000000\" fill-rule=\"nonzero\" fill-opacity=\"1\" /><path clip-path=\"url(#clip030)\" d=\"M1436.63 1529.7 Q1433.48 1529.7 1431.63 1531.86 Q1429.8 1534.01 1429.8 1537.76 Q1429.8 1541.49 1431.63 1543.66 Q1433.48 1545.82 1436.63 1545.82 Q1439.78 1545.82 1441.61 1543.66 Q1443.46 1541.49 1443.46 1537.76 Q1443.46 1534.01 1441.61 1531.86 Q1439.78 1529.7 1436.63 1529.7 M1445.91 1515.05 L1445.91 1519.31 Q1444.15 1518.48 1442.35 1518.04 Q1440.56 1517.6 1438.8 1517.6 Q1434.17 1517.6 1431.72 1520.72 Q1429.29 1523.85 1428.94 1530.17 Q1430.31 1528.15 1432.37 1527.09 Q1434.43 1526 1436.91 1526 Q1442.11 1526 1445.12 1529.17 Q1448.16 1532.32 1448.16 1537.76 Q1448.16 1543.08 1445.01 1546.3 Q1441.86 1549.52 1436.63 1549.52 Q1430.63 1549.52 1427.46 1544.94 Q1424.29 1540.33 1424.29 1531.6 Q1424.29 1523.41 1428.18 1518.55 Q1432.07 1513.66 1438.62 1513.66 Q1440.38 1513.66 1442.16 1514.01 Q1443.97 1514.36 1445.91 1515.05 Z\" fill=\"#000000\" fill-rule=\"nonzero\" fill-opacity=\"1\" /><path clip-path=\"url(#clip030)\" d=\"M1865.51 1532.44 Q1862.18 1532.44 1860.26 1534.22 Q1858.36 1536 1858.36 1539.13 Q1858.36 1542.25 1860.26 1544.03 Q1862.18 1545.82 1865.51 1545.82 Q1868.85 1545.82 1870.77 1544.03 Q1872.69 1542.23 1872.69 1539.13 Q1872.69 1536 1870.77 1534.22 Q1868.87 1532.44 1865.51 1532.44 M1860.84 1530.45 Q1857.83 1529.7 1856.14 1527.64 Q1854.47 1525.58 1854.47 1522.62 Q1854.47 1518.48 1857.41 1516.07 Q1860.37 1513.66 1865.51 1513.66 Q1870.67 1513.66 1873.61 1516.07 Q1876.55 1518.48 1876.55 1522.62 Q1876.55 1525.58 1874.86 1527.64 Q1873.2 1529.7 1870.21 1530.45 Q1873.59 1531.23 1875.47 1533.52 Q1877.36 1535.82 1877.36 1539.13 Q1877.36 1544.15 1874.29 1546.83 Q1871.23 1549.52 1865.51 1549.52 Q1859.8 1549.52 1856.72 1546.83 Q1853.66 1544.15 1853.66 1539.13 Q1853.66 1535.82 1855.56 1533.52 Q1857.46 1531.23 1860.84 1530.45 M1859.12 1523.06 Q1859.12 1525.75 1860.79 1527.25 Q1862.48 1528.76 1865.51 1528.76 Q1868.52 1528.76 1870.21 1527.25 Q1871.92 1525.75 1871.92 1523.06 Q1871.92 1520.38 1870.21 1518.87 Q1868.52 1517.37 1865.51 1517.37 Q1862.48 1517.37 1860.79 1518.87 Q1859.12 1520.38 1859.12 1523.06 Z\" fill=\"#000000\" fill-rule=\"nonzero\" fill-opacity=\"1\" /><path clip-path=\"url(#clip030)\" d=\"M2269.49 1544.91 L2277.13 1544.91 L2277.13 1518.55 L2268.82 1520.21 L2268.82 1515.95 L2277.08 1514.29 L2281.76 1514.29 L2281.76 1544.91 L2289.4 1544.91 L2289.4 1548.85 L2269.49 1548.85 L2269.49 1544.91 Z\" fill=\"#000000\" fill-rule=\"nonzero\" fill-opacity=\"1\" /><path clip-path=\"url(#clip030)\" d=\"M2308.84 1517.37 Q2305.23 1517.37 2303.4 1520.93 Q2301.6 1524.47 2301.6 1531.6 Q2301.6 1538.71 2303.4 1542.27 Q2305.23 1545.82 2308.84 1545.82 Q2312.48 1545.82 2314.28 1542.27 Q2316.11 1538.71 2316.11 1531.6 Q2316.11 1524.47 2314.28 1520.93 Q2312.48 1517.37 2308.84 1517.37 M2308.84 1513.66 Q2314.65 1513.66 2317.71 1518.27 Q2320.79 1522.85 2320.79 1531.6 Q2320.79 1540.33 2317.71 1544.94 Q2314.65 1549.52 2308.84 1549.52 Q2303.03 1549.52 2299.95 1544.94 Q2296.9 1540.33 2296.9 1531.6 Q2296.9 1522.85 2299.95 1518.27 Q2303.03 1513.66 2308.84 1513.66 Z\" fill=\"#000000\" fill-rule=\"nonzero\" fill-opacity=\"1\" /><polyline clip-path=\"url(#clip032)\" style=\"stroke:#000000; stroke-linecap:round; stroke-linejoin:round; stroke-width:2; stroke-opacity:0.1; fill:none\" points=\"305.047,1467.83 2352.76,1467.83 \"/>\n",
       "<polyline clip-path=\"url(#clip032)\" style=\"stroke:#000000; stroke-linecap:round; stroke-linejoin:round; stroke-width:2; stroke-opacity:0.1; fill:none\" points=\"305.047,1129.76 2352.76,1129.76 \"/>\n",
       "<polyline clip-path=\"url(#clip032)\" style=\"stroke:#000000; stroke-linecap:round; stroke-linejoin:round; stroke-width:2; stroke-opacity:0.1; fill:none\" points=\"305.047,791.688 2352.76,791.688 \"/>\n",
       "<polyline clip-path=\"url(#clip032)\" style=\"stroke:#000000; stroke-linecap:round; stroke-linejoin:round; stroke-width:2; stroke-opacity:0.1; fill:none\" points=\"305.047,453.619 2352.76,453.619 \"/>\n",
       "<polyline clip-path=\"url(#clip030)\" style=\"stroke:#000000; stroke-linecap:round; stroke-linejoin:round; stroke-width:4; stroke-opacity:1; fill:none\" points=\"305.047,1486.45 305.047,123.472 \"/>\n",
       "<polyline clip-path=\"url(#clip030)\" style=\"stroke:#000000; stroke-linecap:round; stroke-linejoin:round; stroke-width:4; stroke-opacity:1; fill:none\" points=\"305.047,1467.83 323.944,1467.83 \"/>\n",
       "<polyline clip-path=\"url(#clip030)\" style=\"stroke:#000000; stroke-linecap:round; stroke-linejoin:round; stroke-width:4; stroke-opacity:1; fill:none\" points=\"305.047,1129.76 323.944,1129.76 \"/>\n",
       "<polyline clip-path=\"url(#clip030)\" style=\"stroke:#000000; stroke-linecap:round; stroke-linejoin:round; stroke-width:4; stroke-opacity:1; fill:none\" points=\"305.047,791.688 323.944,791.688 \"/>\n",
       "<polyline clip-path=\"url(#clip030)\" style=\"stroke:#000000; stroke-linecap:round; stroke-linejoin:round; stroke-width:4; stroke-opacity:1; fill:none\" points=\"305.047,453.619 323.944,453.619 \"/>\n",
       "<path clip-path=\"url(#clip030)\" d=\"M257.102 1453.62 Q253.491 1453.62 251.662 1457.19 Q249.857 1460.73 249.857 1467.86 Q249.857 1474.97 251.662 1478.53 Q253.491 1482.07 257.102 1482.07 Q260.736 1482.07 262.542 1478.53 Q264.371 1474.97 264.371 1467.86 Q264.371 1460.73 262.542 1457.19 Q260.736 1453.62 257.102 1453.62 M257.102 1449.92 Q262.912 1449.92 265.968 1454.53 Q269.047 1459.11 269.047 1467.86 Q269.047 1476.59 265.968 1481.19 Q262.912 1485.78 257.102 1485.78 Q251.292 1485.78 248.213 1481.19 Q245.158 1476.59 245.158 1467.86 Q245.158 1459.11 248.213 1454.53 Q251.292 1449.92 257.102 1449.92 Z\" fill=\"#000000\" fill-rule=\"nonzero\" fill-opacity=\"1\" /><path clip-path=\"url(#clip030)\" d=\"M52.4505 1118.92 L70.8068 1118.92 L70.8068 1122.86 L56.7328 1122.86 L56.7328 1131.33 Q57.7513 1130.98 58.7699 1130.82 Q59.7884 1130.64 60.8069 1130.64 Q66.5939 1130.64 69.9735 1133.81 Q73.3531 1136.98 73.3531 1142.4 Q73.3531 1147.97 69.8809 1151.08 Q66.4087 1154.16 60.0893 1154.16 Q57.9134 1154.16 55.6449 1153.79 Q53.3995 1153.41 50.9921 1152.67 L50.9921 1147.97 Q53.0754 1149.11 55.2977 1149.66 Q57.5199 1150.22 59.9967 1150.22 Q64.0013 1150.22 66.3393 1148.11 Q68.6772 1146.01 68.6772 1142.4 Q68.6772 1138.79 66.3393 1136.68 Q64.0013 1134.57 59.9967 1134.57 Q58.1217 1134.57 56.2467 1134.99 Q54.3949 1135.41 52.4505 1136.29 L52.4505 1118.92 Z\" fill=\"#000000\" fill-rule=\"nonzero\" fill-opacity=\"1\" /><path clip-path=\"url(#clip030)\" d=\"M82.566 1147.6 L87.4503 1147.6 L87.4503 1153.48 L82.566 1153.48 L82.566 1147.6 Z\" fill=\"#000000\" fill-rule=\"nonzero\" fill-opacity=\"1\" /><path clip-path=\"url(#clip030)\" d=\"M107.635 1122 Q104.024 1122 102.196 1125.57 Q100.39 1129.11 100.39 1136.24 Q100.39 1143.35 102.196 1146.91 Q104.024 1150.45 107.635 1150.45 Q111.27 1150.45 113.075 1146.91 Q114.904 1143.35 114.904 1136.24 Q114.904 1129.11 113.075 1125.57 Q111.27 1122 107.635 1122 M107.635 1118.3 Q113.445 1118.3 116.501 1122.91 Q119.58 1127.49 119.58 1136.24 Q119.58 1144.97 116.501 1149.57 Q113.445 1154.16 107.635 1154.16 Q101.825 1154.16 98.7465 1149.57 Q95.691 1144.97 95.691 1136.24 Q95.691 1127.49 98.7465 1122.91 Q101.825 1118.3 107.635 1118.3 Z\" fill=\"#000000\" fill-rule=\"nonzero\" fill-opacity=\"1\" /><path clip-path=\"url(#clip030)\" d=\"M137.797 1122 Q134.186 1122 132.357 1125.57 Q130.552 1129.11 130.552 1136.24 Q130.552 1143.35 132.357 1146.91 Q134.186 1150.45 137.797 1150.45 Q141.431 1150.45 143.237 1146.91 Q145.066 1143.35 145.066 1136.24 Q145.066 1129.11 143.237 1125.57 Q141.431 1122 137.797 1122 M137.797 1118.3 Q143.607 1118.3 146.663 1122.91 Q149.742 1127.49 149.742 1136.24 Q149.742 1144.97 146.663 1149.57 Q143.607 1154.16 137.797 1154.16 Q131.987 1154.16 128.908 1149.57 Q125.853 1144.97 125.853 1136.24 Q125.853 1127.49 128.908 1122.91 Q131.987 1118.3 137.797 1118.3 Z\" fill=\"#000000\" fill-rule=\"nonzero\" fill-opacity=\"1\" /><path clip-path=\"url(#clip030)\" d=\"M186.13 1128.02 L175.552 1138.65 L186.13 1149.22 L183.376 1152.03 L172.751 1141.4 L162.126 1152.03 L159.394 1149.22 L169.95 1138.65 L159.394 1128.02 L162.126 1125.22 L172.751 1135.85 L183.376 1125.22 L186.13 1128.02 Z\" fill=\"#000000\" fill-rule=\"nonzero\" fill-opacity=\"1\" /><path clip-path=\"url(#clip030)\" d=\"M198.491 1149.55 L206.13 1149.55 L206.13 1123.18 L197.82 1124.85 L197.82 1120.59 L206.084 1118.92 L210.76 1118.92 L210.76 1149.55 L218.399 1149.55 L218.399 1153.48 L198.491 1153.48 L198.491 1149.55 Z\" fill=\"#000000\" fill-rule=\"nonzero\" fill-opacity=\"1\" /><path clip-path=\"url(#clip030)\" d=\"M237.843 1122 Q234.232 1122 232.403 1125.57 Q230.598 1129.11 230.598 1136.24 Q230.598 1143.35 232.403 1146.91 Q234.232 1150.45 237.843 1150.45 Q241.477 1150.45 243.283 1146.91 Q245.111 1143.35 245.111 1136.24 Q245.111 1129.11 243.283 1125.57 Q241.477 1122 237.843 1122 M237.843 1118.3 Q243.653 1118.3 246.709 1122.91 Q249.787 1127.49 249.787 1136.24 Q249.787 1144.97 246.709 1149.57 Q243.653 1154.16 237.843 1154.16 Q232.033 1154.16 228.954 1149.57 Q225.899 1144.97 225.899 1136.24 Q225.899 1127.49 228.954 1122.91 Q232.033 1118.3 237.843 1118.3 Z\" fill=\"#000000\" fill-rule=\"nonzero\" fill-opacity=\"1\" /><path clip-path=\"url(#clip030)\" d=\"M259.417 1112.74 Q256.709 1112.74 255.148 1114.19 Q253.605 1115.64 253.605 1118.17 Q253.605 1120.71 255.148 1122.16 Q256.709 1123.61 259.417 1123.61 Q262.125 1123.61 263.686 1122.16 Q265.247 1120.69 265.247 1118.17 Q265.247 1115.64 263.686 1114.19 Q262.144 1112.74 259.417 1112.74 M255.618 1111.12 Q253.173 1110.52 251.8 1108.85 Q250.446 1107.17 250.446 1104.76 Q250.446 1101.4 252.834 1099.44 Q255.242 1097.49 259.417 1097.49 Q263.611 1097.49 266 1099.44 Q268.388 1101.4 268.388 1104.76 Q268.388 1107.17 267.015 1108.85 Q265.661 1110.52 263.235 1111.12 Q265.981 1111.76 267.504 1113.62 Q269.047 1115.49 269.047 1118.17 Q269.047 1122.26 266.545 1124.44 Q264.062 1126.62 259.417 1126.62 Q254.771 1126.62 252.27 1124.44 Q249.787 1122.26 249.787 1118.17 Q249.787 1115.49 251.33 1113.62 Q252.872 1111.76 255.618 1111.12 M254.226 1105.12 Q254.226 1107.3 255.58 1108.53 Q256.953 1109.75 259.417 1109.75 Q261.862 1109.75 263.235 1108.53 Q264.627 1107.3 264.627 1105.12 Q264.627 1102.94 263.235 1101.72 Q261.862 1100.5 259.417 1100.5 Q256.953 1100.5 255.58 1101.72 Q254.226 1102.94 254.226 1105.12 Z\" fill=\"#000000\" fill-rule=\"nonzero\" fill-opacity=\"1\" /><path clip-path=\"url(#clip030)\" d=\"M53.1015 811.48 L60.7403 811.48 L60.7403 785.114 L52.4302 786.781 L52.4302 782.522 L60.694 780.855 L65.3699 780.855 L65.3699 811.48 L73.0088 811.48 L73.0088 815.415 L53.1015 815.415 L53.1015 811.48 Z\" fill=\"#000000\" fill-rule=\"nonzero\" fill-opacity=\"1\" /><path clip-path=\"url(#clip030)\" d=\"M82.4532 809.536 L87.3374 809.536 L87.3374 815.415 L82.4532 815.415 L82.4532 809.536 Z\" fill=\"#000000\" fill-rule=\"nonzero\" fill-opacity=\"1\" /><path clip-path=\"url(#clip030)\" d=\"M107.522 783.934 Q103.911 783.934 102.083 787.499 Q100.277 791.04 100.277 798.17 Q100.277 805.276 102.083 808.841 Q103.911 812.383 107.522 812.383 Q111.157 812.383 112.962 808.841 Q114.791 805.276 114.791 798.17 Q114.791 791.04 112.962 787.499 Q111.157 783.934 107.522 783.934 M107.522 780.23 Q113.333 780.23 116.388 784.837 Q119.467 789.42 119.467 798.17 Q119.467 806.897 116.388 811.503 Q113.333 816.086 107.522 816.086 Q101.712 816.086 98.6337 811.503 Q95.5781 806.897 95.5781 798.17 Q95.5781 789.42 98.6337 784.837 Q101.712 780.23 107.522 780.23 Z\" fill=\"#000000\" fill-rule=\"nonzero\" fill-opacity=\"1\" /><path clip-path=\"url(#clip030)\" d=\"M137.684 783.934 Q134.073 783.934 132.245 787.499 Q130.439 791.04 130.439 798.17 Q130.439 805.276 132.245 808.841 Q134.073 812.383 137.684 812.383 Q141.319 812.383 143.124 808.841 Q144.953 805.276 144.953 798.17 Q144.953 791.04 143.124 787.499 Q141.319 783.934 137.684 783.934 M137.684 780.23 Q143.495 780.23 146.55 784.837 Q149.629 789.42 149.629 798.17 Q149.629 806.897 146.55 811.503 Q143.495 816.086 137.684 816.086 Q131.874 816.086 128.796 811.503 Q125.74 806.897 125.74 798.17 Q125.74 789.42 128.796 784.837 Q131.874 780.23 137.684 780.23 Z\" fill=\"#000000\" fill-rule=\"nonzero\" fill-opacity=\"1\" /><path clip-path=\"url(#clip030)\" d=\"M186.017 789.952 L175.439 800.577 L186.017 811.156 L183.263 813.957 L172.638 803.332 L162.013 813.957 L159.281 811.156 L169.837 800.577 L159.281 789.952 L162.013 787.151 L172.638 797.776 L183.263 787.151 L186.017 789.952 Z\" fill=\"#000000\" fill-rule=\"nonzero\" fill-opacity=\"1\" /><path clip-path=\"url(#clip030)\" d=\"M198.378 811.48 L206.017 811.48 L206.017 785.114 L197.707 786.781 L197.707 782.522 L205.971 780.855 L210.647 780.855 L210.647 811.48 L218.286 811.48 L218.286 815.415 L198.378 815.415 L198.378 811.48 Z\" fill=\"#000000\" fill-rule=\"nonzero\" fill-opacity=\"1\" /><path clip-path=\"url(#clip030)\" d=\"M237.73 783.934 Q234.119 783.934 232.29 787.499 Q230.485 791.04 230.485 798.17 Q230.485 805.276 232.29 808.841 Q234.119 812.383 237.73 812.383 Q241.364 812.383 243.17 808.841 Q244.999 805.276 244.999 798.17 Q244.999 791.04 243.17 787.499 Q241.364 783.934 237.73 783.934 M237.73 780.23 Q243.54 780.23 246.596 784.837 Q249.675 789.42 249.675 798.17 Q249.675 806.897 246.596 811.503 Q243.54 816.086 237.73 816.086 Q231.92 816.086 228.841 811.503 Q225.786 806.897 225.786 798.17 Q225.786 789.42 228.841 784.837 Q231.92 780.23 237.73 780.23 Z\" fill=\"#000000\" fill-rule=\"nonzero\" fill-opacity=\"1\" /><path clip-path=\"url(#clip030)\" d=\"M251.48 787.422 L251.48 783.961 Q252.909 784.638 254.376 784.996 Q255.843 785.353 257.254 785.353 Q261.016 785.353 262.99 782.833 Q264.984 780.294 265.266 775.14 Q264.175 776.758 262.501 777.623 Q260.828 778.488 258.796 778.488 Q254.583 778.488 252.12 775.949 Q249.675 773.391 249.675 768.971 Q249.675 764.646 252.232 762.031 Q254.79 759.417 259.041 759.417 Q263.912 759.417 266.47 763.16 Q269.047 766.884 269.047 773.993 Q269.047 780.632 265.887 784.601 Q262.746 788.55 257.423 788.55 Q255.994 788.55 254.527 788.268 Q253.06 787.986 251.48 787.422 M259.041 775.516 Q261.599 775.516 263.084 773.767 Q264.589 772.018 264.589 768.971 Q264.589 765.943 263.084 764.194 Q261.599 762.426 259.041 762.426 Q256.483 762.426 254.978 764.194 Q253.492 765.943 253.492 768.971 Q253.492 772.018 254.978 773.767 Q256.483 775.516 259.041 775.516 Z\" fill=\"#000000\" fill-rule=\"nonzero\" fill-opacity=\"1\" /><path clip-path=\"url(#clip030)\" d=\"M53.1015 473.411 L60.7403 473.411 L60.7403 447.045 L52.4302 448.712 L52.4302 444.453 L60.694 442.786 L65.3699 442.786 L65.3699 473.411 L73.0088 473.411 L73.0088 477.346 L53.1015 477.346 L53.1015 473.411 Z\" fill=\"#000000\" fill-rule=\"nonzero\" fill-opacity=\"1\" /><path clip-path=\"url(#clip030)\" d=\"M82.4532 471.467 L87.3374 471.467 L87.3374 477.346 L82.4532 477.346 L82.4532 471.467 Z\" fill=\"#000000\" fill-rule=\"nonzero\" fill-opacity=\"1\" /><path clip-path=\"url(#clip030)\" d=\"M97.5688 442.786 L115.925 442.786 L115.925 446.721 L101.851 446.721 L101.851 455.194 Q102.87 454.846 103.888 454.684 Q104.907 454.499 105.925 454.499 Q111.712 454.499 115.092 457.67 Q118.472 460.842 118.472 466.258 Q118.472 471.837 114.999 474.939 Q111.527 478.017 105.208 478.017 Q103.032 478.017 100.763 477.647 Q98.5179 477.277 96.1105 476.536 L96.1105 471.837 Q98.1938 472.971 100.416 473.527 Q102.638 474.082 105.115 474.082 Q109.12 474.082 111.458 471.976 Q113.796 469.869 113.796 466.258 Q113.796 462.647 111.458 460.541 Q109.12 458.434 105.115 458.434 Q103.24 458.434 101.365 458.851 Q99.5133 459.268 97.5688 460.147 L97.5688 442.786 Z\" fill=\"#000000\" fill-rule=\"nonzero\" fill-opacity=\"1\" /><path clip-path=\"url(#clip030)\" d=\"M137.684 445.865 Q134.073 445.865 132.245 449.43 Q130.439 452.971 130.439 460.101 Q130.439 467.207 132.245 470.772 Q134.073 474.314 137.684 474.314 Q141.319 474.314 143.124 470.772 Q144.953 467.207 144.953 460.101 Q144.953 452.971 143.124 449.43 Q141.319 445.865 137.684 445.865 M137.684 442.161 Q143.495 442.161 146.55 446.768 Q149.629 451.351 149.629 460.101 Q149.629 468.828 146.55 473.434 Q143.495 478.017 137.684 478.017 Q131.874 478.017 128.796 473.434 Q125.74 468.828 125.74 460.101 Q125.74 451.351 128.796 446.768 Q131.874 442.161 137.684 442.161 Z\" fill=\"#000000\" fill-rule=\"nonzero\" fill-opacity=\"1\" /><path clip-path=\"url(#clip030)\" d=\"M186.017 451.883 L175.439 462.508 L186.017 473.087 L183.263 475.888 L172.638 465.263 L162.013 475.888 L159.281 473.087 L169.837 462.508 L159.281 451.883 L162.013 449.082 L172.638 459.707 L183.263 449.082 L186.017 451.883 Z\" fill=\"#000000\" fill-rule=\"nonzero\" fill-opacity=\"1\" /><path clip-path=\"url(#clip030)\" d=\"M198.378 473.411 L206.017 473.411 L206.017 447.045 L197.707 448.712 L197.707 444.453 L205.971 442.786 L210.647 442.786 L210.647 473.411 L218.286 473.411 L218.286 477.346 L198.378 477.346 L198.378 473.411 Z\" fill=\"#000000\" fill-rule=\"nonzero\" fill-opacity=\"1\" /><path clip-path=\"url(#clip030)\" d=\"M237.73 445.865 Q234.119 445.865 232.29 449.43 Q230.485 452.971 230.485 460.101 Q230.485 467.207 232.29 470.772 Q234.119 474.314 237.73 474.314 Q241.364 474.314 243.17 470.772 Q244.999 467.207 244.999 460.101 Q244.999 452.971 243.17 449.43 Q241.364 445.865 237.73 445.865 M237.73 442.161 Q243.54 442.161 246.596 446.768 Q249.675 451.351 249.675 460.101 Q249.675 468.828 246.596 473.434 Q243.54 478.017 237.73 478.017 Q231.92 478.017 228.841 473.434 Q225.786 468.828 225.786 460.101 Q225.786 451.351 228.841 446.768 Q231.92 442.161 237.73 442.161 Z\" fill=\"#000000\" fill-rule=\"nonzero\" fill-opacity=\"1\" /><path clip-path=\"url(#clip030)\" d=\"M251.48 449.353 L251.48 445.892 Q252.909 446.569 254.376 446.927 Q255.843 447.284 257.254 447.284 Q261.016 447.284 262.99 444.764 Q264.984 442.225 265.266 437.071 Q264.175 438.689 262.501 439.554 Q260.828 440.419 258.796 440.419 Q254.583 440.419 252.12 437.88 Q249.675 435.322 249.675 430.902 Q249.675 426.577 252.232 423.962 Q254.79 421.348 259.041 421.348 Q263.912 421.348 266.47 425.091 Q269.047 428.815 269.047 435.924 Q269.047 442.563 265.887 446.532 Q262.746 450.481 257.423 450.481 Q255.994 450.481 254.527 450.199 Q253.06 449.917 251.48 449.353 M259.041 437.447 Q261.599 437.447 263.084 435.698 Q264.589 433.949 264.589 430.902 Q264.589 427.874 263.084 426.125 Q261.599 424.357 259.041 424.357 Q256.483 424.357 254.978 426.125 Q253.492 427.874 253.492 430.902 Q253.492 433.949 254.978 435.698 Q256.483 437.447 259.041 437.447 Z\" fill=\"#000000\" fill-rule=\"nonzero\" fill-opacity=\"1\" /><path clip-path=\"url(#clip030)\" d=\"M1185.32 28.5427 L1185.32 35.5912 Q1182.16 33.9709 1178.75 33.1607 Q1175.35 32.3505 1171.71 32.3505 Q1166.16 32.3505 1163.36 34.0519 Q1160.61 35.7533 1160.61 39.156 Q1160.61 41.7486 1162.59 43.2475 Q1164.58 44.7058 1170.57 46.0426 L1173.12 46.6097 Q1181.06 48.3111 1184.39 51.4303 Q1187.75 54.509 1187.75 60.0587 Q1187.75 66.3781 1182.72 70.0644 Q1177.74 73.7508 1168.99 73.7508 Q1165.35 73.7508 1161.38 73.0216 Q1157.45 72.3329 1153.07 70.9151 L1153.07 63.2184 Q1157.2 65.3654 1161.21 66.4591 Q1165.22 67.5124 1169.15 67.5124 Q1174.42 67.5124 1177.26 65.73 Q1180.09 63.9071 1180.09 60.6258 Q1180.09 57.5877 1178.03 55.9673 Q1176 54.3469 1169.07 52.8481 L1166.48 52.2405 Q1159.55 50.7821 1156.47 47.7845 Q1153.4 44.7463 1153.4 39.4801 Q1153.4 33.0797 1157.93 29.5959 Q1162.47 26.1121 1170.81 26.1121 Q1174.95 26.1121 1178.59 26.7198 Q1182.24 27.3274 1185.32 28.5427 Z\" fill=\"#000000\" fill-rule=\"nonzero\" fill-opacity=\"1\" /><path clip-path=\"url(#clip030)\" d=\"M1206.99 14.324 L1206.99 27.2059 L1222.34 27.2059 L1222.34 32.9987 L1206.99 32.9987 L1206.99 57.6282 Q1206.99 63.1779 1208.49 64.7578 Q1210.03 66.3376 1214.69 66.3376 L1222.34 66.3376 L1222.34 72.576 L1214.69 72.576 Q1206.06 72.576 1202.78 69.3758 Q1199.5 66.1351 1199.5 57.6282 L1199.5 32.9987 L1194.03 32.9987 L1194.03 27.2059 L1199.5 27.2059 L1199.5 14.324 L1206.99 14.324 Z\" fill=\"#000000\" fill-rule=\"nonzero\" fill-opacity=\"1\" /><path clip-path=\"url(#clip030)\" d=\"M1252.76 49.7694 Q1243.73 49.7694 1240.25 51.8354 Q1236.76 53.9013 1236.76 58.8839 Q1236.76 62.8538 1239.36 65.2034 Q1241.99 67.5124 1246.49 67.5124 Q1252.68 67.5124 1256.41 63.1374 Q1260.18 58.7219 1260.18 51.4303 L1260.18 49.7694 L1252.76 49.7694 M1267.63 46.6907 L1267.63 72.576 L1260.18 72.576 L1260.18 65.6895 Q1257.63 69.8214 1253.82 71.8063 Q1250.01 73.7508 1244.5 73.7508 Q1237.53 73.7508 1233.4 69.8619 Q1229.31 65.9325 1229.31 59.3701 Q1229.31 51.7138 1234.41 47.825 Q1239.56 43.9361 1249.73 43.9361 L1260.18 43.9361 L1260.18 43.2069 Q1260.18 38.0623 1256.77 35.2672 Q1253.41 32.4315 1247.3 32.4315 Q1243.41 32.4315 1239.72 33.3632 Q1236.03 34.295 1232.63 36.1584 L1232.63 29.2718 Q1236.72 27.692 1240.57 26.9223 Q1244.42 26.1121 1248.07 26.1121 Q1257.91 26.1121 1262.77 31.2163 Q1267.63 36.3204 1267.63 46.6907 Z\" fill=\"#000000\" fill-rule=\"nonzero\" fill-opacity=\"1\" /><path clip-path=\"url(#clip030)\" d=\"M1290.36 14.324 L1290.36 27.2059 L1305.71 27.2059 L1305.71 32.9987 L1290.36 32.9987 L1290.36 57.6282 Q1290.36 63.1779 1291.86 64.7578 Q1293.4 66.3376 1298.05 66.3376 L1305.71 66.3376 L1305.71 72.576 L1298.05 72.576 Q1289.43 72.576 1286.14 69.3758 Q1282.86 66.1351 1282.86 57.6282 L1282.86 32.9987 L1277.39 32.9987 L1277.39 27.2059 L1282.86 27.2059 L1282.86 14.324 L1290.36 14.324 Z\" fill=\"#000000\" fill-rule=\"nonzero\" fill-opacity=\"1\" /><path clip-path=\"url(#clip030)\" d=\"M1354.32 48.0275 L1354.32 51.6733 L1320.05 51.6733 Q1320.54 59.3701 1324.67 63.421 Q1328.84 67.4314 1336.25 67.4314 Q1340.55 67.4314 1344.56 66.3781 Q1348.61 65.3249 1352.58 63.2184 L1352.58 70.267 Q1348.57 71.9684 1344.36 72.8596 Q1340.14 73.7508 1335.81 73.7508 Q1324.95 73.7508 1318.59 67.4314 Q1312.27 61.1119 1312.27 50.3365 Q1312.27 39.1965 1318.27 32.6746 Q1324.3 26.1121 1334.51 26.1121 Q1343.67 26.1121 1348.97 32.0264 Q1354.32 37.9003 1354.32 48.0275 M1346.87 45.84 Q1346.79 39.7232 1343.42 36.0774 Q1340.1 32.4315 1334.59 32.4315 Q1328.35 32.4315 1324.59 35.9558 Q1320.86 39.4801 1320.29 45.8805 L1346.87 45.84 Z\" fill=\"#000000\" fill-rule=\"nonzero\" fill-opacity=\"1\" /><path clip-path=\"url(#clip030)\" d=\"M1393.25 12.096 L1405.44 12.096 L1420.88 53.2532 L1436.39 12.096 L1448.59 12.096 L1448.59 72.576 L1440.6 72.576 L1440.6 19.4686 L1425.01 60.9499 L1416.79 60.9499 L1401.19 19.4686 L1401.19 72.576 L1393.25 72.576 L1393.25 12.096 Z\" fill=\"#000000\" fill-rule=\"nonzero\" fill-opacity=\"1\" /><path clip-path=\"url(#clip030)\" d=\"M1501.08 14.0809 L1501.08 22.0612 Q1496.43 19.8332 1492.29 18.7395 Q1488.16 17.6457 1484.31 17.6457 Q1477.63 17.6457 1473.98 20.2383 Q1470.38 22.8309 1470.38 27.611 Q1470.38 31.6214 1472.77 33.6873 Q1475.2 35.7128 1481.92 36.9686 L1486.87 37.9813 Q1496.02 39.7232 1500.36 44.1387 Q1504.73 48.5136 1504.73 55.8863 Q1504.73 64.6767 1498.82 69.2137 Q1492.94 73.7508 1481.56 73.7508 Q1477.27 73.7508 1472.4 72.7785 Q1467.58 71.8063 1462.4 69.9024 L1462.4 61.4765 Q1467.38 64.2716 1472.16 65.6895 Q1476.94 67.1073 1481.56 67.1073 Q1488.57 67.1073 1492.38 64.3527 Q1496.18 61.598 1496.18 56.4939 Q1496.18 52.0379 1493.43 49.5264 Q1490.71 47.0148 1484.48 45.759 L1479.49 44.7868 Q1470.34 42.9639 1466.25 39.075 Q1462.16 35.1862 1462.16 28.2591 Q1462.16 20.2383 1467.79 15.6203 Q1473.46 11.0023 1483.38 11.0023 Q1487.64 11.0023 1492.05 11.7719 Q1496.47 12.5416 1501.08 14.0809 Z\" fill=\"#000000\" fill-rule=\"nonzero\" fill-opacity=\"1\" /><polyline clip-path=\"url(#clip032)\" style=\"stroke:#009af9; stroke-linecap:round; stroke-linejoin:round; stroke-width:4; stroke-opacity:1; fill:none\" points=\"363.001,1447.87 577.645,1380.55 792.29,1364.61 1006.93,1200.34 1221.58,596.593 1436.22,456.886 1650.87,435.244 1865.51,175.363 2080.16,162.066 2294.8,162.047 \"/>\n",
       "<polyline clip-path=\"url(#clip032)\" style=\"stroke:#e26f46; stroke-linecap:round; stroke-linejoin:round; stroke-width:4; stroke-opacity:1; fill:none\" points=\"363.001,1415.78 577.645,1364.55 792.29,1312.92 1006.93,1262.16 1221.58,1208.7 1436.22,1142.44 1650.87,1074.51 1865.51,1007.62 2080.16,936.521 2294.8,866.656 \"/>\n",
       "<polyline clip-path=\"url(#clip032)\" style=\"stroke:#3da44d; stroke-linecap:round; stroke-linejoin:round; stroke-width:4; stroke-opacity:1; fill:none\" points=\"363.001,1383.81 577.645,1299.8 792.29,1215.78 1006.93,1131.77 1221.58,1047.76 1436.22,963.742 1650.87,879.728 1865.51,795.714 2080.16,711.7 2294.8,627.687 \"/>\n",
       "<path clip-path=\"url(#clip030)\" d=\"M373.303 376.265 L825.527 376.265 L825.527 168.905 L373.303 168.905  Z\" fill=\"#ffffff\" fill-rule=\"evenodd\" fill-opacity=\"1\"/>\n",
       "<polyline clip-path=\"url(#clip030)\" style=\"stroke:#000000; stroke-linecap:round; stroke-linejoin:round; stroke-width:4; stroke-opacity:1; fill:none\" points=\"373.303,376.265 825.527,376.265 825.527,168.905 373.303,168.905 373.303,376.265 \"/>\n",
       "<polyline clip-path=\"url(#clip030)\" style=\"stroke:#009af9; stroke-linecap:round; stroke-linejoin:round; stroke-width:4; stroke-opacity:1; fill:none\" points=\"396.056,220.745 532.57,220.745 \"/>\n",
       "<path clip-path=\"url(#clip030)\" d=\"M568.725 224.992 Q563.563 224.992 561.572 226.173 Q559.581 227.353 559.581 230.201 Q559.581 232.469 561.063 233.812 Q562.567 235.131 565.137 235.131 Q568.679 235.131 570.808 232.631 Q572.961 230.108 572.961 225.941 L572.961 224.992 L568.725 224.992 M577.22 223.233 L577.22 238.025 L572.961 238.025 L572.961 234.089 Q571.503 236.451 569.327 237.585 Q567.151 238.696 564.003 238.696 Q560.021 238.696 557.66 236.474 Q555.322 234.228 555.322 230.478 Q555.322 226.103 558.239 223.881 Q561.179 221.659 566.989 221.659 L572.961 221.659 L572.961 221.242 Q572.961 218.303 571.016 216.705 Q569.095 215.085 565.6 215.085 Q563.378 215.085 561.271 215.617 Q559.165 216.15 557.22 217.215 L557.22 213.279 Q559.558 212.377 561.757 211.937 Q563.956 211.474 566.04 211.474 Q571.665 211.474 574.442 214.391 Q577.22 217.307 577.22 223.233 Z\" fill=\"#000000\" fill-rule=\"nonzero\" fill-opacity=\"1\" /><path clip-path=\"url(#clip030)\" d=\"M604.651 213.094 L604.651 217.076 Q602.845 216.08 601.016 215.594 Q599.211 215.085 597.359 215.085 Q593.215 215.085 590.924 217.724 Q588.632 220.34 588.632 225.085 Q588.632 229.83 590.924 232.469 Q593.215 235.085 597.359 235.085 Q599.211 235.085 601.016 234.599 Q602.845 234.089 604.651 233.094 L604.651 237.029 Q602.868 237.863 600.947 238.279 Q599.049 238.696 596.896 238.696 Q591.04 238.696 587.59 235.015 Q584.141 231.335 584.141 225.085 Q584.141 218.742 587.614 215.108 Q591.109 211.474 597.174 211.474 Q599.141 211.474 601.016 211.891 Q602.891 212.284 604.651 213.094 Z\" fill=\"#000000\" fill-rule=\"nonzero\" fill-opacity=\"1\" /><path clip-path=\"url(#clip030)\" d=\"M616.271 204.738 L616.271 212.099 L625.044 212.099 L625.044 215.409 L616.271 215.409 L616.271 229.483 Q616.271 232.654 617.127 233.557 Q618.007 234.46 620.669 234.46 L625.044 234.46 L625.044 238.025 L620.669 238.025 Q615.738 238.025 613.863 236.196 Q611.988 234.344 611.988 229.483 L611.988 215.409 L608.863 215.409 L608.863 212.099 L611.988 212.099 L611.988 204.738 L616.271 204.738 Z\" fill=\"#000000\" fill-rule=\"nonzero\" fill-opacity=\"1\" /><path clip-path=\"url(#clip030)\" d=\"M630.206 227.793 L630.206 212.099 L634.465 212.099 L634.465 227.631 Q634.465 231.312 635.9 233.164 Q637.336 234.992 640.206 234.992 Q643.655 234.992 645.646 232.793 Q647.66 230.594 647.66 226.798 L647.66 212.099 L651.919 212.099 L651.919 238.025 L647.66 238.025 L647.66 234.043 Q646.109 236.404 644.048 237.562 Q642.011 238.696 639.303 238.696 Q634.836 238.696 632.521 235.918 Q630.206 233.14 630.206 227.793 M640.923 211.474 L640.923 211.474 Z\" fill=\"#000000\" fill-rule=\"nonzero\" fill-opacity=\"1\" /><path clip-path=\"url(#clip030)\" d=\"M672.474 224.992 Q667.312 224.992 665.322 226.173 Q663.331 227.353 663.331 230.201 Q663.331 232.469 664.812 233.812 Q666.317 235.131 668.886 235.131 Q672.428 235.131 674.558 232.631 Q676.71 230.108 676.71 225.941 L676.71 224.992 L672.474 224.992 M680.97 223.233 L680.97 238.025 L676.71 238.025 L676.71 234.089 Q675.252 236.451 673.076 237.585 Q670.9 238.696 667.752 238.696 Q663.771 238.696 661.41 236.474 Q659.072 234.228 659.072 230.478 Q659.072 226.103 661.988 223.881 Q664.928 221.659 670.738 221.659 L676.71 221.659 L676.71 221.242 Q676.71 218.303 674.766 216.705 Q672.845 215.085 669.349 215.085 Q667.127 215.085 665.021 215.617 Q662.914 216.15 660.97 217.215 L660.97 213.279 Q663.308 212.377 665.507 211.937 Q667.706 211.474 669.789 211.474 Q675.414 211.474 678.192 214.391 Q680.97 217.307 680.97 223.233 Z\" fill=\"#000000\" fill-rule=\"nonzero\" fill-opacity=\"1\" /><path clip-path=\"url(#clip030)\" d=\"M689.743 202.006 L694.002 202.006 L694.002 238.025 L689.743 238.025 L689.743 202.006 Z\" fill=\"#000000\" fill-rule=\"nonzero\" fill-opacity=\"1\" /><path clip-path=\"url(#clip030)\" d=\"M717.983 202.006 L722.243 202.006 L722.243 238.025 L717.983 238.025 L717.983 202.006 Z\" fill=\"#000000\" fill-rule=\"nonzero\" fill-opacity=\"1\" /><path clip-path=\"url(#clip030)\" d=\"M741.201 215.085 Q737.775 215.085 735.784 217.77 Q733.793 220.432 733.793 225.085 Q733.793 229.738 735.761 232.423 Q737.752 235.085 741.201 235.085 Q744.603 235.085 746.594 232.4 Q748.585 229.715 748.585 225.085 Q748.585 220.478 746.594 217.793 Q744.603 215.085 741.201 215.085 M741.201 211.474 Q746.756 211.474 749.928 215.085 Q753.099 218.696 753.099 225.085 Q753.099 231.451 749.928 235.085 Q746.756 238.696 741.201 238.696 Q735.622 238.696 732.451 235.085 Q729.303 231.451 729.303 225.085 Q729.303 218.696 732.451 215.085 Q735.622 211.474 741.201 211.474 Z\" fill=\"#000000\" fill-rule=\"nonzero\" fill-opacity=\"1\" /><path clip-path=\"url(#clip030)\" d=\"M776.687 212.863 L776.687 216.891 Q774.881 215.965 772.937 215.502 Q770.992 215.039 768.909 215.039 Q765.738 215.039 764.14 216.011 Q762.566 216.983 762.566 218.928 Q762.566 220.409 763.701 221.265 Q764.835 222.099 768.261 222.863 L769.719 223.187 Q774.256 224.159 776.154 225.941 Q778.076 227.701 778.076 230.872 Q778.076 234.483 775.205 236.589 Q772.358 238.696 767.358 238.696 Q765.275 238.696 763.006 238.279 Q760.761 237.886 758.261 237.076 L758.261 232.677 Q760.622 233.904 762.914 234.529 Q765.205 235.131 767.451 235.131 Q770.46 235.131 772.08 234.113 Q773.701 233.071 773.701 231.196 Q773.701 229.46 772.52 228.534 Q771.363 227.608 767.404 226.752 L765.923 226.404 Q761.965 225.571 760.205 223.858 Q758.446 222.122 758.446 219.113 Q758.446 215.455 761.039 213.465 Q763.631 211.474 768.4 211.474 Q770.761 211.474 772.844 211.821 Q774.927 212.168 776.687 212.863 Z\" fill=\"#000000\" fill-rule=\"nonzero\" fill-opacity=\"1\" /><path clip-path=\"url(#clip030)\" d=\"M801.386 212.863 L801.386 216.891 Q799.58 215.965 797.636 215.502 Q795.691 215.039 793.608 215.039 Q790.437 215.039 788.839 216.011 Q787.265 216.983 787.265 218.928 Q787.265 220.409 788.4 221.265 Q789.534 222.099 792.96 222.863 L794.418 223.187 Q798.955 224.159 800.853 225.941 Q802.774 227.701 802.774 230.872 Q802.774 234.483 799.904 236.589 Q797.057 238.696 792.057 238.696 Q789.974 238.696 787.705 238.279 Q785.46 237.886 782.96 237.076 L782.96 232.677 Q785.321 233.904 787.613 234.529 Q789.904 235.131 792.15 235.131 Q795.159 235.131 796.779 234.113 Q798.4 233.071 798.4 231.196 Q798.4 229.46 797.219 228.534 Q796.062 227.608 792.103 226.752 L790.622 226.404 Q786.663 225.571 784.904 223.858 Q783.145 222.122 783.145 219.113 Q783.145 215.455 785.738 213.465 Q788.33 211.474 793.099 211.474 Q795.46 211.474 797.543 211.821 Q799.626 212.168 801.386 212.863 Z\" fill=\"#000000\" fill-rule=\"nonzero\" fill-opacity=\"1\" /><polyline clip-path=\"url(#clip030)\" style=\"stroke:#e26f46; stroke-linecap:round; stroke-linejoin:round; stroke-width:4; stroke-opacity:1; fill:none\" points=\"396.056,272.585 532.57,272.585 \"/>\n",
       "<path clip-path=\"url(#clip030)\" d=\"M574.095 276.925 Q574.095 272.226 572.151 269.564 Q570.229 266.879 566.85 266.879 Q563.47 266.879 561.526 269.564 Q559.604 272.226 559.604 276.925 Q559.604 281.624 561.526 284.309 Q563.47 286.971 566.85 286.971 Q570.229 286.971 572.151 284.309 Q574.095 281.624 574.095 276.925 M559.604 267.874 Q560.947 265.559 562.984 264.448 Q565.044 263.314 567.891 263.314 Q572.614 263.314 575.553 267.064 Q578.516 270.814 578.516 276.925 Q578.516 283.036 575.553 286.786 Q572.614 290.536 567.891 290.536 Q565.044 290.536 562.984 289.425 Q560.947 288.291 559.604 285.976 L559.604 289.865 L555.322 289.865 L555.322 253.846 L559.604 253.846 L559.604 267.874 Z\" fill=\"#000000\" fill-rule=\"nonzero\" fill-opacity=\"1\" /><path clip-path=\"url(#clip030)\" d=\"M597.359 276.832 Q592.197 276.832 590.206 278.013 Q588.215 279.193 588.215 282.041 Q588.215 284.309 589.697 285.652 Q591.202 286.971 593.771 286.971 Q597.313 286.971 599.442 284.471 Q601.595 281.948 601.595 277.781 L601.595 276.832 L597.359 276.832 M605.854 275.073 L605.854 289.865 L601.595 289.865 L601.595 285.929 Q600.137 288.291 597.961 289.425 Q595.785 290.536 592.637 290.536 Q588.655 290.536 586.294 288.314 Q583.956 286.068 583.956 282.318 Q583.956 277.943 586.873 275.721 Q589.813 273.499 595.623 273.499 L601.595 273.499 L601.595 273.082 Q601.595 270.143 599.651 268.545 Q597.729 266.925 594.234 266.925 Q592.012 266.925 589.905 267.457 Q587.799 267.99 585.854 269.055 L585.854 265.119 Q588.192 264.217 590.391 263.777 Q592.59 263.314 594.674 263.314 Q600.299 263.314 603.076 266.231 Q605.854 269.147 605.854 275.073 Z\" fill=\"#000000\" fill-rule=\"nonzero\" fill-opacity=\"1\" /><path clip-path=\"url(#clip030)\" d=\"M631.155 264.703 L631.155 268.731 Q629.349 267.805 627.405 267.342 Q625.461 266.879 623.377 266.879 Q620.206 266.879 618.609 267.851 Q617.035 268.823 617.035 270.768 Q617.035 272.249 618.169 273.105 Q619.303 273.939 622.729 274.703 L624.187 275.027 Q628.724 275.999 630.623 277.781 Q632.544 279.541 632.544 282.712 Q632.544 286.323 629.674 288.429 Q626.826 290.536 621.826 290.536 Q619.743 290.536 617.475 290.119 Q615.229 289.726 612.729 288.916 L612.729 284.517 Q615.09 285.744 617.382 286.369 Q619.674 286.971 621.919 286.971 Q624.928 286.971 626.549 285.953 Q628.169 284.911 628.169 283.036 Q628.169 281.3 626.988 280.374 Q625.831 279.448 621.873 278.592 L620.391 278.244 Q616.433 277.411 614.674 275.698 Q612.914 273.962 612.914 270.953 Q612.914 267.295 615.507 265.305 Q618.1 263.314 622.868 263.314 Q625.229 263.314 627.312 263.661 Q629.396 264.008 631.155 264.703 Z\" fill=\"#000000\" fill-rule=\"nonzero\" fill-opacity=\"1\" /><path clip-path=\"url(#clip030)\" d=\"M661.502 275.837 L661.502 277.92 L641.919 277.92 Q642.197 282.318 644.558 284.633 Q646.942 286.925 651.178 286.925 Q653.632 286.925 655.923 286.323 Q658.238 285.721 660.507 284.517 L660.507 288.545 Q658.215 289.517 655.808 290.027 Q653.4 290.536 650.923 290.536 Q644.72 290.536 641.086 286.925 Q637.474 283.314 637.474 277.156 Q637.474 270.791 640.9 267.064 Q644.349 263.314 650.183 263.314 Q655.414 263.314 658.447 266.693 Q661.502 270.05 661.502 275.837 M657.243 274.587 Q657.197 271.092 655.275 269.008 Q653.377 266.925 650.229 266.925 Q646.664 266.925 644.511 268.939 Q642.382 270.953 642.058 274.61 L657.243 274.587 Z\" fill=\"#000000\" fill-rule=\"nonzero\" fill-opacity=\"1\" /><polyline clip-path=\"url(#clip030)\" style=\"stroke:#3da44d; stroke-linecap:round; stroke-linejoin:round; stroke-width:4; stroke-opacity:1; fill:none\" points=\"396.056,324.425 532.57,324.425 \"/>\n",
       "<path clip-path=\"url(#clip030)\" d=\"M571.711 325.501 Q573.216 326.01 574.628 327.677 Q576.063 329.344 577.498 332.26 L582.243 341.705 L577.22 341.705 L572.799 332.839 Q571.086 329.367 569.466 328.233 Q567.868 327.098 565.091 327.098 L559.998 327.098 L559.998 341.705 L555.322 341.705 L555.322 307.145 L565.878 307.145 Q571.803 307.145 574.72 309.621 Q577.637 312.098 577.637 317.098 Q577.637 320.362 576.109 322.515 Q574.604 324.668 571.711 325.501 M559.998 310.987 L559.998 323.256 L565.878 323.256 Q569.257 323.256 570.97 321.705 Q572.706 320.131 572.706 317.098 Q572.706 314.066 570.97 312.538 Q569.257 310.987 565.878 310.987 L559.998 310.987 Z\" fill=\"#000000\" fill-rule=\"nonzero\" fill-opacity=\"1\" /><path clip-path=\"url(#clip030)\" d=\"M602.289 310.316 Q597.197 310.316 594.188 314.112 Q591.202 317.908 591.202 324.459 Q591.202 330.987 594.188 334.783 Q597.197 338.58 602.289 338.58 Q607.382 338.58 610.345 334.783 Q613.331 330.987 613.331 324.459 Q613.331 317.908 610.345 314.112 Q607.382 310.316 602.289 310.316 M602.289 306.52 Q609.558 306.52 613.91 311.404 Q618.262 316.265 618.262 324.459 Q618.262 332.631 613.91 337.515 Q609.558 342.376 602.289 342.376 Q594.998 342.376 590.623 337.515 Q586.271 332.654 586.271 324.459 Q586.271 316.265 590.623 311.404 Q594.998 306.52 602.289 306.52 Z\" fill=\"#000000\" fill-rule=\"nonzero\" fill-opacity=\"1\" /></svg>\n"
      ]
     },
     "execution_count": 54,
     "metadata": {},
     "output_type": "execute_result"
    }
   ],
   "source": [
    "x = range(1, 10)\n",
    "i = 4\n",
    "print(state_list[i])\n",
    "act = cumsum(act_loss[i,:])\n",
    "base = cumsum(P_base[i,:])\n",
    "RO= cumsum(P_ro[i,:])\n",
    "# LP = cumsum(P_lp[i,:])\n",
    "plot(x, [act,  base, RO], label=[\"actual loss\" \"base\" \"RO\"], title=\"state $(state_list[i])\")"
   ]
  },
  {
   "cell_type": "code",
   "execution_count": 104,
   "metadata": {},
   "outputs": [
    {
     "data": {
      "text/plain": [
       "10-element Vector{Float64}:\n",
       " 1.2425556115235868e8\n",
       " 2.4851112230471706e8\n",
       " 3.7276668345707536e8\n",
       " 4.970222446094332e8\n",
       " 6.212778057617917e8\n",
       " 7.455333669141515e8\n",
       " 8.697889280665103e8\n",
       " 9.940444892188685e8\n",
       " 1.1183000503712273e9\n",
       " 1.242555611523588e9"
      ]
     },
     "execution_count": 104,
     "metadata": {},
     "output_type": "execute_result"
    }
   ],
   "source": [
    "RO"
   ]
  },
  {
   "cell_type": "code",
   "execution_count": 105,
   "metadata": {},
   "outputs": [
    {
     "data": {
      "text/html": [
       "<div><div style = \"float: left;\"><span>2×5 DataFrame</span></div><div style = \"clear: both;\"></div></div><div class = \"data-frame\" style = \"overflow-x: scroll;\"><table class = \"data-frame\" style = \"margin-bottom: 6px;\"><thead><tr class = \"header\"><th class = \"rowNumber\" style = \"font-weight: bold; text-align: right;\">Row</th><th style = \"text-align: left;\">propertyState</th><th style = \"text-align: left;\">year</th><th style = \"text-align: left;\">sum</th><th style = \"text-align: left;\">count</th><th style = \"text-align: left;\">mean</th></tr><tr class = \"subheader headerLastRow\"><th class = \"rowNumber\" style = \"font-weight: bold; text-align: right;\"></th><th title = \"String\" style = \"text-align: left;\">String</th><th title = \"Int64\" style = \"text-align: left;\">Int64</th><th title = \"Float64\" style = \"text-align: left;\">Float64</th><th title = \"Int64\" style = \"text-align: left;\">Int64</th><th title = \"Float64\" style = \"text-align: left;\">Float64</th></tr></thead><tbody><tr><td class = \"rowNumber\" style = \"font-weight: bold; text-align: right;\">1</td><td style = \"text-align: left;\">AK</td><td style = \"text-align: right;\">2010</td><td style = \"text-align: right;\">2628.0</td><td style = \"text-align: right;\">4</td><td style = \"text-align: right;\">657.0</td></tr><tr><td class = \"rowNumber\" style = \"font-weight: bold; text-align: right;\">2</td><td style = \"text-align: left;\">AK</td><td style = \"text-align: right;\">2011</td><td style = \"text-align: right;\">3127.0</td><td style = \"text-align: right;\">4</td><td style = \"text-align: right;\">781.75</td></tr></tbody></table></div>"
      ],
      "text/latex": [
       "\\begin{tabular}{r|ccccc}\n",
       "\t& propertyState & year & sum & count & mean\\\\\n",
       "\t\\hline\n",
       "\t& String & Int64 & Float64 & Int64 & Float64\\\\\n",
       "\t\\hline\n",
       "\t1 & AK & 2010 & 2628.0 & 4 & 657.0 \\\\\n",
       "\t2 & AK & 2011 & 3127.0 & 4 & 781.75 \\\\\n",
       "\\end{tabular}\n"
      ],
      "text/plain": [
       "\u001b[1m2×5 DataFrame\u001b[0m\n",
       "\u001b[1m Row \u001b[0m│\u001b[1m propertyState \u001b[0m\u001b[1m year  \u001b[0m\u001b[1m sum     \u001b[0m\u001b[1m count \u001b[0m\u001b[1m mean    \u001b[0m\n",
       "     │\u001b[90m String        \u001b[0m\u001b[90m Int64 \u001b[0m\u001b[90m Float64 \u001b[0m\u001b[90m Int64 \u001b[0m\u001b[90m Float64 \u001b[0m\n",
       "─────┼───────────────────────────────────────────────\n",
       "   1 │ AK              2010   2628.0      4   657.0\n",
       "   2 │ AK              2011   3127.0      4   781.75"
      ]
     },
     "execution_count": 105,
     "metadata": {},
     "output_type": "execute_result"
    }
   ],
   "source": [
    "#load actual policy premiums \n",
    "\n",
    "df_policy = DataFrame(CSV.File(\"nfip_premium_agg.csv\"));\n",
    "first(df_policy, 2)"
   ]
  },
  {
   "cell_type": "code",
   "execution_count": 154,
   "metadata": {},
   "outputs": [
    {
     "name": "stdout",
     "output_type": "stream",
     "text": [
      "UT2010missing\n",
      "UT2011missing\n",
      "WY2021missing\n",
      "SD2010missing\n",
      "SD2011missing\n",
      "SD2013missing\n",
      "VI2012missing\n",
      "VI2013missing\n"
     ]
    }
   ],
   "source": [
    "#construct P_hist \n",
    "\n",
    "#policy data is from 2010-2022 \n",
    "year_list = range(2010, 2022)\n",
    "\n",
    "#amount matrix\n",
    "P_hist= Matrix{Float32}(undef,N,length(year_list)); \n",
    "\n",
    "i =1\n",
    "for state in state_list\n",
    "    t = 1 \n",
    "    for year in year_list \n",
    "        premium = df_policy[(df_policy.propertyState .== state ).& (df_policy.year .== year) , \"sum\"]\n",
    "        if length(premium)==1\n",
    "            P_hist[i,t] = premium[1]\n",
    "        else \n",
    "            println(state, year, \"missing\")\n",
    "            P_hist[i, t] = 0  \n",
    "        end \n",
    "        t+=1 \n",
    "    end \n",
    "    i+=1 \n",
    "end "
   ]
  },
  {
   "cell_type": "code",
   "execution_count": 174,
   "metadata": {},
   "outputs": [
    {
     "name": "stdout",
     "output_type": "stream",
     "text": [
      "-1.978122788268e10\n",
      "-3.0727565577309998e10\n"
     ]
    }
   ],
   "source": [
    "#compute cumulative loss of Premium - loss for the last 10 years \n",
    "println(sum(P_hist2)-sum(act_loss))\n",
    "#compute cumulative loss of Premium - loss for the last 12 years \n",
    "println(sum(P_hist) - sum(M_amt[:,end-12:end]))"
   ]
  },
  {
   "cell_type": "code",
   "execution_count": 175,
   "metadata": {},
   "outputs": [
    {
     "name": "stdout",
     "output_type": "stream",
     "text": [
      "ND"
     ]
    },
    {
     "data": {
      "image/svg+xml": [
       "<?xml version=\"1.0\" encoding=\"utf-8\"?>\n",
       "<svg xmlns=\"http://www.w3.org/2000/svg\" xmlns:xlink=\"http://www.w3.org/1999/xlink\" width=\"600\" height=\"400\" viewBox=\"0 0 2400 1600\">\n",
       "<defs>\n",
       "  <clipPath id=\"clip340\">\n",
       "    <rect x=\"0\" y=\"0\" width=\"2400\" height=\"1600\"/>\n",
       "  </clipPath>\n",
       "</defs>\n",
       "<path clip-path=\"url(#clip340)\" d=\"M0 1600 L2400 1600 L2400 0 L0 0  Z\" fill=\"#ffffff\" fill-rule=\"evenodd\" fill-opacity=\"1\"/>\n",
       "<defs>\n",
       "  <clipPath id=\"clip341\">\n",
       "    <rect x=\"480\" y=\"0\" width=\"1681\" height=\"1600\"/>\n",
       "  </clipPath>\n",
       "</defs>\n",
       "<path clip-path=\"url(#clip340)\" d=\"M275.024 1486.45 L2352.76 1486.45 L2352.76 123.472 L275.024 123.472  Z\" fill=\"#ffffff\" fill-rule=\"evenodd\" fill-opacity=\"1\"/>\n",
       "<defs>\n",
       "  <clipPath id=\"clip342\">\n",
       "    <rect x=\"275\" y=\"123\" width=\"2079\" height=\"1364\"/>\n",
       "  </clipPath>\n",
       "</defs>\n",
       "<polyline clip-path=\"url(#clip342)\" style=\"stroke:#000000; stroke-linecap:round; stroke-linejoin:round; stroke-width:2; stroke-opacity:0.1; fill:none\" points=\"551.619,1486.45 551.619,123.472 \"/>\n",
       "<polyline clip-path=\"url(#clip342)\" style=\"stroke:#000000; stroke-linecap:round; stroke-linejoin:round; stroke-width:2; stroke-opacity:0.1; fill:none\" points=\"987.202,1486.45 987.202,123.472 \"/>\n",
       "<polyline clip-path=\"url(#clip342)\" style=\"stroke:#000000; stroke-linecap:round; stroke-linejoin:round; stroke-width:2; stroke-opacity:0.1; fill:none\" points=\"1422.79,1486.45 1422.79,123.472 \"/>\n",
       "<polyline clip-path=\"url(#clip342)\" style=\"stroke:#000000; stroke-linecap:round; stroke-linejoin:round; stroke-width:2; stroke-opacity:0.1; fill:none\" points=\"1858.37,1486.45 1858.37,123.472 \"/>\n",
       "<polyline clip-path=\"url(#clip342)\" style=\"stroke:#000000; stroke-linecap:round; stroke-linejoin:round; stroke-width:2; stroke-opacity:0.1; fill:none\" points=\"2293.95,1486.45 2293.95,123.472 \"/>\n",
       "<polyline clip-path=\"url(#clip340)\" style=\"stroke:#000000; stroke-linecap:round; stroke-linejoin:round; stroke-width:4; stroke-opacity:1; fill:none\" points=\"275.024,1486.45 2352.76,1486.45 \"/>\n",
       "<polyline clip-path=\"url(#clip340)\" style=\"stroke:#000000; stroke-linecap:round; stroke-linejoin:round; stroke-width:4; stroke-opacity:1; fill:none\" points=\"551.619,1486.45 551.619,1467.55 \"/>\n",
       "<polyline clip-path=\"url(#clip340)\" style=\"stroke:#000000; stroke-linecap:round; stroke-linejoin:round; stroke-width:4; stroke-opacity:1; fill:none\" points=\"987.202,1486.45 987.202,1467.55 \"/>\n",
       "<polyline clip-path=\"url(#clip340)\" style=\"stroke:#000000; stroke-linecap:round; stroke-linejoin:round; stroke-width:4; stroke-opacity:1; fill:none\" points=\"1422.79,1486.45 1422.79,1467.55 \"/>\n",
       "<polyline clip-path=\"url(#clip340)\" style=\"stroke:#000000; stroke-linecap:round; stroke-linejoin:round; stroke-width:4; stroke-opacity:1; fill:none\" points=\"1858.37,1486.45 1858.37,1467.55 \"/>\n",
       "<polyline clip-path=\"url(#clip340)\" style=\"stroke:#000000; stroke-linecap:round; stroke-linejoin:round; stroke-width:4; stroke-opacity:1; fill:none\" points=\"2293.95,1486.45 2293.95,1467.55 \"/>\n",
       "<path clip-path=\"url(#clip340)\" d=\"M499.987 1544.91 L516.307 1544.91 L516.307 1548.85 L494.362 1548.85 L494.362 1544.91 Q497.024 1542.16 501.608 1537.53 Q506.214 1532.88 507.395 1531.53 Q509.64 1529.01 510.52 1527.27 Q511.422 1525.51 511.422 1523.82 Q511.422 1521.07 509.478 1519.33 Q507.557 1517.6 504.455 1517.6 Q502.256 1517.6 499.802 1518.36 Q497.372 1519.13 494.594 1520.68 L494.594 1515.95 Q497.418 1514.82 499.872 1514.24 Q502.325 1513.66 504.362 1513.66 Q509.733 1513.66 512.927 1516.35 Q516.121 1519.03 516.121 1523.52 Q516.121 1525.65 515.311 1527.57 Q514.524 1529.47 512.418 1532.07 Q511.839 1532.74 508.737 1535.95 Q505.635 1539.15 499.987 1544.91 Z\" fill=\"#000000\" fill-rule=\"nonzero\" fill-opacity=\"1\" /><path clip-path=\"url(#clip340)\" d=\"M536.121 1517.37 Q532.51 1517.37 530.682 1520.93 Q528.876 1524.47 528.876 1531.6 Q528.876 1538.71 530.682 1542.27 Q532.51 1545.82 536.121 1545.82 Q539.756 1545.82 541.561 1542.27 Q543.39 1538.71 543.39 1531.6 Q543.39 1524.47 541.561 1520.93 Q539.756 1517.37 536.121 1517.37 M536.121 1513.66 Q541.931 1513.66 544.987 1518.27 Q548.066 1522.85 548.066 1531.6 Q548.066 1540.33 544.987 1544.94 Q541.931 1549.52 536.121 1549.52 Q530.311 1549.52 527.232 1544.94 Q524.177 1540.33 524.177 1531.6 Q524.177 1522.85 527.232 1518.27 Q530.311 1513.66 536.121 1513.66 Z\" fill=\"#000000\" fill-rule=\"nonzero\" fill-opacity=\"1\" /><path clip-path=\"url(#clip340)\" d=\"M557.093 1544.91 L564.732 1544.91 L564.732 1518.55 L556.422 1520.21 L556.422 1515.95 L564.686 1514.29 L569.362 1514.29 L569.362 1544.91 L577.001 1544.91 L577.001 1548.85 L557.093 1548.85 L557.093 1544.91 Z\" fill=\"#000000\" fill-rule=\"nonzero\" fill-opacity=\"1\" /><path clip-path=\"url(#clip340)\" d=\"M599.292 1518.36 L587.487 1536.81 L599.292 1536.81 L599.292 1518.36 M598.065 1514.29 L603.945 1514.29 L603.945 1536.81 L608.876 1536.81 L608.876 1540.7 L603.945 1540.7 L603.945 1548.85 L599.292 1548.85 L599.292 1540.7 L583.691 1540.7 L583.691 1536.19 L598.065 1514.29 Z\" fill=\"#000000\" fill-rule=\"nonzero\" fill-opacity=\"1\" /><path clip-path=\"url(#clip340)\" d=\"M935.733 1544.91 L952.052 1544.91 L952.052 1548.85 L930.108 1548.85 L930.108 1544.91 Q932.77 1542.16 937.353 1537.53 Q941.959 1532.88 943.14 1531.53 Q945.385 1529.01 946.265 1527.27 Q947.168 1525.51 947.168 1523.82 Q947.168 1521.07 945.223 1519.33 Q943.302 1517.6 940.2 1517.6 Q938.001 1517.6 935.547 1518.36 Q933.117 1519.13 930.339 1520.68 L930.339 1515.95 Q933.163 1514.82 935.617 1514.24 Q938.071 1513.66 940.108 1513.66 Q945.478 1513.66 948.672 1516.35 Q951.867 1519.03 951.867 1523.52 Q951.867 1525.65 951.057 1527.57 Q950.27 1529.47 948.163 1532.07 Q947.584 1532.74 944.483 1535.95 Q941.381 1539.15 935.733 1544.91 Z\" fill=\"#000000\" fill-rule=\"nonzero\" fill-opacity=\"1\" /><path clip-path=\"url(#clip340)\" d=\"M971.867 1517.37 Q968.256 1517.37 966.427 1520.93 Q964.621 1524.47 964.621 1531.6 Q964.621 1538.71 966.427 1542.27 Q968.256 1545.82 971.867 1545.82 Q975.501 1545.82 977.306 1542.27 Q979.135 1538.71 979.135 1531.6 Q979.135 1524.47 977.306 1520.93 Q975.501 1517.37 971.867 1517.37 M971.867 1513.66 Q977.677 1513.66 980.732 1518.27 Q983.811 1522.85 983.811 1531.6 Q983.811 1540.33 980.732 1544.94 Q977.677 1549.52 971.867 1549.52 Q966.057 1549.52 962.978 1544.94 Q959.922 1540.33 959.922 1531.6 Q959.922 1522.85 962.978 1518.27 Q966.057 1513.66 971.867 1513.66 Z\" fill=\"#000000\" fill-rule=\"nonzero\" fill-opacity=\"1\" /><path clip-path=\"url(#clip340)\" d=\"M992.839 1544.91 L1000.48 1544.91 L1000.48 1518.55 L992.167 1520.21 L992.167 1515.95 L1000.43 1514.29 L1005.11 1514.29 L1005.11 1544.91 L1012.75 1544.91 L1012.75 1548.85 L992.839 1548.85 L992.839 1544.91 Z\" fill=\"#000000\" fill-rule=\"nonzero\" fill-opacity=\"1\" /><path clip-path=\"url(#clip340)\" d=\"M1032.77 1529.7 Q1029.62 1529.7 1027.77 1531.86 Q1025.94 1534.01 1025.94 1537.76 Q1025.94 1541.49 1027.77 1543.66 Q1029.62 1545.82 1032.77 1545.82 Q1035.92 1545.82 1037.75 1543.66 Q1039.6 1541.49 1039.6 1537.76 Q1039.6 1534.01 1037.75 1531.86 Q1035.92 1529.7 1032.77 1529.7 M1042.05 1515.05 L1042.05 1519.31 Q1040.29 1518.48 1038.49 1518.04 Q1036.7 1517.6 1034.95 1517.6 Q1030.32 1517.6 1027.86 1520.72 Q1025.43 1523.85 1025.08 1530.17 Q1026.45 1528.15 1028.51 1527.09 Q1030.57 1526 1033.05 1526 Q1038.26 1526 1041.26 1529.17 Q1044.3 1532.32 1044.3 1537.76 Q1044.3 1543.08 1041.15 1546.3 Q1038 1549.52 1032.77 1549.52 Q1026.77 1549.52 1023.6 1544.94 Q1020.43 1540.33 1020.43 1531.6 Q1020.43 1523.41 1024.32 1518.55 Q1028.21 1513.66 1034.76 1513.66 Q1036.52 1513.66 1038.3 1514.01 Q1040.11 1514.36 1042.05 1515.05 Z\" fill=\"#000000\" fill-rule=\"nonzero\" fill-opacity=\"1\" /><path clip-path=\"url(#clip340)\" d=\"M1371.44 1544.91 L1387.76 1544.91 L1387.76 1548.85 L1365.82 1548.85 L1365.82 1544.91 Q1368.48 1542.16 1373.06 1537.53 Q1377.67 1532.88 1378.85 1531.53 Q1381.1 1529.01 1381.98 1527.27 Q1382.88 1525.51 1382.88 1523.82 Q1382.88 1521.07 1380.93 1519.33 Q1379.01 1517.6 1375.91 1517.6 Q1373.71 1517.6 1371.26 1518.36 Q1368.83 1519.13 1366.05 1520.68 L1366.05 1515.95 Q1368.87 1514.82 1371.33 1514.24 Q1373.78 1513.66 1375.82 1513.66 Q1381.19 1513.66 1384.38 1516.35 Q1387.58 1519.03 1387.58 1523.52 Q1387.58 1525.65 1386.77 1527.57 Q1385.98 1529.47 1383.87 1532.07 Q1383.3 1532.74 1380.19 1535.95 Q1377.09 1539.15 1371.44 1544.91 Z\" fill=\"#000000\" fill-rule=\"nonzero\" fill-opacity=\"1\" /><path clip-path=\"url(#clip340)\" d=\"M1407.58 1517.37 Q1403.97 1517.37 1402.14 1520.93 Q1400.33 1524.47 1400.33 1531.6 Q1400.33 1538.71 1402.14 1542.27 Q1403.97 1545.82 1407.58 1545.82 Q1411.21 1545.82 1413.02 1542.27 Q1414.85 1538.71 1414.85 1531.6 Q1414.85 1524.47 1413.02 1520.93 Q1411.21 1517.37 1407.58 1517.37 M1407.58 1513.66 Q1413.39 1513.66 1416.44 1518.27 Q1419.52 1522.85 1419.52 1531.6 Q1419.52 1540.33 1416.44 1544.94 Q1413.39 1549.52 1407.58 1549.52 Q1401.77 1549.52 1398.69 1544.94 Q1395.63 1540.33 1395.63 1531.6 Q1395.63 1522.85 1398.69 1518.27 Q1401.77 1513.66 1407.58 1513.66 Z\" fill=\"#000000\" fill-rule=\"nonzero\" fill-opacity=\"1\" /><path clip-path=\"url(#clip340)\" d=\"M1428.55 1544.91 L1436.19 1544.91 L1436.19 1518.55 L1427.88 1520.21 L1427.88 1515.95 L1436.14 1514.29 L1440.82 1514.29 L1440.82 1544.91 L1448.46 1544.91 L1448.46 1548.85 L1428.55 1548.85 L1428.55 1544.91 Z\" fill=\"#000000\" fill-rule=\"nonzero\" fill-opacity=\"1\" /><path clip-path=\"url(#clip340)\" d=\"M1467.9 1532.44 Q1464.57 1532.44 1462.65 1534.22 Q1460.75 1536 1460.75 1539.13 Q1460.75 1542.25 1462.65 1544.03 Q1464.57 1545.82 1467.9 1545.82 Q1471.23 1545.82 1473.16 1544.03 Q1475.08 1542.23 1475.08 1539.13 Q1475.08 1536 1473.16 1534.22 Q1471.26 1532.44 1467.9 1532.44 M1463.23 1530.45 Q1460.22 1529.7 1458.53 1527.64 Q1456.86 1525.58 1456.86 1522.62 Q1456.86 1518.48 1459.8 1516.07 Q1462.76 1513.66 1467.9 1513.66 Q1473.06 1513.66 1476 1516.07 Q1478.94 1518.48 1478.94 1522.62 Q1478.94 1525.58 1477.25 1527.64 Q1475.59 1529.7 1472.6 1530.45 Q1475.98 1531.23 1477.85 1533.52 Q1479.75 1535.82 1479.75 1539.13 Q1479.75 1544.15 1476.67 1546.83 Q1473.62 1549.52 1467.9 1549.52 Q1462.18 1549.52 1459.1 1546.83 Q1456.05 1544.15 1456.05 1539.13 Q1456.05 1535.82 1457.95 1533.52 Q1459.85 1531.23 1463.23 1530.45 M1461.51 1523.06 Q1461.51 1525.75 1463.18 1527.25 Q1464.87 1528.76 1467.9 1528.76 Q1470.91 1528.76 1472.6 1527.25 Q1474.31 1525.75 1474.31 1523.06 Q1474.31 1520.38 1472.6 1518.87 Q1470.91 1517.37 1467.9 1517.37 Q1464.87 1517.37 1463.18 1518.87 Q1461.51 1520.38 1461.51 1523.06 Z\" fill=\"#000000\" fill-rule=\"nonzero\" fill-opacity=\"1\" /><path clip-path=\"url(#clip340)\" d=\"M1806.98 1544.91 L1823.3 1544.91 L1823.3 1548.85 L1801.36 1548.85 L1801.36 1544.91 Q1804.02 1542.16 1808.6 1537.53 Q1813.21 1532.88 1814.39 1531.53 Q1816.63 1529.01 1817.51 1527.27 Q1818.42 1525.51 1818.42 1523.82 Q1818.42 1521.07 1816.47 1519.33 Q1814.55 1517.6 1811.45 1517.6 Q1809.25 1517.6 1806.8 1518.36 Q1804.36 1519.13 1801.59 1520.68 L1801.59 1515.95 Q1804.41 1514.82 1806.86 1514.24 Q1809.32 1513.66 1811.36 1513.66 Q1816.73 1513.66 1819.92 1516.35 Q1823.11 1519.03 1823.11 1523.52 Q1823.11 1525.65 1822.3 1527.57 Q1821.52 1529.47 1819.41 1532.07 Q1818.83 1532.74 1815.73 1535.95 Q1812.63 1539.15 1806.98 1544.91 Z\" fill=\"#000000\" fill-rule=\"nonzero\" fill-opacity=\"1\" /><path clip-path=\"url(#clip340)\" d=\"M1843.11 1517.37 Q1839.5 1517.37 1837.67 1520.93 Q1835.87 1524.47 1835.87 1531.6 Q1835.87 1538.71 1837.67 1542.27 Q1839.5 1545.82 1843.11 1545.82 Q1846.75 1545.82 1848.55 1542.27 Q1850.38 1538.71 1850.38 1531.6 Q1850.38 1524.47 1848.55 1520.93 Q1846.75 1517.37 1843.11 1517.37 M1843.11 1513.66 Q1848.92 1513.66 1851.98 1518.27 Q1855.06 1522.85 1855.06 1531.6 Q1855.06 1540.33 1851.98 1544.94 Q1848.92 1549.52 1843.11 1549.52 Q1837.3 1549.52 1834.23 1544.94 Q1831.17 1540.33 1831.17 1531.6 Q1831.17 1522.85 1834.23 1518.27 Q1837.3 1513.66 1843.11 1513.66 Z\" fill=\"#000000\" fill-rule=\"nonzero\" fill-opacity=\"1\" /><path clip-path=\"url(#clip340)\" d=\"M1867.3 1544.91 L1883.62 1544.91 L1883.62 1548.85 L1861.68 1548.85 L1861.68 1544.91 Q1864.34 1542.16 1868.92 1537.53 Q1873.53 1532.88 1874.71 1531.53 Q1876.96 1529.01 1877.84 1527.27 Q1878.74 1525.51 1878.74 1523.82 Q1878.74 1521.07 1876.79 1519.33 Q1874.87 1517.6 1871.77 1517.6 Q1869.57 1517.6 1867.12 1518.36 Q1864.69 1519.13 1861.91 1520.68 L1861.91 1515.95 Q1864.73 1514.82 1867.19 1514.24 Q1869.64 1513.66 1871.68 1513.66 Q1877.05 1513.66 1880.24 1516.35 Q1883.44 1519.03 1883.44 1523.52 Q1883.44 1525.65 1882.63 1527.57 Q1881.84 1529.47 1879.73 1532.07 Q1879.16 1532.74 1876.05 1535.95 Q1872.95 1539.15 1867.3 1544.91 Z\" fill=\"#000000\" fill-rule=\"nonzero\" fill-opacity=\"1\" /><path clip-path=\"url(#clip340)\" d=\"M1903.44 1517.37 Q1899.83 1517.37 1898 1520.93 Q1896.19 1524.47 1896.19 1531.6 Q1896.19 1538.71 1898 1542.27 Q1899.83 1545.82 1903.44 1545.82 Q1907.07 1545.82 1908.88 1542.27 Q1910.71 1538.71 1910.71 1531.6 Q1910.71 1524.47 1908.88 1520.93 Q1907.07 1517.37 1903.44 1517.37 M1903.44 1513.66 Q1909.25 1513.66 1912.3 1518.27 Q1915.38 1522.85 1915.38 1531.6 Q1915.38 1540.33 1912.3 1544.94 Q1909.25 1549.52 1903.44 1549.52 Q1897.63 1549.52 1894.55 1544.94 Q1891.49 1540.33 1891.49 1531.6 Q1891.49 1522.85 1894.55 1518.27 Q1897.63 1513.66 1903.44 1513.66 Z\" fill=\"#000000\" fill-rule=\"nonzero\" fill-opacity=\"1\" /><path clip-path=\"url(#clip340)\" d=\"M2243.36 1544.91 L2259.68 1544.91 L2259.68 1548.85 L2237.74 1548.85 L2237.74 1544.91 Q2240.4 1542.16 2244.98 1537.53 Q2249.59 1532.88 2250.77 1531.53 Q2253.01 1529.01 2253.89 1527.27 Q2254.8 1525.51 2254.8 1523.82 Q2254.8 1521.07 2252.85 1519.33 Q2250.93 1517.6 2247.83 1517.6 Q2245.63 1517.6 2243.18 1518.36 Q2240.75 1519.13 2237.97 1520.68 L2237.97 1515.95 Q2240.79 1514.82 2243.25 1514.24 Q2245.7 1513.66 2247.74 1513.66 Q2253.11 1513.66 2256.3 1516.35 Q2259.5 1519.03 2259.5 1523.52 Q2259.5 1525.65 2258.69 1527.57 Q2257.9 1529.47 2255.79 1532.07 Q2255.21 1532.74 2252.11 1535.95 Q2249.01 1539.15 2243.36 1544.91 Z\" fill=\"#000000\" fill-rule=\"nonzero\" fill-opacity=\"1\" /><path clip-path=\"url(#clip340)\" d=\"M2279.5 1517.37 Q2275.89 1517.37 2274.06 1520.93 Q2272.25 1524.47 2272.25 1531.6 Q2272.25 1538.71 2274.06 1542.27 Q2275.89 1545.82 2279.5 1545.82 Q2283.13 1545.82 2284.94 1542.27 Q2286.76 1538.71 2286.76 1531.6 Q2286.76 1524.47 2284.94 1520.93 Q2283.13 1517.37 2279.5 1517.37 M2279.5 1513.66 Q2285.31 1513.66 2288.36 1518.27 Q2291.44 1522.85 2291.44 1531.6 Q2291.44 1540.33 2288.36 1544.94 Q2285.31 1549.52 2279.5 1549.52 Q2273.69 1549.52 2270.61 1544.94 Q2267.55 1540.33 2267.55 1531.6 Q2267.55 1522.85 2270.61 1518.27 Q2273.69 1513.66 2279.5 1513.66 Z\" fill=\"#000000\" fill-rule=\"nonzero\" fill-opacity=\"1\" /><path clip-path=\"url(#clip340)\" d=\"M2303.69 1544.91 L2320.01 1544.91 L2320.01 1548.85 L2298.06 1548.85 L2298.06 1544.91 Q2300.72 1542.16 2305.31 1537.53 Q2309.91 1532.88 2311.09 1531.53 Q2313.34 1529.01 2314.22 1527.27 Q2315.12 1525.51 2315.12 1523.82 Q2315.12 1521.07 2313.18 1519.33 Q2311.26 1517.6 2308.15 1517.6 Q2305.95 1517.6 2303.5 1518.36 Q2301.07 1519.13 2298.29 1520.68 L2298.29 1515.95 Q2301.12 1514.82 2303.57 1514.24 Q2306.02 1513.66 2308.06 1513.66 Q2313.43 1513.66 2316.63 1516.35 Q2319.82 1519.03 2319.82 1523.52 Q2319.82 1525.65 2319.01 1527.57 Q2318.22 1529.47 2316.12 1532.07 Q2315.54 1532.74 2312.44 1535.95 Q2309.33 1539.15 2303.69 1544.91 Z\" fill=\"#000000\" fill-rule=\"nonzero\" fill-opacity=\"1\" /><path clip-path=\"url(#clip340)\" d=\"M2333.85 1544.91 L2350.17 1544.91 L2350.17 1548.85 L2328.22 1548.85 L2328.22 1544.91 Q2330.88 1542.16 2335.47 1537.53 Q2340.07 1532.88 2341.26 1531.53 Q2343.5 1529.01 2344.38 1527.27 Q2345.28 1525.51 2345.28 1523.82 Q2345.28 1521.07 2343.34 1519.33 Q2341.42 1517.6 2338.32 1517.6 Q2336.12 1517.6 2333.66 1518.36 Q2331.23 1519.13 2328.45 1520.68 L2328.45 1515.95 Q2331.28 1514.82 2333.73 1514.24 Q2336.19 1513.66 2338.22 1513.66 Q2343.59 1513.66 2346.79 1516.35 Q2349.98 1519.03 2349.98 1523.52 Q2349.98 1525.65 2349.17 1527.57 Q2348.38 1529.47 2346.28 1532.07 Q2345.7 1532.74 2342.6 1535.95 Q2339.5 1539.15 2333.85 1544.91 Z\" fill=\"#000000\" fill-rule=\"nonzero\" fill-opacity=\"1\" /><polyline clip-path=\"url(#clip342)\" style=\"stroke:#000000; stroke-linecap:round; stroke-linejoin:round; stroke-width:2; stroke-opacity:0.1; fill:none\" points=\"275.024,1448.07 2352.76,1448.07 \"/>\n",
       "<polyline clip-path=\"url(#clip342)\" style=\"stroke:#000000; stroke-linecap:round; stroke-linejoin:round; stroke-width:2; stroke-opacity:0.1; fill:none\" points=\"275.024,1161.8 2352.76,1161.8 \"/>\n",
       "<polyline clip-path=\"url(#clip342)\" style=\"stroke:#000000; stroke-linecap:round; stroke-linejoin:round; stroke-width:2; stroke-opacity:0.1; fill:none\" points=\"275.024,875.538 2352.76,875.538 \"/>\n",
       "<polyline clip-path=\"url(#clip342)\" style=\"stroke:#000000; stroke-linecap:round; stroke-linejoin:round; stroke-width:2; stroke-opacity:0.1; fill:none\" points=\"275.024,589.273 2352.76,589.273 \"/>\n",
       "<polyline clip-path=\"url(#clip342)\" style=\"stroke:#000000; stroke-linecap:round; stroke-linejoin:round; stroke-width:2; stroke-opacity:0.1; fill:none\" points=\"275.024,303.007 2352.76,303.007 \"/>\n",
       "<polyline clip-path=\"url(#clip340)\" style=\"stroke:#000000; stroke-linecap:round; stroke-linejoin:round; stroke-width:4; stroke-opacity:1; fill:none\" points=\"275.024,1486.45 275.024,123.472 \"/>\n",
       "<polyline clip-path=\"url(#clip340)\" style=\"stroke:#000000; stroke-linecap:round; stroke-linejoin:round; stroke-width:4; stroke-opacity:1; fill:none\" points=\"275.024,1448.07 293.921,1448.07 \"/>\n",
       "<polyline clip-path=\"url(#clip340)\" style=\"stroke:#000000; stroke-linecap:round; stroke-linejoin:round; stroke-width:4; stroke-opacity:1; fill:none\" points=\"275.024,1161.8 293.921,1161.8 \"/>\n",
       "<polyline clip-path=\"url(#clip340)\" style=\"stroke:#000000; stroke-linecap:round; stroke-linejoin:round; stroke-width:4; stroke-opacity:1; fill:none\" points=\"275.024,875.538 293.921,875.538 \"/>\n",
       "<polyline clip-path=\"url(#clip340)\" style=\"stroke:#000000; stroke-linecap:round; stroke-linejoin:round; stroke-width:4; stroke-opacity:1; fill:none\" points=\"275.024,589.273 293.921,589.273 \"/>\n",
       "<polyline clip-path=\"url(#clip340)\" style=\"stroke:#000000; stroke-linecap:round; stroke-linejoin:round; stroke-width:4; stroke-opacity:1; fill:none\" points=\"275.024,303.007 293.921,303.007 \"/>\n",
       "<path clip-path=\"url(#clip340)\" d=\"M227.079 1433.87 Q223.468 1433.87 221.639 1437.43 Q219.834 1440.97 219.834 1448.1 Q219.834 1455.21 221.639 1458.78 Q223.468 1462.32 227.079 1462.32 Q230.713 1462.32 232.519 1458.78 Q234.348 1455.21 234.348 1448.1 Q234.348 1440.97 232.519 1437.43 Q230.713 1433.87 227.079 1433.87 M227.079 1430.16 Q232.889 1430.16 235.945 1434.77 Q239.024 1439.35 239.024 1448.1 Q239.024 1456.83 235.945 1461.44 Q232.889 1466.02 227.079 1466.02 Q221.269 1466.02 218.19 1461.44 Q215.135 1456.83 215.135 1448.1 Q215.135 1439.35 218.19 1434.77 Q221.269 1430.16 227.079 1430.16 Z\" fill=\"#000000\" fill-rule=\"nonzero\" fill-opacity=\"1\" /><path clip-path=\"url(#clip340)\" d=\"M57.7745 1181.6 L74.0939 1181.6 L74.0939 1185.53 L52.1495 1185.53 L52.1495 1181.6 Q54.8115 1178.84 59.3949 1174.21 Q64.0013 1169.56 65.1819 1168.22 Q67.4272 1165.69 68.3068 1163.96 Q69.2096 1162.2 69.2096 1160.51 Q69.2096 1157.75 67.2652 1156.02 Q65.3439 1154.28 62.2421 1154.28 Q60.043 1154.28 57.5893 1155.05 Q55.1588 1155.81 52.381 1157.36 L52.381 1152.64 Q55.2051 1151.5 57.6588 1150.93 Q60.1124 1150.35 62.1495 1150.35 Q67.5198 1150.35 70.7142 1153.03 Q73.9087 1155.72 73.9087 1160.21 Q73.9087 1162.34 73.0985 1164.26 Q72.3115 1166.16 70.205 1168.75 Q69.6263 1169.42 66.5245 1172.64 Q63.4226 1175.83 57.7745 1181.6 Z\" fill=\"#000000\" fill-rule=\"nonzero\" fill-opacity=\"1\" /><path clip-path=\"url(#clip340)\" d=\"M83.9086 1179.65 L88.7928 1179.65 L88.7928 1185.53 L83.9086 1185.53 L83.9086 1179.65 Z\" fill=\"#000000\" fill-rule=\"nonzero\" fill-opacity=\"1\" /><path clip-path=\"url(#clip340)\" d=\"M108.978 1154.05 Q105.367 1154.05 103.538 1157.62 Q101.733 1161.16 101.733 1168.29 Q101.733 1175.39 103.538 1178.96 Q105.367 1182.5 108.978 1182.5 Q112.612 1182.5 114.418 1178.96 Q116.246 1175.39 116.246 1168.29 Q116.246 1161.16 114.418 1157.62 Q112.612 1154.05 108.978 1154.05 M108.978 1150.35 Q114.788 1150.35 117.844 1154.95 Q120.922 1159.54 120.922 1168.29 Q120.922 1177.01 117.844 1181.62 Q114.788 1186.2 108.978 1186.2 Q103.168 1186.2 100.089 1181.62 Q97.0335 1177.01 97.0335 1168.29 Q97.0335 1159.54 100.089 1154.95 Q103.168 1150.35 108.978 1150.35 Z\" fill=\"#000000\" fill-rule=\"nonzero\" fill-opacity=\"1\" /><path clip-path=\"url(#clip340)\" d=\"M157.311 1160.07 L146.732 1170.69 L157.311 1181.27 L154.556 1184.07 L143.931 1173.45 L133.306 1184.07 L130.575 1181.27 L141.131 1170.69 L130.575 1160.07 L133.306 1157.27 L143.931 1167.89 L154.556 1157.27 L157.311 1160.07 Z\" fill=\"#000000\" fill-rule=\"nonzero\" fill-opacity=\"1\" /><path clip-path=\"url(#clip340)\" d=\"M169.672 1181.6 L177.311 1181.6 L177.311 1155.23 L169.001 1156.9 L169.001 1152.64 L177.265 1150.97 L181.94 1150.97 L181.94 1181.6 L189.579 1181.6 L189.579 1185.53 L169.672 1185.53 L169.672 1181.6 Z\" fill=\"#000000\" fill-rule=\"nonzero\" fill-opacity=\"1\" /><path clip-path=\"url(#clip340)\" d=\"M209.024 1154.05 Q205.413 1154.05 203.584 1157.62 Q201.778 1161.16 201.778 1168.29 Q201.778 1175.39 203.584 1178.96 Q205.413 1182.5 209.024 1182.5 Q212.658 1182.5 214.463 1178.96 Q216.292 1175.39 216.292 1168.29 Q216.292 1161.16 214.463 1157.62 Q212.658 1154.05 209.024 1154.05 M209.024 1150.35 Q214.834 1150.35 217.889 1154.95 Q220.968 1159.54 220.968 1168.29 Q220.968 1177.01 217.889 1181.62 Q214.834 1186.2 209.024 1186.2 Q203.214 1186.2 200.135 1181.62 Q197.079 1177.01 197.079 1168.29 Q197.079 1159.54 200.135 1154.95 Q203.214 1150.35 209.024 1150.35 Z\" fill=\"#000000\" fill-rule=\"nonzero\" fill-opacity=\"1\" /><path clip-path=\"url(#clip340)\" d=\"M220.968 1130.04 L239.024 1130.04 L239.024 1131.66 L228.83 1158.12 L224.861 1158.12 L234.453 1133.24 L220.968 1133.24 L220.968 1130.04 Z\" fill=\"#000000\" fill-rule=\"nonzero\" fill-opacity=\"1\" /><path clip-path=\"url(#clip340)\" d=\"M66.5939 868.78 L54.7884 887.229 L66.5939 887.229 L66.5939 868.78 M65.367 864.706 L71.2466 864.706 L71.2466 887.229 L76.1772 887.229 L76.1772 891.118 L71.2466 891.118 L71.2466 899.266 L66.5939 899.266 L66.5939 891.118 L50.9921 891.118 L50.9921 886.604 L65.367 864.706 Z\" fill=\"#000000\" fill-rule=\"nonzero\" fill-opacity=\"1\" /><path clip-path=\"url(#clip340)\" d=\"M83.9086 893.386 L88.7928 893.386 L88.7928 899.266 L83.9086 899.266 L83.9086 893.386 Z\" fill=\"#000000\" fill-rule=\"nonzero\" fill-opacity=\"1\" /><path clip-path=\"url(#clip340)\" d=\"M108.978 867.785 Q105.367 867.785 103.538 871.35 Q101.733 874.891 101.733 882.021 Q101.733 889.127 103.538 892.692 Q105.367 896.234 108.978 896.234 Q112.612 896.234 114.418 892.692 Q116.246 889.127 116.246 882.021 Q116.246 874.891 114.418 871.35 Q112.612 867.785 108.978 867.785 M108.978 864.081 Q114.788 864.081 117.844 868.688 Q120.922 873.271 120.922 882.021 Q120.922 890.748 117.844 895.354 Q114.788 899.937 108.978 899.937 Q103.168 899.937 100.089 895.354 Q97.0335 890.748 97.0335 882.021 Q97.0335 873.271 100.089 868.688 Q103.168 864.081 108.978 864.081 Z\" fill=\"#000000\" fill-rule=\"nonzero\" fill-opacity=\"1\" /><path clip-path=\"url(#clip340)\" d=\"M157.311 873.803 L146.732 884.428 L157.311 895.007 L154.556 897.808 L143.931 887.183 L133.306 897.808 L130.575 895.007 L141.131 884.428 L130.575 873.803 L133.306 871.002 L143.931 881.627 L154.556 871.002 L157.311 873.803 Z\" fill=\"#000000\" fill-rule=\"nonzero\" fill-opacity=\"1\" /><path clip-path=\"url(#clip340)\" d=\"M169.672 895.331 L177.311 895.331 L177.311 868.965 L169.001 870.632 L169.001 866.373 L177.265 864.706 L181.94 864.706 L181.94 895.331 L189.579 895.331 L189.579 899.266 L169.672 899.266 L169.672 895.331 Z\" fill=\"#000000\" fill-rule=\"nonzero\" fill-opacity=\"1\" /><path clip-path=\"url(#clip340)\" d=\"M209.024 867.785 Q205.413 867.785 203.584 871.35 Q201.778 874.891 201.778 882.021 Q201.778 889.127 203.584 892.692 Q205.413 896.234 209.024 896.234 Q212.658 896.234 214.463 892.692 Q216.292 889.127 216.292 882.021 Q216.292 874.891 214.463 871.35 Q212.658 867.785 209.024 867.785 M209.024 864.081 Q214.834 864.081 217.889 868.688 Q220.968 873.271 220.968 882.021 Q220.968 890.748 217.889 895.354 Q214.834 899.937 209.024 899.937 Q203.214 899.937 200.135 895.354 Q197.079 890.748 197.079 882.021 Q197.079 873.271 200.135 868.688 Q203.214 864.081 209.024 864.081 Z\" fill=\"#000000\" fill-rule=\"nonzero\" fill-opacity=\"1\" /><path clip-path=\"url(#clip340)\" d=\"M220.968 843.776 L239.024 843.776 L239.024 845.393 L228.83 871.856 L224.861 871.856 L234.453 846.973 L220.968 846.973 L220.968 843.776 Z\" fill=\"#000000\" fill-rule=\"nonzero\" fill-opacity=\"1\" /><path clip-path=\"url(#clip340)\" d=\"M64.3254 593.857 Q61.1773 593.857 59.3254 596.01 Q57.4967 598.163 57.4967 601.913 Q57.4967 605.639 59.3254 607.815 Q61.1773 609.968 64.3254 609.968 Q67.4735 609.968 69.3022 607.815 Q71.1541 605.639 71.1541 601.913 Q71.1541 598.163 69.3022 596.01 Q67.4735 593.857 64.3254 593.857 M73.6077 579.204 L73.6077 583.464 Q71.8485 582.63 70.0429 582.191 Q68.2606 581.751 66.5013 581.751 Q61.8717 581.751 59.418 584.876 Q56.9875 588.001 56.6402 594.32 Q58.006 592.306 60.0662 591.241 Q62.1263 590.153 64.6032 590.153 Q69.8115 590.153 72.8207 593.325 Q75.8531 596.473 75.8531 601.913 Q75.8531 607.237 72.705 610.454 Q69.5568 613.672 64.3254 613.672 Q58.33 613.672 55.1588 609.089 Q51.9875 604.482 51.9875 595.755 Q51.9875 587.561 55.8764 582.7 Q59.7652 577.816 66.3161 577.816 Q68.0754 577.816 69.8578 578.163 Q71.6633 578.51 73.6077 579.204 Z\" fill=\"#000000\" fill-rule=\"nonzero\" fill-opacity=\"1\" /><path clip-path=\"url(#clip340)\" d=\"M83.9086 607.121 L88.7928 607.121 L88.7928 613.001 L83.9086 613.001 L83.9086 607.121 Z\" fill=\"#000000\" fill-rule=\"nonzero\" fill-opacity=\"1\" /><path clip-path=\"url(#clip340)\" d=\"M108.978 581.519 Q105.367 581.519 103.538 585.084 Q101.733 588.626 101.733 595.755 Q101.733 602.862 103.538 606.426 Q105.367 609.968 108.978 609.968 Q112.612 609.968 114.418 606.426 Q116.246 602.862 116.246 595.755 Q116.246 588.626 114.418 585.084 Q112.612 581.519 108.978 581.519 M108.978 577.816 Q114.788 577.816 117.844 582.422 Q120.922 587.005 120.922 595.755 Q120.922 604.482 117.844 609.089 Q114.788 613.672 108.978 613.672 Q103.168 613.672 100.089 609.089 Q97.0335 604.482 97.0335 595.755 Q97.0335 587.005 100.089 582.422 Q103.168 577.816 108.978 577.816 Z\" fill=\"#000000\" fill-rule=\"nonzero\" fill-opacity=\"1\" /><path clip-path=\"url(#clip340)\" d=\"M157.311 587.538 L146.732 598.163 L157.311 608.741 L154.556 611.542 L143.931 600.917 L133.306 611.542 L130.575 608.741 L141.131 598.163 L130.575 587.538 L133.306 584.737 L143.931 595.362 L154.556 584.737 L157.311 587.538 Z\" fill=\"#000000\" fill-rule=\"nonzero\" fill-opacity=\"1\" /><path clip-path=\"url(#clip340)\" d=\"M169.672 609.065 L177.311 609.065 L177.311 582.7 L169.001 584.366 L169.001 580.107 L177.265 578.441 L181.94 578.441 L181.94 609.065 L189.579 609.065 L189.579 613.001 L169.672 613.001 L169.672 609.065 Z\" fill=\"#000000\" fill-rule=\"nonzero\" fill-opacity=\"1\" /><path clip-path=\"url(#clip340)\" d=\"M209.024 581.519 Q205.413 581.519 203.584 585.084 Q201.778 588.626 201.778 595.755 Q201.778 602.862 203.584 606.426 Q205.413 609.968 209.024 609.968 Q212.658 609.968 214.463 606.426 Q216.292 602.862 216.292 595.755 Q216.292 588.626 214.463 585.084 Q212.658 581.519 209.024 581.519 M209.024 577.816 Q214.834 577.816 217.889 582.422 Q220.968 587.005 220.968 595.755 Q220.968 604.482 217.889 609.089 Q214.834 613.672 209.024 613.672 Q203.214 613.672 200.135 609.089 Q197.079 604.482 197.079 595.755 Q197.079 587.005 200.135 582.422 Q203.214 577.816 209.024 577.816 Z\" fill=\"#000000\" fill-rule=\"nonzero\" fill-opacity=\"1\" /><path clip-path=\"url(#clip340)\" d=\"M220.968 557.51 L239.024 557.51 L239.024 559.128 L228.83 585.59 L224.861 585.59 L234.453 560.707 L220.968 560.707 L220.968 557.51 Z\" fill=\"#000000\" fill-rule=\"nonzero\" fill-opacity=\"1\" /><path clip-path=\"url(#clip340)\" d=\"M63.7467 310.323 Q60.4134 310.323 58.4921 312.105 Q56.5939 313.888 56.5939 317.013 Q56.5939 320.138 58.4921 321.92 Q60.4134 323.703 63.7467 323.703 Q67.08 323.703 69.0013 321.92 Q70.9226 320.115 70.9226 317.013 Q70.9226 313.888 69.0013 312.105 Q67.1032 310.323 63.7467 310.323 M59.0708 308.332 Q56.0615 307.592 54.3717 305.531 Q52.7051 303.471 52.7051 300.508 Q52.7051 296.365 55.6449 293.957 Q58.6078 291.55 63.7467 291.55 Q68.9087 291.55 71.8485 293.957 Q74.7883 296.365 74.7883 300.508 Q74.7883 303.471 73.0985 305.531 Q71.4318 307.592 68.4457 308.332 Q71.8253 309.119 73.7003 311.411 Q75.5985 313.703 75.5985 317.013 Q75.5985 322.036 72.5198 324.721 Q69.4642 327.406 63.7467 327.406 Q58.0291 327.406 54.9504 324.721 Q51.8949 322.036 51.8949 317.013 Q51.8949 313.703 53.793 311.411 Q55.6912 309.119 59.0708 308.332 M57.3578 300.948 Q57.3578 303.633 59.0245 305.138 Q60.7143 306.643 63.7467 306.643 Q66.7559 306.643 68.4457 305.138 Q70.1587 303.633 70.1587 300.948 Q70.1587 298.263 68.4457 296.758 Q66.7559 295.254 63.7467 295.254 Q60.7143 295.254 59.0245 296.758 Q57.3578 298.263 57.3578 300.948 Z\" fill=\"#000000\" fill-rule=\"nonzero\" fill-opacity=\"1\" /><path clip-path=\"url(#clip340)\" d=\"M83.9086 320.855 L88.7928 320.855 L88.7928 326.735 L83.9086 326.735 L83.9086 320.855 Z\" fill=\"#000000\" fill-rule=\"nonzero\" fill-opacity=\"1\" /><path clip-path=\"url(#clip340)\" d=\"M108.978 295.254 Q105.367 295.254 103.538 298.819 Q101.733 302.36 101.733 309.49 Q101.733 316.596 103.538 320.161 Q105.367 323.703 108.978 323.703 Q112.612 323.703 114.418 320.161 Q116.246 316.596 116.246 309.49 Q116.246 302.36 114.418 298.819 Q112.612 295.254 108.978 295.254 M108.978 291.55 Q114.788 291.55 117.844 296.156 Q120.922 300.74 120.922 309.49 Q120.922 318.217 117.844 322.823 Q114.788 327.406 108.978 327.406 Q103.168 327.406 100.089 322.823 Q97.0335 318.217 97.0335 309.49 Q97.0335 300.74 100.089 296.156 Q103.168 291.55 108.978 291.55 Z\" fill=\"#000000\" fill-rule=\"nonzero\" fill-opacity=\"1\" /><path clip-path=\"url(#clip340)\" d=\"M157.311 301.272 L146.732 311.897 L157.311 322.476 L154.556 325.277 L143.931 314.652 L133.306 325.277 L130.575 322.476 L141.131 311.897 L130.575 301.272 L133.306 298.471 L143.931 309.096 L154.556 298.471 L157.311 301.272 Z\" fill=\"#000000\" fill-rule=\"nonzero\" fill-opacity=\"1\" /><path clip-path=\"url(#clip340)\" d=\"M169.672 322.8 L177.311 322.8 L177.311 296.434 L169.001 298.101 L169.001 293.842 L177.265 292.175 L181.94 292.175 L181.94 322.8 L189.579 322.8 L189.579 326.735 L169.672 326.735 L169.672 322.8 Z\" fill=\"#000000\" fill-rule=\"nonzero\" fill-opacity=\"1\" /><path clip-path=\"url(#clip340)\" d=\"M209.024 295.254 Q205.413 295.254 203.584 298.819 Q201.778 302.36 201.778 309.49 Q201.778 316.596 203.584 320.161 Q205.413 323.703 209.024 323.703 Q212.658 323.703 214.463 320.161 Q216.292 316.596 216.292 309.49 Q216.292 302.36 214.463 298.819 Q212.658 295.254 209.024 295.254 M209.024 291.55 Q214.834 291.55 217.889 296.156 Q220.968 300.74 220.968 309.49 Q220.968 318.217 217.889 322.823 Q214.834 327.406 209.024 327.406 Q203.214 327.406 200.135 322.823 Q197.079 318.217 197.079 309.49 Q197.079 300.74 200.135 296.156 Q203.214 291.55 209.024 291.55 Z\" fill=\"#000000\" fill-rule=\"nonzero\" fill-opacity=\"1\" /><path clip-path=\"url(#clip340)\" d=\"M220.968 271.245 L239.024 271.245 L239.024 272.862 L228.83 299.325 L224.861 299.325 L234.453 274.442 L220.968 274.442 L220.968 271.245 Z\" fill=\"#000000\" fill-rule=\"nonzero\" fill-opacity=\"1\" /><path clip-path=\"url(#clip340)\" d=\"M1169.6 28.5427 L1169.6 35.5912 Q1166.44 33.9709 1163.03 33.1607 Q1159.63 32.3505 1155.99 32.3505 Q1150.44 32.3505 1147.64 34.0519 Q1144.89 35.7533 1144.89 39.156 Q1144.89 41.7486 1146.87 43.2475 Q1148.86 44.7058 1154.85 46.0426 L1157.4 46.6097 Q1165.34 48.3111 1168.66 51.4303 Q1172.03 54.509 1172.03 60.0587 Q1172.03 66.3781 1167 70.0644 Q1162.02 73.7508 1153.27 73.7508 Q1149.63 73.7508 1145.66 73.0216 Q1141.73 72.3329 1137.35 70.9151 L1137.35 63.2184 Q1141.48 65.3654 1145.49 66.4591 Q1149.5 67.5124 1153.43 67.5124 Q1158.7 67.5124 1161.54 65.73 Q1164.37 63.9071 1164.37 60.6258 Q1164.37 57.5877 1162.3 55.9673 Q1160.28 54.3469 1153.35 52.8481 L1150.76 52.2405 Q1143.83 50.7821 1140.75 47.7845 Q1137.68 44.7463 1137.68 39.4801 Q1137.68 33.0797 1142.21 29.5959 Q1146.75 26.1121 1155.09 26.1121 Q1159.23 26.1121 1162.87 26.7198 Q1166.52 27.3274 1169.6 28.5427 Z\" fill=\"#000000\" fill-rule=\"nonzero\" fill-opacity=\"1\" /><path clip-path=\"url(#clip340)\" d=\"M1191.27 14.324 L1191.27 27.2059 L1206.62 27.2059 L1206.62 32.9987 L1191.27 32.9987 L1191.27 57.6282 Q1191.27 63.1779 1192.77 64.7578 Q1194.31 66.3376 1198.97 66.3376 L1206.62 66.3376 L1206.62 72.576 L1198.97 72.576 Q1190.34 72.576 1187.06 69.3758 Q1183.77 66.1351 1183.77 57.6282 L1183.77 32.9987 L1178.31 32.9987 L1178.31 27.2059 L1183.77 27.2059 L1183.77 14.324 L1191.27 14.324 Z\" fill=\"#000000\" fill-rule=\"nonzero\" fill-opacity=\"1\" /><path clip-path=\"url(#clip340)\" d=\"M1237.04 49.7694 Q1228.01 49.7694 1224.53 51.8354 Q1221.04 53.9013 1221.04 58.8839 Q1221.04 62.8538 1223.64 65.2034 Q1226.27 67.5124 1230.77 67.5124 Q1236.96 67.5124 1240.69 63.1374 Q1244.46 58.7219 1244.46 51.4303 L1244.46 49.7694 L1237.04 49.7694 M1251.91 46.6907 L1251.91 72.576 L1244.46 72.576 L1244.46 65.6895 Q1241.91 69.8214 1238.1 71.8063 Q1234.29 73.7508 1228.78 73.7508 Q1221.81 73.7508 1217.68 69.8619 Q1213.59 65.9325 1213.59 59.3701 Q1213.59 51.7138 1218.69 47.825 Q1223.84 43.9361 1234.01 43.9361 L1244.46 43.9361 L1244.46 43.2069 Q1244.46 38.0623 1241.05 35.2672 Q1237.69 32.4315 1231.58 32.4315 Q1227.69 32.4315 1224 33.3632 Q1220.31 34.295 1216.91 36.1584 L1216.91 29.2718 Q1221 27.692 1224.85 26.9223 Q1228.7 26.1121 1232.35 26.1121 Q1242.19 26.1121 1247.05 31.2163 Q1251.91 36.3204 1251.91 46.6907 Z\" fill=\"#000000\" fill-rule=\"nonzero\" fill-opacity=\"1\" /><path clip-path=\"url(#clip340)\" d=\"M1274.64 14.324 L1274.64 27.2059 L1289.99 27.2059 L1289.99 32.9987 L1274.64 32.9987 L1274.64 57.6282 Q1274.64 63.1779 1276.14 64.7578 Q1277.67 66.3376 1282.33 66.3376 L1289.99 66.3376 L1289.99 72.576 L1282.33 72.576 Q1273.7 72.576 1270.42 69.3758 Q1267.14 66.1351 1267.14 57.6282 L1267.14 32.9987 L1261.67 32.9987 L1261.67 27.2059 L1267.14 27.2059 L1267.14 14.324 L1274.64 14.324 Z\" fill=\"#000000\" fill-rule=\"nonzero\" fill-opacity=\"1\" /><path clip-path=\"url(#clip340)\" d=\"M1338.6 48.0275 L1338.6 51.6733 L1304.33 51.6733 Q1304.82 59.3701 1308.95 63.421 Q1313.12 67.4314 1320.53 67.4314 Q1324.83 67.4314 1328.84 66.3781 Q1332.89 65.3249 1336.86 63.2184 L1336.86 70.267 Q1332.85 71.9684 1328.64 72.8596 Q1324.42 73.7508 1320.09 73.7508 Q1309.23 73.7508 1302.87 67.4314 Q1296.55 61.1119 1296.55 50.3365 Q1296.55 39.1965 1302.55 32.6746 Q1308.58 26.1121 1318.79 26.1121 Q1327.95 26.1121 1333.25 32.0264 Q1338.6 37.9003 1338.6 48.0275 M1331.15 45.84 Q1331.07 39.7232 1327.7 36.0774 Q1324.38 32.4315 1318.87 32.4315 Q1312.63 32.4315 1308.87 35.9558 Q1305.14 39.4801 1304.57 45.8805 L1331.15 45.84 Z\" fill=\"#000000\" fill-rule=\"nonzero\" fill-opacity=\"1\" /><path clip-path=\"url(#clip340)\" d=\"M1377.53 12.096 L1388.55 12.096 L1415.36 62.6918 L1415.36 12.096 L1423.3 12.096 L1423.3 72.576 L1412.29 72.576 L1385.47 21.9802 L1385.47 72.576 L1377.53 72.576 L1377.53 12.096 Z\" fill=\"#000000\" fill-rule=\"nonzero\" fill-opacity=\"1\" /><path clip-path=\"url(#clip340)\" d=\"M1447.77 18.8205 L1447.77 65.8515 L1457.66 65.8515 Q1470.17 65.8515 1475.97 60.1802 Q1481.8 54.509 1481.8 42.2752 Q1481.8 30.1225 1475.97 24.4918 Q1470.17 18.8205 1457.66 18.8205 L1447.77 18.8205 M1439.59 12.096 L1456.4 12.096 Q1473.98 12.096 1482.2 19.4281 Q1490.43 26.7198 1490.43 42.2752 Q1490.43 57.9117 1482.16 65.2439 Q1473.9 72.576 1456.4 72.576 L1439.59 72.576 L1439.59 12.096 Z\" fill=\"#000000\" fill-rule=\"nonzero\" fill-opacity=\"1\" /><polyline clip-path=\"url(#clip342)\" style=\"stroke:#009af9; stroke-linecap:round; stroke-linejoin:round; stroke-width:4; stroke-opacity:1; fill:none\" points=\"333.827,1336.15 551.619,1207.86 769.411,1202.09 987.202,1192.38 1204.99,1083.79 1422.79,889.459 1640.58,784.478 1858.37,223.28 2076.16,162.277 2293.95,162.047 \"/>\n",
       "<polyline clip-path=\"url(#clip342)\" style=\"stroke:#e26f46; stroke-linecap:round; stroke-linejoin:round; stroke-width:4; stroke-opacity:1; fill:none\" points=\"333.827,1433.59 551.619,1416.61 769.411,1396.85 987.202,1377.42 1204.99,1358.23 1422.79,1336.97 1640.58,1311.76 1858.37,1284.79 2076.16,1246.2 2293.95,1207.13 \"/>\n",
       "<polyline clip-path=\"url(#clip342)\" style=\"stroke:#3da44d; stroke-linecap:round; stroke-linejoin:round; stroke-width:4; stroke-opacity:1; fill:none\" points=\"333.827,1410.86 551.619,1373.65 769.411,1336.44 987.202,1299.23 1204.99,1262.02 1422.79,1224.81 1640.58,1187.6 1858.37,1150.38 2076.16,1113.17 2293.95,1075.96 \"/>\n",
       "<polyline clip-path=\"url(#clip342)\" style=\"stroke:#c271d2; stroke-linecap:round; stroke-linejoin:round; stroke-width:4; stroke-opacity:1; fill:none\" points=\"333.827,1447.87 551.619,1447.65 769.411,1447.38 987.202,1447.16 1204.99,1446.95 1422.79,1446.58 1640.58,1446.31 1858.37,1445.98 2076.16,1445.53 2293.95,1445.08 \"/>\n",
       "<path clip-path=\"url(#clip340)\" d=\"M344.281 428.105 L799.507 428.105 L799.507 168.905 L344.281 168.905  Z\" fill=\"#ffffff\" fill-rule=\"evenodd\" fill-opacity=\"1\"/>\n",
       "<polyline clip-path=\"url(#clip340)\" style=\"stroke:#000000; stroke-linecap:round; stroke-linejoin:round; stroke-width:4; stroke-opacity:1; fill:none\" points=\"344.281,428.105 799.507,428.105 799.507,168.905 344.281,168.905 344.281,428.105 \"/>\n",
       "<polyline clip-path=\"url(#clip340)\" style=\"stroke:#009af9; stroke-linecap:round; stroke-linejoin:round; stroke-width:4; stroke-opacity:1; fill:none\" points=\"367.367,220.745 505.883,220.745 \"/>\n",
       "<path clip-path=\"url(#clip340)\" d=\"M542.371 224.992 Q537.209 224.992 535.219 226.173 Q533.228 227.353 533.228 230.201 Q533.228 232.469 534.709 233.812 Q536.214 235.131 538.783 235.131 Q542.325 235.131 544.455 232.631 Q546.607 230.108 546.607 225.941 L546.607 224.992 L542.371 224.992 M550.867 223.233 L550.867 238.025 L546.607 238.025 L546.607 234.089 Q545.149 236.451 542.973 237.585 Q540.797 238.696 537.649 238.696 Q533.668 238.696 531.307 236.474 Q528.969 234.228 528.969 230.478 Q528.969 226.103 531.885 223.881 Q534.825 221.659 540.635 221.659 L546.607 221.659 L546.607 221.242 Q546.607 218.303 544.663 216.705 Q542.742 215.085 539.246 215.085 Q537.024 215.085 534.918 215.617 Q532.811 216.15 530.867 217.215 L530.867 213.279 Q533.205 212.377 535.404 211.937 Q537.603 211.474 539.686 211.474 Q545.311 211.474 548.089 214.391 Q550.867 217.307 550.867 223.233 Z\" fill=\"#000000\" fill-rule=\"nonzero\" fill-opacity=\"1\" /><path clip-path=\"url(#clip340)\" d=\"M578.297 213.094 L578.297 217.076 Q576.491 216.08 574.663 215.594 Q572.857 215.085 571.005 215.085 Q566.862 215.085 564.57 217.724 Q562.279 220.34 562.279 225.085 Q562.279 229.83 564.57 232.469 Q566.862 235.085 571.005 235.085 Q572.857 235.085 574.663 234.599 Q576.491 234.089 578.297 233.094 L578.297 237.029 Q576.515 237.863 574.593 238.279 Q572.695 238.696 570.542 238.696 Q564.686 238.696 561.237 235.015 Q557.788 231.335 557.788 225.085 Q557.788 218.742 561.26 215.108 Q564.755 211.474 570.82 211.474 Q572.788 211.474 574.663 211.891 Q576.538 212.284 578.297 213.094 Z\" fill=\"#000000\" fill-rule=\"nonzero\" fill-opacity=\"1\" /><path clip-path=\"url(#clip340)\" d=\"M589.917 204.738 L589.917 212.099 L598.69 212.099 L598.69 215.409 L589.917 215.409 L589.917 229.483 Q589.917 232.654 590.774 233.557 Q591.653 234.46 594.315 234.46 L598.69 234.46 L598.69 238.025 L594.315 238.025 Q589.385 238.025 587.51 236.196 Q585.635 234.344 585.635 229.483 L585.635 215.409 L582.51 215.409 L582.51 212.099 L585.635 212.099 L585.635 204.738 L589.917 204.738 Z\" fill=\"#000000\" fill-rule=\"nonzero\" fill-opacity=\"1\" /><path clip-path=\"url(#clip340)\" d=\"M603.852 227.793 L603.852 212.099 L608.112 212.099 L608.112 227.631 Q608.112 231.312 609.547 233.164 Q610.982 234.992 613.852 234.992 Q617.301 234.992 619.292 232.793 Q621.306 230.594 621.306 226.798 L621.306 212.099 L625.565 212.099 L625.565 238.025 L621.306 238.025 L621.306 234.043 Q619.755 236.404 617.695 237.562 Q615.658 238.696 612.95 238.696 Q608.482 238.696 606.167 235.918 Q603.852 233.14 603.852 227.793 M614.57 211.474 L614.57 211.474 Z\" fill=\"#000000\" fill-rule=\"nonzero\" fill-opacity=\"1\" /><path clip-path=\"url(#clip340)\" d=\"M646.121 224.992 Q640.959 224.992 638.968 226.173 Q636.977 227.353 636.977 230.201 Q636.977 232.469 638.459 233.812 Q639.963 235.131 642.533 235.131 Q646.074 235.131 648.204 232.631 Q650.357 230.108 650.357 225.941 L650.357 224.992 L646.121 224.992 M654.616 223.233 L654.616 238.025 L650.357 238.025 L650.357 234.089 Q648.899 236.451 646.723 237.585 Q644.547 238.696 641.399 238.696 Q637.417 238.696 635.056 236.474 Q632.718 234.228 632.718 230.478 Q632.718 226.103 635.635 223.881 Q638.574 221.659 644.385 221.659 L650.357 221.659 L650.357 221.242 Q650.357 218.303 648.412 216.705 Q646.491 215.085 642.996 215.085 Q640.774 215.085 638.667 215.617 Q636.561 216.15 634.616 217.215 L634.616 213.279 Q636.954 212.377 639.153 211.937 Q641.352 211.474 643.436 211.474 Q649.061 211.474 651.838 214.391 Q654.616 217.307 654.616 223.233 Z\" fill=\"#000000\" fill-rule=\"nonzero\" fill-opacity=\"1\" /><path clip-path=\"url(#clip340)\" d=\"M663.389 202.006 L667.648 202.006 L667.648 238.025 L663.389 238.025 L663.389 202.006 Z\" fill=\"#000000\" fill-rule=\"nonzero\" fill-opacity=\"1\" /><path clip-path=\"url(#clip340)\" d=\"M691.63 202.006 L695.889 202.006 L695.889 238.025 L691.63 238.025 L691.63 202.006 Z\" fill=\"#000000\" fill-rule=\"nonzero\" fill-opacity=\"1\" /><path clip-path=\"url(#clip340)\" d=\"M714.847 215.085 Q711.421 215.085 709.431 217.77 Q707.44 220.432 707.44 225.085 Q707.44 229.738 709.407 232.423 Q711.398 235.085 714.847 235.085 Q718.25 235.085 720.241 232.4 Q722.231 229.715 722.231 225.085 Q722.231 220.478 720.241 217.793 Q718.25 215.085 714.847 215.085 M714.847 211.474 Q720.403 211.474 723.574 215.085 Q726.745 218.696 726.745 225.085 Q726.745 231.451 723.574 235.085 Q720.403 238.696 714.847 238.696 Q709.269 238.696 706.097 235.085 Q702.949 231.451 702.949 225.085 Q702.949 218.696 706.097 215.085 Q709.269 211.474 714.847 211.474 Z\" fill=\"#000000\" fill-rule=\"nonzero\" fill-opacity=\"1\" /><path clip-path=\"url(#clip340)\" d=\"M750.333 212.863 L750.333 216.891 Q748.528 215.965 746.583 215.502 Q744.639 215.039 742.555 215.039 Q739.384 215.039 737.787 216.011 Q736.213 216.983 736.213 218.928 Q736.213 220.409 737.347 221.265 Q738.481 222.099 741.907 222.863 L743.366 223.187 Q747.903 224.159 749.801 225.941 Q751.722 227.701 751.722 230.872 Q751.722 234.483 748.852 236.589 Q746.004 238.696 741.004 238.696 Q738.921 238.696 736.653 238.279 Q734.407 237.886 731.907 237.076 L731.907 232.677 Q734.268 233.904 736.56 234.529 Q738.852 235.131 741.097 235.131 Q744.106 235.131 745.727 234.113 Q747.347 233.071 747.347 231.196 Q747.347 229.46 746.167 228.534 Q745.009 227.608 741.051 226.752 L739.569 226.404 Q735.611 225.571 733.852 223.858 Q732.093 222.122 732.093 219.113 Q732.093 215.455 734.685 213.465 Q737.278 211.474 742.046 211.474 Q744.407 211.474 746.491 211.821 Q748.574 212.168 750.333 212.863 Z\" fill=\"#000000\" fill-rule=\"nonzero\" fill-opacity=\"1\" /><path clip-path=\"url(#clip340)\" d=\"M775.032 212.863 L775.032 216.891 Q773.227 215.965 771.282 215.502 Q769.338 215.039 767.254 215.039 Q764.083 215.039 762.486 216.011 Q760.912 216.983 760.912 218.928 Q760.912 220.409 762.046 221.265 Q763.18 222.099 766.606 222.863 L768.065 223.187 Q772.602 224.159 774.5 225.941 Q776.421 227.701 776.421 230.872 Q776.421 234.483 773.551 236.589 Q770.703 238.696 765.703 238.696 Q763.62 238.696 761.352 238.279 Q759.106 237.886 756.606 237.076 L756.606 232.677 Q758.967 233.904 761.259 234.529 Q763.551 235.131 765.796 235.131 Q768.805 235.131 770.426 234.113 Q772.046 233.071 772.046 231.196 Q772.046 229.46 770.865 228.534 Q769.708 227.608 765.75 226.752 L764.268 226.404 Q760.31 225.571 758.551 223.858 Q756.791 222.122 756.791 219.113 Q756.791 215.455 759.384 213.465 Q761.977 211.474 766.745 211.474 Q769.106 211.474 771.19 211.821 Q773.273 212.168 775.032 212.863 Z\" fill=\"#000000\" fill-rule=\"nonzero\" fill-opacity=\"1\" /><polyline clip-path=\"url(#clip340)\" style=\"stroke:#e26f46; stroke-linecap:round; stroke-linejoin:round; stroke-width:4; stroke-opacity:1; fill:none\" points=\"367.367,272.585 505.883,272.585 \"/>\n",
       "<path clip-path=\"url(#clip340)\" d=\"M547.742 276.925 Q547.742 272.226 545.797 269.564 Q543.876 266.879 540.496 266.879 Q537.117 266.879 535.172 269.564 Q533.251 272.226 533.251 276.925 Q533.251 281.624 535.172 284.309 Q537.117 286.971 540.496 286.971 Q543.876 286.971 545.797 284.309 Q547.742 281.624 547.742 276.925 M533.251 267.874 Q534.594 265.559 536.631 264.448 Q538.691 263.314 541.538 263.314 Q546.26 263.314 549.2 267.064 Q552.163 270.814 552.163 276.925 Q552.163 283.036 549.2 286.786 Q546.26 290.536 541.538 290.536 Q538.691 290.536 536.631 289.425 Q534.594 288.291 533.251 285.976 L533.251 289.865 L528.969 289.865 L528.969 253.846 L533.251 253.846 L533.251 267.874 Z\" fill=\"#000000\" fill-rule=\"nonzero\" fill-opacity=\"1\" /><path clip-path=\"url(#clip340)\" d=\"M571.005 276.832 Q565.843 276.832 563.853 278.013 Q561.862 279.193 561.862 282.041 Q561.862 284.309 563.343 285.652 Q564.848 286.971 567.417 286.971 Q570.959 286.971 573.089 284.471 Q575.241 281.948 575.241 277.781 L575.241 276.832 L571.005 276.832 M579.501 275.073 L579.501 289.865 L575.241 289.865 L575.241 285.929 Q573.783 288.291 571.607 289.425 Q569.431 290.536 566.283 290.536 Q562.302 290.536 559.941 288.314 Q557.603 286.068 557.603 282.318 Q557.603 277.943 560.519 275.721 Q563.459 273.499 569.269 273.499 L575.241 273.499 L575.241 273.082 Q575.241 270.143 573.297 268.545 Q571.376 266.925 567.88 266.925 Q565.658 266.925 563.552 267.457 Q561.445 267.99 559.501 269.055 L559.501 265.119 Q561.839 264.217 564.038 263.777 Q566.237 263.314 568.32 263.314 Q573.945 263.314 576.723 266.231 Q579.501 269.147 579.501 275.073 Z\" fill=\"#000000\" fill-rule=\"nonzero\" fill-opacity=\"1\" /><path clip-path=\"url(#clip340)\" d=\"M604.802 264.703 L604.802 268.731 Q602.996 267.805 601.052 267.342 Q599.107 266.879 597.024 266.879 Q593.853 266.879 592.255 267.851 Q590.681 268.823 590.681 270.768 Q590.681 272.249 591.815 273.105 Q592.95 273.939 596.376 274.703 L597.834 275.027 Q602.371 275.999 604.269 277.781 Q606.19 279.541 606.19 282.712 Q606.19 286.323 603.32 288.429 Q600.473 290.536 595.473 290.536 Q593.39 290.536 591.121 290.119 Q588.876 289.726 586.376 288.916 L586.376 284.517 Q588.737 285.744 591.028 286.369 Q593.32 286.971 595.565 286.971 Q598.575 286.971 600.195 285.953 Q601.815 284.911 601.815 283.036 Q601.815 281.3 600.635 280.374 Q599.477 279.448 595.519 278.592 L594.038 278.244 Q590.079 277.411 588.32 275.698 Q586.561 273.962 586.561 270.953 Q586.561 267.295 589.153 265.305 Q591.746 263.314 596.515 263.314 Q598.876 263.314 600.959 263.661 Q603.042 264.008 604.802 264.703 Z\" fill=\"#000000\" fill-rule=\"nonzero\" fill-opacity=\"1\" /><path clip-path=\"url(#clip340)\" d=\"M635.149 275.837 L635.149 277.92 L615.565 277.92 Q615.843 282.318 618.204 284.633 Q620.588 286.925 624.825 286.925 Q627.278 286.925 629.57 286.323 Q631.885 285.721 634.153 284.517 L634.153 288.545 Q631.862 289.517 629.454 290.027 Q627.047 290.536 624.57 290.536 Q618.366 290.536 614.732 286.925 Q611.121 283.314 611.121 277.156 Q611.121 270.791 614.547 267.064 Q617.996 263.314 623.829 263.314 Q629.061 263.314 632.093 266.693 Q635.149 270.05 635.149 275.837 M630.889 274.587 Q630.843 271.092 628.922 269.008 Q627.024 266.925 623.875 266.925 Q620.311 266.925 618.158 268.939 Q616.028 270.953 615.704 274.61 L630.889 274.587 Z\" fill=\"#000000\" fill-rule=\"nonzero\" fill-opacity=\"1\" /><polyline clip-path=\"url(#clip340)\" style=\"stroke:#3da44d; stroke-linecap:round; stroke-linejoin:round; stroke-width:4; stroke-opacity:1; fill:none\" points=\"367.367,324.425 505.883,324.425 \"/>\n",
       "<path clip-path=\"url(#clip340)\" d=\"M545.357 325.501 Q546.862 326.01 548.274 327.677 Q549.709 329.344 551.144 332.26 L555.89 341.705 L550.867 341.705 L546.445 332.839 Q544.732 329.367 543.112 328.233 Q541.515 327.098 538.737 327.098 L533.644 327.098 L533.644 341.705 L528.969 341.705 L528.969 307.145 L539.524 307.145 Q545.45 307.145 548.367 309.621 Q551.283 312.098 551.283 317.098 Q551.283 320.362 549.756 322.515 Q548.251 324.668 545.357 325.501 M533.644 310.987 L533.644 323.256 L539.524 323.256 Q542.904 323.256 544.617 321.705 Q546.353 320.131 546.353 317.098 Q546.353 314.066 544.617 312.538 Q542.904 310.987 539.524 310.987 L533.644 310.987 Z\" fill=\"#000000\" fill-rule=\"nonzero\" fill-opacity=\"1\" /><path clip-path=\"url(#clip340)\" d=\"M575.936 310.316 Q570.843 310.316 567.834 314.112 Q564.848 317.908 564.848 324.459 Q564.848 330.987 567.834 334.783 Q570.843 338.58 575.936 338.58 Q581.029 338.58 583.991 334.783 Q586.978 330.987 586.978 324.459 Q586.978 317.908 583.991 314.112 Q581.029 310.316 575.936 310.316 M575.936 306.52 Q583.204 306.52 587.556 311.404 Q591.908 316.265 591.908 324.459 Q591.908 332.631 587.556 337.515 Q583.204 342.376 575.936 342.376 Q568.644 342.376 564.269 337.515 Q559.918 332.654 559.918 324.459 Q559.918 316.265 564.269 311.404 Q568.644 306.52 575.936 306.52 Z\" fill=\"#000000\" fill-rule=\"nonzero\" fill-opacity=\"1\" /><polyline clip-path=\"url(#clip340)\" style=\"stroke:#c271d2; stroke-linecap:round; stroke-linejoin:round; stroke-width:4; stroke-opacity:1; fill:none\" points=\"367.367,376.265 505.883,376.265 \"/>\n",
       "<path clip-path=\"url(#clip340)\" d=\"M550.681 377.897 L550.681 393.545 L546.422 393.545 L546.422 378.035 Q546.422 374.355 544.987 372.526 Q543.552 370.698 540.681 370.698 Q537.232 370.698 535.242 372.897 Q533.251 375.096 533.251 378.892 L533.251 393.545 L528.969 393.545 L528.969 357.526 L533.251 357.526 L533.251 371.647 Q534.779 369.309 536.839 368.151 Q538.922 366.994 541.631 366.994 Q546.098 366.994 548.39 369.772 Q550.681 372.526 550.681 377.897 Z\" fill=\"#000000\" fill-rule=\"nonzero\" fill-opacity=\"1\" /><path clip-path=\"url(#clip340)\" d=\"M559.177 367.619 L563.436 367.619 L563.436 393.545 L559.177 393.545 L559.177 367.619 M559.177 357.526 L563.436 357.526 L563.436 362.92 L559.177 362.92 L559.177 357.526 Z\" fill=\"#000000\" fill-rule=\"nonzero\" fill-opacity=\"1\" /><path clip-path=\"url(#clip340)\" d=\"M588.876 368.383 L588.876 372.411 Q587.07 371.485 585.126 371.022 Q583.181 370.559 581.098 370.559 Q577.927 370.559 576.329 371.531 Q574.755 372.503 574.755 374.448 Q574.755 375.929 575.89 376.785 Q577.024 377.619 580.45 378.383 L581.908 378.707 Q586.445 379.679 588.343 381.461 Q590.265 383.221 590.265 386.392 Q590.265 390.003 587.394 392.109 Q584.547 394.216 579.547 394.216 Q577.464 394.216 575.195 393.799 Q572.95 393.406 570.45 392.596 L570.45 388.197 Q572.811 389.424 575.103 390.049 Q577.394 390.651 579.64 390.651 Q582.649 390.651 584.269 389.633 Q585.89 388.591 585.89 386.716 Q585.89 384.98 584.709 384.054 Q583.552 383.128 579.593 382.272 L578.112 381.924 Q574.154 381.091 572.394 379.378 Q570.635 377.642 570.635 374.633 Q570.635 370.975 573.228 368.985 Q575.82 366.994 580.589 366.994 Q582.95 366.994 585.033 367.341 Q587.116 367.688 588.876 368.383 Z\" fill=\"#000000\" fill-rule=\"nonzero\" fill-opacity=\"1\" /><path clip-path=\"url(#clip340)\" d=\"M601.26 360.258 L601.26 367.619 L610.033 367.619 L610.033 370.929 L601.26 370.929 L601.26 385.003 Q601.26 388.174 602.116 389.077 Q602.996 389.98 605.658 389.98 L610.033 389.98 L610.033 393.545 L605.658 393.545 Q600.727 393.545 598.852 391.716 Q596.977 389.864 596.977 385.003 L596.977 370.929 L593.853 370.929 L593.853 367.619 L596.977 367.619 L596.977 360.258 L601.26 360.258 Z\" fill=\"#000000\" fill-rule=\"nonzero\" fill-opacity=\"1\" /></svg>\n"
      ]
     },
     "execution_count": 175,
     "metadata": {},
     "output_type": "execute_result"
    }
   ],
   "source": [
    "x = time_list[end-9:end] \n",
    "i = 7\n",
    "print(state_list[i])\n",
    "\n",
    "#crop P_hist to the last 10 years only \n",
    "P_hist2 = P_hist[:, end-9:end]\n",
    "\n",
    "act = cumsum(act_loss[i,:])\n",
    "base = cumsum(P_base[i,:])\n",
    "RO= cumsum(P_ro[i,:])\n",
    "hist = cumsum(P_hist2[i,:])\n",
    "# LP = cumsum(P_lp[i,:])\n",
    "plot(x, [act,  base, RO, hist], label=[\"actual loss\" \"base\" \"RO\" \"hist\"], title=\"state $(state_list[i])\")"
   ]
  },
  {
   "cell_type": "code",
   "execution_count": 171,
   "metadata": {},
   "outputs": [
    {
     "name": "stdout",
     "output_type": "stream",
     "text": [
      "-1.978122788268e10\n",
      "-3.0727565577309998e10\n"
     ]
    }
   ],
   "source": []
  },
  {
   "cell_type": "code",
   "execution_count": null,
   "metadata": {},
   "outputs": [],
   "source": []
  },
  {
   "cell_type": "code",
   "execution_count": 34,
   "metadata": {},
   "outputs": [],
   "source": [
    "#next step: simulations \n",
    "\n",
    "\n"
   ]
  },
  {
   "cell_type": "code",
   "execution_count": null,
   "metadata": {},
   "outputs": [],
   "source": []
  },
  {
   "cell_type": "code",
   "execution_count": null,
   "metadata": {},
   "outputs": [],
   "source": []
  },
  {
   "cell_type": "code",
   "execution_count": null,
   "metadata": {},
   "outputs": [],
   "source": []
  },
  {
   "cell_type": "code",
   "execution_count": null,
   "metadata": {},
   "outputs": [],
   "source": []
  },
  {
   "cell_type": "code",
   "execution_count": null,
   "metadata": {},
   "outputs": [],
   "source": [
    "### --- example models ---- "
   ]
  },
  {
   "cell_type": "code",
   "execution_count": null,
   "metadata": {},
   "outputs": [],
   "source": [
    "function model1(D, A, C)\n",
    "    \n",
    "    n_time, n_job  = size(A)\n",
    "    n_day = size(D)[1]\n",
    "    \n",
    "    model = Model(Gurobi.Optimizer)\n",
    "    set_optimizer_attribute(model, \"TimeLimit\", 30)\n",
    "    \n",
    "    # VARIABLES\n",
    "    # How many of each shift to use\n",
    "    @variable(model, x[1:n_day,1:n_job] >=0, Int)\n",
    "    \n",
    "    #Resource allocation constraint\n",
    "    @constraint(model, enough_employees[t=1:n_time, d=1:n_day],\n",
    "            sum(A[t, j]*x[d,j]  for j = 1:n_job) >= D[d, t])\n",
    "    \n",
    "    # OBJECTIVE\n",
    "    @objective(\n",
    "        model, Min, sum(C[j] * x[d, j] for d=1:n_day, j=1:n_job)\n",
    "    )\n",
    "    \n",
    "    optimize!(model)\n",
    "    \n",
    "    return model, objective_value(model), x\n",
    "end"
   ]
  },
  {
   "cell_type": "code",
   "execution_count": 6,
   "metadata": {},
   "outputs": [
    {
     "data": {
      "text/html": [
       "<p>DataFrameRow (49 columns)</p><div class=\"data-frame\"><table class=\"data-frame\"><thead><tr><th></th><th>state</th><th>1975</th><th>1976</th><th>1977</th><th>1978</th><th>1979</th><th>1980</th><th>1981</th><th>1982</th></tr><tr><th></th><th title=\"String3\">String3</th><th title=\"Union{Missing, Float64}\">Float64?</th><th title=\"Union{Missing, Float64}\">Float64?</th><th title=\"Union{Missing, Float64}\">Float64?</th><th title=\"Union{Missing, Float64}\">Float64?</th><th title=\"Union{Missing, Float64}\">Float64?</th><th title=\"Float64\">Float64</th><th title=\"Union{Missing, Float64}\">Float64?</th><th title=\"Union{Missing, Float64}\">Float64?</th></tr></thead><tbody><tr><th>1</th><td>AK</td><td><em>missing</em></td><td><em>missing</em></td><td>5903.75</td><td>11716.5</td><td>17612.4</td><td>36786.9</td><td>15580.5</td><td>1048.06</td></tr></tbody></table></div>"
      ],
      "text/latex": [
       "\\begin{tabular}{r|cccccccccc}\n",
       "\t& state & 1975 & 1976 & 1977 & 1978 & 1979 & 1980 & 1981 & 1982 & \\\\\n",
       "\t\\hline\n",
       "\t& String3 & Float64? & Float64? & Float64? & Float64? & Float64? & Float64 & Float64? & Float64? & \\\\\n",
       "\t\\hline\n",
       "\t1 & AK & \\emph{missing} & \\emph{missing} & 5903.75 & 11716.5 & 17612.4 & 36786.9 & 15580.5 & 1048.06 & $\\dots$ \\\\\n",
       "\\end{tabular}\n"
      ],
      "text/plain": [
       "\u001b[1mDataFrameRow\u001b[0m\n",
       "\u001b[1m Row \u001b[0m│\u001b[1m state   \u001b[0m\u001b[1m 1975     \u001b[0m\u001b[1m 1976     \u001b[0m\u001b[1m 1977     \u001b[0m\u001b[1m 1978     \u001b[0m\u001b[1m 1979     \u001b[0m\u001b[1m 1980    \u001b[0m\u001b[1m 198\u001b[0m ⋯\n",
       "\u001b[1m     \u001b[0m│\u001b[90m String3 \u001b[0m\u001b[90m Float64? \u001b[0m\u001b[90m Float64? \u001b[0m\u001b[90m Float64? \u001b[0m\u001b[90m Float64? \u001b[0m\u001b[90m Float64? \u001b[0m\u001b[90m Float64 \u001b[0m\u001b[90m Flo\u001b[0m ⋯\n",
       "─────┼──────────────────────────────────────────────────────────────────────────\n",
       "   1 │ AK      \u001b[90m  missing \u001b[0m\u001b[90m  missing \u001b[0m  5903.75   11716.5   17612.4  36786.9   15 ⋯\n",
       "\u001b[36m                                                              42 columns omitted\u001b[0m"
      ]
     },
     "execution_count": 6,
     "metadata": {},
     "output_type": "execute_result"
    }
   ],
   "source": [
    "df = DataFrame(CSV.File(\"../../data/nfip_l_bar.csv\"))\n",
    "first(df)\n",
    "\n"
   ]
  },
  {
   "cell_type": "code",
   "execution_count": 19,
   "metadata": {},
   "outputs": [
    {
     "data": {
      "text/plain": [
       "57×48 Matrix{Any}:\n",
       "      missing       missing    5903.75       …  29536.0        93942.4\n",
       "     0.0            missing   34784.9               2.31784e7      4.05467e5\n",
       "      missing       missing      77.93              5.61815e6   4168.56\n",
       "      missing       missing        missing           missing        missing\n",
       "      missing       missing   50921.6               4.73397e6   2068.31\n",
       "      missing      0.0            2.36664e5  …      7.12262e6  78977.5\n",
       "     0.0            missing   12750.8               5.75891e5       missing\n",
       "      missing   3743.0        32368.1               3.31117e7  36466.8\n",
       "      missing       missing       0.0               1.23073e5       missing\n",
       "      missing      0.0        47428.5               7.69196e6   6292.26\n",
       " 20000.0            missing   41151.4        …      1.96668e7  27720.1\n",
       "      missing  11003.5        12835.4               9.50741e6      1.2075e5\n",
       "      missing       missing        missing           missing        missing\n",
       "     ⋮                                       ⋱                 \n",
       "      missing       missing     850.0        …      0.0             missing\n",
       "      missing      0.0        73750.0               7.91721e7      3.05498e5\n",
       "  4000.0       57831.1        65967.2               4.88481e7      2.4373e6\n",
       "      missing   1113.0       132328.0                missing        missing\n",
       "     0.0            missing    2811.52              1.06373e6      0.0\n",
       "      missing      0.0            5.51554e5  …      2.4329e6       5.2686e5\n",
       "      missing       missing   14154.0                missing        missing\n",
       "      missing    295.27        1050.0               3.59222e5      0.0\n",
       "  2500.0            missing       6.1825e5          2.68778e7      6.76771e6\n",
       "      missing  35000.0            0.0               2.69902e5  88073.4\n",
       "      missing       missing       1.94966e5  …      6.59022e6  52553.9\n",
       "      missing       missing     524.11              0.0             missing"
      ]
     },
     "execution_count": 19,
     "metadata": {},
     "output_type": "execute_result"
    }
   ],
   "source": [
    "# convert(Matrix, DataFrame(CSV.File(\"../../data/nfip_l_bar.csv\"; header=true)));\n",
    "Matrix(df)[:,2:49]"
   ]
  },
  {
   "cell_type": "code",
   "execution_count": null,
   "metadata": {},
   "outputs": [],
   "source": [
    "#historical \n",
    "\n",
    "\n"
   ]
  },
  {
   "cell_type": "code",
   "execution_count": null,
   "metadata": {},
   "outputs": [],
   "source": []
  },
  {
   "cell_type": "code",
   "execution_count": null,
   "metadata": {},
   "outputs": [],
   "source": []
  },
  {
   "cell_type": "code",
   "execution_count": null,
   "metadata": {},
   "outputs": [],
   "source": []
  },
  {
   "cell_type": "code",
   "execution_count": null,
   "metadata": {},
   "outputs": [],
   "source": []
  },
  {
   "cell_type": "code",
   "execution_count": null,
   "metadata": {},
   "outputs": [],
   "source": []
  },
  {
   "cell_type": "code",
   "execution_count": 3,
   "metadata": {},
   "outputs": [],
   "source": [
    "#compare julia with python https://dataframes.juliadata.org/stable/man/comparisons/ "
   ]
  },
  {
   "cell_type": "code",
   "execution_count": null,
   "metadata": {},
   "outputs": [],
   "source": []
  }
 ],
 "metadata": {
  "kernelspec": {
   "display_name": "Julia 1.7.1",
   "language": "julia",
   "name": "julia-1.7"
  },
  "language_info": {
   "file_extension": ".jl",
   "mimetype": "application/julia",
   "name": "julia",
   "version": "1.7.1"
  }
 },
 "nbformat": 4,
 "nbformat_minor": 4
}
